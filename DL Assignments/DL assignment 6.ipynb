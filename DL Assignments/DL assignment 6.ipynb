{
  "nbformat": 4,
  "nbformat_minor": 0,
  "metadata": {
    "colab": {
      "provenance": []
    },
    "kernelspec": {
      "name": "python3",
      "display_name": "Python 3"
    },
    "language_info": {
      "name": "python"
    }
  },
  "cells": [
    {
      "cell_type": "markdown",
      "source": [
        "What are the advantages of a CNN over a fully connected DNN for image classification?"
      ],
      "metadata": {
        "id": "c9PMW8I9FZJJ"
      }
    },
    {
      "cell_type": "code",
      "source": [
        "\"\"\"\n",
        "One of the key advantages is that the number of parameter is less, and the kernels obtained can be reused. \n",
        "The layers are partially connnected and heavily reuses the weights multiple time resulting in fewer parametes.\n",
        "Here the kernels obtained are actually filters which can map a particular part of the image and enables finding that particular part anywhere in the image,\n",
        "whereas in DNN it can only find it in the one location. \n",
        "CNN is best for image data due them having very repetitive patterns(features) and therefore generalize better on image data than DNN does. \n",
        "And as the CNN was made by keeping image data in mind the architecutre has embeded knowledge of how a image is like how pixels are organized, how to find the nearby pixels, etc.\n",
        "The lower layer finds small features and higher layer combine these features into larger features.\n",
        "\"\"\""
      ],
      "metadata": {
        "id": "OInjP78jFZPw",
        "colab": {
          "base_uri": "https://localhost:8080/",
          "height": 105
        },
        "outputId": "8dcfadd6-1537-4d5b-d411-e2acb4d6c0cd"
      },
      "execution_count": null,
      "outputs": [
        {
          "output_type": "execute_result",
          "data": {
            "text/plain": [
              "'\\nOne of the key advantages is that the number of parameter is less, and the kernels obtained can be reused. \\nThe layers are partially connnected and heavily reuses the weights multiple time resulting in fewer parametes.\\nHere the kernels obtained are actually filters which can map a particular part of the image and enables finding that particular part anywhere in the image,\\nwhereas in DNN it can only find it in the one location. \\nCNN is best for image data due them having very repetitive patterns(features) and therefore generalize better on image data than DNN does. \\nAnd as the CNN was made by keeping image data in mind the architecutre has embeded knowledge of how a image is like how pixels are organized, how to find the nearby pixels, etc.\\nThe lower layer finds small features and higher layer combine these features into larger features.\\n'"
            ],
            "application/vnd.google.colaboratory.intrinsic+json": {
              "type": "string"
            }
          },
          "metadata": {},
          "execution_count": 1
        }
      ]
    },
    {
      "cell_type": "markdown",
      "source": [
        "Consider a CNN composed of three convolutional layers, each with 3 × 3 kernels, a stride of\n",
        "2, and \"same\" padding. The lowest layer outputs 100 feature maps, the middle one outputs\n",
        "200, and the top one outputs 400. The input images are RGB images of 200 × 300 pixels.\n",
        "What is the total number of parameters in the CNN? If we are using 32-bit floats, at least how much\n",
        "RAM will this network require when making a prediction for a single instance? What about when\n",
        "training on a mini-batch of 50 images?"
      ],
      "metadata": {
        "id": "T24g6VhgFmEm"
      }
    },
    {
      "cell_type": "code",
      "source": [
        "\"\"\"\n",
        "parameters\n",
        "\n",
        "first convolutional layer kernel-size and RGB channels, plus bias: 3 * 3 * 3 + 1 = 28 output feature maps is 100: 28 * 100 = 2800\n",
        "second convolutional layer kernel-size and last feature maps, plus bias: 3 * 3 * 100 + 1 = 901 output feature maps is 200: 901 * 200 = 180200\n",
        "third convolutional layers kernel-size and last feautre maps, plus bias: 3 * 3 * 200 + 1 =1801 output feautre maps is 400: 1801 * 400 = 720400\n",
        "Total parameters is 2800 + 180200 + 720400 = 903400\n",
        "\n",
        "memories since 32-bit is 4 bytes\n",
        "\n",
        "first convolutional layer one feature map size: 100 * 150 = 15000 total output: 15000 * 100 = 1,500,000\n",
        "second convolutional layer one feature map size: 50 * 75 = 3,750 total output: 3750 * 200 = 750,000\n",
        "third convolutional layer one feature map size: 25 * 38 = 950 total ouput: 950 * 400 = 380, 000\n",
        "(1,500,000 + 750,000 + 380,000) * 4 / 1024 /1024 = 10.032 (MB) 903400 * 4 / 1024 / 1024 = 3.44 (MB) 10.032+ 3.44=13.47(MB)\n",
        "\n",
        "\n",
        "\"\"\""
      ],
      "metadata": {
        "id": "HMLl1NrTFmEm",
        "colab": {
          "base_uri": "https://localhost:8080/",
          "height": 122
        },
        "outputId": "10882b6a-26f6-442c-8b28-9555cd9eabd6"
      },
      "execution_count": null,
      "outputs": [
        {
          "output_type": "execute_result",
          "data": {
            "text/plain": [
              "'\\nparameters\\n\\nfirst convolutional layer kernel-size and RGB channels, plus bias: 3 * 3 * 3 + 1 = 28 output feature maps is 100: 28 * 100 = 2800\\nsecond convolutional layer kernel-size and last feature maps, plus bias: 3 * 3 * 100 + 1 = 901 output feature maps is 200: 901 * 200 = 180200\\nthird convolutional layers kernel-size and last feautre maps, plus bias: 3 * 3 * 200 + 1 =1801 output feautre maps is 400: 1801 * 400 = 720400\\nTotal parameters is 2800 + 180200 + 720400 = 903400\\n\\nmemories since 32-bit is 4 bytes\\n\\nfirst convolutional layer one feature map size: 100 * 150 = 15000 total output: 15000 * 100 = 1,500,000\\nsecond convolutional layer one feature map size: 50 * 75 = 3,750 total output: 3750 * 200 = 750,000\\nthird convolutional layer one feature map size: 25 * 38 = 950 total ouput: 950 * 400 = 380, 000\\n(1,500,000 + 750,000 + 380,000) * 4 / 1024 /1024 = 10.032 (MB) 903400 * 4 / 1024 / 1024 = 3.44 (MB) 10.032+ 3.44=13.47(MB)\\n\\n\\n'"
            ],
            "application/vnd.google.colaboratory.intrinsic+json": {
              "type": "string"
            }
          },
          "metadata": {},
          "execution_count": 2
        }
      ]
    },
    {
      "cell_type": "markdown",
      "source": [
        "If your GPU runs out of memory while training a CNN, what are five things you could try to\n",
        "solve the problem?"
      ],
      "metadata": {
        "id": "I0lIGGJnFmJC"
      }
    },
    {
      "cell_type": "code",
      "source": [
        "\"\"\"\n",
        "- We can use batches and keep the batch sizes small\n",
        "- remove layers so the feature maps will be reduced that are store in the memory\n",
        "- we can use data type with less data requirement like 16 bit float instead of 32 bit default float\n",
        "- we can make use of distributive learning meaning distribute cnn across multiple devices.\n",
        "- we can reduce the dimensionality of the image during preprocessing, and use larger strid in some layers.\n",
        "\"\"\""
      ],
      "metadata": {
        "id": "uFFiBnBeFmJC",
        "colab": {
          "base_uri": "https://localhost:8080/",
          "height": 70
        },
        "outputId": "17959965-a3a8-4b04-9c12-d1cc607c140e"
      },
      "execution_count": null,
      "outputs": [
        {
          "output_type": "execute_result",
          "data": {
            "text/plain": [
              "'\\n- We can use batches and keep the batch sizes small\\n- remove layers so the feature maps will be reduced that are store in the memory\\n- we can use data type with less data requirement like 16 bit float instead of 32 bit default float\\n- we can make use of distributive learning meaning distribute cnn across multiple devices.\\n- we can reduce the dimensionality of the image during preprocessing, and use larger strid in some layers.\\n'"
            ],
            "application/vnd.google.colaboratory.intrinsic+json": {
              "type": "string"
            }
          },
          "metadata": {},
          "execution_count": 3
        }
      ]
    },
    {
      "cell_type": "markdown",
      "source": [
        "Why would you want to add a max pooling layer rather than a convolutional layer with the\n",
        "same stride?"
      ],
      "metadata": {
        "id": "sVZfL3BEFmMq"
      }
    },
    {
      "cell_type": "code",
      "source": [
        "\"\"\"\n",
        "The key reason is that it max pooling does not have parameters whereas convolutional layer does.\n",
        "\"\"\""
      ],
      "metadata": {
        "id": "FVZDBnkHFmMr",
        "colab": {
          "base_uri": "https://localhost:8080/",
          "height": 36
        },
        "outputId": "ccaaddd3-7573-4b22-a473-8f37b79edbf8"
      },
      "execution_count": null,
      "outputs": [
        {
          "output_type": "execute_result",
          "data": {
            "text/plain": [
              "'\\nThe key reason is that it max pooling does not have parameters whereas convolutional layer does.\\n'"
            ],
            "application/vnd.google.colaboratory.intrinsic+json": {
              "type": "string"
            }
          },
          "metadata": {},
          "execution_count": 4
        }
      ]
    },
    {
      "cell_type": "markdown",
      "source": [
        "When would you want to add a local response normalization layer?"
      ],
      "metadata": {
        "id": "TyhxJsE-FmQk"
      }
    },
    {
      "cell_type": "code",
      "source": [
        "\"\"\"\n",
        "What it does is that it makes the neurons that most strongly activate inhibit neurons at the same location but in different feature maps similar to competitive activation \n",
        "in biological neurons. Helps make specialized feature maps, and force them to explore a wider range of features and improve generalization. Usually used in lower layer \n",
        "to get a rich pool of low-level features to be combined and explored by higher layers.\n",
        "\"\"\""
      ],
      "metadata": {
        "id": "N9PmRM4WFmQl",
        "colab": {
          "base_uri": "https://localhost:8080/",
          "height": 70
        },
        "outputId": "e86c010a-764e-4cf6-ee4f-b195a520d98e"
      },
      "execution_count": null,
      "outputs": [
        {
          "output_type": "execute_result",
          "data": {
            "text/plain": [
              "'\\nWhat it does is that it makes the neurons that most strongly activate inhibit neurons at the same location but in different feature maps similar to competitive activation \\nin biological neurons. Helps make specialized feature maps, and force them to explore a wider range of features and improve generalization. Usually used in lower layer \\nto get a rich pool of low-level features to be combined and explored by higher layers.\\n'"
            ],
            "application/vnd.google.colaboratory.intrinsic+json": {
              "type": "string"
            }
          },
          "metadata": {},
          "execution_count": 5
        }
      ]
    },
    {
      "cell_type": "markdown",
      "source": [
        "Can you name the main innovations in AlexNet, compared to LeNet-5? What about the main\n",
        "innovations in GoogLeNet, ResNet, SENet, and Xception?"
      ],
      "metadata": {
        "id": "JCs84C8HFmVD"
      }
    },
    {
      "cell_type": "code",
      "source": [
        "\"\"\"\n",
        "- AlexNet has multiple convolutional layers before max pooling where as in LeNet covolutional layers were stacked with pooling layers also the architecture is mouch \n",
        "deeper and refined. \n",
        "- For the Inception model/GoogleNet reduced parameters using the inception module even in deeper architerture.\n",
        "- ResNet introduced skip connection making even the use of 100 layers possible.\n",
        "- SENet  convolutional neural network that employs design strategies to reduce the number of parameters, notably with the use of fire \n",
        "modules that \"squeeze\" parameters using 1x1 convolutions. Uses SE block after every inception module or residual unit in ResNet to recalibarate the relative importance \n",
        "of feature map\n",
        "- In Xception model relies solely on depthwise separable convolutional layers, helps look for spartial information and deeptwise patterns separately.\n",
        "\"\"\""
      ],
      "metadata": {
        "id": "hGz-olq7FmVE",
        "colab": {
          "base_uri": "https://localhost:8080/",
          "height": 105
        },
        "outputId": "6d4b28e2-f3dc-4629-e59f-10ad2823cd7d"
      },
      "execution_count": null,
      "outputs": [
        {
          "output_type": "execute_result",
          "data": {
            "text/plain": [
              "'\\n- AlexNet has multiple convolutional layers before max pooling where as in LeNet covolutional layers were stacked with pooling layers also the architecture is mouch \\ndeeper and refined. \\n- For the Inception model/GoogleNet reduced parameters using the inception module even in deeper architerture.\\n- ResNet introduced skip connection making even the use of 100 layers possible.\\n- SENet  convolutional neural network that employs design strategies to reduce the number of parameters, notably with the use of fire \\nmodules that \"squeeze\" parameters using 1x1 convolutions. Uses SE block after every inception module or residual unit in ResNet to recalibarate the relative importance \\nof feature map\\n- In Xception model relies solely on depthwise separable convolutional layers, helps look for spartial information and deeptwise patterns separately.\\n'"
            ],
            "application/vnd.google.colaboratory.intrinsic+json": {
              "type": "string"
            }
          },
          "metadata": {},
          "execution_count": 6
        }
      ]
    },
    {
      "cell_type": "markdown",
      "source": [
        "What is a fully convolutional network? How can you convert a dense layer into a\n",
        "convolutional layer?"
      ],
      "metadata": {
        "id": "zdxGp_EkFmXp"
      }
    },
    {
      "cell_type": "code",
      "source": [
        "\"\"\"\n",
        "A cnn architecture where instead of Dense layer we have a pointwise convolutional layer(1x1) that performs the task of FC layers. All we need to do is that\n",
        "the filter size should we exactly the size of the input volume so output becomes equivalant to a fully connected/dense layer. Like if we have a dense layer \n",
        "of imput as 1x4096 which receive the output of 7x7x512 from prev layer than equivalant convolutional layer would be kernal size 7, padding 0, strice 1 and number of \n",
        "filters 4096 solving which we get 1x1x4096 volume. So replace it with conv(1,1,4096) layer\n",
        "\"\"\""
      ],
      "metadata": {
        "id": "UwmYHwOpFmXq",
        "colab": {
          "base_uri": "https://localhost:8080/",
          "height": 88
        },
        "outputId": "baf5da92-cbe9-4d96-aa8e-8ab5c10042e5"
      },
      "execution_count": null,
      "outputs": [
        {
          "output_type": "execute_result",
          "data": {
            "text/plain": [
              "'\\nA cnn architecture where instead of Dense layer we have a pointwise convolutional layer(1x1) that performs the task of FC layers. All we need to do is that\\nthe filter size should we exactly the size of the input volume so output becomes equivalant to a fully connected/dense layer. Like if we have a dense layer \\nof imput as 1x4096 which receive the output of 7x7x512 from prev layer than equivalant convolutional layer would be kernal size 7, padding 0, strice 1 and number of \\nfilters 4096 solving which we get 1x1x4096 volume. So replace it with conv(1,1,4096) layer\\n'"
            ],
            "application/vnd.google.colaboratory.intrinsic+json": {
              "type": "string"
            }
          },
          "metadata": {},
          "execution_count": 7
        }
      ]
    },
    {
      "cell_type": "markdown",
      "source": [
        "What is the main technical difficulty of semantic segmentation?"
      ],
      "metadata": {
        "id": "op5bpgdRFmbc"
      }
    },
    {
      "cell_type": "code",
      "source": [
        "\"\"\"\n",
        "neighboring pixels of the same class might belong to different object instances and regions which are not connected or belong to the same object instance. And as CNN \n",
        "is prone to data loss a lot of spatial information gets lost as the data flows through each layer\n",
        "\"\"\""
      ],
      "metadata": {
        "id": "VnXB_dZ9Fmbd",
        "colab": {
          "base_uri": "https://localhost:8080/",
          "height": 53
        },
        "outputId": "c5f41fb3-59d2-4f9d-8bdd-28df0af3f30b"
      },
      "execution_count": null,
      "outputs": [
        {
          "output_type": "execute_result",
          "data": {
            "text/plain": [
              "'\\nneighboring pixels of the same class might belong to different object instances and regions which are not connected or belong to the same object instance. And as CNN \\nis prone to data loss a lot of spatial information gets lost as the data flows through each layer\\n'"
            ],
            "application/vnd.google.colaboratory.intrinsic+json": {
              "type": "string"
            }
          },
          "metadata": {},
          "execution_count": 8
        }
      ]
    },
    {
      "cell_type": "markdown",
      "source": [
        "Build your own CNN from scratch and try to achieve the highest possible accuracy on MNIST."
      ],
      "metadata": {
        "id": "C6B0Uo9oFmsE"
      }
    },
    {
      "cell_type": "code",
      "source": [
        "import pandas as pd\n",
        "import numpy as np\n",
        "import tensorflow as tf\n",
        "from tensorflow import keras\n",
        "from keras.datasets import mnist\n",
        "from keras.layers import Conv2D, Dense, Flatten, Dropout, MaxPool2D\n",
        "from keras.models import Sequential\n",
        "from keras.utils import to_categorical"
      ],
      "metadata": {
        "id": "3qG4i_QAFmsE"
      },
      "execution_count": null,
      "outputs": []
    },
    {
      "cell_type": "code",
      "source": [
        "(X_train, y_train), (X_test, y_test) = mnist.load_data()"
      ],
      "metadata": {
        "id": "4V7EkBFUMY2A"
      },
      "execution_count": null,
      "outputs": []
    },
    {
      "cell_type": "code",
      "source": [
        "print(X_train.shape)\n",
        "print(y_train.shape)\n",
        "print(np.unique(y_train))\n",
        "print(y_train.shape)"
      ],
      "metadata": {
        "colab": {
          "base_uri": "https://localhost:8080/"
        },
        "id": "v_x56sAPMbZg",
        "outputId": "cf52ea44-6f37-4a19-e653-0710f9a77f49"
      },
      "execution_count": null,
      "outputs": [
        {
          "output_type": "stream",
          "name": "stdout",
          "text": [
            "(60000, 28, 28)\n",
            "(60000,)\n",
            "[0 1 2 3 4 5 6 7 8 9]\n",
            "(60000,)\n"
          ]
        }
      ]
    },
    {
      "cell_type": "code",
      "source": [
        "import matplotlib.pyplot as plt\n",
        "\n",
        "unique_classes_list = np.unique(y_train)\n",
        "unique_classes_index_list = []\n",
        "for i in unique_classes_list:\n",
        "  unique_classes_index_list.append(np.where(y_train==i)[0][0])\n",
        "fig, axarr = plt.subplots(2,5)\n",
        "j = 0\n",
        "k = 0\n",
        "for i in unique_classes_index_list:\n",
        "  image = X_train[i]\n",
        "  axarr[j][k].imshow(image)\n",
        "  axarr[j][k].set_title(str(y_train[i]))\n",
        "  k+=1\n",
        "  if k == 5:\n",
        "    j = 1\n",
        "    k = 0\n",
        "plt.show()\n",
        "    "
      ],
      "metadata": {
        "colab": {
          "base_uri": "https://localhost:8080/",
          "height": 240
        },
        "id": "zG8dg3A7N2-_",
        "outputId": "f5fb8b5a-1be7-4734-bf3b-504a59f88186"
      },
      "execution_count": null,
      "outputs": [
        {
          "output_type": "display_data",
          "data": {
            "text/plain": [
              "<Figure size 432x288 with 10 Axes>"
            ],
            "image/png": "[encoded data removed]"
          },
          "metadata": {
            "needs_background": "light"
          }
        }
      ]
    },
    {
      "cell_type": "code",
      "source": [
        "X_train, X_test = X_train.reshape(X_train.shape[0], 28, 28, 1), X_test.reshape(X_test.shape[0], 28, 28, 1)"
      ],
      "metadata": {
        "id": "FcmZSKF8Vz4M"
      },
      "execution_count": null,
      "outputs": []
    },
    {
      "cell_type": "code",
      "source": [
        "y_train, y_test = to_categorical(y_train, num_classes = len(unique_classes_list)), to_categorical(y_test, num_classes = len(unique_classes_list)) "
      ],
      "metadata": {
        "id": "kLL2ZT9sX-tt"
      },
      "execution_count": null,
      "outputs": []
    },
    {
      "cell_type": "code",
      "source": [
        "y_train.shape"
      ],
      "metadata": {
        "colab": {
          "base_uri": "https://localhost:8080/"
        },
        "id": "dlwXhZPGYxDl",
        "outputId": "bd2b0f9e-e77c-493d-9882-956187e18564"
      },
      "execution_count": null,
      "outputs": [
        {
          "output_type": "execute_result",
          "data": {
            "text/plain": [
              "(60000, 10)"
            ]
          },
          "metadata": {},
          "execution_count": 61
        }
      ]
    },
    {
      "cell_type": "code",
      "source": [
        "INPUT_SHAPE = X_train.shape[1:]\n",
        "EPOCHS = 10\n",
        "BATCH_SIZE = 100\n",
        "OUTPUT_SHAPE = 10\n",
        "VERBOSE = 2"
      ],
      "metadata": {
        "id": "6iQ3mUBPWBhd"
      },
      "execution_count": null,
      "outputs": []
    },
    {
      "cell_type": "code",
      "source": [
        "model = Sequential()\n",
        "model.add(Conv2D(16, kernel_size = (3,3), activation = 'relu', input_shape = INPUT_SHAPE))\n",
        "model.add(Conv2D(32, kernel_size = (3,3), activation = 'relu'))\n",
        "model.add(MaxPool2D((2,2)))\n",
        "\n",
        "model.add(Conv2D(32, kernel_size = (2,2), activation = 'relu'))\n",
        "model.add(Conv2D(64, kernel_size = (2,2), activation = 'relu'))\n",
        "model.add(MaxPool2D((2,2)))\n",
        "\n",
        "model.add(Flatten())\n",
        "\n",
        "model.add(Dense(64, activation = 'relu'))\n",
        "model.add(Dropout(0.2))\n",
        "\n",
        "model.add(Dense(32, activation = 'relu'))\n",
        "model.add(Dropout(0.2))\n",
        "\n",
        "model.add(Dense(OUTPUT_SHAPE, activation = 'softmax'))"
      ],
      "metadata": {
        "id": "mFcGlBZWRB1E"
      },
      "execution_count": null,
      "outputs": []
    },
    {
      "cell_type": "code",
      "source": [
        "model.compile(optimizer='adam', loss='categorical_crossentropy', metrics=['accuracy'])"
      ],
      "metadata": {
        "id": "X_9ET-JYSxkA"
      },
      "execution_count": null,
      "outputs": []
    },
    {
      "cell_type": "code",
      "source": [
        "model.summary()"
      ],
      "metadata": {
        "colab": {
          "base_uri": "https://localhost:8080/"
        },
        "id": "Vq3AcdeFS8h3",
        "outputId": "9f65a8a0-fb17-486e-8e0f-77e0c87e39a9"
      },
      "execution_count": null,
      "outputs": [
        {
          "output_type": "stream",
          "name": "stdout",
          "text": [
            "Model: \"sequential_10\"\n",
            "_________________________________________________________________\n",
            " Layer (type)                Output Shape              Param #   \n",
            "=================================================================\n",
            " conv2d_28 (Conv2D)          (None, 26, 26, 16)        160       \n",
            "                                                                 \n",
            " conv2d_29 (Conv2D)          (None, 24, 24, 32)        4640      \n",
            "                                                                 \n",
            " max_pooling2d_12 (MaxPoolin  (None, 12, 12, 32)       0         \n",
            " g2D)                                                            \n",
            "                                                                 \n",
            " conv2d_30 (Conv2D)          (None, 11, 11, 32)        4128      \n",
            "                                                                 \n",
            " conv2d_31 (Conv2D)          (None, 10, 10, 64)        8256      \n",
            "                                                                 \n",
            " max_pooling2d_13 (MaxPoolin  (None, 5, 5, 64)         0         \n",
            " g2D)                                                            \n",
            "                                                                 \n",
            " flatten_6 (Flatten)         (None, 1600)              0         \n",
            "                                                                 \n",
            " dense_18 (Dense)            (None, 64)                102464    \n",
            "                                                                 \n",
            " dropout_10 (Dropout)        (None, 64)                0         \n",
            "                                                                 \n",
            " dense_19 (Dense)            (None, 32)                2080      \n",
            "                                                                 \n",
            " dropout_11 (Dropout)        (None, 32)                0         \n",
            "                                                                 \n",
            " dense_20 (Dense)            (None, 10)                330       \n",
            "                                                                 \n",
            "=================================================================\n",
            "Total params: 122,058\n",
            "Trainable params: 122,058\n",
            "Non-trainable params: 0\n",
            "_________________________________________________________________\n"
          ]
        }
      ]
    },
    {
      "cell_type": "code",
      "source": [
        "history = model.fit(X_train, y_train, epochs=EPOCHS, batch_size = BATCH_SIZE, verbose = VERBOSE, validation_split = 0.3)"
      ],
      "metadata": {
        "colab": {
          "base_uri": "https://localhost:8080/"
        },
        "id": "HanL1TlYW662",
        "outputId": "8b85d2ae-9b2e-46f1-f372-ce809570d406"
      },
      "execution_count": null,
      "outputs": [
        {
          "output_type": "stream",
          "name": "stdout",
          "text": [
            "Epoch 1/10\n",
            "420/420 - 61s - loss: 0.1910 - accuracy: 0.9476 - val_loss: 0.0978 - val_accuracy: 0.9739 - 61s/epoch - 145ms/step\n",
            "Epoch 2/10\n",
            "420/420 - 58s - loss: 0.1287 - accuracy: 0.9645 - val_loss: 0.0739 - val_accuracy: 0.9808 - 58s/epoch - 139ms/step\n",
            "Epoch 3/10\n",
            "420/420 - 58s - loss: 0.1016 - accuracy: 0.9721 - val_loss: 0.0651 - val_accuracy: 0.9822 - 58s/epoch - 138ms/step\n",
            "Epoch 4/10\n",
            "420/420 - 60s - loss: 0.0881 - accuracy: 0.9775 - val_loss: 0.0616 - val_accuracy: 0.9847 - 60s/epoch - 142ms/step\n",
            "Epoch 5/10\n",
            "420/420 - 58s - loss: 0.0712 - accuracy: 0.9816 - val_loss: 0.0573 - val_accuracy: 0.9860 - 58s/epoch - 138ms/step\n",
            "Epoch 6/10\n",
            "420/420 - 59s - loss: 0.0624 - accuracy: 0.9836 - val_loss: 0.0622 - val_accuracy: 0.9848 - 59s/epoch - 142ms/step\n",
            "Epoch 7/10\n",
            "420/420 - 59s - loss: 0.0568 - accuracy: 0.9847 - val_loss: 0.0597 - val_accuracy: 0.9871 - 59s/epoch - 140ms/step\n",
            "Epoch 8/10\n",
            "420/420 - 62s - loss: 0.0531 - accuracy: 0.9859 - val_loss: 0.0576 - val_accuracy: 0.9873 - 62s/epoch - 148ms/step\n",
            "Epoch 9/10\n",
            "420/420 - 61s - loss: 0.0406 - accuracy: 0.9888 - val_loss: 0.0568 - val_accuracy: 0.9871 - 61s/epoch - 145ms/step\n",
            "Epoch 10/10\n",
            "420/420 - 60s - loss: 0.0430 - accuracy: 0.9883 - val_loss: 0.0567 - val_accuracy: 0.9868 - 60s/epoch - 144ms/step\n"
          ]
        }
      ]
    },
    {
      "cell_type": "code",
      "source": [
        "plt.figure(figsize=(14, 5))\n",
        "\n",
        "plt.subplot(1, 2, 1)\n",
        "plt.plot(history.history['accuracy'], label='Training Accuracy')\n",
        "plt.plot(history.history['val_accuracy'], label='Validation Accuracy')\n",
        "plt.legend(loc='lower right')\n",
        "plt.title('Training and Validation Accuracy')\n",
        "\n",
        "plt.subplot(1, 2, 2)\n",
        "plt.plot(history.history['loss'], label='Training Loss')\n",
        "plt.plot(history.history['val_loss'], label='Validation Loss')\n",
        "plt.legend(loc='upper right')\n",
        "plt.title('Training and Validation Loss')\n",
        "\n",
        "plt.savefig('./foo.png')\n",
        "plt.show()"
      ],
      "metadata": {
        "colab": {
          "base_uri": "https://localhost:8080/",
          "height": 336
        },
        "id": "NhOxEc-KY7K0",
        "outputId": "2791c62b-5802-4c98-c9ed-c473190bfc20"
      },
      "execution_count": null,
      "outputs": [
        {
          "output_type": "display_data",
          "data": {
            "text/plain": [
              "<Figure size 1008x360 with 2 Axes>"
            ],
            "image/png": "[encoded data removed]"
          },
          "metadata": {
            "needs_background": "light"
          }
        }
      ]
    },
    {
      "cell_type": "code",
      "source": [
        "model.evaluate(X_test, y_test, verbose=False)"
      ],
      "metadata": {
        "colab": {
          "base_uri": "https://localhost:8080/"
        },
        "id": "aO3hm-UvY8yW",
        "outputId": "62ea754e-e2eb-45cc-ae27-319fd1ae8c38"
      },
      "execution_count": null,
      "outputs": [
        {
          "output_type": "execute_result",
          "data": {
            "text/plain": [
              "[0.047822143882513046, 0.9886999726295471]"
            ]
          },
          "metadata": {},
          "execution_count": 71
        }
      ]
    },
    {
      "cell_type": "markdown",
      "source": [
        "Use transfer learning for large image classification, going through these steps:\n",
        "<br><br>\n",
        "a. Create a training set containing at least 100 images per class. For example, you could\n",
        "classify your own pictures based on the location (beach, mountain, city, etc.), or\n",
        "alternatively you can use an existing dataset (e.g., from TensorFlow Datasets).<br>\n",
        "b. Split it into a training set, a validation set, and a test set.<br>\n",
        "c. Build the input pipeline, including the appropriate preprocessing operations, and\n",
        "optionally add data augmentation.<br>\n",
        "d. Fine-tune a pretrained model on this dataset."
      ],
      "metadata": {
        "id": "xYmNMHQNFnDo"
      }
    },
    {
      "cell_type": "code",
      "source": [
        "import tensorflow_datasets as tfds\n",
        "from tensorflow import keras\n",
        "from keras.layers import Dense, Dropout, Flatten\n",
        "from keras.callbacks import EarlyStopping\n",
        "from keras.models import Sequential\n",
        "from keras.utils import to_categorical\n",
        "import tensorflow as tf\n",
        "import pathlib\n",
        "import numpy as np\n",
        "from keras.applications.vgg16 import VGG16\n",
        "from keras.applications.vgg16 import preprocess_input"
      ],
      "metadata": {
        "id": "uiDAKv_vFnDo"
      },
      "execution_count": null,
      "outputs": []
    },
    {
      "cell_type": "code",
      "source": [
        "dataset_url = \"https://storage.googleapis.com/download.tensorflow.org/example_images/flower_photos.tgz\"\n",
        "\n",
        "data_dir = tf.keras.utils.get_file(origin=dataset_url,\n",
        "                                   fname='flower_photos',\n",
        "                                   untar=True)\n",
        "data_dir = pathlib.Path(data_dir)"
      ],
      "metadata": {
        "id": "fP_tyScUMzJs",
        "colab": {
          "base_uri": "https://localhost:8080/"
        },
        "outputId": "ef5c5c6d-3d3d-4024-8444-718b445137fa"
      },
      "execution_count": null,
      "outputs": [
        {
          "output_type": "stream",
          "name": "stdout",
          "text": [
            "Downloading data from https://storage.googleapis.com/download.tensorflow.org/example_images/flower_photos.tgz\n",
            "228813984/228813984 [==============================] - 8s 0us/step\n"
          ]
        }
      ]
    },
    {
      "cell_type": "code",
      "source": [
        "image_count = len(list(data_dir.glob('*/*.jpg')))\n",
        "print(image_count)"
      ],
      "metadata": {
        "colab": {
          "base_uri": "https://localhost:8080/"
        },
        "id": "Yw0gjWe3OGFr",
        "outputId": "8a7fe4cd-224c-4fe4-f84f-8a1a815c015a"
      },
      "execution_count": null,
      "outputs": [
        {
          "output_type": "stream",
          "name": "stdout",
          "text": [
            "3670\n"
          ]
        }
      ]
    },
    {
      "cell_type": "code",
      "source": [
        "def preprocess(dataset, class_names):\n",
        "  X, y = [], []\n",
        "  for image, label in dataset:\n",
        "    X.append(image)\n",
        "    y.append(label.numpy())\n",
        "  y = np.array(y)\n",
        "\n",
        "  unique_class_nums = np.unique(y)\n",
        "\n",
        "  unique_classes_index_list = []\n",
        "  for i in unique_class_nums:\n",
        "    unique_classes_index_list.append(np.where(y==i)[0][0])\n",
        "  y = to_categorical(y, num_classes = len(class_names))\n",
        "  return preprocess_input(np.array(X)), y, unique_class_nums, unique_classes_index_list"
      ],
      "metadata": {
        "id": "CKVMxOypgMWD"
      },
      "execution_count": null,
      "outputs": []
    },
    {
      "cell_type": "code",
      "source": [
        "def get_data(data_dir):\n",
        "  training_data = tf.keras.utils.image_dataset_from_directory(\n",
        "    data_dir,\n",
        "    validation_split=0.2,\n",
        "    subset=\"training\",\n",
        "    seed=123,\n",
        "    image_size=(150,150),\n",
        "    batch_size=None\n",
        "  )\n",
        "\n",
        "  test_data = tf.keras.utils.image_dataset_from_directory(\n",
        "    data_dir,\n",
        "    validation_split=0.2,\n",
        "    subset=\"validation\",\n",
        "    seed=123,\n",
        "    image_size=(150,150),\n",
        "    batch_size=None\n",
        "  )\n",
        "\n",
        "  class_names = training_data.class_names\n",
        "\n",
        "  X_train, y_train, unique_class_nums, unique_classes_index_list = preprocess(training_data, class_names)\n",
        "\n",
        "  X_test, y_test, _, _ = preprocess(test_data, class_names)\n",
        "\n",
        "  return (X_train, y_train), (X_test, y_test), class_names, unique_class_nums, unique_classes_index_list"
      ],
      "metadata": {
        "id": "tuuzz6nxftlM"
      },
      "execution_count": null,
      "outputs": []
    },
    {
      "cell_type": "code",
      "source": [
        "(X_train, y_train), (X_test, y_test), class_names, unique_class_nums, unique_classes_index_list = get_data(data_dir)"
      ],
      "metadata": {
        "colab": {
          "base_uri": "https://localhost:8080/"
        },
        "id": "wBIebuQEQE25",
        "outputId": "ac7e79e8-83a5-4dcc-a813-04ac2bc9b02b"
      },
      "execution_count": null,
      "outputs": [
        {
          "output_type": "stream",
          "name": "stdout",
          "text": [
            "Found 3670 files belonging to 5 classes.\n",
            "Using 2936 files for training.\n",
            "Found 3670 files belonging to 5 classes.\n",
            "Using 734 files for validation.\n"
          ]
        }
      ]
    },
    {
      "cell_type": "code",
      "source": [
        "print(X_train.shape)\n",
        "print(y_train.shape)\n",
        "print(class_names)\n",
        "print(unique_class_nums)"
      ],
      "metadata": {
        "colab": {
          "base_uri": "https://localhost:8080/"
        },
        "id": "J_yM8TFtRKGM",
        "outputId": "2f54d716-19b5-4e80-a770-1147f52f050c"
      },
      "execution_count": null,
      "outputs": [
        {
          "output_type": "stream",
          "name": "stdout",
          "text": [
            "(2936, 150, 150, 3)\n",
            "(2936, 5)\n",
            "['daisy', 'dandelion', 'roses', 'sunflowers', 'tulips']\n",
            "[0 1 2 3 4]\n"
          ]
        }
      ]
    },
    {
      "cell_type": "code",
      "source": [
        "import matplotlib.pyplot as plt\n",
        "\n",
        "fig, axarr = plt.subplots(1,5)\n",
        "k = 0\n",
        "for i in unique_classes_index_list:\n",
        "  image = X_train[i]\n",
        "  axarr[k].imshow(image)\n",
        "  axarr[k].set_title(class_names[k])\n",
        "  k+=1\n",
        "plt.show()\n",
        "    "
      ],
      "metadata": {
        "colab": {
          "base_uri": "https://localhost:8080/",
          "height": 209
        },
        "id": "U0N_3ZIJWA6U",
        "outputId": "8caf4c3b-e40e-4600-e22b-70173517f35e"
      },
      "execution_count": null,
      "outputs": [
        {
          "output_type": "stream",
          "name": "stderr",
          "text": [
            "WARNING:matplotlib.image:Clipping input data to the valid range for imshow with RGB data ([0..1] for floats or [0..255] for integers).\n",
            "WARNING:matplotlib.image:Clipping input data to the valid range for imshow with RGB data ([0..1] for floats or [0..255] for integers).\n",
            "WARNING:matplotlib.image:Clipping input data to the valid range for imshow with RGB data ([0..1] for floats or [0..255] for integers).\n",
            "WARNING:matplotlib.image:Clipping input data to the valid range for imshow with RGB data ([0..1] for floats or [0..255] for integers).\n",
            "WARNING:matplotlib.image:Clipping input data to the valid range for imshow with RGB data ([0..1] for floats or [0..255] for integers).\n"
          ]
        },
        {
          "output_type": "display_data",
          "data": {
            "text/plain": [
              "<Figure size 432x288 with 5 Axes>"
            ],
            "image/png": "[encoded data removed]"
          },
          "metadata": {
            "needs_background": "light"
          }
        }
      ]
    },
    {
      "cell_type": "code",
      "source": [
        "base_model = VGG16(weights=\"imagenet\", include_top=False, input_shape=X_train.shape[1:])\n",
        "base_model.trainable = False\n"
      ],
      "metadata": {
        "id": "Y2BEaeg_fMlQ",
        "colab": {
          "base_uri": "https://localhost:8080/"
        },
        "outputId": "c8edcb7d-8110-4699-ba34-fc0361cef255"
      },
      "execution_count": null,
      "outputs": [
        {
          "output_type": "stream",
          "name": "stdout",
          "text": [
            "Downloading data from https://storage.googleapis.com/tensorflow/keras-applications/vgg16/vgg16_weights_tf_dim_ordering_tf_kernels_notop.h5\n",
            "58889256/58889256 [==============================] - 3s 0us/step\n"
          ]
        }
      ]
    },
    {
      "cell_type": "code",
      "source": [
        "base_model.summary()"
      ],
      "metadata": {
        "colab": {
          "base_uri": "https://localhost:8080/"
        },
        "id": "mO5W5o9xnlYN",
        "outputId": "3a36598f-43d7-4ecc-ba82-9a43cbe50078"
      },
      "execution_count": null,
      "outputs": [
        {
          "output_type": "stream",
          "name": "stdout",
          "text": [
            "Model: \"vgg16\"\n",
            "_________________________________________________________________\n",
            " Layer (type)                Output Shape              Param #   \n",
            "=================================================================\n",
            " input_1 (InputLayer)        [(None, 150, 150, 3)]     0         \n",
            "                                                                 \n",
            " block1_conv1 (Conv2D)       (None, 150, 150, 64)      1792      \n",
            "                                                                 \n",
            " block1_conv2 (Conv2D)       (None, 150, 150, 64)      36928     \n",
            "                                                                 \n",
            " block1_pool (MaxPooling2D)  (None, 75, 75, 64)        0         \n",
            "                                                                 \n",
            " block2_conv1 (Conv2D)       (None, 75, 75, 128)       73856     \n",
            "                                                                 \n",
            " block2_conv2 (Conv2D)       (None, 75, 75, 128)       147584    \n",
            "                                                                 \n",
            " block2_pool (MaxPooling2D)  (None, 37, 37, 128)       0         \n",
            "                                                                 \n",
            " block3_conv1 (Conv2D)       (None, 37, 37, 256)       295168    \n",
            "                                                                 \n",
            " block3_conv2 (Conv2D)       (None, 37, 37, 256)       590080    \n",
            "                                                                 \n",
            " block3_conv3 (Conv2D)       (None, 37, 37, 256)       590080    \n",
            "                                                                 \n",
            " block3_pool (MaxPooling2D)  (None, 18, 18, 256)       0         \n",
            "                                                                 \n",
            " block4_conv1 (Conv2D)       (None, 18, 18, 512)       1180160   \n",
            "                                                                 \n",
            " block4_conv2 (Conv2D)       (None, 18, 18, 512)       2359808   \n",
            "                                                                 \n",
            " block4_conv3 (Conv2D)       (None, 18, 18, 512)       2359808   \n",
            "                                                                 \n",
            " block4_pool (MaxPooling2D)  (None, 9, 9, 512)         0         \n",
            "                                                                 \n",
            " block5_conv1 (Conv2D)       (None, 9, 9, 512)         2359808   \n",
            "                                                                 \n",
            " block5_conv2 (Conv2D)       (None, 9, 9, 512)         2359808   \n",
            "                                                                 \n",
            " block5_conv3 (Conv2D)       (None, 9, 9, 512)         2359808   \n",
            "                                                                 \n",
            " block5_pool (MaxPooling2D)  (None, 4, 4, 512)         0         \n",
            "                                                                 \n",
            "=================================================================\n",
            "Total params: 14,714,688\n",
            "Trainable params: 0\n",
            "Non-trainable params: 14,714,688\n",
            "_________________________________________________________________\n"
          ]
        }
      ]
    },
    {
      "cell_type": "code",
      "source": [
        "model = Sequential()\n",
        "model.add(base_model)\n",
        "model.add(Flatten())\n",
        "model.add(Dense(128, activation = 'relu', kernel_regularizer='l2'))\n",
        "model.add(Dropout(0.2))\n",
        "model.add(Dense(64, activation = 'relu', kernel_regularizer='l2'))\n",
        "model.add(Dropout(0.2))\n",
        "model.add(Dense(5, activation = 'softmax'))"
      ],
      "metadata": {
        "id": "fhy3mZCNoK7F"
      },
      "execution_count": null,
      "outputs": []
    },
    {
      "cell_type": "code",
      "source": [
        "model.compile(optimizer='adam', loss='categorical_crossentropy', metrics=['accuracy'])"
      ],
      "metadata": {
        "id": "CWgLc3juocR9"
      },
      "execution_count": null,
      "outputs": []
    },
    {
      "cell_type": "code",
      "source": [
        "es = EarlyStopping(monitor='val_accuracy', mode='max', patience=5, restore_best_weights=True)"
      ],
      "metadata": {
        "id": "1nvokUcro7kI"
      },
      "execution_count": null,
      "outputs": []
    },
    {
      "cell_type": "code",
      "source": [
        "model.summary()"
      ],
      "metadata": {
        "colab": {
          "base_uri": "https://localhost:8080/"
        },
        "id": "zxE5XHQmsTay",
        "outputId": "0ac06beb-8757-47e1-fcc3-5b908729e3ff"
      },
      "execution_count": null,
      "outputs": [
        {
          "output_type": "stream",
          "name": "stdout",
          "text": [
            "Model: \"sequential\"\n",
            "_________________________________________________________________\n",
            " Layer (type)                Output Shape              Param #   \n",
            "=================================================================\n",
            " vgg16 (Functional)          (None, 4, 4, 512)         14714688  \n",
            "                                                                 \n",
            " flatten (Flatten)           (None, 8192)              0         \n",
            "                                                                 \n",
            " dense (Dense)               (None, 128)               1048704   \n",
            "                                                                 \n",
            " dropout (Dropout)           (None, 128)               0         \n",
            "                                                                 \n",
            " dense_1 (Dense)             (None, 64)                8256      \n",
            "                                                                 \n",
            " dropout_1 (Dropout)         (None, 64)                0         \n",
            "                                                                 \n",
            " dense_2 (Dense)             (None, 5)                 325       \n",
            "                                                                 \n",
            "=================================================================\n",
            "Total params: 15,771,973\n",
            "Trainable params: 1,057,285\n",
            "Non-trainable params: 14,714,688\n",
            "_________________________________________________________________\n"
          ]
        }
      ]
    },
    {
      "cell_type": "code",
      "source": [
        "INPUT_SHAPE = X_train.shape[1:]\n",
        "EPOCHS = 5\n",
        "BATCH_SIZE = 100\n",
        "OUTPUT_SHAPE = 10"
      ],
      "metadata": {
        "id": "JsLJOv0epSul"
      },
      "execution_count": null,
      "outputs": []
    },
    {
      "cell_type": "code",
      "source": [
        "model_history = model.fit(X_train, y_train, epochs=EPOCHS, callbacks=[es], validation_split=0.2, batch_size = BATCH_SIZE)"
      ],
      "metadata": {
        "colab": {
          "base_uri": "https://localhost:8080/"
        },
        "id": "hsKLoEMWqCP3",
        "outputId": "1b1b6a47-7c53-4bf3-c1bf-e993a0804bf1"
      },
      "execution_count": null,
      "outputs": [
        {
          "output_type": "stream",
          "name": "stdout",
          "text": [
            "Epoch 1/5\n",
            "24/24 [==============================] - 656s 27s/step - loss: 6.6225 - accuracy: 0.5762 - val_loss: 4.4874 - val_accuracy: 0.7194\n",
            "Epoch 2/5\n",
            "24/24 [==============================] - 649s 27s/step - loss: 4.3743 - accuracy: 0.7534 - val_loss: 4.0890 - val_accuracy: 0.7602\n",
            "Epoch 3/5\n",
            "24/24 [==============================] - 650s 27s/step - loss: 3.7276 - accuracy: 0.8203 - val_loss: 3.8763 - val_accuracy: 0.7891\n",
            "Epoch 4/5\n",
            "24/24 [==============================] - 650s 27s/step - loss: 3.3932 - accuracy: 0.8693 - val_loss: 3.7239 - val_accuracy: 0.7993\n",
            "Epoch 5/5\n",
            "24/24 [==============================] - 650s 27s/step - loss: 3.1508 - accuracy: 0.8863 - val_loss: 3.5703 - val_accuracy: 0.8027\n"
          ]
        }
      ]
    },
    {
      "cell_type": "code",
      "source": [
        "plt.figure(figsize=(14, 5))\n",
        "\n",
        "plt.subplot(1, 2, 1)\n",
        "plt.plot(model_history.history['accuracy'], label='Training Accuracy')\n",
        "plt.plot(model_history.history['val_accuracy'], label='Validation Accuracy')\n",
        "plt.legend(loc='lower right')\n",
        "plt.title('Training and Validation Accuracy')\n",
        "\n",
        "plt.subplot(1, 2, 2)\n",
        "plt.plot(model_history.history['loss'], label='Training Loss')\n",
        "plt.plot(model_history.history['val_loss'], label='Validation Loss')\n",
        "plt.legend(loc='upper right')\n",
        "plt.title('Training and Validation Loss')\n",
        "\n",
        "plt.savefig('./foo.png')\n",
        "plt.show()"
      ],
      "metadata": {
        "colab": {
          "base_uri": "https://localhost:8080/",
          "height": 336
        },
        "id": "E2bJEfrUqcHL",
        "outputId": "86331aba-06d8-4713-c203-26ce8db866e1"
      },
      "execution_count": null,
      "outputs": [
        {
          "output_type": "display_data",
          "data": {
            "text/plain": [
              "<Figure size 1008x360 with 2 Axes>"
            ],
            "image/png": "[encoded data removed]"
          },
          "metadata": {
            "needs_background": "light"
          }
        }
      ]
    },
    {
      "cell_type": "code",
      "source": [
        "model.evaluate(X_test, y_test)"
      ],
      "metadata": {
        "id": "l3vIrUFXqc4-",
        "colab": {
          "base_uri": "https://localhost:8080/"
        },
        "outputId": "d5e07a8e-012d-425d-ac2f-9bc20034c46a"
      },
      "execution_count": null,
      "outputs": [
        {
          "output_type": "stream",
          "name": "stdout",
          "text": [
            "23/23 [==============================] - 168s 7s/step - loss: 3.5505 - accuracy: 0.8134\n"
          ]
        },
        {
          "output_type": "execute_result",
          "data": {
            "text/plain": [
              "[3.5505077838897705, 0.8133515119552612]"
            ]
          },
          "metadata": {},
          "execution_count": 19
        }
      ]
    },
    {
      "cell_type": "code",
      "source": [],
      "metadata": {
        "id": "aeKRGJ6w9Y-W"
      },
      "execution_count": null,
      "outputs": []
    }
  ]
}