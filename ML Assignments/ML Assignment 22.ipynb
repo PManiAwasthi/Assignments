{
  "nbformat": 4,
  "nbformat_minor": 0,
  "metadata": {
    "colab": {
      "provenance": []
    },
    "kernelspec": {
      "name": "python3",
      "display_name": "Python 3"
    },
    "language_info": {
      "name": "python"
    }
  },
  "cells": [
    {
      "cell_type": "markdown",
      "source": [
        "Is there any way to combine five different models that have all been trained on the same training data and have all achieved 95 percent precision? If so, how can you go about doing it? If not, what is the reason ?\n"
      ],
      "metadata": {
        "id": "K-olSaM8JreI"
      }
    },
    {
      "cell_type": "code",
      "source": [
        "\"\"\"\n",
        "Hybrid Model: A technique that combines two or more different machine learning models in some way. But we can't get 95 percent precision as all other models \n",
        "give different precision rate accuracy is differed.\n",
        "\"\"\""
      ],
      "metadata": {
        "id": "YOnCWVsLJrjI"
      },
      "execution_count": null,
      "outputs": []
    },
    {
      "cell_type": "markdown",
      "source": [
        "What's the difference between hard voting classifiers and soft voting classifiers ?"
      ],
      "metadata": {
        "id": "gNF3OjB9KJ6w"
      }
    },
    {
      "cell_type": "code",
      "source": [
        "\"\"\"\n",
        "In hard voting (also known as majority voting), every individual classifier votes for a class, and the majority wins. In statistical terms, the predicted target label of \n",
        "the ensemble is the mode of the distribution of individually predicted labels.\n",
        "\n",
        "In soft voting, every individual classifier provides a probability value that a specific data point belongs to a particular target class. The predictions are weighted by the \n",
        "classifier's importance and summed up. Then the target label with the greatest sum of weighted probabilities wins the vote.\n",
        "\"\"\""
      ],
      "metadata": {
        "id": "C22EnIGZKJ6w"
      },
      "execution_count": null,
      "outputs": []
    },
    {
      "cell_type": "markdown",
      "source": [
        "Is it possible to distribute a bagging ensemble's training through several servers to speed up the process? Pasting ensembles, boosting ensembles, Random Forests, and stacking ensembles are all options ?"
      ],
      "metadata": {
        "id": "eRHY7QwbKJ98"
      }
    },
    {
      "cell_type": "code",
      "source": [
        "\"\"\"\n",
        "When sampling is performed without replacement, it is called pasting. In other words, both approaches are similar.In both cases you are sampling the training data to build \n",
        "multiple instances of a classifier.\n",
        "\n",
        "Boosting is a general ensemble method that creates a strong classifier from a number of weak classifiers. This is done by building a model from the training data, then creating \n",
        "a second model that attempts to correct the errors from the first model. It is the best starting point for understanding boosting.\n",
        "\"\"\""
      ],
      "metadata": {
        "id": "1xVrWioFKJ99"
      },
      "execution_count": null,
      "outputs": []
    },
    {
      "cell_type": "markdown",
      "source": [
        "What is the advantage of evaluating out of the bag ?"
      ],
      "metadata": {
        "id": "grCq3bBAKKBB"
      }
    },
    {
      "cell_type": "code",
      "source": [
        "\"\"\"\n",
        "The advantage of the OOB method is that it requires less computation and allows one to test the model as it is being trained.\n",
        "\"\"\""
      ],
      "metadata": {
        "id": "46TwUkBIKKBB"
      },
      "execution_count": null,
      "outputs": []
    },
    {
      "cell_type": "markdown",
      "source": [
        "What distinguishes Extra-Trees from ordinary Random Forests? What good would this extra randomness do? Is it true that Extra-Tree Random Forests are slower or faster than normal Random Forests ?"
      ],
      "metadata": {
        "id": "EVtiHHU4KKEE"
      }
    },
    {
      "cell_type": "code",
      "source": [
        "\"\"\"\n",
        "Random forest uses bootstrap replicas, that is to say, it subsamples the input data with replacement, whereas Extra Trees use the whole original sample. This may \n",
        "increase variance because bootstrapping makes it more diversified.\n",
        "\n",
        "Random forest adds additional randomness to the model, while growing the trees. Instead of searching for the most important feature while splitting a node, it searches \n",
        "for the best feature among a random subset of features. This results in a wide diversity that generally results in a better model. Extra Trees is much faster.\n",
        "\n",
        "This is because instead of looking for the optimal split at each node it does it randomly.\n",
        "\"\"\""
      ],
      "metadata": {
        "id": "GEvghXypKKEE"
      },
      "execution_count": null,
      "outputs": []
    },
    {
      "cell_type": "markdown",
      "source": [
        "Which hyperparameters and how do you tweak if your AdaBoost ensemble underfits the training data ?"
      ],
      "metadata": {
        "id": "GRpKC2sPKKG7"
      }
    },
    {
      "cell_type": "code",
      "source": [
        "\"\"\"\n",
        "If your AdaBoost ensemble underfits the training data, you can try increasing the number of estimators or reducing the regularization hyperparameters of the base estimator. \n",
        "You may also try slightly increasing the learning rate.\n",
        "\"\"\""
      ],
      "metadata": {
        "id": "oRfI52M-KKG9"
      },
      "execution_count": null,
      "outputs": []
    },
    {
      "cell_type": "markdown",
      "source": [
        "Should you raise or decrease the learning rate if your Gradient Boosting ensemble overfits the training set ?"
      ],
      "metadata": {
        "id": "BP021_AOKKKH"
      }
    },
    {
      "cell_type": "code",
      "source": [
        "\"\"\"\n",
        "If your Gradient Boosting ensemble overfits the training set, you should try decreasing the learning rate. You could also use early stopping to find the right number of \n",
        "predictors\n",
        "\"\"\""
      ],
      "metadata": {
        "id": "orP-BZZ7KKKH"
      },
      "execution_count": null,
      "outputs": []
    }
  ]
}