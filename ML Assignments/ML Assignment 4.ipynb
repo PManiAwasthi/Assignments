{
  "nbformat": 4,
  "nbformat_minor": 0,
  "metadata": {
    "colab": {
      "provenance": []
    },
    "kernelspec": {
      "name": "python3",
      "display_name": "Python 3"
    },
    "language_info": {
      "name": "python"
    }
  },
  "cells": [
    {
      "cell_type": "markdown",
      "source": [
        "What are the key tasks involved in getting ready to work with machine learning modeling ?"
      ],
      "metadata": {
        "id": "6t8UEvYagBwU"
      }
    },
    {
      "cell_type": "code",
      "source": [
        "\"\"\"\n",
        "Data collection: Defining the problem and assembling a dataset.\n",
        "Data preparation: Preparing your data.\n",
        "Choosing a Model\n",
        "Training the Model: Developing a model that does better than a baseline.\n",
        "Evaluating the Model: Choosing a measure of success. Deciding on an evaluation protocol.\n",
        "Parameter tuning: Scaling up: developing a model that overfits.Regularizing your model and tuning your parameters.\n",
        "Prediction or Inference.\n",
        "\n",
        "\"\"\""
      ],
      "metadata": {
        "id": "MLnhDJTXgB1r"
      },
      "execution_count": null,
      "outputs": []
    },
    {
      "cell_type": "markdown",
      "source": [
        "What are the different forms of data used in machine learning ? Give a specific example for each of them ?"
      ],
      "metadata": {
        "id": "X1b1vVBPgFlH"
      }
    },
    {
      "cell_type": "code",
      "source": [
        "\"\"\"\n",
        "Most data can be categorized into 4 basic types from a Machine Learning perspective: Numerical Data, Categorical Data, Time-Series Data, and Text data.\n",
        "examples:\n",
        "numerical data: weight, height, house price\n",
        "categorial data: gender, marital status\n",
        "time series data: temperature, rainfall, stock prices\n",
        "text data: chats, word corpus\n",
        "\"\"\""
      ],
      "metadata": {
        "id": "M8VbbwEbgFlI"
      },
      "execution_count": null,
      "outputs": []
    },
    {
      "cell_type": "markdown",
      "source": [
        "Distinguish between :\n",
        "Numeric vs. categorical attributes\n",
        "Feature selection vs. dimensionality reduction"
      ],
      "metadata": {
        "id": "y0uboT0PgFoc"
      }
    },
    {
      "cell_type": "code",
      "source": [
        "\"\"\"\n",
        "Numeric vs. categorical attributes:\n",
        "Numerical data are values obtained for quantitative variable, and carries a sense of magnitude related to the context of the variable (hence, they are always \n",
        "numbers or symbols carrying a numerical value).\n",
        "Categorical data are values obtained for a qualitative variable. categorical data numbers do not carry a sense of magnitude.\n",
        "Numerical data always belong to either ordinal, ratio, or interval type, whereas categorical data belong to nominal type. - - Methods used to analyse quantitative \n",
        "data are different from the methods used for categorical data, even if the principles are the same at least the application has significant differences.\n",
        "Numerical data are analysed using statistical methods in descriptive statistics, regression, time series and many more.For categorical data usually descriptive methods \n",
        "and graphical methods are employed. Some non-parametric tests are also used.\n",
        "\n",
        "Feature selection vs. dimensionality reduction\n",
        "Feature selection you just select a subset of the original feature set, without any manipulation of the data on the other hand.\n",
        "Dimensionality reduction is typically choosing a new representation within which you can describe most but not all of the variance within your data, thereby \n",
        "retaining the relevant information, while reducing theamount of information necessary to represent it.\n",
        "\"\"\""
      ],
      "metadata": {
        "id": "BNtqm1wNgFod"
      },
      "execution_count": null,
      "outputs": []
    },
    {
      "cell_type": "markdown",
      "source": [
        "Make quick notes on any two of the following ?<br><br>\n",
        "The histogram<br>\n",
        "Use a scatter plot<br>\n",
        "PCA (Personal Computer Aid)\n"
      ],
      "metadata": {
        "id": "iwISuhpEgFrW"
      }
    },
    {
      "cell_type": "code",
      "source": [
        "\"\"\"\n",
        "The histogram: A Histogram is a graphical representation that organizes a group of data points into user-specified ranges. Similar in appearance to a bar graph, \n",
        "the histogram condenses a data series into an easily interpreted visual by taking many data points and grouping them into logical ranges or bins.\n",
        "\n",
        "Use a scatter plot: A scatter plot (aka scatter chart, scatter graph) uses dots to represent values for two different numeric variables. The position of each dot \n",
        "on the horizontal and vertical axis indicates values for an individual data point. Scatter plots are used to observe relationships between variables.\n",
        "\n",
        "PCA (Personal Computer Aid): Principal Component Analysis or PCA is a widely used technique for dimensionality reduction of the large data set. Reducing the number \n",
        "of components or features costs some accuracy and on the other hand, it makes the large data set simpler, easy to explore and visualize.\n",
        "\"\"\""
      ],
      "metadata": {
        "id": "toafp9PigFrX"
      },
      "execution_count": null,
      "outputs": []
    },
    {
      "cell_type": "markdown",
      "source": [
        "Why is it necessary to investigate data? Is there a discrepancy in how qualitative and quantitative data are explored ?\n"
      ],
      "metadata": {
        "id": "f12yoaGDgFub"
      }
    },
    {
      "cell_type": "code",
      "source": [
        "\"\"\"\n",
        "If your data set is messy, building models will not help you to solve your problem. What will happen is Garbage In, Garbage Out. In order to build a \n",
        "powerful machine learning algorithm. We need to explore and understand our data set before we define a predictive task and solve it.\n",
        "\n",
        "\n",
        "\"\"\""
      ],
      "metadata": {
        "id": "9dbAsG0MgFub"
      },
      "execution_count": null,
      "outputs": []
    },
    {
      "cell_type": "markdown",
      "source": [
        "What are the various histogram shapes? What exactly are ‘bins' ?"
      ],
      "metadata": {
        "id": "69VTrp7JgFxX"
      }
    },
    {
      "cell_type": "code",
      "source": [
        "\"\"\"\n",
        "The different types of a Histogram are:\n",
        "\n",
        "Uniform Histogram\n",
        "Symmetric Histogram\n",
        "Bimodal Histogram\n",
        "Probability Histogram.\n",
        "\n",
        "The bin in a histogram is the choice of unit and spacing on the X-axis. All the data in a probability distribution represented visually by a histogram is filled \n",
        "into the corresponding bins. The height of each bin is a measurement of the frequency with which data appears inside the range of that bin in the distribution.\n",
        "\"\"\""
      ],
      "metadata": {
        "id": "pQI3o8MBgFxY"
      },
      "execution_count": null,
      "outputs": []
    },
    {
      "cell_type": "markdown",
      "source": [
        "How do we deal with data outliers ?"
      ],
      "metadata": {
        "id": "ws-x_wbHgF0l"
      }
    },
    {
      "cell_type": "code",
      "source": [
        "\"\"\"\n",
        "We can use Z-Score or any of below methods to deal with data outliers:\n",
        "\n",
        "Univariate Method: This method looks for data points with extreme values on one variable.\n",
        "\n",
        "Multivariate Method: Here, we look for unusual combinations of all the variables.\n",
        "\n",
        "Minkowski Error: This method reduces the contribution of potential outliers in the training process.\n",
        "\n",
        "Z-Score: This can be done with just one line code as we have already calculated the Z-score.\n",
        "boston_df_o = boston_df_o[(z < 3).all(axis=1)]\n",
        "\n",
        "IQR Score: Calculate IQR score to filter out the outliers by keeping only valid values.\n",
        "boston_df_out = boston_df_o1[~((boston_df_o1 < (Q1 - 1.5 * IQR)) |(boston_df_o1 > (Q3 + 1.5 *IQR))).any(axis=1)]\n",
        "boston_df_out.shape\n",
        "\n",
        "Quantile function: Use quantile() to remove amount of data.\n",
        "\"\"\""
      ],
      "metadata": {
        "id": "mor6oGyWgF0m"
      },
      "execution_count": null,
      "outputs": []
    },
    {
      "cell_type": "markdown",
      "source": [
        "What are the various central inclination measures? Why does mean vary too much from median in certain data sets ?"
      ],
      "metadata": {
        "id": "tpQ7-bZagF3z"
      }
    },
    {
      "cell_type": "code",
      "source": [
        "\"\"\"\n",
        "Mean, Median and Mode are Central Inclination Measures. Mean varies more than Median due to presence of outliers, as mean is averaging all points while median \n",
        "in like finding a middle number.\n",
        "\"\"\""
      ],
      "metadata": {
        "id": "mbesjJQbgF30"
      },
      "execution_count": null,
      "outputs": []
    },
    {
      "cell_type": "markdown",
      "source": [
        "Describe how a scatter plot can be used to investigate bivariate relationships. Is it possible to find outliers using a scatter plot ?"
      ],
      "metadata": {
        "id": "UerHiVv1gF6z"
      }
    },
    {
      "cell_type": "code",
      "source": [
        "\"\"\"\n",
        "A Scatter Plot (aka scatter chart, scatter graph) uses dots to represent values for two different numeric variables. The position of each dot on the horizontal \n",
        "and vertical axis indicates values for an individual data point. So this visualization gives us the idea of bivariate relationship.\n",
        "\n",
        "Scatter plot can also help finding outliers as outliers can be visualized at farther distance than regular data.\n",
        "\n",
        "\n",
        "\"\"\""
      ],
      "metadata": {
        "id": "41Xi3OLQgF6z"
      },
      "execution_count": null,
      "outputs": []
    },
    {
      "cell_type": "markdown",
      "source": [
        "Describe how cross-tabs can be used to figure out how two variables are related ?"
      ],
      "metadata": {
        "id": "jJ-V18TrgF-Q"
      }
    },
    {
      "cell_type": "code",
      "source": [
        "\"\"\"\n",
        "Cross tabulation is a method to quantitatively analyze the relationship between multiple variables. Also known as contingency tables or cross tabs, cross \n",
        "tabulation groups variables to understand the correlation between different variables. It also shows how correlations change from one variable grouping to another.\n",
        "\"\"\""
      ],
      "metadata": {
        "id": "r0kObjnwgF-Q"
      },
      "execution_count": null,
      "outputs": []
    }
  ]
}