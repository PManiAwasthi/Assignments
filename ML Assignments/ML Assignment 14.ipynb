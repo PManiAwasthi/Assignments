{
  "nbformat": 4,
  "nbformat_minor": 0,
  "metadata": {
    "colab": {
      "provenance": []
    },
    "kernelspec": {
      "name": "python3",
      "display_name": "Python 3"
    },
    "language_info": {
      "name": "python"
    }
  },
  "cells": [
    {
      "cell_type": "markdown",
      "source": [
        "What is the concept of supervised learning? What is the significance of the name ?\n"
      ],
      "metadata": {
        "id": "E-4MLMGCreEj"
      }
    },
    {
      "cell_type": "code",
      "source": [
        "\"\"\"\n",
        "Supervised learning, also known as supervised machine learning, is a subcategory of machine learning and artificial intelligence. It is defined by its use of \n",
        "labeled datasets to train algorithms that to classify data or predict outcomes accurately.\n",
        "\"\"\""
      ],
      "metadata": {
        "id": "WkD1MID5reMF"
      },
      "execution_count": null,
      "outputs": []
    },
    {
      "cell_type": "markdown",
      "source": [
        "In the hospital sector, offer an example of supervised learning ?"
      ],
      "metadata": {
        "id": "1VyoFR0Qre3D"
      }
    },
    {
      "cell_type": "code",
      "source": [
        "\"\"\"\n",
        "Supervised learning uses a training set to teach models to yield the desired output. This training dataset includes inputs and correct outputs, which allow the model to learn over time. The algorithm measures its accuracy through the loss function, adjusting until the error has been sufficiently minimized.\n",
        "\"\"\""
      ],
      "metadata": {
        "id": "EOPs3xaSre3D"
      },
      "execution_count": null,
      "outputs": []
    },
    {
      "cell_type": "markdown",
      "source": [
        "Give three supervised learning examples ?\n"
      ],
      "metadata": {
        "id": "JU0OPtr5re57"
      }
    },
    {
      "cell_type": "code",
      "source": [
        "\"\"\"\n",
        "Decision Trees.\n",
        "Support Vector Machine (SVM)\n",
        "Random Forest.\n",
        "\"\"\""
      ],
      "metadata": {
        "id": "GIxT71cDre58"
      },
      "execution_count": null,
      "outputs": []
    },
    {
      "cell_type": "markdown",
      "source": [
        " In supervised learning, what are classification and regression ?"
      ],
      "metadata": {
        "id": "5dDbs7xWre8r"
      }
    },
    {
      "cell_type": "code",
      "source": [
        "\"\"\"\n",
        "Fundamentally, classification is about predicting a label and regression is about predicting a quantity. That classification is the problem of predicting a discrete\n",
        " class label output for an example. That regression is the problem of predicting a continuous quantity output for an example.\n",
        "\"\"\""
      ],
      "metadata": {
        "colab": {
          "base_uri": "https://localhost:8080/",
          "height": 53
        },
        "id": "K5VWkQr9re8s",
        "outputId": "bb7a1e62-7b2b-4ff5-8e29-3bd44bd41c70"
      },
      "execution_count": 16,
      "outputs": [
        {
          "output_type": "execute_result",
          "data": {
            "text/plain": [
              "'\\nFundamentally, classification is about predicting a label and regression is about predicting a quantity. That classification is the problem of predicting a discrete\\n class label output for an example. That regression is the problem of predicting a continuous quantity output for an example.\\n'"
            ],
            "application/vnd.google.colaboratory.intrinsic+json": {
              "type": "string"
            }
          },
          "metadata": {},
          "execution_count": 16
        }
      ]
    },
    {
      "cell_type": "markdown",
      "source": [
        "Give some popular classification algorithms as examples ?"
      ],
      "metadata": {
        "id": "K_wIH2oOre_Q"
      }
    },
    {
      "cell_type": "code",
      "source": [
        "\"\"\"\n",
        "Popular algorithms that can be used for multi-class classification include:\n",
        "\n",
        "k-Nearest Neighbors\n",
        "Decision Trees.\n",
        "Naive Bayes\n",
        "\"\"\""
      ],
      "metadata": {
        "id": "fTBbuEjOre_Q"
      },
      "execution_count": null,
      "outputs": []
    },
    {
      "cell_type": "markdown",
      "source": [
        "Briefly describe the SVM model ?"
      ],
      "metadata": {
        "id": "LnYGbXPdrfBx"
      }
    },
    {
      "cell_type": "code",
      "source": [
        "\"\"\"\n",
        "A support vector machine (SVM) is a supervised machine learning model that uses classification algorithms for two-group classification problems. After giving an \n",
        "SVM model sets of labeled training data for each category, they're able to categorize new text.\n",
        "\"\"\""
      ],
      "metadata": {
        "id": "hotUjoRLrfBx"
      },
      "execution_count": null,
      "outputs": []
    },
    {
      "cell_type": "markdown",
      "source": [
        "In SVM, what is the cost of misclassification ?"
      ],
      "metadata": {
        "id": "Z2pl0l1RrfEg"
      }
    },
    {
      "cell_type": "code",
      "source": [
        "\"\"\"\n",
        "In cost-sensitive learning instead of each instance being either correctly or incorrectly classified, each class (or instance) is given a misclassification cost. \n",
        "Thus, instead of trying to optimize the accuracy, the problem is then to minimize the total misclassification cost.\n",
        "\"\"\""
      ],
      "metadata": {
        "id": "nOTwjKh-rfEg"
      },
      "execution_count": null,
      "outputs": []
    },
    {
      "cell_type": "markdown",
      "source": [
        "In the SVM model, define Support Vectors ?"
      ],
      "metadata": {
        "id": "OJuwXfv3rfHS"
      }
    },
    {
      "cell_type": "code",
      "source": [
        "\"\"\"\n",
        "Support vectors are data points that are closer to the hyperplane and influence the position and orientation of the hyperplane. Using these support vectors, \n",
        "we maximize the margin of the classifier. Deleting the support vectors will change the position of the hyperplane. These are the points that help us build our SVM.\n",
        "\"\"\""
      ],
      "metadata": {
        "id": "AWdd573ArfHS"
      },
      "execution_count": null,
      "outputs": []
    },
    {
      "cell_type": "markdown",
      "source": [
        "In the SVM model, define the kernel ?"
      ],
      "metadata": {
        "id": "ySOrZ0DUrfKE"
      }
    },
    {
      "cell_type": "code",
      "source": [
        "\"\"\"\n",
        "SVM algorithms use a set of mathematical functions that are defined as the kernel. The function of kernel is to take data as input and transform it into the required form. \n",
        "These functions can be different types. For example linear, nonlinear, polynomial, radial basis function (RBF), and sigmoid.\n",
        "\"\"\""
      ],
      "metadata": {
        "id": "2Wa7nZisrfKE"
      },
      "execution_count": null,
      "outputs": []
    },
    {
      "cell_type": "markdown",
      "source": [
        "What are the factors that influence SVM's effectiveness ?"
      ],
      "metadata": {
        "id": "6dygS3gKrfM9"
      }
    },
    {
      "cell_type": "code",
      "source": [
        "\"\"\"\n",
        "SVM or Support Vector Machine is a linear model for classification and regression problems. It can solve linear and non-linear problems and work well for many \n",
        "practical problems. The idea of SVM is simple: The algorithm creates a line or a hyperplane which separates the data into classes.\n",
        "\"\"\""
      ],
      "metadata": {
        "id": "LdiW8Ip2rfNA"
      },
      "execution_count": null,
      "outputs": []
    },
    {
      "cell_type": "markdown",
      "source": [
        "What are the benefits of using the SVM model ?"
      ],
      "metadata": {
        "id": "2pWSi1lOrfQB"
      }
    },
    {
      "cell_type": "code",
      "source": [
        "\"\"\"\n",
        "SVM works relatively well when there is a clear margin of separation between classes. SVM is more effective in high dimensional spaces. SVM is effective in \n",
        "cases where the number of dimensions is greater than the number of samples.SVM is relatively memory efficient.\n",
        "\"\"\""
      ],
      "metadata": {
        "id": "qoovPyjDrfQB"
      },
      "execution_count": null,
      "outputs": []
    },
    {
      "cell_type": "markdown",
      "source": [
        "What are the drawbacks of using the SVM model ?\n"
      ],
      "metadata": {
        "id": "tRs0ZUvOrfTL"
      }
    },
    {
      "cell_type": "code",
      "source": [
        "\"\"\"\n",
        "SVM algorithm is not suitable for large data sets. SVM does not perform very well when the data set has more noise i.e. target classes are overlapping. \n",
        "In cases where the number of features for each data point exceeds the number of training data samples, the SVM will underperform.\n",
        "\"\"\""
      ],
      "metadata": {
        "id": "QMpN1LVRrfTL"
      },
      "execution_count": null,
      "outputs": []
    },
    {
      "cell_type": "markdown",
      "source": [
        "Notes should be written on<br><br>\n",
        "The kNN algorithm has a validation flaw.<br>\n",
        "In the kNN algorithm, the k value is chosen.<br>\n",
        "A decision tree with inductive bias"
      ],
      "metadata": {
        "id": "RrirQR6RrfWJ"
      }
    },
    {
      "cell_type": "code",
      "source": [
        "\"\"\"\n",
        "The kNN algorithm has a validation flaw.\n",
        "The relatively low accuracy of kNN is caused by several factors. One of them is that every characteristic of the method has the same result on calculating distance. \n",
        "The solution of this problem is to give weight to each data characteristic.\n",
        "\n",
        "In the kNN algorithm, the k value is chosen.\n",
        "The optimal K value usually found is the square root of N, where N is the total number of samples. Use an error plot or accuracy plot to find the most favorable K value. \n",
        "KNN performs well with multi-label classes, but you must be aware of the outliers.\n",
        "\n",
        "A decision tree with inductive bias\n",
        "Shorter trees are preferred over longer ones. Trees that place high information gain attributes close to the root are preferred over those that do not.\n",
        "\"\"\""
      ],
      "metadata": {
        "id": "i4HwwqyFrfWK"
      },
      "execution_count": null,
      "outputs": []
    },
    {
      "cell_type": "markdown",
      "source": [
        "What are some of the benefits of the kNN algorithm ?"
      ],
      "metadata": {
        "id": "afyGSM4LrfZC"
      }
    },
    {
      "cell_type": "code",
      "source": [
        "\"\"\"\n",
        "Some Advantages of KNN are:\n",
        "\n",
        "Quick calculation time.\n",
        "Simple algorithm – to interpret.\n",
        "Versatile – useful for regression and classification.\n",
        "High accuracy – you do not need to compare with better-supervised learning models.\n",
        "\"\"\""
      ],
      "metadata": {
        "id": "CtT5GHzXrfZC"
      },
      "execution_count": null,
      "outputs": []
    },
    {
      "cell_type": "markdown",
      "source": [
        "What are some of the kNN algorithm's drawbacks ?\n"
      ],
      "metadata": {
        "id": "qYjJSGjXrfcL"
      }
    },
    {
      "cell_type": "code",
      "source": [
        "\"\"\"\n",
        "Some Disadvantages of KNN are:\n",
        "\n",
        "Accuracy depends on the quality of the data.\n",
        "With large data, the prediction stage might be slow.\n",
        "Sensitive to the scale of the data and irrelevant features.\n",
        "Require high memory – need to store all of the training data.\n",
        "Given that it stores all of the training, it can be computationally expensive.\n",
        "\"\"\""
      ],
      "metadata": {
        "id": "VegvptdHrfcL"
      },
      "execution_count": null,
      "outputs": []
    },
    {
      "cell_type": "markdown",
      "source": [
        "Explain the decision tree algorithm in a few words ?"
      ],
      "metadata": {
        "id": "I2j3ILjdrff5"
      }
    },
    {
      "cell_type": "code",
      "source": [
        "\"\"\"\n",
        "A decision tree is a graphical representation of all the possible solutions to a decision based on certain conditions. Tree models where the target variable can take \n",
        "a finite set of values are called classification trees and target variable can take continuous values (numbers) are called regression trees.\n",
        "\"\"\""
      ],
      "metadata": {
        "id": "E3xqVlZ_rff5"
      },
      "execution_count": null,
      "outputs": []
    },
    {
      "cell_type": "markdown",
      "source": [
        "What is the difference between a node and a leaf in a decision tree ?"
      ],
      "metadata": {
        "id": "wkMTwg43rfit"
      }
    },
    {
      "cell_type": "code",
      "source": [
        "\"\"\"\n",
        "A decision tree is a flowchart-like structure in which each internal node represents a \"test\" on an attribute (e.g. whether a coin flip comes up heads or tails), \n",
        "each branch represents the outcome of the test, and each leaf node represents a class label (decision taken after computing all attributes).\n",
        "\"\"\""
      ],
      "metadata": {
        "id": "X24JAP9xrfiu"
      },
      "execution_count": null,
      "outputs": []
    },
    {
      "cell_type": "markdown",
      "source": [
        "What is a decision tree's entropy ?"
      ],
      "metadata": {
        "id": "B7G492Bqrfl4"
      }
    },
    {
      "cell_type": "code",
      "source": [
        "\"\"\"\n",
        "Entropy helps us to build an appropriate decision tree for selecting the best splitter. Entropy can be defined as a measure of the purity of the sub split. Entropy \n",
        "always lies between 0 to 1. The entropy of any split can be calculate by this formula.\n",
        "\"\"\""
      ],
      "metadata": {
        "id": "3-K55fXxrfl5"
      },
      "execution_count": null,
      "outputs": []
    },
    {
      "cell_type": "markdown",
      "source": [
        "In a decision tree, define knowledge gain ?\n"
      ],
      "metadata": {
        "id": "EUsXB3MHrfo0"
      }
    },
    {
      "cell_type": "code",
      "source": [
        "\"\"\"\n",
        "Entropy helps us to build an appropriate decision tree for selecting the best splitter. Entropy can be defined as a measure of the purity of the sub split. \n",
        "Entropy always lies between 0 to 1. The entropy of any split can be calculate by this formula.\n",
        "\"\"\""
      ],
      "metadata": {
        "id": "A0cz_ererfo1"
      },
      "execution_count": null,
      "outputs": []
    },
    {
      "cell_type": "markdown",
      "source": [
        "In a decision tree, define knowledge gain ?"
      ],
      "metadata": {
        "id": "i-h65KyFrfsa"
      }
    },
    {
      "cell_type": "code",
      "source": [
        "\"\"\"\n",
        "Information gain is the reduction in entropy or surprise by transforming a dataset and is often used in training decision trees.Information \n",
        "gain is calculated by comparing the entropy of the dataset before and after a transformation.\n",
        "\"\"\""
      ],
      "metadata": {
        "id": "Z-F2YkLurfsa"
      },
      "execution_count": null,
      "outputs": []
    },
    {
      "cell_type": "markdown",
      "source": [
        "Choose three advantages of the decision tree approach and write them down ?"
      ],
      "metadata": {
        "id": "R3rHaIo0rfvu"
      }
    },
    {
      "cell_type": "code",
      "source": [
        "\"\"\"\n",
        "Advantages of Decision Trees :\n",
        "\n",
        "Easy to read and interpret. One of the advantages of decision trees is that their outputs are easy to read and interpret without requiring statistical knowledge.\n",
        "Easy to prepare.\n",
        "Less data cleaning required.\n",
        "\"\"\""
      ],
      "metadata": {
        "id": "v2iGPTilrfvu"
      },
      "execution_count": null,
      "outputs": []
    },
    {
      "cell_type": "markdown",
      "source": [
        "Make a list of three flaws in the decision tree process ?"
      ],
      "metadata": {
        "id": "3GzQ4DCHrf13"
      }
    },
    {
      "cell_type": "code",
      "source": [
        "\"\"\"\n",
        "Issues in Decision Tree Learning :\n",
        "\n",
        "Overfitting the data.\n",
        "Guarding against bad attribute choices.\n",
        "Handling continuous valued attributes.\n",
        "Handling missing attribute values.\n",
        "Handling attributes with differing costs.\n",
        "\"\"\""
      ],
      "metadata": {
        "id": "H8NZo0Dbrf13"
      },
      "execution_count": null,
      "outputs": []
    },
    {
      "cell_type": "markdown",
      "source": [
        "Briefly describe the random forest model ?"
      ],
      "metadata": {
        "id": "xTQmJfBYs57J"
      }
    },
    {
      "cell_type": "code",
      "source": [
        "\"\"\"\n",
        "The random forest is a classification algorithm consisting of many decisions trees. It uses bagging and feature randomness when building each individual tree to try to \n",
        "create an uncorrelated forest of trees whose prediction by committee is more accurate than that of any individual tree.\n",
        "\"\"\""
      ],
      "metadata": {
        "id": "VZtWHdp9s5_8"
      },
      "execution_count": null,
      "outputs": []
    }
  ]
}