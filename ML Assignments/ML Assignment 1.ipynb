{
  "nbformat": 4,
  "nbformat_minor": 0,
  "metadata": {
    "colab": {
      "provenance": []
    },
    "kernelspec": {
      "name": "python3",
      "display_name": "Python 3"
    },
    "language_info": {
      "name": "python"
    }
  },
  "cells": [
    {
      "cell_type": "markdown",
      "source": [
        "What does one mean by the term \"machine learning\" ?"
      ],
      "metadata": {
        "id": "_4bxxcqLpmnG"
      }
    },
    {
      "cell_type": "code",
      "source": [
        "\"\"\"\n",
        "Machine learning is the part of Artificial Intelligence which focusing on building data driven intelligent system, able to perform tasks like predicting outcomes without \n",
        "being explicitly programmed to do so.\n",
        "\"\"\""
      ],
      "metadata": {
        "id": "QQO9yclspmr7"
      },
      "execution_count": null,
      "outputs": []
    },
    {
      "cell_type": "markdown",
      "source": [
        "Can you think of 4 distinct types of issues where it shines ?"
      ],
      "metadata": {
        "id": "8RyTGVbHpnZo"
      }
    },
    {
      "cell_type": "code",
      "source": [
        "\"\"\"\n",
        "1. Voice assistant\n",
        "2. recommendation systems\n",
        "3. Medical application\n",
        "4. Computer vision related applications.\n",
        "\"\"\""
      ],
      "metadata": {
        "id": "Upny2Vw0pnZo"
      },
      "execution_count": null,
      "outputs": []
    },
    {
      "cell_type": "markdown",
      "source": [
        "What is a labeled training set, and how does it work ?"
      ],
      "metadata": {
        "id": "RCj28UTMpncS"
      }
    },
    {
      "cell_type": "code",
      "source": [
        "\"\"\"\n",
        "The type of data where we have both the input fields as well as the desired output is called the labeled data. This type of data is used in the supervised learning algorithms\n",
        "of the AI. What we do with them is them we separate the input and output/label fields and pass them as input to an AI algorithm. For testing the performance \n",
        "a part of this data is separated beforehand and we predict using the tranined model generated after training and match it with the labels from the test data we separated earlier.\n",
        "\"\"\""
      ],
      "metadata": {
        "id": "c-bpKRqlpncS"
      },
      "execution_count": null,
      "outputs": []
    },
    {
      "cell_type": "markdown",
      "source": [
        "What are the two most important tasks that are supervised ?"
      ],
      "metadata": {
        "id": "JqT5Nyocpne5"
      }
    },
    {
      "cell_type": "code",
      "source": [
        "\"\"\"\n",
        "In supervised learning we have regression and classification tasks which are important supervised taskes.\n",
        "\"\"\""
      ],
      "metadata": {
        "id": "d2LWo328pne6"
      },
      "execution_count": null,
      "outputs": []
    },
    {
      "cell_type": "markdown",
      "source": [
        "Can you think of four examples of unsupervised tasks ?"
      ],
      "metadata": {
        "id": "5ILOT3E-pnhf"
      }
    },
    {
      "cell_type": "code",
      "source": [
        "\"\"\"\n",
        "Clustering, association rule learning, dimensionality algorithm, self-organizing maps for visualisation.\n",
        "\"\"\""
      ],
      "metadata": {
        "id": "b8wKfi9Rpnhg"
      },
      "execution_count": null,
      "outputs": []
    },
    {
      "cell_type": "markdown",
      "source": [
        "State the machine learning model that would be best to make a robot walk through various unfamiliar terrains ?"
      ],
      "metadata": {
        "id": "7OS9uWBUwZSr"
      }
    },
    {
      "cell_type": "code",
      "source": [
        "\"\"\"\n",
        "In this type of tasks the type of learning models employed are reinforcement learning model where the model learns from a reward/penalty configuration when \n",
        "it makes different choices while trying to reach the goal.\n",
        "\"\"\""
      ],
      "metadata": {
        "id": "xoIq2GVBwZqe"
      },
      "execution_count": null,
      "outputs": []
    },
    {
      "cell_type": "markdown",
      "source": [
        "Which algorithm will you use to divide your customers into different groups ?\n"
      ],
      "metadata": {
        "id": "TTwWhpdNwab0"
      }
    },
    {
      "cell_type": "code",
      "source": [
        "\"\"\"\n",
        "Clustering algorithms of unsupervised learning are used for this kind of tasks\n",
        "\"\"\""
      ],
      "metadata": {
        "id": "W9r1cW-Nwab0"
      },
      "execution_count": null,
      "outputs": []
    },
    {
      "cell_type": "markdown",
      "source": [
        "Will you consider the problem of spam detection to be a supervised or unsupervised learning problem ?"
      ],
      "metadata": {
        "id": "rE22dZKJwaiH"
      }
    },
    {
      "cell_type": "code",
      "source": [
        "\"\"\"\n",
        "It is supervised ML problem because we use a labeled dataset for training the model\n",
        "\"\"\""
      ],
      "metadata": {
        "id": "N3OtpgF-waiH"
      },
      "execution_count": null,
      "outputs": []
    },
    {
      "cell_type": "markdown",
      "source": [
        "What is the concept of an online learning system ?"
      ],
      "metadata": {
        "id": "ePM-crHYwaqS"
      }
    },
    {
      "cell_type": "code",
      "source": [
        "\"\"\"\n",
        "It means that after deployment of the model it keeps on learning from new incomming data.\n",
        "\"\"\""
      ],
      "metadata": {
        "id": "cdC6ebGUwaqT"
      },
      "execution_count": null,
      "outputs": []
    },
    {
      "cell_type": "markdown",
      "source": [
        "What is out-of-core learning, and how does it differ from core learning ?"
      ],
      "metadata": {
        "id": "XuBCZoppwaw3"
      }
    },
    {
      "cell_type": "code",
      "source": [
        "\"\"\"\n",
        "When the amount of training data does not fit in the memory(RAM) but can fit into some data storage, such are local HDD or web repository\n",
        "\"\"\""
      ],
      "metadata": {
        "id": "RouyRBzVwaw4"
      },
      "execution_count": null,
      "outputs": []
    },
    {
      "cell_type": "markdown",
      "source": [
        "What kind of learning algorithm makes predictions using a similarity measure ?"
      ],
      "metadata": {
        "id": "RUJhKiEf0q-V"
      }
    },
    {
      "cell_type": "code",
      "source": [
        "\"\"\"\n",
        "In Instance based learning we make predictions using similarity measure\n",
        "\"\"\""
      ],
      "metadata": {
        "colab": {
          "base_uri": "https://localhost:8080/",
          "height": 36
        },
        "id": "-6H-32KU0rEn",
        "outputId": "9195e915-f734-40fe-8969-06b56a313116"
      },
      "execution_count": null,
      "outputs": [
        {
          "output_type": "execute_result",
          "data": {
            "text/plain": [
              "'\\nIn Instance based learning we make predictions using similarity measure\\n'"
            ],
            "application/vnd.google.colaboratory.intrinsic+json": {
              "type": "string"
            }
          },
          "metadata": {},
          "execution_count": 161
        }
      ]
    },
    {
      "cell_type": "markdown",
      "source": [
        "What's the difference between a model parameter and a hyperparameter in a learning algorithm ?"
      ],
      "metadata": {
        "id": "THKXWb350r8e"
      }
    },
    {
      "cell_type": "code",
      "source": [
        "\"\"\"\n",
        "Hyperparameters are the parameter used during the learning phase of the algorithm, where as Model parameters are internal to the model and estimated from data automatically\n",
        "\"\"\""
      ],
      "metadata": {
        "id": "a-jyuJg70r8f"
      },
      "execution_count": null,
      "outputs": []
    },
    {
      "cell_type": "markdown",
      "source": [
        "What are the criteria that model-based learning algorithms look for? What is the most popular method they use to achieve success? What method do they use to make predictions ?"
      ],
      "metadata": {
        "id": "BpNftaLw0r_0"
      }
    },
    {
      "cell_type": "code",
      "source": [
        "\"\"\"\n",
        "ML is all about genelizing a soluting meaning the model should be able to work with new instances of data which are not from the traning set and still perform well. \n",
        "Therefore a model based learning algorithm searches for those optimal parameters in a model that give this kinda of result. We use loss/cost functions, and optimizers.\n",
        "The model prediction using the parameters it obtained while training on the data.\n",
        "\"\"\""
      ],
      "metadata": {
        "id": "6P05iHft0r_0"
      },
      "execution_count": null,
      "outputs": []
    },
    {
      "cell_type": "markdown",
      "source": [
        "Can you name four of the most important Machine Learning challenges ?"
      ],
      "metadata": {
        "id": "w-wX0SvL0sC2"
      }
    },
    {
      "cell_type": "code",
      "source": [
        "\"\"\"\n",
        "Lack of data\n",
        "overfitting model\n",
        "underfiting\n",
        "non representative data\n",
        "\"\"\""
      ],
      "metadata": {
        "id": "zNTZRrso0sC3"
      },
      "execution_count": null,
      "outputs": []
    },
    {
      "cell_type": "markdown",
      "source": [
        "What happens if the model performs well on the training data but fails to generalize the results to new situations? Can you think of three different options ?"
      ],
      "metadata": {
        "id": "W56H_uL_0sGE"
      }
    },
    {
      "cell_type": "code",
      "source": [
        "\"\"\"\n",
        "This is when we say that the model has overfitted when it does not generalize well on new instance. What we can do here is that:\n",
        "1. get more data\n",
        "2. reduce the complexity of the model\n",
        "3. hyperparameter tuning\n",
        "\"\"\""
      ],
      "metadata": {
        "id": "pzCEOVfn0sGE"
      },
      "execution_count": null,
      "outputs": []
    },
    {
      "cell_type": "markdown",
      "source": [
        "What exactly is a test set, and why would you need one ?"
      ],
      "metadata": {
        "id": "4cU1gaAp0sJd"
      }
    },
    {
      "cell_type": "code",
      "source": [
        "\"\"\"\n",
        "The goal in AI is to obtain generalized solution but how do we tell if it has generalised or not. We cannot just deploy and check it on the go so we set aside \n",
        "a part of the data and keep it away from model while training after which we test the model using this test data which are new instances for the trained model. \n",
        "The performance of the trained model thus tells us the actual performance of the model.\n",
        "\"\"\""
      ],
      "metadata": {
        "id": "mTbev9cD0sJe"
      },
      "execution_count": null,
      "outputs": []
    },
    {
      "cell_type": "markdown",
      "source": [
        "What is a validation set's purpose ?"
      ],
      "metadata": {
        "id": "y00o0QCM0sMV"
      }
    },
    {
      "cell_type": "code",
      "source": [
        "\"\"\"\n",
        "if we train the model and obtain bad test results than we are most likely to keep of making changes until the test accuracy gets better. \n",
        "so more or less we are now overfitting the model on the test set too so again we well still not know whether the model is good or not. \n",
        "therefore during training another part of the data is used to get a performance statistic of the model called the validation dataset, which helps to \n",
        "tune the model for better generalization while not exposing the test data at all thus reducing chances of overfitting.\n",
        "\"\"\""
      ],
      "metadata": {
        "id": "xccWfOhR0sMW"
      },
      "execution_count": null,
      "outputs": []
    },
    {
      "cell_type": "markdown",
      "source": [
        "What precisely is the train-dev kit, when will you need it, how do you put it to use ?"
      ],
      "metadata": {
        "id": "l99Zed263mEm"
      }
    },
    {
      "cell_type": "code",
      "source": [
        "\"\"\"\n",
        "Cross-validation is a tool to compare models without needing a separate validation set. \n",
        "It is preferred over validation set because we can save from breaking of part of the training set to create a validation set, as having more data is valuable regardless.\n",
        "\"\"\""
      ],
      "metadata": {
        "id": "x42AKROH3mNw"
      },
      "execution_count": null,
      "outputs": []
    },
    {
      "cell_type": "markdown",
      "source": [
        "What could go wrong if you use the test set to tune hyperparameters ?"
      ],
      "metadata": {
        "id": "VTHbVbiN3mUV"
      }
    },
    {
      "cell_type": "code",
      "source": [
        "\"\"\"\n",
        "If you tune hyperparameters using the test sets, then it may not perform well on the out-of-sample data because the model is tuned just for that specific set.\n",
        "\"\"\""
      ],
      "metadata": {
        "id": "_t1L1lEw3mam"
      },
      "execution_count": null,
      "outputs": []
    },
    {
      "cell_type": "code",
      "source": [],
      "metadata": {
        "id": "2M3BDQRe3mbw"
      },
      "execution_count": null,
      "outputs": []
    }
  ]
}