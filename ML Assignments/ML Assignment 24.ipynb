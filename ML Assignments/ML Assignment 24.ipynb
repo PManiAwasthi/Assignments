{
  "nbformat": 4,
  "nbformat_minor": 0,
  "metadata": {
    "colab": {
      "provenance": []
    },
    "kernelspec": {
      "name": "python3",
      "display_name": "Python 3"
    },
    "language_info": {
      "name": "python"
    }
  },
  "cells": [
    {
      "cell_type": "markdown",
      "source": [
        "What is your definition of clustering? What are a few clustering algorithms you might think of ?"
      ],
      "metadata": {
        "id": "UfyPmFs_LXyH"
      }
    },
    {
      "cell_type": "code",
      "source": [
        "\"\"\"\n",
        "Clustering is the task of dividing the population or data points into a number of groups such that data points in the same groups are more similar to other \n",
        "data points in the same group and dissimilar to the data points in other groups.\n",
        "\"\"\""
      ],
      "metadata": {
        "id": "JUUWMB4hLX2l"
      },
      "execution_count": null,
      "outputs": []
    },
    {
      "cell_type": "markdown",
      "source": [
        "What are some of the most popular clustering algorithm applications ?\n"
      ],
      "metadata": {
        "id": "CsZXX0W8LcJa"
      }
    },
    {
      "cell_type": "code",
      "source": [
        "\"\"\"\n",
        "K-means clustering is the most commonly used clustering algorithm. It's a centroid-based algorithm and the simplest unsupervised learning algorithm. \n",
        "This algorithm tries to minimize the variance of data points within a cluster. It's also how most people are introduced to unsupervised machine learning.\n",
        "\"\"\""
      ],
      "metadata": {
        "id": "1H_VYgYRLcJa"
      },
      "execution_count": null,
      "outputs": []
    },
    {
      "cell_type": "markdown",
      "source": [
        "When using K-Means, describe two strategies for selecting the appropriate number of clusters ?"
      ],
      "metadata": {
        "id": "7jtoQBSbLcMY"
      }
    },
    {
      "cell_type": "code",
      "source": [
        "\"\"\"\n",
        "K-means clustering algorithm can be significantly improved by using a better initialization technique, and by repeating (re-starting) the algorithm. \n",
        "When the data has overlapping clusters, k-means can improve the results of the initialization technique\n",
        "\"\"\""
      ],
      "metadata": {
        "id": "IQANQ7l6LcMY"
      },
      "execution_count": null,
      "outputs": []
    },
    {
      "cell_type": "markdown",
      "source": [
        "What is mark propagation and how does it work? Why would you do it, and how would you do it ?"
      ],
      "metadata": {
        "id": "e6L_srpvLcO_"
      }
    },
    {
      "cell_type": "code",
      "source": [
        "\"\"\"\n",
        "Backpropagation (backward propagation) is an important mathematical tool for improving the accuracy of predictions in data mining and machine learning. Essentially, \n",
        "backpropagation is an algorithm used to calculate derivatives quickly.\n",
        "\n",
        "The backpropagation algorithm works by computing the gradient of the loss function with respect to each weight by the chain rule, computing the gradient one layer at a time, \n",
        "iterating backward from the last layer to avoid redundant calculations of intermediate terms in the chain rule.\n",
        "\"\"\""
      ],
      "metadata": {
        "id": "ncde1zQkLcPA"
      },
      "execution_count": null,
      "outputs": []
    },
    {
      "cell_type": "markdown",
      "source": [
        "Provide two examples of clustering algorithms that can handle large datasets. And two that look for high-density areas ?"
      ],
      "metadata": {
        "id": "xe5eaBbJLcRZ"
      }
    },
    {
      "cell_type": "code",
      "source": [
        "\"\"\"\n",
        "The most commonly used algorithm in clustering are partitioning, hierarchical, grid based, density based, and model based algorithms. A review of clustering and its different \n",
        "techniques in data mining is done considering the criteria's for big data.\n",
        "\"\"\""
      ],
      "metadata": {
        "id": "s-zsJpKmLcRZ"
      },
      "execution_count": null,
      "outputs": []
    },
    {
      "cell_type": "markdown",
      "source": [
        "Can you think of a scenario in which constructive learning will be advantageous? How can you go about putting it into action ?"
      ],
      "metadata": {
        "id": "a3rA9ebLLcUP"
      }
    },
    {
      "cell_type": "code",
      "source": [
        "\"\"\"\n",
        "In Constructivist learning, the traditional classroom learning procedure is flipped. Instead of a teacher informing a child about a subject and constructing \n",
        "a meaning for them, in constructivist learning, children construct their own meanings. Now, this may not be the best approach for every learning environment, but it can be tremendously helpful at home.\n",
        "\"\"\""
      ],
      "metadata": {
        "id": "1FSPVldWLcUP"
      },
      "execution_count": null,
      "outputs": []
    },
    {
      "cell_type": "markdown",
      "source": [
        "How do you tell the difference between anomaly and novelty detection?"
      ],
      "metadata": {
        "id": "fcLHeMIeLcW-"
      }
    },
    {
      "cell_type": "code",
      "source": [
        "\"\"\"\n",
        "In \"novelty detection\", you have a data set that contains only good data, and you're trying to determine whether new observations fit within the existing data set. \n",
        "In \"outlier detection\", the data may contain outliers, which you want to identify.\n",
        "\"\"\""
      ],
      "metadata": {
        "id": "JddBFboLLcW_"
      },
      "execution_count": null,
      "outputs": []
    },
    {
      "cell_type": "markdown",
      "source": [
        "What is a Gaussian mixture, and how does it work? What are some of the things you can do about it?"
      ],
      "metadata": {
        "id": "-IAk83sCLcaV"
      }
    },
    {
      "cell_type": "code",
      "source": [
        "\"\"\"\n",
        "A Gaussian Mixture is a function that is comprised of several Gaussians, each identified by k ∈ {1,…, K}, where K is the number of clusters of our dataset. \n",
        "Each Gaussian k in the mixture is comprised of the following parameters: A mean μ that defines its centre. A covariance Σ that defines its width.\n",
        "\"\"\""
      ],
      "metadata": {
        "id": "LPSUHwhSLcaX"
      },
      "execution_count": null,
      "outputs": []
    },
    {
      "cell_type": "markdown",
      "source": [
        "When using a Gaussian mixture model, can you name two techniques for determining the correct number of clusters?"
      ],
      "metadata": {
        "id": "Vl3gpyDhLcdw"
      }
    },
    {
      "cell_type": "code",
      "source": [
        "\"\"\"\n",
        "An approach is to find the clusters using soft clustering methods and then see if they are gaussian. If they are then you can apply a GMM model which represents the whole dataset.\n",
        "\"\"\""
      ],
      "metadata": {
        "id": "7axTTKxDLcdx"
      },
      "execution_count": null,
      "outputs": []
    }
  ]
}