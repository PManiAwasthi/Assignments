{
  "nbformat": 4,
  "nbformat_minor": 0,
  "metadata": {
    "colab": {
      "provenance": []
    },
    "kernelspec": {
      "name": "python3",
      "display_name": "Python 3"
    },
    "language_info": {
      "name": "python"
    }
  },
  "cells": [
    {
      "cell_type": "markdown",
      "source": [
        "What are the key reasons for reducing the dimensionality of a dataset? What are the major disadvantages ?"
      ],
      "metadata": {
        "id": "CoTUDhfwKsyX"
      }
    },
    {
      "cell_type": "code",
      "source": [
        "\"\"\"\n",
        "Disadvantages of Dimensionality Reduction:\n",
        "\n",
        "It may lead to some amount of data loss.\n",
        "PCA tends to find linear correlations between variables, which is sometimes undesirable.\n",
        "PCA fails in cases where mean and covariance are not enough to define datasets.\n",
        "\"\"\""
      ],
      "metadata": {
        "id": "MZik30avKs30"
      },
      "execution_count": null,
      "outputs": []
    },
    {
      "cell_type": "markdown",
      "source": [
        "What is the dimensionality curse ?"
      ],
      "metadata": {
        "id": "QtY3_v4qKxpX"
      }
    },
    {
      "cell_type": "code",
      "source": [
        "\"\"\"\n",
        "The curse of dimensionality basically means that the error increases with the increase in the number of features. It refers to the fact that algorithms are harder to \n",
        "design in high dimensions and often have a running time exponential in the dimensions.\n",
        "\"\"\""
      ],
      "metadata": {
        "id": "g5Jvu8lrKxpX"
      },
      "execution_count": null,
      "outputs": []
    },
    {
      "cell_type": "markdown",
      "source": [
        "Tell if its possible to reverse the process of reducing the dimensionality of a dataset? If so, how can you go about doing it? If not, what is the reason ?"
      ],
      "metadata": {
        "id": "vGn8OFYnKxsp"
      }
    },
    {
      "cell_type": "code",
      "source": [
        "\"\"\"\n",
        "No, dimensionality reduction is not reversible in general.\n",
        "\"\"\""
      ],
      "metadata": {
        "id": "u1zCrbQeKxsq"
      },
      "execution_count": null,
      "outputs": []
    },
    {
      "cell_type": "markdown",
      "source": [
        "Can PCA be utilized to reduce the dimensionality of a nonlinear dataset with a lot of variables ?"
      ],
      "metadata": {
        "id": "IIgHdRBaKxvh"
      }
    },
    {
      "cell_type": "code",
      "source": [
        "\"\"\"\n",
        "Well it Depends on dataset. If it is comprised of points that are perfectly aligned, PCA can reduce the dataset down to 1 dimension and preserve 95% of the variance.\n",
        "\"\"\"\""
      ],
      "metadata": {
        "id": "55OGJ8bXKxvh"
      },
      "execution_count": null,
      "outputs": []
    },
    {
      "cell_type": "markdown",
      "source": [
        "Assume you're running PCA on a 1,000-dimensional dataset with a 95 percent explained variance ratio. What is the number of dimensions that the resulting dataset would have ?\n"
      ],
      "metadata": {
        "id": "xGwdS_o3Kxyc"
      }
    },
    {
      "cell_type": "code",
      "source": [
        "\"\"\"\n",
        "If I perform PCA on a 1,000-dimensional dataset, setting the explained variance ratio to 95%. In this case roughly 950 dimensions are required to preserve \n",
        "95% of the variance. So the answer is, it depends on the dataset, and it could be any number between 1 and 950.\n",
        "\"\"\""
      ],
      "metadata": {
        "id": "qAphpRvVKxye"
      },
      "execution_count": null,
      "outputs": []
    },
    {
      "cell_type": "markdown",
      "source": [
        "Will you use vanilla PCA, incremental PCA, randomized PCA, or kernel PCA in which situations ?"
      ],
      "metadata": {
        "id": "Ex4wTGmWKx1V"
      }
    },
    {
      "cell_type": "code",
      "source": [
        "\"\"\"\n",
        "The following are the scenarios where the following are used:\n",
        "\n",
        "Vanilla PCA: the dataset fit in memory\n",
        "Incremental PCA: larget dataset that don't fit in memory, online taks\n",
        "Randomized PCA: considerably reduce dimensionality and the dataset fit the memory.\n",
        "kernel PCA: used for nonlinear PCA\n",
        "\"\"\""
      ],
      "metadata": {
        "id": "m7B-pAc4Kx1W"
      },
      "execution_count": null,
      "outputs": []
    },
    {
      "cell_type": "markdown",
      "source": [
        "How do you assess a dimensionality reduction algorithm's success on your dataset ?"
      ],
      "metadata": {
        "id": "hZM5FiBEKx4B"
      }
    },
    {
      "cell_type": "code",
      "source": [
        "\"\"\"\n",
        "By doing PCA, it is a good choice for dimensionality reduction and visualization for datasets with a large number of variables.\n",
        "\"\"\""
      ],
      "metadata": {
        "id": "FvnUcJbmKx4C"
      },
      "execution_count": null,
      "outputs": []
    },
    {
      "cell_type": "markdown",
      "source": [
        "Is it logical to use two different dimensionality reduction algorithms in a chain ?\n"
      ],
      "metadata": {
        "id": "593Q3IW3KyQ_"
      }
    },
    {
      "cell_type": "code",
      "source": [
        "\"\"\"\n",
        "Indeed, it often make any sense to chain two different dimensionality reduction algorithms. A common example is using PCA to quickly get rid of a large number of \n",
        "useless dimensions, then applying another much slower dimensionality reduction algorithm, such as LLE.\n",
        "\"\"\""
      ],
      "metadata": {
        "id": "HSLRwHIBKyRA"
      },
      "execution_count": null,
      "outputs": []
    }
  ]
}