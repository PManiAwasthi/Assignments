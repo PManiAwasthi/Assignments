{
  "nbformat": 4,
  "nbformat_minor": 0,
  "metadata": {
    "colab": {
      "provenance": []
    },
    "kernelspec": {
      "name": "python3",
      "display_name": "Python 3"
    },
    "language_info": {
      "name": "python"
    }
  },
  "cells": [
    {
      "cell_type": "markdown",
      "source": [
        " What is the difference between supervised and unsupervised learning? Give some examples to illustrate your point ?"
      ],
      "metadata": {
        "id": "WB0v-iCwHmQX"
      }
    },
    {
      "cell_type": "code",
      "source": [
        "\"\"\"\n",
        "The difference is that in supervised and unsupervised learning is that in supervised learning the dataset already includes the expected result which the model takes\n",
        "in account while adjusting the model parameters to finally obtain the trained model, where as in unsupervised there is not such provision so the model needs to rely on \n",
        "other metrics such as similarity to some pattern out of the data and make model with that pattern.\n",
        "\n",
        "Ex: Lets say we want to predict the house price of a particular house with certain parameter using a ML model, this will come under supervised learning we will \n",
        "need to provided the model with the house prices of many houses with the same parameter but different values.\n",
        "Where as to find potential customer group who is likely to buy a house will come under unsupervised learning.\n",
        "\"\"\""
      ],
      "metadata": {
        "id": "CXhwtH5AHmWy"
      },
      "execution_count": null,
      "outputs": []
    },
    {
      "cell_type": "markdown",
      "source": [
        "Mention a few unsupervised learning applications ?"
      ],
      "metadata": {
        "id": "SuoVbx1_HoMw"
      }
    },
    {
      "cell_type": "code",
      "source": [
        "\"\"\"\n",
        "Customer segemntation, association rule learning, clustering, dimensionality reduction, anomaly detection.\n",
        "\"\"\""
      ],
      "metadata": {
        "id": "e1A0NDTqHoMx"
      },
      "execution_count": null,
      "outputs": []
    },
    {
      "cell_type": "markdown",
      "source": [
        "What are the three main types of clustering methods? Briefly describe the characteristics of each ?"
      ],
      "metadata": {
        "id": "kfWf3KoNHoPn"
      }
    },
    {
      "cell_type": "code",
      "source": [
        "\"\"\"\n",
        "Connectivity-based Clustering (Hierarchical clustering): Hierarchical Clustering is a method of unsupervised machine learning clustering where it begins with a pre-defined \n",
        "top to bottom hierarchy of clusters. It then proceeds to perform a decomposition of the data objects based on this hierarchy, hence obtaining the clusters. \n",
        "This method follows two approaches based on the direction of progress, i.e., whether it is the top-down or bottom-up flow of creating clusters.\n",
        "\n",
        "Centroids-based Clustering (Partitioning methods): Centroid based clustering is considered as one of the most simplest clustering algorithms, yet the most effective way \n",
        "of creating clusters and assigning data points to it. The intuition behind centroid based clustering is that a cluster is characterized and represented by a central vector \n",
        "and data points that are in close proximity to these vectors are assigned to the respective clusters.\n",
        "\n",
        "Density-based Clustering (Model-based methods): If one looks into the previous two methods that we discussed, one would observe that both hierarchical and centroid based \n",
        "algorithms are dependent on a distance (similarity/proximity) metric. The very definition of a cluster is based on this metric. Density-based clustering methods take density into consideration instead of distances. Clusters are considered as the densest region in a data space, which is separated by regions of lower object density and it is defined as a maximal-set of connected points.\n",
        "\n",
        "Distribution-based Clustering: Until now, the clustering techniques as we know are based around either proximity (similarity/distance) or composition (density). There is a \n",
        "family of clustering algorithms that take a totally different metric into consideration – probability. Distribution-based clustering creates and groups data points based on their likely hood of belonging to the same probability distribution (Gaussian, Binomial etc.) in the data.\n",
        "\n",
        "Fuzzy Clustering: The general idea about clustering revolves around assigning data points to mutually exclusive clusters, meaning, a data point always resides uniquely inside \n",
        "a cluster and it cannot belong to more than one cluster. Fuzzy clustering methods change this paradigm by assigning a data-point to multiple clusters with a quantified degree \n",
        "of belongingness metric. The data-points that are in proximity to the center of a cluster, may also belong in the cluster that is at a higher degree than points in the edge \n",
        "of a cluster. The possibility of which an element belongs to a given cluster is measured by membership coefficient that vary from 0 to 1.\n",
        "\"\"\""
      ],
      "metadata": {
        "id": "52qSROVtHoPn"
      },
      "execution_count": null,
      "outputs": []
    },
    {
      "cell_type": "markdown",
      "source": [
        "Explain how the k-means algorithm determines the consistency of clustering ?"
      ],
      "metadata": {
        "id": "IyLmOay9HoSO"
      }
    },
    {
      "cell_type": "code",
      "source": [
        "\"\"\"\n",
        "Calculate the Within-Cluster-Sum of Squared Errors (WSS) for different values of k, and choose the k for which WSS becomes first starts to diminish. \n",
        "In the plot of WSS-versus-k, this is visible as an elbow. Within-Cluster-Sum of Squared Errors sounds a bit complex.\n",
        "\"\"\""
      ],
      "metadata": {
        "id": "4DQMnrqjHoSP"
      },
      "execution_count": null,
      "outputs": []
    },
    {
      "cell_type": "markdown",
      "source": [
        "With a simple illustration, explain the key difference between the k-means and k-medoids algorithms ?"
      ],
      "metadata": {
        "id": "2bbcIFOmHoVB"
      }
    },
    {
      "cell_type": "code",
      "source": [
        "\"\"\"\n",
        "K-means attempts to minimize the total squared error, while k-medoids minimizes the sum of dissimilarities between points labeled to be in a cluster and a point \n",
        "designated as the center of that cluster. In contrast to the k -means algorithm, k -medoids chooses datapoints as centers ( medoids or exemplars).\n",
        "\"\"\""
      ],
      "metadata": {
        "id": "Kk3Db98gHoVC"
      },
      "execution_count": null,
      "outputs": []
    },
    {
      "cell_type": "markdown",
      "source": [
        "What is a dendrogram, and how does it work? Explain how to do it ?"
      ],
      "metadata": {
        "id": "mvbrK7DNHoX2"
      }
    },
    {
      "cell_type": "code",
      "source": [
        "\"\"\"\n",
        "A dendrogram is a diagram that shows the attribute distances between each pair of sequentially merged classes After each merging, the distances between all pairs \n",
        "of classes are updated. The distances at which the signatures of classes are merged are used to construct a dendrogram.\n",
        "\"\"\""
      ],
      "metadata": {
        "id": "dcrc6NFDHoX3"
      },
      "execution_count": null,
      "outputs": []
    },
    {
      "cell_type": "markdown",
      "source": [
        "What exactly is SSE? What role does it play in the k-means algorithm ?"
      ],
      "metadata": {
        "id": "L-mi0y9wHoan"
      }
    },
    {
      "cell_type": "code",
      "source": [
        "\"\"\"\n",
        "The regression line is the line made using the function we defined above. To get the SSE we calculate the distance for each of the data points from the regression line then \n",
        "square the it, then we add to the sum.\n",
        "\n",
        "The SSE is defined as the sum of the squared Euclidean distances of each point to its closest centroid. Since this is a measure of error, the objective of k-means is to try \n",
        "to minimize this value. The purpose of this figure is to show that the initialization of the centroids is an important step.\n",
        "\"\"\""
      ],
      "metadata": {
        "id": "XpEj1ehGHoao"
      },
      "execution_count": null,
      "outputs": []
    },
    {
      "cell_type": "markdown",
      "source": [
        "With a step-by-step algorithm, explain the k-means procedure ?\n"
      ],
      "metadata": {
        "id": "0VfYQkvwHodk"
      }
    },
    {
      "cell_type": "code",
      "source": [
        "\"\"\"\n",
        "k-means is one of the simplest unsupervised learning algorithms that solve the well known clustering problem. The procedure follows a simple and easy way to classify a given data set through a certain number of clusters (assume k clusters) fixed apriori. The main idea is to define k centers, one for each cluster.\n",
        "\n",
        "Step 1: Choose the number of clusters k.\n",
        "Step 2: Select k random points from the data as centroids.\n",
        "Step 3: Assign all the points to the closest cluster centroid.\n",
        "Step 4: Recompute the centroids of newly formed clusters.\n",
        "Step 5: Repeat steps 3 and 4.\n",
        "\"\"\""
      ],
      "metadata": {
        "id": "F74z_YthHodk"
      },
      "execution_count": null,
      "outputs": []
    },
    {
      "cell_type": "markdown",
      "source": [
        "In the sense of hierarchical clustering, define the terms single link and complete link ?"
      ],
      "metadata": {
        "id": "XxTsSfnNHogp"
      }
    },
    {
      "cell_type": "code",
      "source": [
        "\"\"\"\n",
        "In single-link (or single linkage) hierarchical clustering, we merge in each step the two clusters whose two closest members have the smallest distance.\n",
        "Complete-link clustering can also be described using the concept of clique.\n",
        "\"\"\""
      ],
      "metadata": {
        "id": "Iai-iCCaHogp"
      },
      "execution_count": null,
      "outputs": []
    },
    {
      "cell_type": "markdown",
      "source": [
        "How does the apriori concept aid in the reduction of measurement overhead in a business basket analysis? Give an example to demonstrate your point ?\n"
      ],
      "metadata": {
        "id": "CYimPm4ZHoj2"
      }
    },
    {
      "cell_type": "code",
      "source": [
        "\"\"\"\n",
        "Apriori algorithm assumes that any subset of a frequent itemset must be frequent. Its the algorithm behind Market Basket Analysis. So, according to the principle of Apriori, \n",
        "if {Grapes, Apple, Mango} is frequent, then {Grapes,Mango} must also be frequent. Here is a dataset consisting of six transactions.\"\n",
        "\"\"\""
      ],
      "metadata": {
        "id": "_d3B3e2jHoj2"
      },
      "execution_count": null,
      "outputs": []
    }
  ]
}