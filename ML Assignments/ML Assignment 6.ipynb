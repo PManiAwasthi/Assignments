{
  "nbformat": 4,
  "nbformat_minor": 0,
  "metadata": {
    "colab": {
      "provenance": []
    },
    "kernelspec": {
      "name": "python3",
      "display_name": "Python 3"
    },
    "language_info": {
      "name": "python"
    }
  },
  "cells": [
    {
      "cell_type": "markdown",
      "source": [
        "n the sense of machine learning, what is a model? What is the best way to train a model?"
      ],
      "metadata": {
        "id": "ulDqhhb8j5ck"
      }
    },
    {
      "cell_type": "code",
      "source": [
        "\"\"\"\n",
        "A Machine Learning Model is a file that has been trained to recognize certain types of patterns. You train a model over a set of data, providing it an \n",
        "algorithm that it can use to reason over and learn from those data.\n",
        "\n",
        "best way to train a model is:\n",
        "1. to analyze the task we need to solve so that we can select some possible set of algorithms to use for models.\n",
        "2. make the data as noise free(not completely free) as possible so that pattern can be identified well.\n",
        "3. use hyperparameter tuning\n",
        "4. use train, validation and test set and even cross validation methods.\n",
        "5. evaluated the all the different models obtained and select the best one.\n",
        "\"\"\""
      ],
      "metadata": {
        "id": "3YGTbJj1j5hO"
      },
      "execution_count": null,
      "outputs": []
    },
    {
      "cell_type": "markdown",
      "source": [
        "In the sense of machine learning, explain the \"No Free Lunch\" theorem."
      ],
      "metadata": {
        "id": "4QkgmJoTj6NV"
      }
    },
    {
      "cell_type": "code",
      "source": [
        "\"\"\"\n",
        "The No Free Lunch Theorem, often abbreviated as NFL or NFLT, is a theoretical finding that suggests all optimization algorithms perform equally well when \n",
        "their performance is averaged over all possible objective functions. In computational complexity and optimization the no free lunch theorem is a result that states \n",
        "that for certain types of mathematical problems, the computational cost of finding a solution, averaged over all problems in the class, is the same for any solution method.\n",
        "\n",
        "In Simple Words “No Free Lunch” theorem means we can’t rely on one model to be best of all models. We have to understand data properly and make use of ML \n",
        "understanding and make use of models to find best out of it.\n",
        "\"\"\""
      ],
      "metadata": {
        "id": "i3_B2Rnyj6NV"
      },
      "execution_count": null,
      "outputs": []
    },
    {
      "cell_type": "markdown",
      "source": [
        " Describe the K-fold cross-validation mechanism in detail."
      ],
      "metadata": {
        "id": "Vj9sNb78j6QL"
      }
    },
    {
      "cell_type": "code",
      "source": [
        "\"\"\"\n",
        " In K-fold cross validation, data D is subset into k subsets randomly. Let us assume S1...Sk are the subsets where Sk is the kth randomly split subset of data D. \n",
        " In the first iteration, D-S1 is used for training and S1 for testing the model. When the model has been trained and tested, evaluation can be done, score is noted \n",
        " elsewhere and the trained model is discarded.\n",
        "\n",
        "These k-iterations go on where 1/k subset of D is always set aside for testing the data and D-1/k subsets are used for training, evaluating and discarding the model. \n",
        "At the end of all the iterations, average of all the evaluation scores is taken and used as output.\n",
        "\"\"\""
      ],
      "metadata": {
        "id": "sbeCTregj6QM"
      },
      "execution_count": null,
      "outputs": []
    },
    {
      "cell_type": "markdown",
      "source": [
        "Describe the bootstrap sampling method. What is the aim of it?"
      ],
      "metadata": {
        "id": "kbNOKMJmj6Sl"
      }
    },
    {
      "cell_type": "code",
      "source": [
        "\"\"\"\n",
        "The bootstrap method is a statistical technique for estimating quantities about a population by averaging estimates from multiple small data samples.\n",
        "\n",
        "Importantly, samples are constructed by drawing observations from a large data sample one at a time and returning them to the data sample after they have been chosen. \n",
        "This allows a given observation to be included in a given small sample more than once. This approach to sampling is called sampling with replacement.\n",
        "\"\"\""
      ],
      "metadata": {
        "id": "BmWk4O0vj6Sm"
      },
      "execution_count": null,
      "outputs": []
    },
    {
      "cell_type": "markdown",
      "source": [
        "What is the significance of calculating the Kappa value for a classification model? Demonstrate how to measure the Kappa value of a classification model using a sample collection of results."
      ],
      "metadata": {
        "id": "qLarGporj6Vk"
      }
    },
    {
      "cell_type": "code",
      "source": [
        "\"\"\"\n",
        "Kappa value or Cohen's Kappa coefficient is an evaluation metric for classification models. Its significance as an evaluation metric is that it can be used to \n",
        "evaluate multi class classification models and also works on models trained on imbalanced datasets(scores like accuracy scores fail for imbalanced datasets).\n",
        "\n",
        "In simpler words It basically tells you how much better your classifier is performing over the performance of a classifier that simply guesses at random according \n",
        "to the frequency of each class. Cohen's kappa is always less than or equal to 1. Values of 0 or less, indicate that the classifier is useless Cohen suggested the \n",
        "Kappa result be interpreted as follows: values ≤ 0 as indicating no agreement and 0.01–0.20 as none to slight, 0.21–0.40 as fair, 0.41– 0.60 as moderate, 0.61–0.80 \n",
        "as substantial, and 0.81–1.00 as almost perfect agreement.\n",
        "\n",
        "\n",
        "\"\"\""
      ],
      "metadata": {
        "id": "yBogxI-Lj6Vl"
      },
      "execution_count": null,
      "outputs": []
    },
    {
      "cell_type": "markdown",
      "source": [
        "Describe the model ensemble method. In machine learning, what part does it play?"
      ],
      "metadata": {
        "id": "3nVLNrqxj6Yv"
      }
    },
    {
      "cell_type": "code",
      "source": [
        "\"\"\"\n",
        "Ensemble methods or ensemble machine learning models are models where more than one models are being used spontaneously to produce better results than individually trained models.\n",
        "\"\"\""
      ],
      "metadata": {
        "id": "hmfi57aMj6Yv"
      },
      "execution_count": null,
      "outputs": []
    },
    {
      "cell_type": "markdown",
      "source": [
        "What is a descriptive model's main purpose? Give examples of real-world problems that descriptive models were used to solve."
      ],
      "metadata": {
        "id": "K_MKF-zJj6bz"
      }
    },
    {
      "cell_type": "code",
      "source": [
        "\"\"\"\n",
        "A descriptive model is used for tasks that would benefit from the insight gained from summarizing data in new and interesting ways. As opposed to predictive \n",
        "models that predict a target of interest, in a descriptive model, no single feature is more important than any other. In fact, because there is no target to learn, \n",
        "the process of training a descriptive model is called unsupervised learning.\n",
        "\n",
        "It is used in customer classification as real life problem .\n",
        "\"\"\""
      ],
      "metadata": {
        "id": "t7wLXDfBj6bz"
      },
      "execution_count": null,
      "outputs": []
    },
    {
      "cell_type": "markdown",
      "source": [
        "Describe how to evaluate a linear regression model."
      ],
      "metadata": {
        "id": "-sbapx56j6em"
      }
    },
    {
      "cell_type": "code",
      "source": [
        "\"\"\"\n",
        "Evaluation of a linear regression model can be done using R-square. R square is calculated as the sum of squared errors in predictions made, divided by \n",
        "summation of all sum of squares. R square measures how much of the change in target variable can be explained by the linear regressor. Its value ranges from 0 \n",
        "to 1 where 0 means poor performance and 1 means good. Some other techniques which can be used to evaluate a linear regression model are:\n",
        "\n",
        "Mean Square Error(MSE)/Root Mean Square Error(RMSE)\n",
        "Mean Absolute Error(MAE)\n",
        "\"\"\""
      ],
      "metadata": {
        "id": "5ZUoCC-kj6em"
      },
      "execution_count": null,
      "outputs": []
    },
    {
      "cell_type": "markdown",
      "source": [
        "Distinguish :<br><br>\n",
        "Descriptive vs. predictive models<br>\n",
        "Underfitting vs. overfitting the model<br>\n",
        "Bootstrapping vs. cross-validation"
      ],
      "metadata": {
        "id": "BRa8d2Kqj6hl"
      }
    },
    {
      "cell_type": "code",
      "source": [
        "\"\"\"\n",
        "Descriptive vs. predictive models\n",
        "\n",
        "-Descriptive models are built to identify trends and underlying patterns.\n",
        "-Predictive models are built to predict a dependent variable value.\n",
        "-Most of descriptive models are built using unsupervised machine learning.\n",
        "-Most of predictive models are built using classification and regression models.\n",
        "-Example for descriptive model: Finding why consumers are engaging more with a social media post.\n",
        "-Example for predictive model: Predicting the chances of cancer in a patient.\n",
        "\n",
        "\n",
        "Underfitting vs. overfitting the model\n",
        "\n",
        "-Underfitting is a situation arising when the hypothesis is way too simple, or when the machine learning model is way too simple to produce good results.\n",
        "-Overfitting is a situation arising when the hypothesis is way too complex, or when the machine learning model is way too complex to produce good results.\n",
        "-Underfitting causes a model to produce poor results due to heavily simplified algorithm reacting lightly to changes in the unseen data for independent variables from the training data.\n",
        "-Overfitting makes a model produce poor results due to slightest variations in the unseen data for independent variables from the training data\n",
        "-Underfitting is also called High Bias.\n",
        "-Overfitting is also called High variance\n",
        "\n",
        "\n",
        "Bootstrapping vs cross-validation\n",
        "\n",
        "-Boostrap sampling is a method of sampling in which the repeated sampling is done with replacement using a data D in random draws over which machine learning models are \n",
        "trained for better performance.\n",
        "-Cross validation is a method used to check the efficacy of the machine learning model on test data.\n",
        "-End goal of bootstrapping is to reduce overfitting and increase performance.\n",
        "-End goal of cross validation is only to produce test scores to check efficacy of model\n",
        "-Bootstrapping is best employed in Random Forest Classifier.\n",
        "-Cross Validation is best employed using K-fold cross validation technique.\n",
        "\"\"\""
      ],
      "metadata": {
        "id": "KVk9ibZJj6hl"
      },
      "execution_count": null,
      "outputs": []
    },
    {
      "cell_type": "markdown",
      "source": [
        "Make quick notes on:<br><br>\n",
        "LOOCV.<br>\n",
        "F-measurement<br>\n",
        "The width of the silhouette<br>\n",
        "Receiver operating characteristic curve"
      ],
      "metadata": {
        "id": "liz9r2WKj6lE"
      }
    },
    {
      "cell_type": "code",
      "source": [
        "\"\"\"\n",
        "The Quick notes on: LOOCV or Leave One Out Cross Validation is a form of K-fold cross validation where only one observation is left out for validation purpose while \n",
        "the rest of the data is used for model training each iteration. It is computationally taxing and should only be used for data with low dimensionality.\n",
        "\n",
        "Harmonic mean of Precision score and recall score is called F-measurement or F-score. It is formulated as 2 (pr re)/pr +re where pr is precision score and re is recall score.\n",
        "\n",
        "Estimate of average inter cluster distance to give efficacy/performance of cluster algorithms is called width of the silhouette. It can also be defined as how \n",
        "identical/similar a data point 'x' is to the data points inside the cluster to which x is assigned. Its value ranges from -1 to 1 where 1 means good and -1 means bad.\n",
        "\n",
        "Curve plotted between True Positive Rate and False Positive Rate is Receiver Operating Characteristics curve and is used to find the area under the curve for ROC-AUC \n",
        "score for binary classification evaluation. True Positive Rate and False Positive Rate are calculated for different thresholds values where thresholds take values starting \n",
        "from the highest probability scores assigned to data points and goes up to the lowest probability score. The curve is impacted by presence of outliers, and simple models. \n",
        "Extensions can be made to this curve to suit multiclass classification evaluation requirements.\n",
        "\"\"\""
      ],
      "metadata": {
        "id": "KufTjBmIj6lF"
      },
      "execution_count": null,
      "outputs": []
    }
  ]
}