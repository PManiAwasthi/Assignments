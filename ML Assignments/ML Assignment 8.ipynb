{
  "nbformat": 4,
  "nbformat_minor": 0,
  "metadata": {
    "colab": {
      "provenance": []
    },
    "kernelspec": {
      "name": "python3",
      "display_name": "Python 3"
    },
    "language_info": {
      "name": "python"
    }
  },
  "cells": [
    {
      "cell_type": "markdown",
      "source": [
        "What exactly is a feature? Give an example to illustrate your point ?"
      ],
      "metadata": {
        "id": "GZiCAJL8m32p"
      }
    },
    {
      "cell_type": "code",
      "source": [
        "\"\"\"\n",
        "Features are the basic building blocks of datasets. The quality of the features in your dataset has a major impact on the quality of the insights you will gain when you use \n",
        "that dataset for machine learning.\n",
        "\n",
        "Additionally, different business problems within the same industry do not necessarily require the same features, which is why it is important to have a strong understanding of \n",
        "the business goals of your data science project.\n",
        "\"\"\""
      ],
      "metadata": {
        "id": "At7d30kkm36H"
      },
      "execution_count": null,
      "outputs": []
    },
    {
      "cell_type": "markdown",
      "source": [
        "What are the various circumstances in which feature construction is required ?"
      ],
      "metadata": {
        "id": "WEeqiiAEm4to"
      }
    },
    {
      "cell_type": "code",
      "source": [
        "\"\"\"\n",
        "The features in your data will directly influence the predictive models you use and the results you can achieve. Your results are dependent on many inter-dependent properties. \n",
        "You need great features that describe the structures inherent in your data. Better features means flexibility.\n",
        "\"\"\""
      ],
      "metadata": {
        "id": "m-GBQypfm4to"
      },
      "execution_count": null,
      "outputs": []
    },
    {
      "cell_type": "markdown",
      "source": [
        "Describe how nominal variables are encoded ?"
      ],
      "metadata": {
        "id": "DoKSur_Qm4xS"
      }
    },
    {
      "cell_type": "code",
      "source": [
        "\"\"\"\n",
        "Nominal data is made of discrete values with no numerical relationship between the different categories — mean and median are meaningless. Animal species is one example. \n",
        "For example, pig is not higher than bird and lower than fish.\n",
        "\"\"\""
      ],
      "metadata": {
        "id": "8AJu1j6km4xT"
      },
      "execution_count": null,
      "outputs": []
    },
    {
      "cell_type": "markdown",
      "source": [
        "Describe how numeric features are converted to categorical features ?"
      ],
      "metadata": {
        "id": "d7S5N4L0m40w"
      }
    },
    {
      "cell_type": "code",
      "source": [
        "\"\"\"\n",
        "One of the most used ways is by defining a range using domain knowledge is used for this type of conversion.\n",
        "\"\"\""
      ],
      "metadata": {
        "id": "0lirp_UTm40x"
      },
      "execution_count": null,
      "outputs": []
    },
    {
      "cell_type": "markdown",
      "source": [
        "Describe the feature selection wrapper approach. State the advantages and disadvantages of this approach ?"
      ],
      "metadata": {
        "id": "NgfB2Vigm44E"
      }
    },
    {
      "cell_type": "code",
      "source": [
        "\"\"\"\n",
        "rapper methods measure the “usefulness” of features based on the classifier performance. In contrast, the filter methods pick up the intrinsic properties of the \n",
        "features (i.e., the “relevance” of the features) measured via univariate statistics instead of cross-validation performance.\n",
        "\n",
        "The wrapper classification algorithms with joint dimensionality reduction and classification can also be used but these methods have high computation cost, lower \n",
        "discriminative power. Moreover, these methods depend on the efficient selection of classifiers for obtaining high accuracy\n",
        "\"\"\""
      ],
      "metadata": {
        "id": "Ztz3O5Jfm44E"
      },
      "execution_count": null,
      "outputs": []
    },
    {
      "cell_type": "markdown",
      "source": [
        "When is a feature considered irrelevant? What can be said to quantify it ?"
      ],
      "metadata": {
        "id": "-jWAQ_jQm47j"
      }
    },
    {
      "cell_type": "code",
      "source": [
        "\"\"\"\n",
        "Features are considered relevant if they are either strongly or weakly relevant, and are considered irrelevant otherwise.\n",
        "\n",
        "Irrelevant features can never contribute to prediction accuracy, by definition. Also to quantify it we need to first check the list of features, There are three types of feature selection:\n",
        "\n",
        "-Wrapper methods (forward, backward, and stepwise selection)\n",
        "-Filter methods (ANOVA, Pearson correlation, variance thresholding)\n",
        "-Embedded methods (Lasso, Ridge, Decision Tree).\n",
        "\"\"\""
      ],
      "metadata": {
        "id": "Qf_aQbklm47k"
      },
      "execution_count": null,
      "outputs": []
    },
    {
      "cell_type": "markdown",
      "source": [
        "When is a function considered redundant? What criteria are used to identify features that could be redundant ?"
      ],
      "metadata": {
        "id": "JdGle_zim4_L"
      }
    },
    {
      "cell_type": "code",
      "source": [
        "\"\"\"\n",
        "If two features {X1, X2} are highly correlated, then the two features become redundant features since they have same information in terms of correlation measure. \n",
        "In other words, the correlation measure provides statistical association between any given a pair of features.\n",
        "\n",
        "Minimum redundancy feature selection is an algorithm frequently used in a method to accurately identify characteristics of genes and phenotypes\n",
        "\"\"\""
      ],
      "metadata": {
        "id": "qk3eoRdEm4_M"
      },
      "execution_count": null,
      "outputs": []
    },
    {
      "cell_type": "markdown",
      "source": [
        "What are the various distance measurements used to determine feature similarity ?"
      ],
      "metadata": {
        "id": "l00ikJ1wm5Cu"
      }
    },
    {
      "cell_type": "code",
      "source": [
        "\"\"\"\n",
        "Four of the most commonly used distance measures in machine learning are as follows:\n",
        "\n",
        "Hamming Distance.\n",
        "Euclidean Distance\n",
        "Manhattan Distance.\n",
        "Minkowski Distance\n",
        "\"\"\""
      ],
      "metadata": {
        "id": "diCzBLiOm5Cv"
      },
      "execution_count": null,
      "outputs": []
    },
    {
      "cell_type": "markdown",
      "source": [
        " State difference between Euclidean and Manhattan distances ?"
      ],
      "metadata": {
        "id": "vMtSWHJRm5GU"
      }
    },
    {
      "cell_type": "code",
      "source": [
        "\"\"\"\n",
        "Euclidean & Hamming distances are used to measure similarity or dissimilarity between two sequences. Euclidean distance is extensively applied in analysis of \n",
        "convolutional codes and Trellis codes.\n",
        "\n",
        "Hamming distance is frequently encountered in the analysis of block codes.\n",
        "\"\"\""
      ],
      "metadata": {
        "id": "eyB4-_xkm5GU"
      },
      "execution_count": null,
      "outputs": []
    },
    {
      "cell_type": "markdown",
      "source": [
        "Distinguish between feature transformation and feature selection ?"
      ],
      "metadata": {
        "id": "t3ViXGoym5J3"
      }
    },
    {
      "cell_type": "code",
      "source": [
        "\"\"\"\n",
        "Feature selection is for filtering irrelevant or redundant features from your dataset. The key difference between feature selection and extraction is that feature \n",
        "selection keeps a subset of the original features while feature extraction creates brand new ones.\n",
        "\"\"\""
      ],
      "metadata": {
        "id": "XxFQ3zI5m5J3"
      },
      "execution_count": null,
      "outputs": []
    }
  ]
}