{
  "nbformat": 4,
  "nbformat_minor": 0,
  "metadata": {
    "colab": {
      "provenance": []
    },
    "kernelspec": {
      "name": "python3",
      "display_name": "Python 3"
    },
    "language_info": {
      "name": "python"
    }
  },
  "cells": [
    {
      "cell_type": "markdown",
      "source": [
        "What is the definition of a target function ? In the sense of a real-life example, express the target function. How is a target function's fitness assessed ?"
      ],
      "metadata": {
        "id": "gvqm96WSljGX"
      }
    },
    {
      "cell_type": "code",
      "source": [
        "\"\"\"\n",
        "A target function, in machine learning, is a method for solving a problem that an AI algorithm parses its training data to find.The target function is essentially \n",
        "the formula that an algorithm feeds data to in order to calculate predictions.\n",
        "\n",
        "Analyzing the massive amounts of data related to its given problem, an AI derives understanding of previously unspecified rules by detecting consistencies in the data. \n",
        "The observations of inherent rules about how the studied subject operates inform the AI on how to process future data that does not include an output by applying this \n",
        "previously unknown function.\n",
        "\"\"\""
      ],
      "metadata": {
        "id": "5b8K1N08ljLU"
      },
      "execution_count": null,
      "outputs": []
    },
    {
      "cell_type": "markdown",
      "source": [
        "What are predictive models, and how do they work? What are descriptive types, and how do you use them? Examples of both types of models should be provided. Distinguish between these two forms of models ?"
      ],
      "metadata": {
        "id": "GOyNYuJAlnxv"
      }
    },
    {
      "cell_type": "code",
      "source": [
        "\"\"\"\n",
        "In short, predictive modeling is a statistical technique using machine learning and data mining to predict and forecast likely future outcomes with the aid of historical \n",
        "and existing data.\n",
        "\n",
        "It works by analyzing current and historical data and projecting what it learns on a model generated to forecast likely outcomes.\n",
        "\n",
        "The three main types of descriptive studies are Case studies, Naturalistic observation, and Surveys.\n",
        "\n",
        "Some examples of descriptive research are: A specialty food group launching a new range of barbecue rubs would like to understand what flavors of rubs are favored \n",
        "by different people.\n",
        "\n",
        "Case Studies are a type of observational research that involve a thorough descriptive analysis of a single individual, group, or event. There is no single way to conduct \n",
        "a case study so researchers use a range of methods from unstructured interviewing to direct observation.\n",
        "\"\"\""
      ],
      "metadata": {
        "id": "MtnnPDjslnxw"
      },
      "execution_count": null,
      "outputs": []
    },
    {
      "cell_type": "markdown",
      "source": [
        "Describe the method of assessing a classification model's efficiency in detail. Describe the various measurement parameters ?"
      ],
      "metadata": {
        "id": "kro40JdSln0s"
      }
    },
    {
      "cell_type": "code",
      "source": [
        "\"\"\"\n",
        "Logarithmic loss (or log loss) measures the performance of a classification model where the prediction is a probability value between 0 and 1.\n",
        "\n",
        "Log loss increases as the predicted probability diverge from the actual label. Log loss is a widely used metric for Kaggle competitions. Input on the most important \n",
        "basics for the measurement of the physical parameters: Temperature, flow velocity, humidity, pressure, CO2 and infrared. Tips on correct measurement and for avoiding \n",
        "measurement errors.\n",
        "\"\"\""
      ],
      "metadata": {
        "id": "l4mD-q79ln0s"
      },
      "execution_count": null,
      "outputs": []
    },
    {
      "cell_type": "markdown",
      "source": [
        "Describe :<br><br>\n",
        "In the sense of machine learning models, what is underfitting? What is the most common reason for underfitting ?<br>\n",
        "What does it mean to overfit? When is it going to happen?<br>\n",
        "In the sense of model fitting, explain the bias-variance trade-off."
      ],
      "metadata": {
        "id": "p2bQbyv0ln3Q"
      }
    },
    {
      "cell_type": "code",
      "source": [
        "\"\"\"\n",
        "Q In the sense of machine learning models, what is underfitting? What is the most common reason for underfitting:\n",
        "\n",
        "Underfitting is a scenario in data science where a data model is unable to capture the relationship between the input and output variables accurately, \n",
        "generating a high error rate on both the training set and unseen data.\n",
        "\n",
        "Q What does it mean to overfit? When is it going to happen\n",
        "\n",
        "Overfitting happens when a model learns the detail and noise in the training data to the extent that it negatively impacts the performance of the model on new data. \n",
        "This means that the noise or random fluctuations in the training data is picked up and learned as concepts by the model.\n",
        "\n",
        "Q In the sense of model fitting, explain the bias-variance trade-off\n",
        "\n",
        "The bias is known as the difference between the prediction of the values by the ML model and the correct value. Being high in biasing gives a large error in training \n",
        "as well as testing data. By high bias, the data predicted is in a straight line format, thus not fitting accurately in the data in the data set.\n",
        "\"\"\""
      ],
      "metadata": {
        "id": "47qosl8Xln3Q"
      },
      "execution_count": null,
      "outputs": []
    },
    {
      "cell_type": "markdown",
      "source": [
        "Is it possible to boost the efficiency of a learning model? If so, please clarify how ?"
      ],
      "metadata": {
        "id": "_4Xptcikln5y"
      }
    },
    {
      "cell_type": "code",
      "source": [
        "\"\"\"\n",
        "Building a machine learning model is not enough to get the right predictions, as you have to check the accuracy and need to validate the same to ensure get \n",
        "the precise results. And validating the model will improve the performance of the ML model.\n",
        "\"\"\""
      ],
      "metadata": {
        "id": "zsBug4_Aln5z"
      },
      "execution_count": null,
      "outputs": []
    },
    {
      "cell_type": "markdown",
      "source": [
        "How would you rate an unsupervised learning model's success? What are the most common success indicators for an unsupervised learning model ?"
      ],
      "metadata": {
        "id": "IfkOaUheln86"
      }
    },
    {
      "cell_type": "code",
      "source": [
        "\"\"\"\n",
        "In case of supervised learning, it is mostly done by measuring the performance metrics such as accuracy, precision, recall, AUC, etc. on the training set and the holdout sets.\n",
        "\n",
        "Few examples of such measures are:\n",
        "\n",
        "Silhouette coefficient.\n",
        "Calisnki-Harabasz coefficient.\n",
        "Dunn index.\n",
        "\"\"\""
      ],
      "metadata": {
        "id": "fJTr0Ep1ln8_"
      },
      "execution_count": null,
      "outputs": []
    },
    {
      "cell_type": "markdown",
      "source": [
        "Is it possible to use a classification model for numerical data or a regression model for categorical data with a classification model? Explain your answer ?"
      ],
      "metadata": {
        "id": "67vDMDmWln_x"
      }
    },
    {
      "cell_type": "code",
      "source": [
        "\"\"\"\n",
        "Categorical Data is the data that generally takes a limited number of possible values. Also, the data in the category need not be numerical, it can be textual \n",
        "in nature. All machine learning models are some kind of mathematical model that need numbers to work with. This is one of the primary reasons we need to pre-process \n",
        "the categorical data before we can feed it to machine learning models.\n",
        "\n",
        "If a categorical target variable needs to be encoded for a classification predictive modeling problem, then the LabelEncoder class can be used.\n",
        "\"\"\""
      ],
      "metadata": {
        "id": "CbOYvoc9ln_z"
      },
      "execution_count": null,
      "outputs": []
    },
    {
      "cell_type": "markdown",
      "source": [
        "Describe the predictive modeling method for numerical values. What distinguishes it from categorical predictive modeling ?"
      ],
      "metadata": {
        "id": "VlS1DRnyloCk"
      }
    },
    {
      "cell_type": "code",
      "source": [
        "\"\"\"\n",
        "predictive modeling is a statistical technique using machine learning and data mining to predict and forecast likely future outcomes with the aid of historical and \n",
        "existing data. It works by analyzing current and historical data and projecting what it learns on a model generated to forecast likely outcomes.\n",
        "\n",
        "Classification is the process of identifying the category or class label of the new observation to which it belongs.Predication is the process of identifying the missing \n",
        "or unavailable numerical data for a new observation. That is the key difference between classification and prediction.\n",
        "\"\"\""
      ],
      "metadata": {
        "id": "X9cbtGkKloCk"
      },
      "execution_count": null,
      "outputs": []
    },
    {
      "cell_type": "markdown",
      "source": [
        "Make quick notes on:<br><br>\n",
        "The process of holding out<br>\n",
        "Cross-validation by tenfold<br>\n",
        "Adjusting the parameters"
      ],
      "metadata": {
        "id": "-yVcT8GtloFU"
      }
    },
    {
      "cell_type": "code",
      "source": [
        "\"\"\"\n",
        "The process of holding out:\n",
        "The hold-out method for training machine learning model is the process of splitting the data in different splits and using one split for training the model and \n",
        "other splits for validating and testing the models. The hold-out method is used for both model evaluation and model selection.\n",
        "\n",
        "Cross-validation by tenfold:\n",
        "10-fold cross validation would perform the fitting procedure a total of ten times, with each fit being performed on a training set consisting of 90% of the total \n",
        "training set selected at random, with the remaining 10% used as a hold out set for validation.\n",
        "\n",
        "Adjusting the parameters:\n",
        "A fancy name for training: the selection of parameter values, which are optimal in some desired sense (eg. minimize an objective function you choose over a dataset you choose). \n",
        "The parameters are the weights and biases of the network\n",
        "\"\"\""
      ],
      "metadata": {
        "id": "AzAYM0NeloFV"
      },
      "execution_count": null,
      "outputs": []
    },
    {
      "cell_type": "markdown",
      "source": [
        "Define the following terms:<br><br>\n",
        "Purity vs. Silhouette width<br>\n",
        "Boosting vs. Bagging<br>\n",
        "The eager learner vs. the lazy learner\n"
      ],
      "metadata": {
        "id": "X7_MbiW6loIH"
      }
    },
    {
      "cell_type": "code",
      "source": [
        "\"\"\"\n",
        "Purity vs Silhouette width:\n",
        "\n",
        "-Purity is a measure of the extent to which clusters contain a single class. Its calculation can be thought of as follows: For each cluster, count the number of data points \n",
        "from the most common class in said cluster.\n",
        "-The silhouette width is also an estimate of the average distance between clusters. Its value is comprised between 1 and -1 with a value of 1 indicating a very good cluster.\n",
        "\n",
        "\n",
        "Boosting vs. Bagging:\n",
        "\n",
        "-Bagging is a way to decrease the variance in the prediction by generating additional data for training from dataset using combinations with repetitions to produce \n",
        "multi-sets of the original data.\n",
        "-Boosting is an iterative technique which adjusts the weight of an observation based on the last classification.\n",
        "\n",
        "\n",
        "The eager learner vs. the lazy learner:\n",
        "\n",
        "-A lazy learner delays abstracting from the data until it is asked to make a prediction.\n",
        "-while an eager learner abstracts away from the data during training and uses this abstraction to make predictions rather than directly compare queries with \n",
        "instances in the dataset.\n",
        "\"\"\""
      ],
      "metadata": {
        "id": "UFA7bcvoloII"
      },
      "execution_count": null,
      "outputs": []
    }
  ]
}