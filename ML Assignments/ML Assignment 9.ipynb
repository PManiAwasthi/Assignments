{
  "nbformat": 4,
  "nbformat_minor": 0,
  "metadata": {
    "colab": {
      "provenance": []
    },
    "kernelspec": {
      "name": "python3",
      "display_name": "Python 3"
    },
    "language_info": {
      "name": "python"
    }
  },
  "cells": [
    {
      "cell_type": "markdown",
      "source": [
        "What is feature engineering, and how does it work? Explain the various aspects of feature engineering in depth."
      ],
      "metadata": {
        "id": "4NDuKaeSoFn2"
      }
    },
    {
      "cell_type": "code",
      "source": [
        "\"\"\"\n",
        "Feature engineering is the process of selecting, manipulating, and transforming raw data into features that can be used in supervised learning. In order to \n",
        "make machine learning work well on new tasks, it might be necessary to design and train better features.\n",
        "\n",
        "Feature engineering in ML consists of four main steps: Feature Creation, Transformations, Feature Extraction, and Feature Selection. Feature engineering consists \n",
        "of creation, transformation, extraction, and selection of features, also known as variables, that are most conducive to creating an accurate ML algorithm.\n",
        "\"\"\""
      ],
      "metadata": {
        "id": "HZdpVVLSoFrs"
      },
      "execution_count": null,
      "outputs": []
    },
    {
      "cell_type": "markdown",
      "source": [
        "What is feature selection, and how does it work? What is the aim of it? What are the various methods of function selection?"
      ],
      "metadata": {
        "id": "YcIurTkKoGY4"
      }
    },
    {
      "cell_type": "code",
      "source": [
        "\"\"\"\n",
        "Feature Selection is the process where you automatically or manually select those features which contribute most to your prediction variable or output in which \n",
        "you are interested in. Having irrelevant features in your data can decrease the accuracy of the models and make your model learn based on irrelevant features.\n",
        "\n",
        "There are three types of feature selection:\n",
        "\n",
        "Wrapper methods (forward, backward, and stepwise selection)\n",
        "Filter methods (ANOVA, Pearson correlation, variance thresholding)\n",
        "Embedded methods (Lasso, Ridge, Decision Tree).\n",
        "\"\"\""
      ],
      "metadata": {
        "id": "sbe05MdeoGY4"
      },
      "execution_count": null,
      "outputs": []
    },
    {
      "cell_type": "markdown",
      "source": [
        "Describe the function selection filter and wrapper approaches. State the pros and cons of each approach?"
      ],
      "metadata": {
        "id": "RriH9U7doGbj"
      }
    },
    {
      "cell_type": "code",
      "source": [
        "\"\"\"\n",
        "The main differences between the filter and wrapper methods for feature selection are: Filter methods measure the relevance of features by their correlation with \n",
        "dependent variable while wrapper methods measure the usefulness of a subset of feature by actually training a model on it.\n",
        "\n",
        "The filter method has the fastest running time; however, it does not consider feature dependencies and tends to each feature separately when univariate techniques are used. \n",
        "The wrapper method has the advantages of better generalization and robust interaction with the classifier used for feature selection\n",
        "\"\"\""
      ],
      "metadata": {
        "id": "QUv_nA2UoGbj"
      },
      "execution_count": null,
      "outputs": []
    },
    {
      "cell_type": "markdown",
      "source": [
        "Please Answer the following Questions :<br><br>\n",
        "Describe the overall feature selection process.<br>\n",
        "Explain the key underlying principle of feature extraction using an example. <br>What are the most widely used function extraction algorithms?"
      ],
      "metadata": {
        "id": "yBl9_5o1oGeX"
      }
    },
    {
      "cell_type": "code",
      "source": [
        "\"\"\"\n",
        "Feature selection is the process of reducing the number of input variables when developing a predictive model. It is desirable to reduce the number of input variables \n",
        "to both reduce the computational cost of modeling and, in some cases, to improve the performance of the model.\n",
        "\"\"\""
      ],
      "metadata": {
        "id": "qgM36lWRoGeX"
      },
      "execution_count": null,
      "outputs": []
    },
    {
      "cell_type": "markdown",
      "source": [
        "Describe the feature engineering process in the sense of a text categorization issue."
      ],
      "metadata": {
        "id": "1o6q7RrRoGhJ"
      }
    },
    {
      "cell_type": "code",
      "source": [
        "\"\"\"\n",
        "Text classification is the problem of assigning categories to text data according to its content. The most important part of text classification is \n",
        "feature engineering: the process of creating features for a machine learning model from raw text data.\n",
        "\"\"\""
      ],
      "metadata": {
        "id": "F38CLfZ1oGhJ"
      },
      "execution_count": 6,
      "outputs": []
    },
    {
      "cell_type": "markdown",
      "source": [
        " What makes cosine similarity a good metric for text categorization? A document-term matrix has two rows with values of (2, 3, 2, 0, 2, 3, 3, 0, 1) and (2, 1, 0, 0, 3, 2, 1, 3, 1). Find the resemblance in cosine."
      ],
      "metadata": {
        "id": "CCC5OhbXoGkA"
      }
    },
    {
      "cell_type": "code",
      "source": [
        "\"\"\"\n",
        "Cosine similarity is a metric used to measure how similar the documents are irrespective of their size. The cosine similarity is advantageous because even if \n",
        "the two similar documents are far apart by the Euclidean distance (due to the size of the document), chances are they may still be oriented closer together.\n",
        "\n",
        "Cosine similarity is the cosine of the angle between two n-dimensional vectors in an n-dimensional space. It is the dot product of the two vectors divided by the \n",
        "product of the two vectors' lengths (or magnitudes).\n",
        "\"\"\""
      ],
      "metadata": {
        "id": "pfGd3y99oGkA"
      },
      "execution_count": 6,
      "outputs": []
    },
    {
      "cell_type": "markdown",
      "source": [
        "Explain the following:<br><br>\n",
        "What is the formula for calculating Hamming distance? Between 10001011 and 11001111, calculate the Hamming gap.<br>\n",
        "Compare the Jaccard index and similarity matching coefficient of two features with values (1,1,0,0,1,0,1,1) and (1,1,0,0, 0,1,1,1), respectively (1,0,0,1,1,0,0,1)."
      ],
      "metadata": {
        "id": "dwZv0CiHoGm8"
      }
    },
    {
      "cell_type": "code",
      "source": [
        "\"\"\"\n",
        "Thus the Hamming distance between two vectors is the number of bits we must change to change one into the other. Example Find the distance between the vectors \n",
        "01101010 and 11011011. They differ in four places, so the Hamming distance d(01101010,11011011) = 4.\n",
        "\"\"\""
      ],
      "metadata": {
        "id": "r7KrF69soGm8"
      },
      "execution_count": null,
      "outputs": []
    },
    {
      "cell_type": "markdown",
      "source": [
        "State what is meant by \"high-dimensional data set\"? Could you offer a few real-life examples? What are the difficulties in using machine learning techniques on a data set with many dimensions? What can be done about it?"
      ],
      "metadata": {
        "id": "p65P-4Y8oGps"
      }
    },
    {
      "cell_type": "code",
      "source": [
        "\"\"\"\n",
        "High dimension is when variable numbers p is higher than the sample sizes n i.e. p>n, cases. High dimensional data is referred to a data of n samples with \n",
        "p features, where p is larger than n.\n",
        "\n",
        "For example, tomographic imaging data, ECG data, and MEG data. One example of high dimensional data is microarray gene expression data.\n",
        "\"\"\""
      ],
      "metadata": {
        "id": "yJYNHioioGpu"
      },
      "execution_count": null,
      "outputs": []
    },
    {
      "cell_type": "markdown",
      "source": [
        " Make a few quick notes on:<br><br>\n",
        "PCA is an acronym for Personal Computer Analysis.<br>\n",
        "Use of vectors<br>\n",
        "Embedded technique"
      ],
      "metadata": {
        "id": "82rRIIZ1oGs8"
      }
    },
    {
      "cell_type": "code",
      "source": [
        "\"\"\"\n",
        "The Principal component analysis (PCA) is a technique used for identification of a smaller number of uncorrelated variables known as principal components from a larger \n",
        "set of data. The technique is widely used to emphasize variation and capture strong patterns in a data set.\n",
        "\n",
        "Vectors can be used to represent physical quantities. Most commonly in physics, vectors are used to represent displacement, velocity, and acceleration. Vectors are a \n",
        "combination of magnitude and direction, and are drawn as arrows\n",
        "\n",
        "In the context of machine learning, an embedding is a low-dimensional, learned continuous vector representation of discrete variables into which you can translate \n",
        "high-dimensional vectors. Generally, embeddings make ML models more efficient and easier to work with, and can be used with other models as well\n",
        "\"\"\""
      ],
      "metadata": {
        "id": "9AmKGenQoGs8"
      },
      "execution_count": null,
      "outputs": []
    },
    {
      "cell_type": "markdown",
      "source": [
        "Make a comparison between:<br><br>\n",
        "Sequential backward exclusion vs. sequential forward selection<br>\n",
        "Function selection methods: filter vs. wrapper<br>\n",
        "SMC vs. Jaccard coefficient"
      ],
      "metadata": {
        "id": "Zajv2KY3oGv-"
      }
    },
    {
      "cell_type": "code",
      "source": [
        "\"\"\"\n",
        "Sequential floating forward selection (SFFS) starts from the empty set. After each forward step, SFFS performs backward steps as long as the objective function increases. \n",
        "Sequential floating backward selection (SFBS) starts from the full set.\n",
        "\n",
        "The Jaccard coefficient is a measure of the percentage of overlap between sets defined as: (5.1) where W1 and W2 are two sets, in our case the 1-year windows of the ego \n",
        "networks. The Jaccard coefficient can be a value between 0 and 1, with 0 indicating no overlap and 1 complete overlap between the sets.\n",
        "\"\"\""
      ],
      "metadata": {
        "id": "30v7SP5uoGv_"
      },
      "execution_count": null,
      "outputs": []
    }
  ]
}