{
  "nbformat": 4,
  "nbformat_minor": 0,
  "metadata": {
    "colab": {
      "provenance": []
    },
    "kernelspec": {
      "name": "python3",
      "display_name": "Python 3"
    },
    "language_info": {
      "name": "python"
    }
  },
  "cells": [
    {
      "cell_type": "markdown",
      "source": [
        "In a linear equation, what is the difference between a dependent variable and an independent variable ?"
      ],
      "metadata": {
        "id": "FHorcHp2E181"
      }
    },
    {
      "cell_type": "code",
      "source": [
        "\"\"\"\n",
        "Algebraically, a linear equation typically takes the form y = mx + b, where m and b are constants, x is the independent variable, y is the dependent variable. \n",
        "The slope tells us how the dependent variable (y) changes for every one unit increase in the independent (x) variable, on average.\n",
        "\n",
        "The variables in a study of a cause-and-effect relationship are called the independent and dependent variables. The independent variable is the cause. \n",
        "Its value is independent of other variables in your study. The dependent variable is the effect\n",
        "\"\"\""
      ],
      "metadata": {
        "id": "8LkNTXvpE2BF"
      },
      "execution_count": null,
      "outputs": []
    },
    {
      "cell_type": "markdown",
      "source": [
        "What is the concept of simple linear regression? Give a specific example ?"
      ],
      "metadata": {
        "id": "7qTLz_4tE8s2"
      }
    },
    {
      "cell_type": "code",
      "source": [
        "\"\"\"\n",
        "Simple linear regression is a regression model that estimates the relationship between one independent variable and one dependent variable using a straight line. \n",
        "Both variables should be quantitative. Linear regression most often uses mean-square error (MSE) to calculate the error of the model.\n",
        "\n",
        "For example, suppose that height was the only determinant of body weight.In this example, if an individual was 70 inches tall, we would predict his weight to be: \n",
        "Weight = 80 + 2 x (70) = 220 lbs. In this simple linear regression, we are examining the impact of one independent variable on the outcome.\n",
        "\"\"\""
      ],
      "metadata": {
        "id": "6fQinUYFE8s3"
      },
      "execution_count": null,
      "outputs": []
    },
    {
      "cell_type": "markdown",
      "source": [
        "In a linear regression, define the slope ?"
      ],
      "metadata": {
        "id": "6vcTL_ZqE8vY"
      }
    },
    {
      "cell_type": "code",
      "source": [
        "\"\"\"\n",
        "The slope of a regression line (b) represents the rate of change in y as x changes. Because y is dependent on x, the slope describes the predicted values of y given x. \n",
        "The slope must be calculated before the y-intercept when using a linear regression, as the intercept is calculated using the slope.\n",
        "\"\"\""
      ],
      "metadata": {
        "id": "CO7rUm9zE8vY"
      },
      "execution_count": null,
      "outputs": []
    },
    {
      "cell_type": "markdown",
      "source": [
        "Determine the graph's slope, where the lower point on the line is represented as (3, 2) and the higher point is represented as (2, 2) ?"
      ],
      "metadata": {
        "id": "VIkfIdIcE8yG"
      }
    },
    {
      "cell_type": "code",
      "source": [
        "\"\"\"\n",
        "The graph's slope, where the lower point on the line is represented as (3, 2) and the higher point is represented as (2, 2) is 0\n",
        "\"\"\""
      ],
      "metadata": {
        "id": "JTLrX_44E8yG"
      },
      "execution_count": null,
      "outputs": []
    },
    {
      "cell_type": "markdown",
      "source": [
        "In linear regression, what are the conditions for a positive slope ?\n"
      ],
      "metadata": {
        "id": "opvraYMmE807"
      }
    },
    {
      "cell_type": "code",
      "source": [
        "\"\"\"\n",
        "If the slope is positive, y increases as x increases, and the function runs \"uphill\" (going left to right). If the slope is zero, y does not change, \n",
        "thus is constant—a horizontal line.\n",
        "\"\"\""
      ],
      "metadata": {
        "id": "tiIiH549E808"
      },
      "execution_count": null,
      "outputs": []
    },
    {
      "cell_type": "markdown",
      "source": [
        "In linear regression, what are the conditions for a negative slope ?"
      ],
      "metadata": {
        "id": "d1etwnV6E84I"
      }
    },
    {
      "cell_type": "code",
      "source": [
        "\"\"\"\n",
        "If the slope is negative, y decreases as x increases and the function runs downhill.\n",
        "\"\"\""
      ],
      "metadata": {
        "id": "ATRQA8zUE84J"
      },
      "execution_count": null,
      "outputs": []
    },
    {
      "cell_type": "markdown",
      "source": [
        "What is multiple linear regression and how does it work ?"
      ],
      "metadata": {
        "id": "Y3nPGYEDE87C"
      }
    },
    {
      "cell_type": "code",
      "source": [
        "\"\"\"\n",
        "Multiple linear regression refers to a statistical technique that uses two or more independent variables to predict the outcome of a dependent variable. \n",
        "The technique enables analysts to determine the variation of the model and the relative contribution of each independent variable in the total variance.\n",
        "\"\"\""
      ],
      "metadata": {
        "id": "zGAB2BqxE87D"
      },
      "execution_count": null,
      "outputs": []
    },
    {
      "cell_type": "markdown",
      "source": [
        "In multiple linear regression, define the number of squares due to error ?"
      ],
      "metadata": {
        "id": "q8zG9Js3E89g"
      }
    },
    {
      "cell_type": "code",
      "source": [
        "\"\"\"\n",
        "The mean squared error (MSE) tells you how close a regression line is to a set of points. It does this by taking the distances from the points to the regression \n",
        "line (these distances are the “errors”) and squaring them. It's called the mean squared error as you're finding the average of a set of errors.\n",
        "\"\"\""
      ],
      "metadata": {
        "id": "bukfrH-VE89h"
      },
      "execution_count": null,
      "outputs": []
    },
    {
      "cell_type": "markdown",
      "source": [
        "In multiple linear regression, define the number of squares due to regression ?\n"
      ],
      "metadata": {
        "id": "4Vzm_Ol9E8_-"
      }
    },
    {
      "cell_type": "code",
      "source": [
        "\"\"\"\n",
        "Sum of squares is a statistical technique used in regression analysis to determine the dispersion of data points. In a regression analysis, the goal is to \n",
        "determine how well a data series can be fitted to a function that might help to explain how the data series was generated.\n",
        "\"\"\""
      ],
      "metadata": {
        "id": "MZTuYj53E8__"
      },
      "execution_count": null,
      "outputs": []
    },
    {
      "cell_type": "markdown",
      "source": [
        "In a regression equation, what is multicollinearity ?\n"
      ],
      "metadata": {
        "id": "qIWLKi_IE9Cv"
      }
    },
    {
      "cell_type": "code",
      "source": [
        "\"\"\"\n",
        "Multicollinearity occurs when two or more independent variables are highly correlated with one another in a regression model. This means that an independent \n",
        "variable can be predicted from another independent variable in a regression model.\n",
        "\"\"\""
      ],
      "metadata": {
        "id": "_6KpSoVBE9Cv"
      },
      "execution_count": null,
      "outputs": []
    },
    {
      "cell_type": "markdown",
      "source": [
        "What is heteroskedasticity, and what does it mean ?"
      ],
      "metadata": {
        "id": "UIQ33cJjE9Fg"
      }
    },
    {
      "cell_type": "code",
      "source": [
        "\"\"\"\n",
        "Heteroskedasticity (also spelled heteroscedasticity) refers to the error variance, or dependence of scattering, within a minimum of one independent variable within a particular sample.A common cause of variances outside the minimum requirement is often attributed to issues of data quality.\n",
        "\"\"\""
      ],
      "metadata": {
        "id": "A5Tl6lLOE9Fh"
      },
      "execution_count": null,
      "outputs": []
    },
    {
      "cell_type": "markdown",
      "source": [
        "Describe the concept of ridge regression ?"
      ],
      "metadata": {
        "id": "N3WaOmpiE9IY"
      }
    },
    {
      "cell_type": "code",
      "source": [
        "\"\"\"\n",
        "Ridge Regression is a technique for analyzing multiple regression data that suffer from multicollinearity.By adding a degree of bias to the regression estimates, \n",
        "ridge regression reduces the standard errors. It is hoped that the net effect will be to give estimates that are more reliable.\n",
        "\"\"\""
      ],
      "metadata": {
        "id": "EYF_ZDyLE9IY"
      },
      "execution_count": null,
      "outputs": []
    },
    {
      "cell_type": "markdown",
      "source": [
        "Describe the concept of lasso regression ?"
      ],
      "metadata": {
        "id": "MZU5TaH2E9Ll"
      }
    },
    {
      "cell_type": "code",
      "source": [
        "\"\"\"\n",
        "In statistics and machine learning, lasso (least absolute shrinkage and selection operator; also Lasso or LASSO) is a regression analysis method that performs \n",
        "both variable selection and regularization in order to enhance the prediction accuracy and interpretability of the resulting statistical model.\n",
        "\"\"\""
      ],
      "metadata": {
        "id": "XSpq8RLKE9Ll"
      },
      "execution_count": null,
      "outputs": []
    },
    {
      "cell_type": "markdown",
      "source": [
        "What is polynomial regression and how does it work ?"
      ],
      "metadata": {
        "id": "fFeWncMGE9Ow"
      }
    },
    {
      "cell_type": "code",
      "source": [
        "\"\"\"\n",
        "Polynomial Regression is a form of Linear regression known as a special case of Multiple linear regression which estimates the relationship as an nth degree polynomial. \n",
        "Polynomial Regression is sensitive to outliers so the presence of one or two outliers can also badly affect the performance.\n",
        "\"\"\""
      ],
      "metadata": {
        "id": "quS6IRvXE9Ox"
      },
      "execution_count": null,
      "outputs": []
    },
    {
      "cell_type": "markdown",
      "source": [
        "Describe the basis function ?"
      ],
      "metadata": {
        "id": "alkbdt9jE9R2"
      }
    },
    {
      "cell_type": "code",
      "source": [
        "\"\"\"\n",
        "This is a generalization of linear regression that essentially replaces each input with a function of the input. (A linear basis function model that uses the \n",
        "identity function is just linear regression.)\n",
        "\"\"\""
      ],
      "metadata": {
        "id": "wgDURrSeE9R3"
      },
      "execution_count": null,
      "outputs": []
    },
    {
      "cell_type": "markdown",
      "source": [
        "Describe how logistic regression works ?"
      ],
      "metadata": {
        "id": "3vfa1ecUE9VU"
      }
    },
    {
      "cell_type": "code",
      "source": [
        "\"\"\"\n",
        "Logistic regression uses an equation as the representation, very much like linear regression. Input values (x) are combined linearly using weights or coefficient values \n",
        "(referred to as the Greek capital letter Beta) to predict an output value (y).\n",
        "\"\"\""
      ],
      "metadata": {
        "id": "_50dJvasE9VU"
      },
      "execution_count": null,
      "outputs": []
    }
  ]
}