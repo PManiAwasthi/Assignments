{
  "nbformat": 4,
  "nbformat_minor": 0,
  "metadata": {
    "colab": {
      "provenance": []
    },
    "kernelspec": {
      "name": "python3",
      "display_name": "Python 3"
    },
    "language_info": {
      "name": "python"
    }
  },
  "cells": [
    {
      "cell_type": "markdown",
      "source": [
        "What is the concept of human learning? Please give two examples ?"
      ],
      "metadata": {
        "id": "Y1a5eN4jZgRN"
      }
    },
    {
      "cell_type": "code",
      "source": [
        "\"\"\"\n",
        "For humans to learn somethings we use a variety of skills like the way we usually first find the problem, than we analyse it after which the try finding solutions \n",
        "to those problems in all that when we go through many trials and error while doing all that we learn. One of the key points to human inteligence is to be able to relate \n",
        "past and present experience and use the knowledge from the past experience to work with the present situation or predict what might happen in the future.\n",
        "Some examples of human learning are:\n",
        "Observational learning: - when we learn from observing something\n",
        "classibal learning: - When we learn through association\n",
        "\"\"\""
      ],
      "metadata": {
        "id": "w6FabA4vZgYd"
      },
      "execution_count": null,
      "outputs": []
    },
    {
      "cell_type": "markdown",
      "source": [
        "What different forms of human learning are there? Are there any machine learning equivalents ?"
      ],
      "metadata": {
        "id": "mW-Qn9fMZhPi"
      }
    },
    {
      "cell_type": "code",
      "source": [
        "\"\"\"\n",
        "Machine learning has been primarily based on the same principals humans use for learning somethings like for example using past experience is like supervised learning,\n",
        "learining relationship between things based on similarity is unsupervised leanring and association rule based learning, learning through trial and error through reward and \n",
        "consequence is similar to reinforcement learning, even deep neural network is based on the working of brain.\n",
        "\"\"\""
      ],
      "metadata": {
        "colab": {
          "base_uri": "https://localhost:8080/",
          "height": 70
        },
        "id": "4A7Pq0ZLZhPi",
        "outputId": "aee0001a-ee99-47ce-8d06-162e772ad04f"
      },
      "execution_count": 1,
      "outputs": [
        {
          "output_type": "execute_result",
          "data": {
            "text/plain": [
              "'\\nMachine learning has been primarily based on the same principals humans use for learning somethings like for example using past experience is like supervised learning,\\nlearining relationship between things based on similarity is unsupervised leanring and association rule based learning, learning through trial and error through reward and \\nconsequence is similar to reinforcement learning, even deep neural network is based on the working of brain.\\n'"
            ],
            "application/vnd.google.colaboratory.intrinsic+json": {
              "type": "string"
            }
          },
          "metadata": {},
          "execution_count": 1
        }
      ]
    },
    {
      "cell_type": "markdown",
      "source": [
        "What is machine learning, and how does it work? What are the key responsibilities of machine learning ?"
      ],
      "metadata": {
        "id": "fbnqBpn8ZhSj"
      }
    },
    {
      "cell_type": "code",
      "source": [
        "\"\"\"\n",
        "ML is the branch of Ai that makes computers be able to learn to be able to work with intelligence like humans by making use of mathemetical algorithms and data.\n",
        "Roles of ML engineer are:\n",
        "- Getting right set of data and anaylyse it for better understanding in order to enhance model performance.\n",
        "- Preparing the ML model pipeline.\n",
        "- Making and testing different models using the ML algorithms and try reaching an optimal solution\n",
        "\"\"\""
      ],
      "metadata": {
        "id": "Z8XO-tb0ZhSj"
      },
      "execution_count": null,
      "outputs": []
    },
    {
      "cell_type": "markdown",
      "source": [
        "Define the terms \"penalty\" and \"reward\" in the context of reinforcement learning ?"
      ],
      "metadata": {
        "id": "iiB37R4KZhWI"
      }
    },
    {
      "cell_type": "code",
      "source": [
        "\"\"\"\n",
        "In reinforcement learning everything we do comes with a cost like for a good action (something that increasing chances of success) is rewarded meaning the 'reward' and \n",
        "something negative (something that drives us away from the success) are penalised which is the \"penalty\".\n",
        "\"\"\""
      ],
      "metadata": {
        "id": "EzvvVSXIZhWJ"
      },
      "execution_count": null,
      "outputs": []
    },
    {
      "cell_type": "markdown",
      "source": [
        "Explain the term \"learning as a search\" ?"
      ],
      "metadata": {
        "id": "srg12OjwZhZT"
      }
    },
    {
      "cell_type": "code",
      "source": [
        "\"\"\"\n",
        "Learning can be viewed as a search through the space of all sentences in a concept description language for a sentence that best describes the data. \n",
        "Alternatively, it can be viewed as a search through all hypotheses in a hypothesis space.\n",
        "\"\"\""
      ],
      "metadata": {
        "id": "W9nX0S5HZhZT"
      },
      "execution_count": null,
      "outputs": []
    },
    {
      "cell_type": "markdown",
      "source": [
        "What are the various goals of machine learning? What is the relationship between these and human learning ?"
      ],
      "metadata": {
        "id": "dT22p60lZhct"
      }
    },
    {
      "cell_type": "code",
      "source": [
        "\"\"\"\n",
        "he Goal of machine learning, closely coupled with the goal of AI, is to achieve a through understanding about the nature of learning process (both human learning and other \n",
        "forms of learning), about the computational aspects of learning behaviors, and to implant the learning capability in computer systems.\n",
        "\n",
        "Humans have the ability to learn, however with the progress in artificial intelligence, machine learning has become a resource which can augment or even replace human learning. \n",
        "Learning does not happen all at once, but it builds upon and is shaped by previous knowledge.\n",
        "\"\"\""
      ],
      "metadata": {
        "id": "BmGgaVLdZhct"
      },
      "execution_count": null,
      "outputs": []
    },
    {
      "cell_type": "markdown",
      "source": [
        "Illustrate the various elements of machine learning using a real-life illustration ?"
      ],
      "metadata": {
        "id": "VTd_QtbUZhgI"
      }
    },
    {
      "cell_type": "code",
      "source": [
        "\"\"\"\n",
        "the various elements of ML:\n",
        "1. first we try finding as much as we can meaning we need 'data'\n",
        "2. We find what acutally the problem is and analyze that to get some specific tasks(problem/task analysis)\n",
        "3. then we analyze the data as per the task to get more insight on it(data analysis)\n",
        "4. after that we make the data fit for modeling (data preprocessing)\n",
        "5. then we make the model by feeding in the data (Model creation)\n",
        "6. we need something we work towards to make sure we are progressing and that what a 'loss/cost function' is.\n",
        "7. the model we are using is based on a mathetical function that we call the 'learning algorithm'\n",
        "8. then we also need to evaluate the model before releasing it (evaluation)\n",
        "\"\"\""
      ],
      "metadata": {
        "id": "ELc3kpM6ZhgJ"
      },
      "execution_count": null,
      "outputs": []
    },
    {
      "cell_type": "markdown",
      "source": [
        "Provide an example of the abstraction method ?"
      ],
      "metadata": {
        "id": "nyAdlfRIZhju"
      }
    },
    {
      "cell_type": "code",
      "source": [
        "\"\"\"\n",
        "In Machine Learning, Abstraction is supported primarily at the level of modules. This can be justified in two ways: \n",
        "first, Data abstraction is mostly a question of program interfaces and therefore it arises naturally at the point where we have to consider program composition and modules.\n",
        "\"\"\""
      ],
      "metadata": {
        "id": "knCtEIVFZhju"
      },
      "execution_count": null,
      "outputs": []
    },
    {
      "cell_type": "markdown",
      "source": [
        "What is the concept of generalization? What function does it play in the machine learning process ?"
      ],
      "metadata": {
        "id": "mKwuGG4mZhnG"
      }
    },
    {
      "cell_type": "code",
      "source": [
        "\"\"\"\n",
        "Generalization refers to your model's ability to adapt properly to new, previously unseen data, drawn from the same distribution as the one used to create the model.\n",
        "\n",
        "In machine learning, generalization is a definition to demonstrate how well is a trained model to classify or forecast unseen data.This issue can result to classify an \n",
        "actual dog image as a cat from the unseen dataset. Therefore, data diversity is very important factor in order to make a good prediction.\n",
        "\"\"\""
      ],
      "metadata": {
        "id": "_0gUOXTLZhnH"
      },
      "execution_count": null,
      "outputs": []
    },
    {
      "cell_type": "markdown",
      "source": [
        "What is classification, exactly? What are the main distinctions between classification and regression ?"
      ],
      "metadata": {
        "id": "KwQtpCUMZhqe"
      }
    },
    {
      "cell_type": "code",
      "source": [
        "\"\"\"\n",
        "In Machine Learning, Classification refers to a predictive modeling problem where a class label is predicted for a given example of input data.\n",
        "Classification is the task of predicting a discrete class label. Whereas Regression is the task of predicting a continuous quantity.\n",
        "\"\"\""
      ],
      "metadata": {
        "id": "kHoDwuNwZhqf"
      },
      "execution_count": null,
      "outputs": []
    },
    {
      "cell_type": "markdown",
      "source": [
        "What is regression, and how does it work? Give an example of a real-world problem that was solved using regression ?"
      ],
      "metadata": {
        "id": "U6Wnpu4deMIO"
      }
    },
    {
      "cell_type": "code",
      "source": [
        "\"\"\"\n",
        "Regression is a Supervised Machine Learning technique which is used to predict continuous values. \n",
        "The ultimate goal of a regression algorithm is to plot a best-fit line or a curve between the data.\n",
        "\n",
        "The three main metrics that are used for evaluating the trained regression model are Variance, Bias and Error.\n",
        "\n",
        "A simple linear regression real life example could mean you finding a relationship between the revenue and temperature, \n",
        "with a sample size for revenue as the dependent variable. In case of multiple variable regression, you can find the relationship \n",
        "between temperature, pricing and number of workers to the r\n",
        "\"\"\""
      ],
      "metadata": {
        "id": "aVvMAH3ceFTB"
      },
      "execution_count": null,
      "outputs": []
    },
    {
      "cell_type": "markdown",
      "source": [
        "Describe the clustering mechanism in detail ?"
      ],
      "metadata": {
        "id": "uwJ8wXdeeNpO"
      }
    },
    {
      "cell_type": "code",
      "source": [
        "\"\"\"\n",
        "Clustering is the task of dividing the population or data points into a number of groups such that data points in the same groups are more similar \n",
        "to other data points in the same group than those in other groups. In simple words, the aim is to segregate groups with similar traits and assign them into clusters.\n",
        "\"\"\""
      ],
      "metadata": {
        "id": "vKWY0pa3eNpO"
      },
      "execution_count": null,
      "outputs": []
    },
    {
      "cell_type": "markdown",
      "source": [
        "Make brief observations on two of the following topics ?<br><br>\n",
        "Machine learning algorithms are used<br>\n",
        "Studying under supervision<br>\n",
        "Studying without supervision<br>\n",
        "Reinforcement learning is a form of learning based on positive reinforcement."
      ],
      "metadata": {
        "id": "PQ-U8ADQeNvM"
      }
    },
    {
      "cell_type": "code",
      "source": [
        "\"\"\"\n",
        "The breif observations on the following two topics is:\n",
        "\n",
        "Machine learning algorithms are used: At its Most basic, Machine Learning uses programmed algorithms that receive and analyse input data to predict output values \n",
        "within an acceptable range. As new data is fed to these algorithms, they learn and optimise their operations to improve performance, developing intelligence over time.\n",
        "\n",
        "Studying Under Supervision: In machine learning, there are two important categories- Supervised and Unsupervised learning.Supervised learning, an algorithm learns \n",
        "from a training dataset. We know the correct answers or desired output, the algorithm makes predictions using the given dataset and is corrected by the “supervisor”.\n",
        "\"\"\""
      ],
      "metadata": {
        "id": "Pc8BDk2LeNvN"
      },
      "execution_count": null,
      "outputs": []
    }
  ]
}