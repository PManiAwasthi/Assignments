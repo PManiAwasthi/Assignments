{
  "nbformat": 4,
  "nbformat_minor": 0,
  "metadata": {
    "colab": {
      "provenance": []
    },
    "kernelspec": {
      "name": "python3",
      "display_name": "Python 3"
    },
    "language_info": {
      "name": "python"
    }
  },
  "cells": [
    {
      "cell_type": "markdown",
      "source": [
        "Recognize the differences between supervised, semi-supervised, and unsupervised learning ?"
      ],
      "metadata": {
        "id": "a8ChEf9EtByo"
      }
    },
    {
      "cell_type": "code",
      "source": [
        "\"\"\"\n",
        "Supervised learning aims to learn a function that, given a sample of data and desired outputs, approximates a function that maps inputs to outputs.\n",
        "\n",
        "Semi-supervised learning aims to label unlabeled data points using knowledge learned from a small number of labeled data points.\n",
        "\n",
        "Unsupervised learning does not have (or need) any labeled outputs, so its goal is to infer the natural structure present within a set of data points.\n",
        "\"\"\""
      ],
      "metadata": {
        "id": "KfQrQdQttB2W"
      },
      "execution_count": null,
      "outputs": []
    },
    {
      "cell_type": "markdown",
      "source": [
        "Describe in detail any five examples of classification problems ?"
      ],
      "metadata": {
        "id": "6RJrmei9tGd4"
      }
    },
    {
      "cell_type": "code",
      "source": [
        "\"\"\"\n",
        "Logistic regression\n",
        "decision treess\n",
        "light bgm\n",
        "XGBoost\n",
        "random forest\n",
        "\"\"\""
      ],
      "metadata": {
        "id": "3feYkU2xtGd4"
      },
      "execution_count": null,
      "outputs": []
    },
    {
      "cell_type": "markdown",
      "source": [
        "Describe each phase of the classification process in detail ?"
      ],
      "metadata": {
        "id": "p-XwYaE7tGhu"
      }
    },
    {
      "cell_type": "code",
      "source": [
        "\"\"\"\n",
        "A classifier in machine learning is an algorithm that automatically orders or categorizes data into one or more of a set of “classes.” One of the most common examples \n",
        "is an email classifier that scans emails to filter them by class label: Spam or Not Spam.\n",
        "\n",
        "The main goal of the Classification algorithm is to identify the category of a given dataset, and these algorithms are mainly used to predict the output for the categorical data. \n",
        "Multi-class Classifier: If a classification problem has more than two outcomes, then it is called as Multi-class Classifier.\n",
        "\n",
        "\"\"\""
      ],
      "metadata": {
        "id": "tvxd-ycBtGhu"
      },
      "execution_count": null,
      "outputs": []
    },
    {
      "cell_type": "markdown",
      "source": [
        "Go through the SVM model in depth using various scenarios ?"
      ],
      "metadata": {
        "id": "GC1g5JK2tGks"
      }
    },
    {
      "cell_type": "code",
      "source": [
        "\"\"\"\n",
        "upport Vector Machine (SVM) is a supervised machine learning algorithm that can be used for both classification or regression challenges.\n",
        "\n",
        "Support Vectors are simply the coordinates of individual observation. The SVM classifier is a frontier that best segregates the two classes (hyper-plane/ line).\n",
        "\n",
        "SVM or Support Vector Machine is a linear model for classification and regression problems. It can solve linear and non-linear problems and work well for many practical problems. \n",
        "The idea of SVM is simple: The algorithm creates a line or a hyperplane which separates the data into classes.\n",
        "\"\"\""
      ],
      "metadata": {
        "id": "6MdNoGAMtGks"
      },
      "execution_count": null,
      "outputs": []
    },
    {
      "cell_type": "markdown",
      "source": [
        "What are some of the benefits and drawbacks of SVM ?"
      ],
      "metadata": {
        "id": "9B8dDUYStGn8"
      }
    },
    {
      "cell_type": "code",
      "source": [
        "\"\"\"\n",
        "Benefits:\n",
        "SVM works relatively well when there is a clear margin of separation between classes.\n",
        "SVM is more effective in high dimensional spaces.\n",
        "SVM is effective in cases where the number of dimensions is greater than the number of samples.\n",
        "SVM is relatively memory efficient.\n",
        "\n",
        "Drawbacks:\n",
        "SVM algorithm is not suitable for large data sets.\n",
        "SVM does not perform very well when the data set has more noise i.e. target classes are overlapping.\n",
        "In cases where the number of features for each data point exceeds the number of training data samples,the SVM will underperform.\n",
        "\"\"\""
      ],
      "metadata": {
        "id": "QFWIb7FltGn9"
      },
      "execution_count": null,
      "outputs": []
    },
    {
      "cell_type": "markdown",
      "source": [
        "Go over the kNN model in depth ?"
      ],
      "metadata": {
        "id": "r1YgMO_AtGrV"
      }
    },
    {
      "cell_type": "code",
      "source": [
        "\"\"\"\n",
        "kNN is the simplest machine learning algorithm to understand and also to explain. It is a versatile algorithm i.e. useful for both classification and regression. \n",
        "It has one big advantage is that kNN ha no pre assumption about the data. Let the data speak for itself.\n",
        "\n",
        "The abbreviation KNN stands for K-Nearest Neighbour. It is a supervised machine learning algorithm. The algorithm can be used to solve both classification and regression \n",
        "problem statements. The number of nearest neighbours to a new unknown variable that has to be predicted or classified is denoted by the symbol 'K'.\n",
        "\"\"\""
      ],
      "metadata": {
        "id": "TU5d3Fx6tGrV"
      },
      "execution_count": null,
      "outputs": []
    },
    {
      "cell_type": "markdown",
      "source": [
        "Discuss the kNN algorithm's error rate and validation error ?"
      ],
      "metadata": {
        "id": "l6dV8KTTtGup"
      }
    },
    {
      "cell_type": "code",
      "source": [
        "\"\"\"\n",
        "Training error here is the error you'll have when you input your training set to your KNN as test set. Since your test sample is in the training dataset, it'll choose itself as \n",
        "the closest and never make mistake. For this reason, the training error will be zero when K = 1, irrespective of the dataset.\n",
        "\n",
        "kNN produces predictions by looking at the k nearest neighbours of a case x to predict its y, so that's fine. In particular, the kNN model basically consists of its training \n",
        "cases - but that's the cross validation procedure doesn't care about at all.\n",
        "\"\"\""
      ],
      "metadata": {
        "id": "KQfOnBpbtGuq"
      },
      "execution_count": null,
      "outputs": []
    },
    {
      "cell_type": "markdown",
      "source": [
        "For kNN, talk about how to measure the difference between the test and training results ?"
      ],
      "metadata": {
        "id": "JOHKfufvtGyG"
      }
    },
    {
      "cell_type": "code",
      "source": [
        "\"\"\"\n",
        "KNN can be used for classification — the output is a class membership (predicts a class — a discrete value). An object is classified by a majority vote of its neighbors, \n",
        "with the object being assigned to the class most common among its k nearest neighbors.\n",
        "\n",
        "KNN classifier does not have any specialized training phase as it uses all the training samples for classification and simply stores the results in memory. KNN is a \n",
        "non-parametric algorithm because it does not assume anything about the training data. This makes it useful for problems having non-linear data.\n",
        "\"\"\""
      ],
      "metadata": {
        "id": "9D1U1BpVtGyG"
      },
      "execution_count": null,
      "outputs": []
    },
    {
      "cell_type": "markdown",
      "source": [
        "Create the kNN algorithm ?"
      ],
      "metadata": {
        "id": "TYsHw1KttG1e"
      }
    },
    {
      "cell_type": "code",
      "source": [
        "\"\"\"\n",
        "The k-nearest neighbor algorithm is imported from the scikit-learn package.\n",
        "\n",
        "Create feature and target variables.\n",
        "Split data into training and test data.\n",
        "Generate a k-NN model using neighbors value.\n",
        "Train or fit the data into the model.\n",
        "Predict the future.\n",
        "\"\"\""
      ],
      "metadata": {
        "id": "CdCbhK84tG1e"
      },
      "execution_count": null,
      "outputs": []
    },
    {
      "cell_type": "markdown",
      "source": [
        "What is a decision tree, exactly ? What are the various kinds of nodes? Explain all in depth ?"
      ],
      "metadata": {
        "id": "biysdpCRtG41"
      }
    },
    {
      "cell_type": "code",
      "source": [
        "\"\"\"\n",
        "A decision tree is a tree-like model that acts as a decision support tool, visually displaying decisions and their potential outcomes, consequences, and costs. \n",
        "Drawing a decision tree diagram starts from left to right and consists of burst nodes that split into different paths.\n",
        "\n",
        "There are three different types of nodes: chance nodes, decision nodes, and end nodes. A chance node, represented by a circle, shows the probabilities of certain results. \n",
        "A decision node, represented by a square, shows a decision to be made, and an end node shows the final outcome of a decision path.\n",
        "\"\"\""
      ],
      "metadata": {
        "id": "tF83ncqPtG42"
      },
      "execution_count": null,
      "outputs": []
    },
    {
      "cell_type": "markdown",
      "source": [
        "Describe the different ways to scan a decision tree ?"
      ],
      "metadata": {
        "id": "WjglBwx7tG8k"
      }
    },
    {
      "cell_type": "code",
      "source": [
        "\"\"\"\n",
        "In a decision tree analysis, the decision-maker has usually to proceed through the following six steps:\n",
        "\n",
        "Define the problem in structured terms.\n",
        "Model the decision process.\n",
        "Apply the appropriate probability values and financial data.\n",
        "Solve the decision tree.\n",
        "Perform sensitivity analysis.\n",
        "\"\"\""
      ],
      "metadata": {
        "id": "uhXZkEU_tG8k"
      },
      "execution_count": null,
      "outputs": []
    },
    {
      "cell_type": "markdown",
      "source": [
        "Describe in depth the decision tree algorithm ?"
      ],
      "metadata": {
        "id": "pFfat8ROtHAC"
      }
    },
    {
      "cell_type": "code",
      "source": [
        "\"\"\"\n",
        "A decision tree is a tree-like model that acts as a decision support tool, visually displaying decisions and their potential outcomes, consequences, and costs. \n",
        "Drawing a decision tree diagram starts from left to right and consists of burst nodes that split into different paths.\n",
        "\n",
        "There are three different types of nodes: chance nodes, decision nodes, and end nodes. A chance node, represented by a circle, shows the probabilities of certain results. \n",
        "A decision node, represented by a square, shows a decision to be made, and an end node shows the final outcome of a decision path.\n",
        "\n",
        "\"\"\""
      ],
      "metadata": {
        "id": "lyPwqJlRtHAC"
      },
      "execution_count": null,
      "outputs": []
    },
    {
      "cell_type": "markdown",
      "source": [
        "In a decision tree, what is inductive bias? What would you do to stop overfitting ?"
      ],
      "metadata": {
        "id": "w2M0rbK3tHDj"
      }
    },
    {
      "cell_type": "code",
      "source": [
        "\"\"\"\n",
        "The inductive bias (also known as learning bias) of a learning algorithm is the set of assumptions that the learner uses to predict outputs of given inputs that it has \n",
        "not encountered. The kind of necessary assumptions about the nature of the target function are subsumed in the phrase inductive bias.\n",
        "\n",
        "Overfitting makes the model relevant to its data set only, and irrelevant to any other data sets. Some of the methods used to prevent overfitting include ensembling, data \n",
        "augmentation, data simplification, and cross-validation.\n",
        "\"\"\""
      ],
      "metadata": {
        "id": "HAjkjlfmtHDj"
      },
      "execution_count": null,
      "outputs": []
    },
    {
      "cell_type": "markdown",
      "source": [
        "Explain advantages and disadvantages of using a decision tree ?"
      ],
      "metadata": {
        "id": "AmYcSdIOtHHO"
      }
    },
    {
      "cell_type": "code",
      "source": [
        "\"\"\"\n",
        "Advantages and Disadvantages of Decision Trees in Machine Learning. Decision Tree is used to solve both classification and regression problems. But the main drawback of \n",
        "Decision Tree is that it generally leads to overfitting of the data.\n",
        "\"\"\""
      ],
      "metadata": {
        "id": "LFXDyE54tHHP"
      },
      "execution_count": null,
      "outputs": []
    },
    {
      "cell_type": "markdown",
      "source": [
        "Describe in depth the problems that are suitable for decision tree learning ?\n"
      ],
      "metadata": {
        "id": "xW-C895ttHLd"
      }
    },
    {
      "cell_type": "code",
      "source": [
        "\"\"\"\n",
        "Appropriate Problems for Decision Tree Learning are: Instances are represented by attribute-value pairs. The target function has discrete output values.\n",
        "\n",
        "Disjunctive descriptions may be required.\n",
        "The training data may contain errors.\n",
        "The training data may contain missing attribute values.\n",
        "\"\"\""
      ],
      "metadata": {
        "id": "Ighg0kHdtHLe"
      },
      "execution_count": null,
      "outputs": []
    },
    {
      "cell_type": "markdown",
      "source": [
        "Describe in depth the random forest model. What distinguishes a random forest ?"
      ],
      "metadata": {
        "id": "C7Re6dFUtNgG"
      }
    },
    {
      "cell_type": "code",
      "source": [
        "\"\"\"\n",
        "The random forest is a classification algorithm consisting of many decisions trees. It uses bagging and feature randomness when building each individual tree to try \n",
        "to create an uncorrelated forest of trees whose prediction by committee is more accurate than that of any individual tree. The fundamental difference is that in Random forests, \n",
        "only a subset of features are selected at random out of the total and the best split feature from the subset is used to split each node in a tree, unlike in bagging where \n",
        "all features are considered for splitting a node.\n",
        "\"\"\""
      ],
      "metadata": {
        "id": "OKGlbeiNtNgH"
      },
      "execution_count": null,
      "outputs": []
    },
    {
      "cell_type": "markdown",
      "source": [
        "In a random forest, talk about OOB error and variable value ?"
      ],
      "metadata": {
        "id": "GjksbKu4tNki"
      }
    },
    {
      "cell_type": "code",
      "source": [
        "\"\"\"\n",
        "The out-of-bag (OOB) error is the average error for each calculated using predictions from the trees that do not contain in their respective bootstrap sample. \n",
        "There are two measures of importance given for each variable in the random forest. The first measure is based on how much the accuracy decreases when the variable is excluded.\n",
        "The second measure is based on the decrease of Gini impurity when a variable is chosen to split a node.\n",
        "\"\"\""
      ],
      "metadata": {
        "id": "35_M4f49tNkj"
      },
      "execution_count": null,
      "outputs": []
    }
  ]
}