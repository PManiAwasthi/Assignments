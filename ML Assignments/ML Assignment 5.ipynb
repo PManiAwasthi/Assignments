{
  "nbformat": 4,
  "nbformat_minor": 0,
  "metadata": {
    "colab": {
      "provenance": []
    },
    "kernelspec": {
      "name": "python3",
      "display_name": "Python 3"
    },
    "language_info": {
      "name": "python"
    }
  },
  "cells": [
    {
      "cell_type": "markdown",
      "source": [
        "What are the key tasks that machine learning entails? What does data pre-processing imply ?"
      ],
      "metadata": {
        "id": "8c82kzhthjX1"
      }
    },
    {
      "cell_type": "code",
      "source": [
        "\"\"\"\n",
        "Data ingestion\n",
        "data preprocessing\n",
        "making the model\n",
        "evaluating the model\n",
        "deploying the evaluated model\n",
        "\"\"\""
      ],
      "metadata": {
        "id": "a0m-1iHwhjcu"
      },
      "execution_count": null,
      "outputs": []
    },
    {
      "cell_type": "markdown",
      "source": [
        "Describe quantitative and qualitative data in depth. Make a distinction between the two ?"
      ],
      "metadata": {
        "id": "6yAG44lWhm8G"
      }
    },
    {
      "cell_type": "code",
      "source": [
        "\"\"\"\n",
        "Quantitative Data Type: This Type Of Data Type Consists Of Numerical Values. Anything Which Is Measured By Numbers. E.G., Profit, Quantity Sold, Height, Weight, \n",
        "Temperature, Etc. This Is Again Of Two Types\n",
        "\n",
        "- Discrete Data Type: – The Numeric Data Which Have Discrete Values Or Whole Numbers. This Type Of Variable Value If Expressed In Decimal Format Will Have No Proper Meaning. \n",
        "Their Values Can Be Counted. E.G.: – No. Of Cars You Have, No. Of Marbles In Containers, Students In A Class, Etc.\n",
        "\n",
        "- Continuous Data Type: – The Numerical Measures Which Can Take The Value Within A Certain Range. This Type Of Variable Value If Expressed In Decimal Format Has True Meaning. \n",
        "Their Values Can Not Be Counted But Measured. The Value Can Be Infinite E.G.: Height, Weight, Time, Area, Distance, Measurement Of Rainfall, Etc.\n",
        "\n",
        "\n",
        "Qualitative Data Type: These Are The Data Types That Cannot Be Expressed In Numbers. This Describes Categories Or Groups And Is Hence Known As The Categorical Data Type. \n",
        "This Can Be Divided Into:-\n",
        "\n",
        "- Structured Data: This Type Of Data Is Either Number Or Words. This Can Take Numerical Values But Mathematical Operations Cannot Be Performed On It. This Type Of Data Is Expressed In Tabular Format. E.G.) Sunny=1, Cloudy=2, Windy=3 Or Binary Form Data Like 0 Or1, Good Or Bad, Etc.\n",
        "- Unstructured Data: This Type Of Data Does Not Have The Proper Format And Therefore Known As Unstructured Data.This Comprises Textual Data, Sounds, Images, Videos, Etc.\n",
        "\"\"\""
      ],
      "metadata": {
        "id": "s0pblSwahm8G"
      },
      "execution_count": null,
      "outputs": []
    },
    {
      "cell_type": "markdown",
      "source": [
        "Create a basic data collection that includes some sample records. Have at least one attribute from each of the machine learning data types ?"
      ],
      "metadata": {
        "id": "oosI_B7whm-x"
      }
    },
    {
      "cell_type": "code",
      "source": [
        "\"\"\"\n",
        "Determine What Information You Want to Collect: The first thing you need to do is choose what details you want to collect. You’ll need to decide what topics the \n",
        "information will cover, who you want to collect it from and how much data you need. Your goals — what you hope to accomplish using your data — will determine your answers \n",
        "to these questions. As an example, you may decide to collect data about which type of articles are most popular on your website among visitors who are between the ages of \n",
        "18 and 34. You might also choose to gather information about the average age of all of the customers who bought a product from your company within the last month.\n",
        "\n",
        "Set a Timeframe for Data Collection: Next, you can start formulating your plan for how you’ll collect your data. In the early stages of your planning process, you should \n",
        "establish a timeframe for your data collection. You may want to gather some types of data continuously. When it comes to transactional data and website visitor data, for \n",
        "example, you may want to set up a method for tracking that data over the long term. If you’re tracking data for a specific campaign, however, you’ll track it over a \n",
        "defined period. In these instances, you’ll have a schedule for when you’ll start and end your data collection.\n",
        "\n",
        "Determine Your Data Collection Method: At this step, you will choose the data collection method that will make up the core of your data-gathering strategy. To select the \n",
        "right collection method, you’ll need to consider the type of information you want to collect, the timeframe over which you’ll obtain it and the other aspects you determined.\n",
        "\n",
        "Collect the Data: Once you have finalized your plan, you can implement your data collection strategy and start collecting data. You can store and organize your data in \n",
        "your DMP. Be sure to stick to your plan and check on its progress regularly. It may be useful to create a schedule for when you will check in with how your data collection \n",
        "is proceeding, especially if you are collecting data continuously. You may want to make updates to your plan as conditions change and you get new information.\n",
        "\n",
        "Analyze the Data and Implement Your Findings: Once you’ve collected all of your data, it’s time to analyze it and organize your findings. The analysis phase is crucial \n",
        "because it turns raw data into valuable insights that you can use to enhance your marketing strategies, products and business decisions. You can use the analytics tools \n",
        "built into our DMP to help with this step. Once you’ve uncovered the patterns and insights in your data, you can implement the findings to improve your business.\n",
        "\"\"\""
      ],
      "metadata": {
        "id": "8Na9hAKFhm-y"
      },
      "execution_count": null,
      "outputs": []
    },
    {
      "cell_type": "markdown",
      "source": [
        "What are the various causes of machine learning data issues? What are the ramifications ?"
      ],
      "metadata": {
        "id": "2BmrsXTNhnBN"
      }
    },
    {
      "cell_type": "code",
      "source": [
        "\"\"\"\n",
        "Noisy data, dirty data, and incomplete data are the quintessential enemies of ideal Machine Learning. The solution to this conundrum is to take the time to \n",
        "evaluate and scope data with meticulous data governance, data integration, and data exploration until you get clear data. Ramifications or major issues in machine learning are:\n",
        "\n",
        "Five practical issues in machine learning and the business implications Data quality.\n",
        "Machine learning systems rely on data.\n",
        "The complexity and quality trade-off.\n",
        "Sampling bias in data.\n",
        "Changing expectations and concept drift.\n",
        "Monitoring and maintenance.\n",
        "\"\"\""
      ],
      "metadata": {
        "id": "pkioT_PjhnBN"
      },
      "execution_count": null,
      "outputs": []
    },
    {
      "cell_type": "markdown",
      "source": [
        "Demonstrate various approaches to categorical data exploration with appropriate examples ?"
      ],
      "metadata": {
        "id": "EQTVDuFdhnDo"
      }
    },
    {
      "cell_type": "code",
      "source": [
        "\"\"\"\n",
        "1. Unique value count: One of the first things which can be useful during data exploration is to see how many unique values\n",
        "are there in categorical columns. \n",
        "2. Frequency Count: Frequency count is finding how frequent individual values occur in column. \n",
        "3. Variance: Variance gives a good indication how the values are spread. \n",
        "4. Pareto Analysis: Pareto analysis is a creative way of focusing on what is important. Pareto 80–20 rule can be effectively used in data exploration. \n",
        "5. Histogram: Histogram are one of the data scientists favourite data exploration techniques. It gives information on the range of values in which most of the values fall. \n",
        "It also gives information on whether there is any skew in data. \n",
        "6. Correlation Heat-map between all numeric columns: The term correlation refers to a mutual relationship or association between two things. \n",
        "7. Pearson Correlation and Trend between two numeric columns: Once you have visualised correlation heat-map , the next step is to see the correlation trend between \n",
        "two specific numeric columns. \n",
        "8. Outlier overview: Finding something unusual in data is called Outlier detection (also known as anomaly detection). These outliers represent something unusual, rare , \n",
        "anomaly or something exceptional.\n",
        "\n",
        "\n",
        "\"\"\""
      ],
      "metadata": {
        "id": "DWQzSEgDhnDp"
      },
      "execution_count": null,
      "outputs": []
    },
    {
      "cell_type": "markdown",
      "source": [
        "How would the learning activity be affected if certain variables have missing values? Having said that, what can be done about it ?"
      ],
      "metadata": {
        "id": "brCdisEihnGw"
      }
    },
    {
      "cell_type": "code",
      "source": [
        "\"\"\"\n",
        "Even in a Well-Designed & Controlled study, Missing data occurs in almost all research. Missing data can reduce the statistical power of a study and can produce biased \n",
        "estimates, leading to invalid conclusions.\n",
        "\n",
        "-Real-world data collection has its own set of problems, It is often very messy which includes missing data, presence of outliers, unstructured manner, etc.\n",
        "\n",
        "-Before looking for any insights from the data, we have to first perform preprocessing tasks which then only allow us to use that data for further observation and train \n",
        "our machine learning model.\n",
        "\n",
        "-Missing value in a dataset is a very common phenomenon in the reality.\n",
        "\n",
        "-Missing value correction is required to reduce bias and to produce powerful suitable models.\n",
        "\n",
        "-Most of the algorithms can’t handle missing data, thus you need to act in some way to simply not let your code crash. So, let’s begin with the methods to solve the problem.\n",
        "\n",
        "-Methods for dealing with missing values. The popular methods which are used by the machine learning community to handle the missing value for categorical variables in the \n",
        "dataset are as follows: Delete the observations: If there is a large number of observations in the dataset, where all the classes to be predicted are sufficiently represented in the training data, then try deleting the missing value observations, which would not bring significant change in your feed to your model.\n",
        "\"\"\""
      ],
      "metadata": {
        "id": "uy8jvX-ihnGz"
      },
      "execution_count": null,
      "outputs": []
    },
    {
      "cell_type": "markdown",
      "source": [
        "Describe the various methods for dealing with missing data values in depth ?"
      ],
      "metadata": {
        "id": "jgiH5NN1hnJF"
      }
    },
    {
      "cell_type": "code",
      "source": [
        "\"\"\"\n",
        "Delete the observations: If there is a large number of observations in the dataset, where all the classes to be predicted are sufficiently represented in the \n",
        "training data, then try deleting the missing value observations, which would not bring significant change in your feed to your model. For Example Implement \n",
        "this method in a given dataset, we can delete the entire row which contains missing values.\n",
        "\n",
        "Replace missing values with the most frequent value: You can always impute them based on Mode in the case of categorical variables, just make sure you don’t \n",
        "have highly skewed class distributions.\n",
        "\n",
        "Develop a model to predict missing values: One smart way of doing this could be training a classifier over your columns with missing values as a dependent \n",
        "variable against other features of your data set and trying to impute based on the newly trained classifier.\n",
        "\n",
        "\"\"\""
      ],
      "metadata": {
        "id": "dE4ysCMbhnJF"
      },
      "execution_count": null,
      "outputs": []
    },
    {
      "cell_type": "markdown",
      "source": [
        "What are the various data pre-processing techniques? Explain dimensionality reduction and function selection in a few words ?"
      ],
      "metadata": {
        "id": "ypQnWTcuhnL8"
      }
    },
    {
      "cell_type": "code",
      "source": [
        "\"\"\"\n",
        "Data cleaning: handling null values, fixing noise data, eliminating outliers\n",
        "Data preprosseing: dimensionlity redunction, making data numerical\n",
        "\n",
        "Feature selection is simply selecting and excluding given features without changing them. Dimensionality reduction transforms features into a lower dimension.\n",
        "\"\"\""
      ],
      "metadata": {
        "id": "28Xvl8QUhnL9"
      },
      "execution_count": null,
      "outputs": []
    },
    {
      "cell_type": "markdown",
      "source": [
        "Make brief notes on of the following ?<br><br>\n",
        "What is the IQR? What criteria are used to assess it?<br>\n",
        "Describe the various components of a box plot in detail? When will the lower whisker surpass the upper whisker in length? How can box plots be used to identify outliers?"
      ],
      "metadata": {
        "id": "QKq3FRrqhnOb"
      }
    },
    {
      "cell_type": "code",
      "source": [
        "\"\"\"\n",
        "What is the IQR? What criteria are used to assess it?\n",
        "\n",
        "-Q1 is the first quartile of the data, i.e., to say 25% of the data lies between minimum and Q1.\n",
        "-Q3 is the third quartile of the data, i.e., to say 75% of the data lies between minimum and Q3.\n",
        "-The difference between Q3 and Q1 is called the Inter-Quartile Range or IQR.\n",
        "\n",
        "\n",
        "Describe the various components of a box plot in detail? When will the lower whisker surpass the upper whisker in length? How can box plots be used to identify outliers?\n",
        "\n",
        "-minimum is the minimum value in the dataset\n",
        "-maximum is the maximum value in the dataset.\n",
        "-So the difference between the two tells us about the range of dataset.\n",
        "-The median is the median (or centre point), also called second quartile, of the data (resulting from the fact that the data is ordered).\n",
        "-Q1 is the first quartile of the data, i.e., to say 25% of the data lies between minimum and Q1.\n",
        "-Q3 is the third quartile of the data, i.e., to say 75%\n",
        "-When the data is left skewed, lower whisker will be longer than upper whisker.\n",
        "-To detect the outliers this method is used, we define a new range, let’s call it decision range, and any data point lying outside this range is considered as outlier and is accordingly dealt with. The range is as given below:\n",
        "-Lower Bound: (Q1 - 1.5 * IQR)Upper Bound: (Q3 + 1.5 * IQR)\n",
        "\n",
        "-The difference between Q3 and Q1 is called the Inter-Quartile Range or IQR.\n",
        "\n",
        "\"\"\""
      ],
      "metadata": {
        "id": "gMBCk406hnOb"
      },
      "execution_count": null,
      "outputs": []
    },
    {
      "cell_type": "markdown",
      "source": [
        "Make brief notes on any two of the following ?<br><br>\n",
        "Data collected at regular intervals<br>\n",
        "The gap between the quartiles<br>\n",
        "Use a cross-tab"
      ],
      "metadata": {
        "id": "ezyxYQakhnRc"
      }
    },
    {
      "cell_type": "code",
      "source": [
        "\"\"\"\n",
        "Data collected at regular intervals:\n",
        "\n",
        "-Interval data is one of the two types of discrete data.\n",
        "-An example of interval data is the data collected on a thermometer—its gradation or markings are equidistant.\n",
        "-Unlike ordinal data, interval data always take numerical values where the distance between two points on the scale is standardised and equal.\n",
        "\n",
        "\n",
        "The gap between the quartiles:\n",
        "\n",
        "-Q1 is the first quartile of the data, i.e., to say 25% of the data lies between minimum and Q1.\n",
        "-Q3 is the third quartile of the data, i.e., to say 75% of the data lies between minimum and Q3.\n",
        "-The difference between Q3 and Q1 is called the Inter-Quartile Range or IQR.\n",
        "\"\"\""
      ],
      "metadata": {
        "id": "IGRljnWehnRd"
      },
      "execution_count": null,
      "outputs": []
    },
    {
      "cell_type": "markdown",
      "source": [
        "Make a comparison between ?<br><br>\n",
        "Data with nominal and ordinal values<br>\n",
        "Histogram and box plot<br>\n",
        "The average and median"
      ],
      "metadata": {
        "id": "sZlghEwThnUI"
      }
    },
    {
      "cell_type": "code",
      "source": [
        "\"\"\"\n",
        "The average and median:\n",
        "\n",
        "The mean (informally, the “average“) is found by adding all of the numbers together and dividing by the number of items in the set: 10 + 10 + 20 + 40 + 70 / 5 = 30. \n",
        "The median is found by ordering the set from lowest to highest and finding the exact middle. The median is just the middle number: 20\n",
        "\n",
        "Histogram and barplot:\n",
        "\n",
        "Histograms and box plots are very similar in that they both help to visualize and describe numeric data. Although histograms are better in determining the \n",
        "underlying distribution of the data, box plots allow you to compare multiple data sets better than histograms as they are less detailed and take up less space.\n",
        "\n",
        "\n",
        "\"\"\""
      ],
      "metadata": {
        "id": "5UNv7lUEhnUI"
      },
      "execution_count": null,
      "outputs": []
    }
  ]
}