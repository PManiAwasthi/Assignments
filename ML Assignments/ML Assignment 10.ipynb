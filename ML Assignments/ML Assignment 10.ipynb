{
  "nbformat": 4,
  "nbformat_minor": 0,
  "metadata": {
    "colab": {
      "provenance": []
    },
    "kernelspec": {
      "name": "python3",
      "display_name": "Python 3"
    },
    "language_info": {
      "name": "python"
    }
  },
  "cells": [
    {
      "cell_type": "markdown",
      "source": [
        "Define the Bayesian interpretation of probability."
      ],
      "metadata": {
        "id": "AcYREZ4xpGex"
      }
    },
    {
      "cell_type": "code",
      "source": [
        "\"\"\"\n",
        "Bayesian probability is the study of subjective probabilities or belief in an outcome, compared to the frequentist approach where probabilities are based purely \n",
        "on the past occurrence of the event. A Bayesian Network captures the joint probabilities of the events represented by the model.\n",
        "\"\"\""
      ],
      "metadata": {
        "id": "Buh3IqbipGjE"
      },
      "execution_count": null,
      "outputs": []
    },
    {
      "cell_type": "markdown",
      "source": [
        "Define probability of a union of two events with equation."
      ],
      "metadata": {
        "id": "zl5Q4jdDpHU1"
      }
    },
    {
      "cell_type": "code",
      "source": [
        "\"\"\"\n",
        "The general probability addition rule for the union of two events states that P(A∪B)=P(A)+P(B)−P(A∩B), where A∩B is the intersection of the two sets.\n",
        "\"\"\""
      ],
      "metadata": {
        "id": "vFLOid5opHU2"
      },
      "execution_count": null,
      "outputs": []
    },
    {
      "cell_type": "markdown",
      "source": [
        "What is joint probability? What is its formula?"
      ],
      "metadata": {
        "id": "fp7Uba5opHYo"
      }
    },
    {
      "cell_type": "code",
      "source": [
        "\"\"\"\n",
        "Probabilities are combined using multiplication, therefore the joint probability of independent events is calculated as the probability of event A multiplied by the \n",
        "probability of event B. This can be stated formally as follows:\n",
        "\n",
        "Joint Probability: P(A and B) = P(A)*P(B)\n",
        "\"\"\""
      ],
      "metadata": {
        "id": "44y07QnvpHYp"
      },
      "execution_count": null,
      "outputs": []
    },
    {
      "cell_type": "markdown",
      "source": [
        "What is chain rule of probability?"
      ],
      "metadata": {
        "id": "tUzoVmgbpHcV"
      }
    },
    {
      "cell_type": "code",
      "source": [
        "\"\"\"\n",
        "The chain rule, or general product rule, calculates any component of the joint distribution of a set of random variables using only conditional probabilities. \n",
        "This probability theory is used as a foundation for backpropagation and in creating Bayesian networks.\n",
        "\"\"\""
      ],
      "metadata": {
        "id": "tI9DdWfYpHcV"
      },
      "execution_count": null,
      "outputs": []
    },
    {
      "cell_type": "markdown",
      "source": [
        "What is conditional probability means? What is the formula of it?"
      ],
      "metadata": {
        "id": "KMkTUaflpHfz"
      }
    },
    {
      "cell_type": "code",
      "source": [
        "\"\"\"\n",
        "Conditional probability is defined as the likelihood of an event or outcome occurring, based on the occurrence of a previous event or outcome.\n",
        "\n",
        "Conditional probability is calculated by multiplying the probability of the preceding event by the updated probability of the succeeding, or conditional, event.\n",
        "\n",
        "\"\"\""
      ],
      "metadata": {
        "id": "rSBUBahVpHf0"
      },
      "execution_count": null,
      "outputs": []
    },
    {
      "cell_type": "markdown",
      "source": [
        "What are continuous random variables?"
      ],
      "metadata": {
        "id": "OOQBJctSpHjA"
      }
    },
    {
      "cell_type": "code",
      "source": [
        "\"\"\"\n",
        "A continuous random variable X takes all values in a given interval of numbers. ▪ The probability distribution of a continuous random variable is shown by a \n",
        "density curve. ▪ The probability that X is between an interval of numbers is the area under the density curve between the interval endpoints.\n",
        "\"\"\""
      ],
      "metadata": {
        "id": "D_MCyQIPpHjA"
      },
      "execution_count": null,
      "outputs": []
    },
    {
      "cell_type": "markdown",
      "source": [
        "What are Bernoulli distributions? What is the formula of it?"
      ],
      "metadata": {
        "id": "nlNs-YTBpHmS"
      }
    },
    {
      "cell_type": "code",
      "source": [
        "\"\"\"\n",
        "A Bernoulli distribution is a discrete probability distribution for a Bernoulli trial — a random experiment that has only two outcomes (usually called a Succes or a Failure).\n",
        "The expected value for a random variable, X.\n",
        "\n",
        "For a Bernoulli distribution is: E[X] = p.For example, if p = 0.04, then E[X] = 0.4\n",
        "\"\"\""
      ],
      "metadata": {
        "id": "x9_tOyuYpHmS"
      },
      "execution_count": null,
      "outputs": []
    },
    {
      "cell_type": "markdown",
      "source": [
        "What is binomial distribution? What is the formula?\n"
      ],
      "metadata": {
        "id": "q18FQQcFpHpT"
      }
    },
    {
      "cell_type": "code",
      "source": [
        "\"\"\"\n",
        "The binomial is a type of distribution that has two possible outcomes (the prefix “bi” means two, or twice).For example, a coin toss has only two possible outcomes: \n",
        "heads or tails and taking a test could have two possible outcomes: pass or fail.\n",
        "\n",
        "A Binomial Distribution shows either (S)uccess or (F)ailure.\n",
        "\"\"\""
      ],
      "metadata": {
        "id": "Kd1WTVshpHpT"
      },
      "execution_count": null,
      "outputs": []
    },
    {
      "cell_type": "markdown",
      "source": [
        "What is Poisson distribution? What is the formula?"
      ],
      "metadata": {
        "id": "VTBnQevUpHsm"
      }
    },
    {
      "cell_type": "code",
      "source": [
        "\"\"\"\n",
        "A Poisson distribution is defined as a discrete frequency distribution that gives the probability of the number of independent events that occur in the fixed time.\n",
        "\n",
        "In statistics, a Poisson distribution is a probability distribution that is used to show how many times an event is likely to occur over a specified period. ... \n",
        "The Poisson distribution is a discrete function, meaning that the variable can only take specific values in a (potentially infinite) list.\n",
        "\"\"\""
      ],
      "metadata": {
        "id": "Lf8R0DuwpHsn"
      },
      "execution_count": null,
      "outputs": []
    },
    {
      "cell_type": "markdown",
      "source": [
        "Define covariance ?"
      ],
      "metadata": {
        "id": "oKZNvMYMpHwC"
      }
    },
    {
      "cell_type": "code",
      "source": [
        "\"\"\"\n",
        "Covariance is a measure of how much two random variables vary together. It's similar to variance, but where variance tells you how a single variable varies, \n",
        "co variance tells you how two variables vary together.\n",
        "\"\"\""
      ],
      "metadata": {
        "id": "IMoMpobbpHwC"
      },
      "execution_count": null,
      "outputs": []
    },
    {
      "cell_type": "markdown",
      "source": [
        "Define correlation ?"
      ],
      "metadata": {
        "id": "JYeOoDHKpKxX"
      }
    },
    {
      "cell_type": "code",
      "source": [
        "\"\"\"\n",
        "Correlation explains how one or more variables are related to each other. These variables can be input data features which have been used to forecast our \n",
        "target variable. It's a bi-variate analysis measure which describes the association between different variables.\n",
        "\"\"\""
      ],
      "metadata": {
        "id": "RMVTRF0npKxX"
      },
      "execution_count": null,
      "outputs": []
    },
    {
      "cell_type": "markdown",
      "source": [
        "Define sampling with replacement. Give example."
      ],
      "metadata": {
        "id": "GdNPjjIcpK1T"
      }
    },
    {
      "cell_type": "code",
      "source": [
        "\"\"\"\n",
        "If you sample with replacement, you would choose one person's name, put that person's name back in the hat, and then choose another name. The possibilities for your \n",
        "two-name sample are: John, John. John, Jack.\n",
        "\n",
        "\n",
        "\"\"\""
      ],
      "metadata": {
        "id": "EkEHfJfhpK1U"
      },
      "execution_count": null,
      "outputs": []
    },
    {
      "cell_type": "markdown",
      "source": [
        "What is sampling without replacement? Give example."
      ],
      "metadata": {
        "id": "6AVa1qhQpLU4"
      }
    },
    {
      "cell_type": "code",
      "source": [
        "\"\"\"\n",
        "In sampling without replacement, each sample unit of the population has only one chance to be selected in the sample. For example, \n",
        "if one draws a simple random sample such that no unit occurs more than one time in the sample, the sample is drawn without replacement.\n",
        "\"\"\""
      ],
      "metadata": {
        "id": "zXqd2AbMpLU5"
      },
      "execution_count": null,
      "outputs": []
    },
    {
      "cell_type": "markdown",
      "source": [
        "What is hypothesis? Give example."
      ],
      "metadata": {
        "id": "qwzeDHNzpLYj"
      }
    },
    {
      "cell_type": "code",
      "source": [
        "\"\"\"\n",
        "A hypothesis (plural hypotheses) is a proposed explanation for a phenomenon. For a hypothesis to be a scientific hypothesis, the scientific method requires that \n",
        "one can test it. ... Even though the words \"hypothesis\" and \"theory\" are often used synonymously, a scientific hypothesis is not the same as a scientific theory.\n",
        "\n",
        "xamples of hypothesis statements: If garlic repels fleas, then a dog that is given garlic every day will not get fleas. Bacterial growth may be affected by moisture \n",
        "levels in the air. If sugar causes cavities, then people who eat a lot of candy may be more prone to cavities.\n",
        "\"\"\""
      ],
      "metadata": {
        "id": "N_g8NoJcpLYj"
      },
      "execution_count": null,
      "outputs": []
    }
  ]
}