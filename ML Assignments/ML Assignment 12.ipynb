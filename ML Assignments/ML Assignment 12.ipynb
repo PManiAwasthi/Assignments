{
  "nbformat": 4,
  "nbformat_minor": 0,
  "metadata": {
    "colab": {
      "provenance": []
    },
    "kernelspec": {
      "name": "python3",
      "display_name": "Python 3"
    },
    "language_info": {
      "name": "python"
    }
  },
  "cells": [
    {
      "cell_type": "markdown",
      "source": [
        "What is prior probability ? Give an example ?"
      ],
      "metadata": {
        "id": "s8b9nKwVqPjq"
      }
    },
    {
      "cell_type": "code",
      "source": [
        "\"\"\"\n",
        "Prior probability shows the likelihood of an outcome in a given dataset. For example, in the mortgage case, P(Y) is the default rate on a home mortgage, \n",
        "which is 2%. P(Y|X) is called the conditional probability, which provides the probability of an outcome given the evidence, that is, when the value of X is known.\n",
        "\"\"\""
      ],
      "metadata": {
        "id": "syIFGfR9qPnj"
      },
      "execution_count": null,
      "outputs": []
    },
    {
      "cell_type": "markdown",
      "source": [
        "What is posterior probability ? Give an example ?\n"
      ],
      "metadata": {
        "id": "m_WDmOlZqezT"
      }
    },
    {
      "cell_type": "code",
      "source": [
        "\"\"\"\n",
        "Posterior probability is a revised probability that takes into account new available information. For example, let there be two urns, urn A having 5 black balls \n",
        "and 10 red balls and urn B having 10 black balls and 5 red balls.\n",
        "\"\"\""
      ],
      "metadata": {
        "id": "9_qPbvAyqezU"
      },
      "execution_count": null,
      "outputs": []
    },
    {
      "cell_type": "markdown",
      "source": [
        "What is likelihood probability ? Give an example ?"
      ],
      "metadata": {
        "id": "I2y7vn3eqe2q"
      }
    },
    {
      "cell_type": "code",
      "source": [
        "\"\"\"\n",
        "Likelihood Function in Machine Learning and Data Science is the joint probability distribution(jpd) of the dataset given as a function of the parameter. \n",
        "Think of it as the probability of obtaining the observed data given the parameter values.\n",
        "\n",
        "\"\"\""
      ],
      "metadata": {
        "id": "pwIH0pFEqe2q"
      },
      "execution_count": null,
      "outputs": []
    },
    {
      "cell_type": "markdown",
      "source": [
        "What is Naïve Bayes classifier ? Why is it named so ?"
      ],
      "metadata": {
        "id": "ybnhpv9eqe6D"
      }
    },
    {
      "cell_type": "code",
      "source": [
        "\"\"\"\n",
        "Naive Bayes is a simple and powerful algorithm for predictive modeling. Naive Bayes is called naive because it assumes that each input variable is independent. \n",
        "This is a strong assumption and unrealistic for real data; however, the technique is very effective on a large range of complex problems.\n",
        "\n",
        "\"\"\""
      ],
      "metadata": {
        "id": "OIvhLFpWqe6D"
      },
      "execution_count": null,
      "outputs": []
    },
    {
      "cell_type": "markdown",
      "source": [
        "What is optimal Bayes classifier ?"
      ],
      "metadata": {
        "id": "oZKHyod-qe9K"
      }
    },
    {
      "cell_type": "code",
      "source": [
        "\"\"\"\n",
        "The Bayes Optimal Classifier is a probabilistic model that makes the most probable prediction for a new example. Bayes Optimal Classifier is a probabilistic \n",
        "model that finds the most probable prediction using the training data and space of hypotheses to make a prediction for a new data instance.\n",
        "\"\"\""
      ],
      "metadata": {
        "id": "Od_gW7f7qe9K"
      },
      "execution_count": null,
      "outputs": []
    },
    {
      "cell_type": "markdown",
      "source": [
        "Write any two features of Bayesian learning methods ?"
      ],
      "metadata": {
        "id": "lKYXFUqWqfAf"
      }
    },
    {
      "cell_type": "code",
      "source": [
        "\"\"\"\n",
        "A probability distribution over observed data for each possible hypothesis. New instances can be classified by combining the predictions of multiple hypotheses, \n",
        "weighted by their probabilities.\n",
        "\n",
        "\"\"\""
      ],
      "metadata": {
        "id": "oaeKpMA4qfAf"
      },
      "execution_count": null,
      "outputs": []
    },
    {
      "cell_type": "markdown",
      "source": [
        "Define the concept of consistent learners ?"
      ],
      "metadata": {
        "id": "HtqxZVD-qfD8"
      }
    },
    {
      "cell_type": "code",
      "source": [
        "\"\"\"\n",
        "Consistent Learners: A learner L using a hypothesis H and training data D is said to be a consistent learner if it always outputs a hypothesis with zero error on \n",
        "D whenever H contains such a hypothesis. • By definition, a consistent learner must produce a hypothesis in the version space for H given D.\n",
        "\"\"\""
      ],
      "metadata": {
        "id": "wRipwEZfqfD9"
      },
      "execution_count": null,
      "outputs": []
    },
    {
      "cell_type": "markdown",
      "source": [
        "Write any two strengths of Bayes classifier ?"
      ],
      "metadata": {
        "id": "BdEoslZvqfHB"
      }
    },
    {
      "cell_type": "code",
      "source": [
        "\"\"\"\n",
        "This algorithm works quickly and can save a lot of time. Naive Bayes is suitable for solving multi-class prediction problems. If its assumption of the independence of \n",
        "features holds true, it can perform better than other models and requires much less training data.\n",
        "\"\"\"\n"
      ],
      "metadata": {
        "id": "MvZfhk0BqfHB"
      },
      "execution_count": null,
      "outputs": []
    },
    {
      "cell_type": "markdown",
      "source": [
        "Write any two weaknesses of Bayes classifier ?"
      ],
      "metadata": {
        "id": "hCtoQ7qLqfKF"
      }
    },
    {
      "cell_type": "code",
      "source": [
        "\"\"\"\n",
        "The greatest weakness of the naïve Bayes classifier is that it relies on an often-faulty assumption of equally important and independent features which \n",
        "results in biased posterior probabilities.\n",
        "\"\"\""
      ],
      "metadata": {
        "id": "KAOISV1vqfKF"
      },
      "execution_count": null,
      "outputs": []
    },
    {
      "cell_type": "markdown",
      "source": [
        "Explain how Naïve Bayes classifier is used for:<br><br>\n",
        "Text classification<br>\n",
        "Spam filtering<br>\n",
        "Market sentiment analysis\n"
      ],
      "metadata": {
        "id": "-JK_G9LhqfNK"
      }
    },
    {
      "cell_type": "code",
      "source": [
        "\"\"\"\n",
        "Text classification:\n",
        "The Naive Bayes classifier is a simple classifier that classifies based on probabilities of events. It is the applied commonly to text classification. With the training set, \n",
        "we can train a Naive Bayes classifier which we can use to automaticall categorize a new sentence.\n",
        "\n",
        "Spam filtering:\n",
        "Naive Bayes classifiers work by correlating the use of tokens (typically words, or sometimes other things), with spam and non-spam e-mails and then using Bayes' theorem to \n",
        "calculate a probability that an email is or is not spam. It is one of the oldest ways of doing spam filtering, with roots in the 1990s.\n",
        "\n",
        "Market sentiment analysis:\n",
        "Market Sentiment analysis is a field dedicated to extracting subjective emotions and feelings from text. One common use of sentiment analysis is to figure out if a text \n",
        "expresses negative or positive feelings. Naive Bayes is a popular algorithm for classifying text.\n",
        "\"\"\""
      ],
      "metadata": {
        "id": "OxmoNmAsqfNL"
      },
      "execution_count": null,
      "outputs": []
    }
  ]
}