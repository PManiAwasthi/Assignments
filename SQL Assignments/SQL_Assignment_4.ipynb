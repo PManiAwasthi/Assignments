{
  "nbformat": 4,
  "nbformat_minor": 0,
  "metadata": {
    "colab": {
      "provenance": []
    },
    "kernelspec": {
      "name": "python3",
      "display_name": "Python 3"
    },
    "language_info": {
      "name": "python"
    }
  },
  "cells": [
    {
      "cell_type": "markdown",
      "source": [
        "Write an SQL query to print the FIRST_NAME from Worker table after replacing ‘a’ with ‘A’."
      ],
      "metadata": {
        "id": "GEHClPh3VjRn"
      }
    },
    {
      "cell_type": "code",
      "source": [
        "\"\"\"\n",
        "SELECT REPLACE(FIRST_NAME,'a','A') FROM Wokrer;\n",
        "\"\"\""
      ],
      "metadata": {
        "id": "x2UuRew6VhwZ"
      },
      "execution_count": null,
      "outputs": []
    },
    {
      "cell_type": "markdown",
      "source": [
        "Write an SQL query to print all Worker details from the Worker table order by FIRST_NAME Ascending and DEPARTMENT Descending."
      ],
      "metadata": {
        "id": "YWooGz3hVkTf"
      }
    },
    {
      "cell_type": "code",
      "source": [
        "\"\"\"\n",
        "SELECT * FROM Worker ORDER BY FIRST_NAME ASC, LAST_NAME DESC;\n",
        "\"\"\""
      ],
      "metadata": {
        "id": "zsixdCJTVkTf"
      },
      "execution_count": null,
      "outputs": []
    },
    {
      "cell_type": "markdown",
      "source": [
        "Write an SQL query to fetch the names of workers who earn the highest salary."
      ],
      "metadata": {
        "id": "AkWJjD5DVkVc"
      }
    },
    {
      "cell_type": "code",
      "source": [
        "\"\"\"\n",
        "SELECT FIRST_NAME, LAST_NAME FROM Worker WHERE SALARY = (SELECT MAX(SALARY) FROM Worker);\n",
        "\"\"\""
      ],
      "metadata": {
        "id": "nSPRT4ZKVkVd"
      },
      "execution_count": null,
      "outputs": []
    }
  ]
}