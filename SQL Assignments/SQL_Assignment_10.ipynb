{
  "nbformat": 4,
  "nbformat_minor": 0,
  "metadata": {
    "colab": {
      "provenance": []
    },
    "kernelspec": {
      "name": "python3",
      "display_name": "Python 3"
    },
    "language_info": {
      "name": "python"
    }
  },
  "cells": [
    {
      "cell_type": "markdown",
      "source": [
        "Write an SQL query to determine the 5th highest salary without using TOP or limit method."
      ],
      "metadata": {
        "id": "NmCnZH7CXkiK"
      }
    },
    {
      "cell_type": "code",
      "source": [
        "\"\"\"\n",
        "SELECT * FROM (SELECT ROW_NUMBER() OVER (ORDER BY salary DESC) AS R_NUM, first_name, salary FROM employee) as HEllO WHERE R_NUM=5;\n",
        "\"\"\""
      ],
      "metadata": {
        "id": "QT_PzJ2SXk85"
      },
      "execution_count": null,
      "outputs": []
    },
    {
      "cell_type": "markdown",
      "source": [
        "Write an SQL query to fetch the list of employees with the same salary.\n"
      ],
      "metadata": {
        "id": "j4tl5FULXlBT"
      }
    },
    {
      "cell_type": "code",
      "source": [
        "\"\"\"\n",
        "SELECT * FROM employees ORDER BY salary ASC;\n",
        "\"\"\""
      ],
      "metadata": {
        "id": "PUL7fzkQXlFZ"
      },
      "execution_count": null,
      "outputs": []
    }
  ]
}