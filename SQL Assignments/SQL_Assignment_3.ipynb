{
  "nbformat": 4,
  "nbformat_minor": 0,
  "metadata": {
    "colab": {
      "provenance": []
    },
    "kernelspec": {
      "name": "python3",
      "display_name": "Python 3"
    },
    "language_info": {
      "name": "python"
    }
  },
  "cells": [
    {
      "cell_type": "markdown",
      "source": [
        "Write an SQL query to print the FIRST_NAME from Worker table after removing white spaces from the right side.\n"
      ],
      "metadata": {
        "id": "v2C9l0AbVSUx"
      }
    },
    {
      "cell_type": "code",
      "source": [
        "\"\"\"\n",
        "SELECT RTRIM(FIRST_NAME) FROM Worker;\n",
        "\"\"\""
      ],
      "metadata": {
        "id": "4lq9FLK6VSYL"
      },
      "execution_count": null,
      "outputs": []
    },
    {
      "cell_type": "markdown",
      "source": [
        "Write an SQL query that fetches the unique values of DEPARTMENT from Worker table and prints its length."
      ],
      "metadata": {
        "id": "jMn7AbquVU23"
      }
    },
    {
      "cell_type": "code",
      "source": [
        "\"\"\"\n",
        "SELECT DISTINCT(DEPARTMENT),LEN(DEPARTMENT) FROM Worker;\n",
        "\"\"\""
      ],
      "metadata": {
        "id": "6BePKm3QVU24"
      },
      "execution_count": null,
      "outputs": []
    },
    {
      "cell_type": "markdown",
      "source": [
        "Write an SQL query to fetch nth max salaries from a table.\n"
      ],
      "metadata": {
        "id": "b4ZVDzTXVU5B"
      }
    },
    {
      "cell_type": "code",
      "source": [
        "\"\"\"\n",
        "SELECT DISTINCT(Salary) FROM Worker ORDER BY Salary DESC LIMIT 1 OFFSET n;\n",
        "\"\"\""
      ],
      "metadata": {
        "id": "5ZZd2SFYVU5B"
      },
      "execution_count": null,
      "outputs": []
    }
  ]
}