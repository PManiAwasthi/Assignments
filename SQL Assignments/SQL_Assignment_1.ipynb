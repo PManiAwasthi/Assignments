{
  "nbformat": 4,
  "nbformat_minor": 0,
  "metadata": {
    "colab": {
      "provenance": []
    },
    "kernelspec": {
      "name": "python3",
      "display_name": "Python 3"
    },
    "language_info": {
      "name": "python"
    }
  },
  "cells": [
    {
      "cell_type": "markdown",
      "source": [
        " Write an SQL query to fetch “FIRST_NAME” from Worker table using the alias name as."
      ],
      "metadata": {
        "id": "xeikgbAHUy8X"
      }
    },
    {
      "cell_type": "code",
      "source": [
        "\"\"\"\n",
        "SELECT FIRST_NAME AS WORKER_NAME FROM Worker;\n",
        "\"\"\""
      ],
      "metadata": {
        "id": "Ri62APoEUzBD"
      },
      "execution_count": null,
      "outputs": []
    },
    {
      "cell_type": "markdown",
      "source": [
        "Write an SQL query to fetch unique values of DEPARTMENT from Worker table."
      ],
      "metadata": {
        "id": "867CDp0KU0Rb"
      }
    },
    {
      "cell_type": "code",
      "source": [
        "\"\"\"\n",
        "SELECT DISTINCT DEPARTMENT FROM Worker;\n",
        "\"\"\""
      ],
      "metadata": {
        "id": "NgaUVy3yU0Rb"
      },
      "execution_count": null,
      "outputs": []
    },
    {
      "cell_type": "markdown",
      "source": [
        "Write an SQL query to show the last 5 record from a table.\n"
      ],
      "metadata": {
        "id": "w3b1MvRfU0U0"
      }
    },
    {
      "cell_type": "code",
      "source": [
        "\"\"\"\n",
        "SELECT * from Worker ORDER by id DESC LIMIT 5;\n",
        "\"\"\""
      ],
      "metadata": {
        "id": "iJC--NUFU0U0"
      },
      "execution_count": null,
      "outputs": []
    }
  ]
}