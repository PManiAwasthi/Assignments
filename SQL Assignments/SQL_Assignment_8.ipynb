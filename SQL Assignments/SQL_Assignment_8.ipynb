{
  "nbformat": 4,
  "nbformat_minor": 0,
  "metadata": {
    "colab": {
      "provenance": []
    },
    "kernelspec": {
      "name": "python3",
      "display_name": "Python 3"
    },
    "language_info": {
      "name": "python"
    }
  },
  "cells": [
    {
      "cell_type": "markdown",
      "source": [
        "Write an SQL query to fetch intersecting records of two tables."
      ],
      "metadata": {
        "id": "6oWK_79AXN3S"
      }
    },
    {
      "cell_type": "code",
      "source": [
        "\"\"\"\n",
        "SELECT  FROM table_1 INTERSECT SELECT  FROM table_2;\n",
        "\"\"\""
      ],
      "metadata": {
        "id": "K6kVc7mZXN6N"
      },
      "execution_count": null,
      "outputs": []
    },
    {
      "cell_type": "markdown",
      "source": [
        "Write an SQL query to show records from one table that another table does not have."
      ],
      "metadata": {
        "id": "iVlNZOoGXOet"
      }
    },
    {
      "cell_type": "code",
      "source": [
        "\"\"\"\n",
        "SELECT * FROM table_1 EXCEPT SELECT * FROM table_2;\n",
        "\"\"\""
      ],
      "metadata": {
        "id": "CbX2tslxXOet"
      },
      "execution_count": null,
      "outputs": []
    }
  ]
}