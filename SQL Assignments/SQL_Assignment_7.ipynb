{
  "nbformat": 4,
  "nbformat_minor": 0,
  "metadata": {
    "colab": {
      "provenance": []
    },
    "kernelspec": {
      "name": "python3",
      "display_name": "Python 3"
    },
    "language_info": {
      "name": "python"
    }
  },
  "cells": [
    {
      "cell_type": "markdown",
      "source": [
        "Write an SQL query to show only odd rows from a table."
      ],
      "metadata": {
        "id": "oGw5_93YWRVv"
      }
    },
    {
      "cell_type": "code",
      "source": [
        "\"\"\"\n",
        "SELECT * FROM Worker Where MOD(worker_id,2) = 1\n",
        "\"\"\""
      ],
      "metadata": {
        "id": "JMH7nq2KWRZu"
      },
      "execution_count": null,
      "outputs": []
    },
    {
      "cell_type": "markdown",
      "source": [
        "Write an SQL query to clone a new table from another table."
      ],
      "metadata": {
        "id": "boyYNgQ1WSAU"
      }
    },
    {
      "cell_type": "code",
      "source": [
        "\"\"\"\n",
        "CREATE TABLE CloneWorker (\n",
        "    WORKER_ID INT NOT NULL AUTO INCREMENT PRIMARY KEY,\n",
        "    FIRST_NAME VARCHAR(50),\n",
        "    LAST_NAME VARCHAR(50),\n",
        "    SALARY INT,\n",
        "    DEPARTMENT VARCHAR(50),\n",
        "    JOINING_DATE DATETIME\n",
        ");\n",
        "\n",
        "INSERT INTO CloneWorker SELECT * FROM Worker;\n",
        "\"\"\""
      ],
      "metadata": {
        "id": "G0dR5iKjWSAV"
      },
      "execution_count": null,
      "outputs": []
    }
  ]
}