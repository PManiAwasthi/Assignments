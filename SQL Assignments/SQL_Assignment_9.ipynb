{
  "nbformat": 4,
  "nbformat_minor": 0,
  "metadata": {
    "colab": {
      "provenance": []
    },
    "kernelspec": {
      "name": "python3",
      "display_name": "Python 3"
    },
    "language_info": {
      "name": "python"
    }
  },
  "cells": [
    {
      "cell_type": "markdown",
      "source": [
        "Write an SQL query to show the top n (say 10) records of a table."
      ],
      "metadata": {
        "id": "PAlcwHQzXbBN"
      }
    },
    {
      "cell_type": "code",
      "source": [
        "\"\"\"\n",
        "SELECT TOP 10 * FROM Worker;\n",
        "SELECT * FROM Worker LIMIT 10;\n",
        "\"\"\""
      ],
      "metadata": {
        "id": "l15LWsOZXbF2"
      },
      "execution_count": null,
      "outputs": []
    },
    {
      "cell_type": "markdown",
      "source": [
        "Write an SQL query to determine the nth (say n=5) highest salary from a table."
      ],
      "metadata": {
        "id": "4KHFrlnOXbJ5"
      }
    },
    {
      "cell_type": "code",
      "source": [
        "\"\"\"\n",
        "SELECT DISTINCT(Salary) FROM Worker ORDER BY DESC LIMIT 1 OFFSET 5;\n",
        "\"\"\""
      ],
      "metadata": {
        "id": "TJ1NMCIBXbNr"
      },
      "execution_count": null,
      "outputs": []
    }
  ]
}