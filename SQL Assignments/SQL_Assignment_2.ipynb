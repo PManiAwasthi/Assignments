{
  "nbformat": 4,
  "nbformat_minor": 0,
  "metadata": {
    "colab": {
      "provenance": []
    },
    "kernelspec": {
      "name": "python3",
      "display_name": "Python 3"
    },
    "language_info": {
      "name": "python"
    }
  },
  "cells": [
    {
      "cell_type": "markdown",
      "source": [
        "Write an SQL query to print the first three characters of FIRST_NAME from Worker table.\n"
      ],
      "metadata": {
        "id": "MlxUY64sVC6i"
      }
    },
    {
      "cell_type": "code",
      "source": [
        "\"\"\"\n",
        "SELECT SUBSTRING(FIRST_NAME,1,3) FROM Worker;\n",
        "\"\"\""
      ],
      "metadata": {
        "id": "suUeWBNBVC_1"
      },
      "execution_count": null,
      "outputs": []
    },
    {
      "cell_type": "markdown",
      "source": [
        "Write an SQL query to find the position of the alphabet (‘a’) in the first name column ‘Amitabh’ from Worker table."
      ],
      "metadata": {
        "id": "7ncVpJ0rVDrc"
      }
    },
    {
      "cell_type": "code",
      "source": [
        "\"\"\"\n",
        "SELECT LOCATE('a',FIRST_NAME) FROM Worker WHERE FIRST_NAME = 'Amitabh';\n",
        "\"\"\""
      ],
      "metadata": {
        "id": "KRHORHD5VDrc"
      },
      "execution_count": null,
      "outputs": []
    },
    {
      "cell_type": "markdown",
      "source": [
        "Write an SQL query to print the name of employees having the highest salary in each department."
      ],
      "metadata": {
        "id": "s1bfSHPJVDwO"
      }
    },
    {
      "cell_type": "code",
      "source": [
        "\"\"\"\n",
        "SELECT first_name, last_name, salary, department FROM Worker w WHERE salary = (SELECT MAX(salary) FROM Worker WHERE department = w.department)\n",
        "\"\"\""
      ],
      "metadata": {
        "id": "4UOSyKyeVDwP"
      },
      "execution_count": null,
      "outputs": []
    }
  ]
}