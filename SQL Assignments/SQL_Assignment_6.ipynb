{
  "nbformat": 4,
  "nbformat_minor": 0,
  "metadata": {
    "colab": {
      "provenance": []
    },
    "kernelspec": {
      "name": "python3",
      "display_name": "Python 3"
    },
    "language_info": {
      "name": "python"
    }
  },
  "cells": [
    {
      "cell_type": "markdown",
      "source": [
        "Write an SQL query to print details of the Workers who have joined in Feb’2014.\n"
      ],
      "metadata": {
        "id": "spZCehWSWD5W"
      }
    },
    {
      "cell_type": "code",
      "source": [
        "\"\"\"\n",
        "SELECT * FROM Worker WHERE JOINING_DATE LIKE \"%2014-02%\"\n",
        "\"\"\""
      ],
      "metadata": {
        "id": "MLN8USHVWD_9"
      },
      "execution_count": null,
      "outputs": []
    },
    {
      "cell_type": "markdown",
      "source": [
        "Write an SQL query to fetch duplicate records having matching data in some fields of a table.\n"
      ],
      "metadata": {
        "id": "GcVBZSxoWFZb"
      }
    },
    {
      "cell_type": "code",
      "source": [
        "\"\"\"\n",
        "SELECT column_name, COUNT(column_name) FROM Worker GROUP BY FEILD HAVING COUNT(column_name) > 1;\n",
        "\"\"\""
      ],
      "metadata": {
        "id": "Hv_CJ--CWFZc"
      },
      "execution_count": null,
      "outputs": []
    },
    {
      "cell_type": "markdown",
      "source": [
        "How to remove duplicate rows from Employees table.\n"
      ],
      "metadata": {
        "id": "HLxYO_LIWFb3"
      }
    },
    {
      "cell_type": "code",
      "source": [
        "\"\"\"\n",
        "CREATE TABLE Employee (\n",
        "    ID INT PRIMARY KEY AUTO_INCREMENT NOT NULL,\n",
        "    FIRST_NAME VARCHAR(50),\n",
        "    LAST_NAME VARCHAR(50),\n",
        "    COUNTRY VARCHAR(50)\n",
        ");\n",
        "INSERT INTO Employee VALUES \n",
        "(1,'ADITYA','VARMA','INDIA'),\n",
        "(2,'ADITYA','VARMA','INDIA'),\n",
        "(3,'ADITYA','VARMA','INDIA'),\n",
        "(4,'STEVE','JOBS','USA'),\n",
        "(5,'STEVE','JOBS','USA'),\n",
        "(6,'STEVE','JOBS','USA');\n",
        "\n",
        "DELETE e1.* from employee e1 INNER JOIN employee e2 WHERE e1.id > e2.id AND e1.FIRST_NAME = e2.FIRST_NAME AND e1.LAST_NAME = e2.LAST_NAME AND e1.COUNTRY = e2.COUNTRY;\n",
        "\"\"\""
      ],
      "metadata": {
        "id": "Q4D1AIHhWFb3"
      },
      "execution_count": null,
      "outputs": []
    }
  ]
}