{
  "nbformat": 4,
  "nbformat_minor": 0,
  "metadata": {
    "colab": {
      "provenance": []
    },
    "kernelspec": {
      "name": "python3",
      "display_name": "Python 3"
    },
    "language_info": {
      "name": "python"
    }
  },
  "cells": [
    {
      "cell_type": "markdown",
      "source": [
        "Write an SQL query to print details of workers excluding first names, “Vipul” and “Satish” from Worker table."
      ],
      "metadata": {
        "id": "52inlnr_Vxnb"
      }
    },
    {
      "cell_type": "code",
      "source": [
        "\"\"\"\n",
        "SELECT * FROM Worker WHERE FIRST_NAME NOT IN ('Vipul','Satish');\n",
        "\"\"\""
      ],
      "metadata": {
        "id": "1Bf5SWpJVxsK"
      },
      "execution_count": null,
      "outputs": []
    },
    {
      "cell_type": "markdown",
      "source": [
        "Write an SQL query to print details of the Workers whose FIRST_NAME ends with ‘h’ and contains six alphabets."
      ],
      "metadata": {
        "id": "yb-aPlvXVzGW"
      }
    },
    {
      "cell_type": "code",
      "source": [
        "\"\"\"\n",
        "SELECT * FROM Worker WHERE FIRST_NAME LIKE '______h';\n",
        "\"\"\""
      ],
      "metadata": {
        "id": "_5Ay9CWBVzGX"
      },
      "execution_count": null,
      "outputs": []
    },
    {
      "cell_type": "markdown",
      "source": [
        "Write a query to validate Email of Employee."
      ],
      "metadata": {
        "id": "oiw8xrz4VzIW"
      }
    },
    {
      "cell_type": "code",
      "source": [
        "\"\"\"\n",
        "SELECT * FROM Worker WHERE email LIKE \"_%@_%._%\"\n",
        "\"\"\""
      ],
      "metadata": {
        "id": "URMC9IBGVzIX"
      },
      "execution_count": null,
      "outputs": []
    }
  ]
}