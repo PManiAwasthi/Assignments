{
  "nbformat": 4,
  "nbformat_minor": 0,
  "metadata": {
    "colab": {
      "provenance": []
    },
    "kernelspec": {
      "name": "python3",
      "display_name": "Python 3"
    },
    "language_info": {
      "name": "python"
    }
  },
  "cells": [
    {
      "cell_type": "markdown",
      "source": [
        "Create a function that takes the width, height and character and returns a picture frame as a 2D list."
      ],
      "metadata": {
        "id": "kjt5QtY3T6ag"
      }
    },
    {
      "cell_type": "code",
      "source": [
        "def get_frame(in_width,in_height,in_character):\n",
        "  if in_width <= 2:\n",
        "    print(\"Invalid\")\n",
        "  else:\n",
        "    out_list = []\n",
        "    for height in range(in_height):\n",
        "      if height == 0 or height == in_height-1:\n",
        "        out_list.append([in_width*in_character])\n",
        "      else:\n",
        "        out_list.append([in_character+' '*(in_width-2)+in_character])\n",
        "    for ele in out_list:\n",
        "      print(ele)\n",
        "    print()\n",
        "    \n",
        "get_frame(4, 5, \"#\")\n",
        "get_frame(10, 3, \"*\")\n",
        "get_frame(2, 5, \"0\")"
      ],
      "metadata": {
        "colab": {
          "base_uri": "https://localhost:8080/"
        },
        "id": "Z34f6ID8T6dz",
        "outputId": "493e6c0d-a969-4977-8c7b-31c1e1baf9fa"
      },
      "execution_count": 74,
      "outputs": [
        {
          "output_type": "stream",
          "name": "stdout",
          "text": [
            "['####']\n",
            "['#  #']\n",
            "['#  #']\n",
            "['#  #']\n",
            "['####']\n",
            "\n",
            "['**********']\n",
            "['*        *']\n",
            "['**********']\n",
            "\n",
            "Invalid\n"
          ]
        }
      ]
    },
    {
      "cell_type": "markdown",
      "source": [
        "Write three functions:<br>\n",
        "boolean_and<br>\n",
        "boolean_or<br>\n",
        "boolean_xor<br>\n",
        "These functions should evaluate a list of True and False values, starting from the leftmost element and evaluating pairwise."
      ],
      "metadata": {
        "id": "OGkL0JsJT7kC"
      }
    },
    {
      "cell_type": "code",
      "source": [
        "def boolean_and(in_list):\n",
        "  in_list_clone = in_list.copy()\n",
        "  while len(in_list) != 1:\n",
        "    x = in_list.pop(0)\n",
        "    y = in_list.pop(0)\n",
        "    in_list.insert(0,(x and y))\n",
        "  print(f'boolean_and({in_list_clone}) ➞ {in_list[0]}')\n",
        "    \n",
        "def boolean_or(in_list):\n",
        "  in_list_clone = in_list.copy()\n",
        "  while len(in_list) != 1:\n",
        "    x = in_list.pop(0)\n",
        "    y = in_list.pop(0)\n",
        "    in_list.insert(0,(x or y))\n",
        "print(f'boolean_or({in_list_clone}) ➞ {in_list[0]}')\n",
        "    \n",
        "def boolean_xor(in_list):\n",
        "  in_list_clone = in_list.copy()\n",
        "  while len(in_list) != 1:\n",
        "    x = in_list.pop(0)\n",
        "    y = in_list.pop(0)\n",
        "    in_list.insert(0,(x ^ y))\n",
        "  print(f'boolean_xor({in_list_clone}) ➞ {in_list[0]}')\n",
        "    \n",
        "boolean_and([True, True, False, True])\n",
        "boolean_or([True, True, False, False])\n",
        "boolean_xor([True, True, False, False])"
      ],
      "metadata": {
        "colab": {
          "base_uri": "https://localhost:8080/"
        },
        "id": "9M8_y4xYT7kC",
        "outputId": "93dd51f8-3a79-4315-f185-7f467b3fde1e"
      },
      "execution_count": 75,
      "outputs": [
        {
          "output_type": "stream",
          "name": "stdout",
          "text": [
            "boolean_and([True, True, False, True]) ➞ False\n",
            "boolean_or([True, True, False, False]) ➞ True\n",
            "boolean_xor([True, True, False, False]) ➞ False\n"
          ]
        }
      ]
    },
    {
      "cell_type": "markdown",
      "source": [
        "Create a function that creates a box based on dimension n"
      ],
      "metadata": {
        "id": "D_4xOrGST7nF"
      }
    },
    {
      "cell_type": "code",
      "source": [
        "def make_box(in_dimension):\n",
        "  out_list = []\n",
        "  for ele in range(in_dimension):\n",
        "    if ele == 0 or ele == in_dimension-1:\n",
        "      out_list.append('#'*in_dimension)\n",
        "    else:\n",
        "      out_list.append('#'+' '*(in_dimension-2)+'#')\n",
        "  for ele in out_list:\n",
        "    print(ele)\n",
        "    print()\n",
        "    \n",
        "make_box(5)   \n",
        "make_box(2)\n",
        "make_box(1)"
      ],
      "metadata": {
        "colab": {
          "base_uri": "https://localhost:8080/"
        },
        "id": "u2jWJruUT7nF",
        "outputId": "0f1cba78-d7c9-4ea9-b2a0-bbcf3cbd3aa2"
      },
      "execution_count": 76,
      "outputs": [
        {
          "output_type": "stream",
          "name": "stdout",
          "text": [
            "#####\n",
            "#   #\n",
            "#   #\n",
            "#   #\n",
            "#####\n",
            "\n",
            "##\n",
            "##\n",
            "\n",
            "#\n",
            "\n"
          ]
        }
      ]
    },
    {
      "cell_type": "markdown",
      "source": [
        "Given a common phrase, return False if any individual word in the phrase contains duplicate letters. Return True otherwise."
      ],
      "metadata": {
        "id": "fsq5xwG2T7pq"
      }
    },
    {
      "cell_type": "code",
      "source": [
        "def no_duplicate_letters(in_string):\n",
        "  out_put = None\n",
        "  for ele in in_string.split(' '):\n",
        "    if len(ele) == len(set(ele)):\n",
        "      out_put = True\n",
        "    else:\n",
        "      out_put = False\n",
        "      break\n",
        "  print(f'no_duplicate_letters({in_string}) ➞ {out_put}')\n",
        "    \n",
        "no_duplicate_letters(\"Fortune favours the bold.\")\n",
        "no_duplicate_letters(\"You can lead a horse to water, but you can't make him drink.\")\n",
        "no_duplicate_letters(\"Look before you leap.\")\n",
        "no_duplicate_letters(\"An apple a day keeps the doctor away.\")"
      ],
      "metadata": {
        "colab": {
          "base_uri": "https://localhost:8080/"
        },
        "id": "FPF4lBO3T7pr",
        "outputId": "24d0a85c-d215-4d2b-d640-ee1cb4cfa72b"
      },
      "execution_count": 77,
      "outputs": [
        {
          "output_type": "stream",
          "name": "stdout",
          "text": [
            "no_duplicate_letters(Fortune favours the bold.) ➞ True\n",
            "no_duplicate_letters(You can lead a horse to water, but you can't make him drink.) ➞ True\n",
            "no_duplicate_letters(Look before you leap.) ➞ False\n",
            "no_duplicate_letters(An apple a day keeps the doctor away.) ➞ False\n"
          ]
        }
      ]
    },
    {
      "cell_type": "markdown",
      "source": [
        " Write a regular expression that will match the states that voted yes to President Trump's impeachment. You must use RegEx positive lookahead."
      ],
      "metadata": {
        "id": "7EgDThgvT7sO"
      }
    },
    {
      "cell_type": "code",
      "source": [
        "import re\n",
        "txt = \"Texas = no, California = yes, Florida = yes, Michigan = no\"\n",
        "pattern = r'\\w+(?=\\s=\\syes*)'\n",
        "match = re.findall(pattern,txt)\n",
        "print(f're.findall{pattern,txt} ➞ {match}')"
      ],
      "metadata": {
        "colab": {
          "base_uri": "https://localhost:8080/"
        },
        "id": "KykkKq1KT7sO",
        "outputId": "c38a16f2-368c-46e7-f59c-17713ddef9ba"
      },
      "execution_count": 78,
      "outputs": [
        {
          "output_type": "stream",
          "name": "stdout",
          "text": [
            "re.findall('\\\\w+(?=\\\\s=\\\\syes*)', 'Texas = no, California = yes, Florida = yes, Michigan = no') ➞ ['California', 'Florida']\n"
          ]
        }
      ]
    },
    {
      "cell_type": "code",
      "source": [],
      "metadata": {
        "id": "QA5hqkjRUOY0"
      },
      "execution_count": null,
      "outputs": []
    }
  ]
}