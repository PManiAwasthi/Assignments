{
  "nbformat": 4,
  "nbformat_minor": 0,
  "metadata": {
    "colab": {
      "provenance": []
    },
    "kernelspec": {
      "name": "python3",
      "display_name": "Python 3"
    },
    "language_info": {
      "name": "python"
    }
  },
  "cells": [
    {
      "cell_type": "markdown",
      "source": [
        "Create a function that takes a number n (integer greater than zero) as an argument, and returns 2 if n is odd and 8 if n is even.<br>\n",
        "You can only use the following arithmetic operators:<br>\n",
        "addition of numbers +, subtraction of numbers -, multiplication of number *, division of number /, and exponentiation **.<br>\n",
        "You are not allowed to use any other methods in this challenge (i.e. no if statements, comparison operators, etc)."
      ],
      "metadata": {
        "id": "Ra-b2FhqQAmH"
      }
    },
    {
      "cell_type": "code",
      "source": [
        "def f(in_num):\n",
        "  output = [8,2]\n",
        "  print(f'f({in_num})➞ {output[in_num&1]}')\n",
        "    \n",
        "f(1)\n",
        "f(2)\n",
        "f(3)\n"
      ],
      "metadata": {
        "colab": {
          "base_uri": "https://localhost:8080/"
        },
        "id": "KTfalOoSQApr",
        "outputId": "8fd753b4-2fad-419a-bf9a-228ed6949963"
      },
      "execution_count": 49,
      "outputs": [
        {
          "output_type": "stream",
          "name": "stdout",
          "text": [
            "f(1)➞ 2\n",
            "f(2)➞ 8\n",
            "f(3)➞ 2\n"
          ]
        }
      ]
    },
    {
      "cell_type": "markdown",
      "source": [
        "Create a function that returns the majority vote in a list. A majority vote is an element that occurs > N/2 times in a list (where N is the length of the list)."
      ],
      "metadata": {
        "id": "c5qxvHw2QBL2"
      }
    },
    {
      "cell_type": "code",
      "source": [
        "def majority_vote(in_list):\n",
        "  out_list = None\n",
        "  for ele in set(in_list):\n",
        "    if in_list.count(ele) > (len(in_list)/2):\n",
        "      out_list = ele\n",
        "  print(f'majority_vote({in_list}) ➞ {out_list}')\n",
        "    \n",
        "majority_vote([\"A\", \"A\", \"B\"])\n",
        "majority_vote([\"A\", \"A\", \"A\", \"B\", \"C\", \"A\"])\n",
        "majority_vote([\"A\", \"B\", \"B\", \"A\", \"C\", \"C\"])"
      ],
      "metadata": {
        "colab": {
          "base_uri": "https://localhost:8080/"
        },
        "id": "S3xR1pb2QBL3",
        "outputId": "12860f9e-e8b7-442e-b622-8c945dc82de5"
      },
      "execution_count": 50,
      "outputs": [
        {
          "output_type": "stream",
          "name": "stdout",
          "text": [
            "majority_vote(['A', 'A', 'B']) ➞ A\n",
            "majority_vote(['A', 'A', 'A', 'B', 'C', 'A']) ➞ A\n",
            "majority_vote(['A', 'B', 'B', 'A', 'C', 'C']) ➞ None\n"
          ]
        }
      ]
    },
    {
      "cell_type": "markdown",
      "source": [
        "Create a function that takes a string txt and censors any word from a given list lst. The text removed must be replaced by the given character char."
      ],
      "metadata": {
        "id": "xSo4-mxnQBPZ"
      }
    },
    {
      "cell_type": "code",
      "source": [
        "def censor_string(in_string_1, in_string_2, rep_char):\n",
        "  out_string = []\n",
        "  for ele in in_string_1.split():\n",
        "    if ele.title() in in_string_2 or ele.lower() in in_string_2 or ele.upper() in in_string_2:\n",
        "      out_string.append(rep_char*len(ele))\n",
        "    else:\n",
        "      out_string.append(ele)\n",
        "  print(f'censor_string({in_string_1}) ➞ {\" \".join(out_string)}')\n",
        "\n",
        "censor_string(\"Today is a Wednesday!\", [\"Today\", \"a\"], \"-\")\n",
        "censor_string(\"The cow jumped over the moon.\", [\"cow\", \"over\"], \"*\")\n",
        "censor_string(\"Why did the chicken cross the road ?\", [\"Did\", \"chicken\", \"road\"], \"*\")"
      ],
      "metadata": {
        "colab": {
          "base_uri": "https://localhost:8080/"
        },
        "id": "PtSlPixTQBPZ",
        "outputId": "6924b4a0-04d1-43e0-f2a3-8ab86fad4ce2"
      },
      "execution_count": 51,
      "outputs": [
        {
          "output_type": "stream",
          "name": "stdout",
          "text": [
            "censor_string(Today is a Wednesday!) ➞ ----- is - Wednesday!\n",
            "censor_string(The cow jumped over the moon.) ➞ The *** jumped **** the moon.\n",
            "censor_string(Why did the chicken cross the road ?) ➞ Why *** the ******* cross the **** ?\n"
          ]
        }
      ]
    },
    {
      "cell_type": "markdown",
      "source": [
        "In mathematics a Polydivisible Number (or magic number) is a number in a given number base with digits abcde... that has the following properties:\n",
        "Its first digit a is not 0.<br>\n",
        "The number formed by its first two digits ab is a multiple of 2.<br>\n",
        "The number formed by its first three digits abc is a multiple of 3.<br>\n",
        "The number formed by its first four digits abcd is a multiple of 4.<br>\n",
        "Create a function which takes an integer n and returns True if the given number is a Polydivisible Number and False otherwise."
      ],
      "metadata": {
        "id": "Dp_dFCjfQBSU"
      }
    },
    {
      "cell_type": "code",
      "source": [
        "def is_polydivisible(in_num):\n",
        "  output = False\n",
        "  in_num_temp = str(in_num)\n",
        "  for ele in range(len(in_num_temp)):\n",
        "    if(int(in_num_temp[:ele+1])%(ele+1) == 0):\n",
        "      output = True\n",
        "    else:\n",
        "      output = False\n",
        "      break\n",
        "  print(f'is_polydivisible({in_num}) ➞ {output}')\n",
        "        \n",
        "is_polydivisible(1232)\n",
        "is_polydivisible(123220)"
      ],
      "metadata": {
        "colab": {
          "base_uri": "https://localhost:8080/"
        },
        "id": "4fC-7l3AQBSV",
        "outputId": "17dc9e5c-4ca4-402b-88c8-f6ca95605df1"
      },
      "execution_count": 52,
      "outputs": [
        {
          "output_type": "stream",
          "name": "stdout",
          "text": [
            "is_polydivisible(1232) ➞ True\n",
            "is_polydivisible(123220) ➞ False\n"
          ]
        }
      ]
    },
    {
      "cell_type": "markdown",
      "source": [
        "Create a function that takes a list of numbers and returns the sum of all prime numbers in the list"
      ],
      "metadata": {
        "id": "bNGCwOBgQBVc"
      }
    },
    {
      "cell_type": "code",
      "source": [
        "def sum_primes(in_list):\n",
        "  out_string = []\n",
        "  for ele in in_list:\n",
        "    if ele in [2,3]:\n",
        "      out_string.append(ele)\n",
        "    elif ele in [6*n-1 for n in range(0,ele)] or ele in [6*n+1 for n in range(0,ele)]:\n",
        "      out_string.append(ele)\n",
        "  if 1 in out_string:\n",
        "    out_string.remove(1)\n",
        "  print(f'sum_prices({in_list}) ➞ {sum(out_string) if len(out_string) > 0 else None}')\n",
        "        \n",
        "sum_primes([1, 2, 3, 4, 5, 6, 7, 8, 9, 10])\n",
        "sum_primes([2, 3, 4, 11, 20, 50, 71])\n",
        "sum_primes([])"
      ],
      "metadata": {
        "colab": {
          "base_uri": "https://localhost:8080/"
        },
        "id": "CnUWKVyoQBVd",
        "outputId": "750f1b91-603d-4649-c753-4916234c50d5"
      },
      "execution_count": 53,
      "outputs": [
        {
          "output_type": "stream",
          "name": "stdout",
          "text": [
            "sum_prices([1, 2, 3, 4, 5, 6, 7, 8, 9, 10]) ➞ 17\n",
            "sum_prices([2, 3, 4, 11, 20, 50, 71]) ➞ 87\n",
            "sum_prices([]) ➞ None\n"
          ]
        }
      ]
    },
    {
      "cell_type": "code",
      "source": [],
      "metadata": {
        "id": "Wdq9imSkQgBY"
      },
      "execution_count": null,
      "outputs": []
    }
  ]
}