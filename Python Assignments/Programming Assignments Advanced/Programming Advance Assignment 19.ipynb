{
  "nbformat": 4,
  "nbformat_minor": 0,
  "metadata": {
    "colab": {
      "provenance": []
    },
    "kernelspec": {
      "name": "python3",
      "display_name": "Python 3"
    },
    "language_info": {
      "name": "python"
    }
  },
  "cells": [
    {
      "cell_type": "markdown",
      "source": [
        "Create a checker board generator, which takes as inputs n and 2 elements to generate an n x n checkerboard with those two elements as alternating squares."
      ],
      "metadata": {
        "id": "8WtJJ2HLasC8"
      }
    },
    {
      "cell_type": "code",
      "source": [
        "def checker_board(grid_size,in_one,in_two):\n",
        "  if in_one != in_two:\n",
        "    input = [in_one,in_two]\n",
        "    output = []\n",
        "    for ele_1 in range(grid_size):\n",
        "      output.append([])\n",
        "      for ele_2 in range(grid_size):\n",
        "        output[ele_1].append(input[(ele_1+ele_2)%2])\n",
        "  else:\n",
        "    output = 'Invalid'\n",
        "  print(f'checker_board{grid_size,in_one,in_two} ➞ {output}')\n",
        "    \n",
        "checker_board(2, 7, 6)\n",
        "checker_board(3, \"A\", \"B\")\n",
        "checker_board(4, \"c\", \"d\")\n",
        "checker_board(4, \"c\", \"c\") "
      ],
      "metadata": {
        "colab": {
          "base_uri": "https://localhost:8080/"
        },
        "id": "VMuuTwBNasGd",
        "outputId": "68968236-788a-473a-fac6-8d78dd003e51"
      },
      "execution_count": 125,
      "outputs": [
        {
          "output_type": "stream",
          "name": "stdout",
          "text": [
            "checker_board(2, 7, 6) ➞ [[7, 6], [6, 7]]\n",
            "checker_board(3, 'A', 'B') ➞ [['A', 'B', 'A'], ['B', 'A', 'B'], ['A', 'B', 'A']]\n",
            "checker_board(4, 'c', 'd') ➞ [['c', 'd', 'c', 'd'], ['d', 'c', 'd', 'c'], ['c', 'd', 'c', 'd'], ['d', 'c', 'd', 'c']]\n",
            "checker_board(4, 'c', 'c') ➞ Invalid\n"
          ]
        }
      ]
    },
    {
      "cell_type": "markdown",
      "source": [
        "A string is an almost-palindrome if, by changing only one character, you can make it a palindrome. Create a function that returns True if a string is an almost-palindrome and False otherwise."
      ],
      "metadata": {
        "id": "kMtqz4-6atKA"
      }
    },
    {
      "cell_type": "code",
      "source": [
        "def almost_palindrome(in_string):\n",
        "  in_string_rev = in_string[::-1]\n",
        "  count = 0\n",
        "  for ele in range(len(in_string)):\n",
        "    if in_string[ele] != in_string_rev[ele]:\n",
        "      count +=1\n",
        "  output = True if count == 2 else False\n",
        "  print(f'almost_palindrome({in_string}) ➞ {output}')\n",
        "    \n",
        "almost_palindrome(\"abcdcbg\")\n",
        "almost_palindrome(\"abccia\")\n",
        "almost_palindrome(\"abcdaaa\")\n",
        "almost_palindrome(\"1234312\")"
      ],
      "metadata": {
        "colab": {
          "base_uri": "https://localhost:8080/"
        },
        "id": "fAOCCSbtatKA",
        "outputId": "032fa086-8cfb-4a36-de91-e91c986662dd"
      },
      "execution_count": 126,
      "outputs": [
        {
          "output_type": "stream",
          "name": "stdout",
          "text": [
            "almost_palindrome(abcdcbg) ➞ True\n",
            "almost_palindrome(abccia) ➞ True\n",
            "almost_palindrome(abcdaaa) ➞ False\n",
            "almost_palindrome(1234312) ➞ False\n"
          ]
        }
      ]
    },
    {
      "cell_type": "markdown",
      "source": [
        "Create a function that finds how many prime numbers there are, up to the given integer."
      ],
      "metadata": {
        "id": "SZIFfUZgatMe"
      }
    },
    {
      "cell_type": "code",
      "source": [
        "def prime_numbers(in_num):\n",
        "  out_num = 0\n",
        "  out_list = [2,3]\n",
        "  for ele in range(1,in_num+1):\n",
        "    if ele <= 3 and ele > 0:\n",
        "      out_num = 2 if ele==3 else 1 if ele ==2 else 0\n",
        "    elif ele > 3 and (((ele-1)%6 == 0) or ((ele+1)%6 == 0)):\n",
        "      out_num +=1\n",
        "      out_list.append(ele)    \n",
        "  for top in out_list:\n",
        "    for bottom in out_list:\n",
        "      if top != bottom:\n",
        "        if top%bottom == 0:\n",
        "          out_num -= 1\n",
        "  print(f'prime_numbers({in_num}) ➞ {out_num}')\n",
        "        \n",
        "prime_numbers(10)     \n",
        "prime_numbers(20)\n",
        "prime_numbers(30)"
      ],
      "metadata": {
        "colab": {
          "base_uri": "https://localhost:8080/"
        },
        "id": "bEmyWi_patMf",
        "outputId": "f69d2f3b-83ca-49ac-ef34-c88f771b8f9e"
      },
      "execution_count": 127,
      "outputs": [
        {
          "output_type": "stream",
          "name": "stdout",
          "text": [
            "prime_numbers(10) ➞ 4\n",
            "prime_numbers(20) ➞ 8\n",
            "prime_numbers(30) ➞ 10\n"
          ]
        }
      ]
    },
    {
      "cell_type": "markdown",
      "source": [
        " If today was Monday, in two days, it would be Wednesday.<br>\n",
        "Create a function that takes in a list of days as input and the number of days to increment by. Return a list of days after n number of days has passed."
      ],
      "metadata": {
        "id": "7DHXXW_DatOr"
      }
    },
    {
      "cell_type": "code",
      "source": [
        "def after_n_days(in_list,in_num):\n",
        "  week_dict = {0:'Sunday',1:'Monday',2:'Tuesday',3:'Wednesday',4:'Thursday',5:'Friday',6:'Saturday'}\n",
        "  week_days_no = list(week_dict.keys())\n",
        "  week_days_name = list(week_dict.values())\n",
        "  output = []\n",
        "  for ele in in_list:\n",
        "    output.append(week_dict[(week_days_name.index(ele)+in_num)%7])\n",
        "  print(f'after_n_days{in_list,in_num} ➞ {output}')\n",
        "    \n",
        "after_n_days([\"Thursday\", \"Monday\"], 4)\n",
        "after_n_days([\"Sunday\", \"Sunday\", \"Sunday\"], 1)\n",
        "after_n_days([\"Monday\", \"Tuesday\", \"Friday\"], 1)"
      ],
      "metadata": {
        "colab": {
          "base_uri": "https://localhost:8080/"
        },
        "id": "ZMkcviR_atOr",
        "outputId": "56124720-6eb5-445a-e365-1c3a18de386d"
      },
      "execution_count": 128,
      "outputs": [
        {
          "output_type": "stream",
          "name": "stdout",
          "text": [
            "after_n_days(['Thursday', 'Monday'], 4) ➞ ['Monday', 'Friday']\n",
            "after_n_days(['Sunday', 'Sunday', 'Sunday'], 1) ➞ ['Monday', 'Monday', 'Monday']\n",
            "after_n_days(['Monday', 'Tuesday', 'Friday'], 1) ➞ ['Tuesday', 'Wednesday', 'Saturday']\n"
          ]
        }
      ]
    },
    {
      "cell_type": "markdown",
      "source": [
        "You are in the process of creating a chat application and want to add an anonymous name feature. This anonymous name feature will create an alias that consists of two capitalized words beginning with the same letter as the users first name.<br>\n",
        "Create a function that determines if the list of users is mapped to a list of anonymous names correctly."
      ],
      "metadata": {
        "id": "vSk6lm13atQ8"
      }
    },
    {
      "cell_type": "code",
      "source": [
        "def is_correct_aliases(in_list_one, in_list_two):\n",
        "  output = False\n",
        "  if len(in_list_one) == len(in_list_two):\n",
        "    for ele in range(len(in_list_one)):\n",
        "      if in_list_one[ele].split(\" \")[0][0] == in_list_two[ele].split(\" \")[0][0] == in_list_two[ele].split(\" \")[1][0]:\n",
        "        output = True\n",
        "      else:\n",
        "        output = False\n",
        "        break\n",
        "  print(f'is_correct_aliases{in_list_one,in_list_two}➞{output}')\n",
        "\n",
        "is_correct_aliases([\"Beth T.\"],[\"Brandishing Mimosa\"])\n",
        "is_correct_aliases([\"Adrian M.\",\"Harriet S.\",\"Mandy T.\"], [\"Amazing Artichoke\", \"Hopeful Hedgehog\", \"Marvelous Mouse\"])\n",
        "is_correct_aliases([\"Rachel F.\",\"Pam G.\",\"Fred Z.\",\"Nancy K.\"], [\"Reassuring Rat\", \"Peaceful Panda\", \"Fantastic Frog\", \"Notable Nickel\"])"
      ],
      "metadata": {
        "colab": {
          "base_uri": "https://localhost:8080/"
        },
        "id": "IbrQSHkMatQ9",
        "outputId": "ea983787-b861-4037-bad1-e68f416a96b7"
      },
      "execution_count": 129,
      "outputs": [
        {
          "output_type": "stream",
          "name": "stdout",
          "text": [
            "is_correct_aliases(['Beth T.'], ['Brandishing Mimosa'])➞False\n",
            "is_correct_aliases(['Adrian M.', 'Harriet S.', 'Mandy T.'], ['Amazing Artichoke', 'Hopeful Hedgehog', 'Marvelous Mouse'])➞True\n",
            "is_correct_aliases(['Rachel F.', 'Pam G.', 'Fred Z.', 'Nancy K.'], ['Reassuring Rat', 'Peaceful Panda', 'Fantastic Frog', 'Notable Nickel'])➞True\n"
          ]
        }
      ]
    },
    {
      "cell_type": "code",
      "source": [],
      "metadata": {
        "id": "79PQqnRQa-ix"
      },
      "execution_count": null,
      "outputs": []
    }
  ]
}