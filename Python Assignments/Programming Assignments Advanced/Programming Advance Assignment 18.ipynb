{
  "nbformat": 4,
  "nbformat_minor": 0,
  "metadata": {
    "colab": {
      "provenance": []
    },
    "kernelspec": {
      "name": "python3",
      "display_name": "Python 3"
    },
    "language_info": {
      "name": "python"
    }
  },
  "cells": [
    {
      "cell_type": "markdown",
      "source": [
        "A robot has been given a list of movement instructions. Each instruction is either left, right, up or down, followed by a distance to move. The robot starts at [0, 0]. You want to calculate where the robot will end up and return its final position as a list.<br>\n",
        "To illustrate, if the robot is given the following instructions: [\"right 10\", \"up 50\", \"left 30\", \"down 10\"]<br>\n",
        "It will end up 20 left and 40 up from where it started, so we return [-20, 40].\n",
        "\n"
      ],
      "metadata": {
        "id": "v7CfYDMSaG2E"
      }
    },
    {
      "cell_type": "code",
      "source": [
        "def track_robot(in_list):\n",
        "  output = [0,0]\n",
        "  for ele in in_list:\n",
        "    ele = ele.split(\" \")\n",
        "    if ele[0] in ['right','left']:\n",
        "      output[0] = output[0]-int(ele[1]) if ele[0] == 'left' else output[0]+int(ele[1])\n",
        "    else:\n",
        "      output[1] = output[1]-int(ele[1]) if ele[0] == 'down' else output[1]+int(ele[1])\n",
        "  print(f'track_robot({in_list}) ➞ {output}')\n",
        "        \n",
        "track_robot([\"right 10\", \"up 50\", \"left 30\", \"down 10\"])\n",
        "track_robot([])\n",
        "track_robot([\"right 100\", \"right 100\", \"up 500\", \"up 10000\"])"
      ],
      "metadata": {
        "colab": {
          "base_uri": "https://localhost:8080/"
        },
        "id": "LehNuTGoaG5f",
        "outputId": "d81fe4d6-42e6-48e1-ce31-424008698d39"
      },
      "execution_count": 120,
      "outputs": [
        {
          "output_type": "stream",
          "name": "stdout",
          "text": [
            "track_robot(['right 10', 'up 50', 'left 30', 'down 10']) ➞ [-20, 40]\n",
            "track_robot([]) ➞ [0, 0]\n",
            "track_robot(['right 100', 'right 100', 'up 500', 'up 10000']) ➞ [200, 10500]\n"
          ]
        }
      ]
    },
    {
      "cell_type": "markdown",
      "source": [
        "Write a function that will return the longest word in a sentence. In cases where more than one word is found, return the first one."
      ],
      "metadata": {
        "id": "hGHKVt37aHVH"
      }
    },
    {
      "cell_type": "code",
      "source": [
        "def find_longest(in_string):\n",
        "  len_list = []\n",
        "  for ele in in_string.split(' '):\n",
        "    len_list.append(len(ele))\n",
        "  print(f'find_longest({in_string}) ➞ {in_string.split(\" \")[len_list.index(max(len_list))].lower()}')\n",
        "        \n",
        "find_longest(\"A thing of beauty is a joy forever.\")\n",
        "find_longest(\"Forgetfulness is by all means powerless!\")\n",
        "find_longest(\"\\\"Strengths\\\" is the longest and most commonly used word that contains only a single vowel.\")"
      ],
      "metadata": {
        "colab": {
          "base_uri": "https://localhost:8080/"
        },
        "id": "EC5hvKhWaHVI",
        "outputId": "3954fb6c-5b1b-4f2c-f9aa-fcac06a60fe1"
      },
      "execution_count": 121,
      "outputs": [
        {
          "output_type": "stream",
          "name": "stdout",
          "text": [
            "find_longest(A thing of beauty is a joy forever.) ➞ forever.\n",
            "find_longest(Forgetfulness is by all means powerless!) ➞ forgetfulness\n",
            "find_longest(\"Strengths\" is the longest and most commonly used word that contains only a single vowel.) ➞ \"strengths\"\n"
          ]
        }
      ]
    },
    {
      "cell_type": "markdown",
      "source": [
        "Create a function to check if a candidate is qualified in an imaginary coding interview of an imaginary tech startup.<br>\n",
        "The criteria for a candidate to be qualified in the coding interview is:\n",
        "<br><br>\n",
        "The candidate should have complete all the questions.<br>\n",
        "The maximum time given to complete the interview is 120 minutes.<br>\n",
        "The maximum time given for very easy questions is 5 minutes each.<br>\n",
        "The maximum time given for easy questions is 10 minutes each.<br>\n",
        "The maximum time given for medium questions is 15 minutes each.<br>\n",
        "The maximum time given for hard questions is 20 minutes each.<br>\n",
        "If all the above conditions are satisfied, return \"qualified\", else return \"disqualified\".\n",
        "<br><br>\n",
        "You will be given a list of time taken by a candidate to solve a particular question and the total time taken by the candidate to complete the interview.\n",
        "<br>\n",
        "Given a list , in a true condition will always be in the format [very easy, very easy, easy, easy, medium, medium, hard, hard].\n",
        "<br>\n",
        "The maximum time to complete the interview includes a buffer time of 20 minutes."
      ],
      "metadata": {
        "id": "qNExd4BsaHYH"
      }
    },
    {
      "cell_type": "code",
      "source": [
        "def interview(in_list, in_time):\n",
        "  output = 'qualified'\n",
        "  if in_time > 120 or max(in_list[0:2]) > 5 or max(in_list[2:4]) > 10 or max(in_list[4:6]) > 15 or max(in_list[6:8]) > 20 or len(in_list) != 8:\n",
        "    output = 'disqualified'\n",
        "  print(f'interview{in_list,in_time} ➞ {output}')\n",
        "    \n",
        "interview([5, 5, 10, 10, 15, 15, 20, 20], 120)\n",
        "interview([2, 3, 8, 6, 5, 12, 10, 18], 64)\n",
        "interview([5, 5, 10, 10, 25, 15, 20, 20], 120)\n",
        "interview([5, 5, 10, 10, 15, 15, 20], 120)\n",
        "interview([5, 5, 10, 10, 15, 15, 20, 20], 130)"
      ],
      "metadata": {
        "colab": {
          "base_uri": "https://localhost:8080/"
        },
        "id": "1dH8xRs-aHYI",
        "outputId": "a327d606-e421-4492-d10d-f899d8dca0c9"
      },
      "execution_count": 122,
      "outputs": [
        {
          "output_type": "stream",
          "name": "stdout",
          "text": [
            "interview([5, 5, 10, 10, 15, 15, 20, 20], 120) ➞ qualified\n",
            "interview([2, 3, 8, 6, 5, 12, 10, 18], 64) ➞ qualified\n",
            "interview([5, 5, 10, 10, 25, 15, 20, 20], 120) ➞ disqualified\n",
            "interview([5, 5, 10, 10, 15, 15, 20], 120) ➞ disqualified\n",
            "interview([5, 5, 10, 10, 15, 15, 20, 20], 130) ➞ disqualified\n"
          ]
        }
      ]
    },
    {
      "cell_type": "markdown",
      "source": [
        "Write a function that divides a list into chunks of size n, where n is the length of each chunk."
      ],
      "metadata": {
        "id": "t9WY1M6WaHaZ"
      }
    },
    {
      "cell_type": "code",
      "source": [
        "def chunkify(in_list,chunk_size):\n",
        "  output = []\n",
        "  for i in range(0,len(in_list),chunk_size):\n",
        "    output.append(in_list[i:i+chunk_size])\n",
        "  print(f'chunkify{in_list, chunk_size} ➞ {output}')\n",
        "    \n",
        "chunkify([2, 3, 4, 5], 2)   \n",
        "chunkify([2, 3, 4, 5, 6], 2)\n",
        "chunkify([2, 3, 4, 5, 6, 7], 3)\n",
        "chunkify([2, 3, 4, 5, 6, 7], 1)\n",
        "chunkify([2, 3, 4, 5, 6, 7], 7)"
      ],
      "metadata": {
        "colab": {
          "base_uri": "https://localhost:8080/"
        },
        "id": "E_t5qvv5aHaa",
        "outputId": "2b8e23c7-f894-402e-f43b-468f8cf55d06"
      },
      "execution_count": 123,
      "outputs": [
        {
          "output_type": "stream",
          "name": "stdout",
          "text": [
            "chunkify([2, 3, 4, 5], 2) ➞ [[2, 3], [4, 5]]\n",
            "chunkify([2, 3, 4, 5, 6], 2) ➞ [[2, 3], [4, 5], [6]]\n",
            "chunkify([2, 3, 4, 5, 6, 7], 3) ➞ [[2, 3, 4], [5, 6, 7]]\n",
            "chunkify([2, 3, 4, 5, 6, 7], 1) ➞ [[2], [3], [4], [5], [6], [7]]\n",
            "chunkify([2, 3, 4, 5, 6, 7], 7) ➞ [[2, 3, 4, 5, 6, 7]]\n"
          ]
        }
      ]
    },
    {
      "cell_type": "markdown",
      "source": [
        "You are given a list of strings consisting of grocery items, with prices in parentheses. Return a list of prices in float format."
      ],
      "metadata": {
        "id": "t-qRri2DaHcZ"
      }
    },
    {
      "cell_type": "code",
      "source": [
        "def get_prices(in_list):\n",
        "  out_list = []\n",
        "  for ele in in_list:\n",
        "    out_list.append(float((ele.split('$')[-1]).split(')')[0]))\n",
        "  print(f'get_prices({in_list}) ➞ {out_list}')\n",
        "        \n",
        "get_prices([\"salad ($4.99)\"])\n",
        "get_prices([\"artichokes ($1.99)\",\"rotiserrie chicken ($5.99)\",\"gum ($0.75)\"])\n",
        "get_prices([\"ice cream ($5.99)\",\"banana ($0.20)\",\"sandwich ($8.50)\",\"soup ($1.99)\"])"
      ],
      "metadata": {
        "colab": {
          "base_uri": "https://localhost:8080/"
        },
        "id": "0dd8IVA1aHcZ",
        "outputId": "996e10c2-6495-4ea3-bb3d-09baee4c884d"
      },
      "execution_count": 124,
      "outputs": [
        {
          "output_type": "stream",
          "name": "stdout",
          "text": [
            "get_prices(['salad ($4.99)']) ➞ [4.99]\n",
            "get_prices(['artichokes ($1.99)', 'rotiserrie chicken ($5.99)', 'gum ($0.75)']) ➞ [1.99, 5.99, 0.75]\n",
            "get_prices(['ice cream ($5.99)', 'banana ($0.20)', 'sandwich ($8.50)', 'soup ($1.99)']) ➞ [5.99, 0.2, 8.5, 1.99]\n"
          ]
        }
      ]
    },
    {
      "cell_type": "code",
      "source": [],
      "metadata": {
        "id": "chdUwWN6ac73"
      },
      "execution_count": null,
      "outputs": []
    }
  ]
}