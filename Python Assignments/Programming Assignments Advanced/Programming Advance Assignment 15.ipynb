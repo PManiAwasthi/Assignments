{
  "nbformat": 4,
  "nbformat_minor": 0,
  "metadata": {
    "colab": {
      "provenance": []
    },
    "kernelspec": {
      "name": "python3",
      "display_name": "Python 3"
    },
    "language_info": {
      "name": "python"
    }
  },
  "cells": [
    {
      "cell_type": "markdown",
      "source": [
        "Write a function that returns True if a given name can generate an array of words."
      ],
      "metadata": {
        "id": "uaH61qYXX8fn"
      }
    },
    {
      "cell_type": "code",
      "source": [
        "def anagram(in_string,in_list):\n",
        "  in_string_list = list(in_string.lower())\n",
        "  in_string_list.remove(' ')\n",
        "  not_exist_list = []\n",
        "  output = False\n",
        "  for item in in_list:\n",
        "    for ele in item:\n",
        "      if ele in in_string_list:\n",
        "        in_string_list.remove(ele)\n",
        "      else:\n",
        "        not_exist_list.append(ele)\n",
        "  if len(in_string_list) == 0 and len(not_exist_list) == 0:\n",
        "    output = True\n",
        "  print(f'anagram{in_string,in_list} ➞ {output}')\n",
        "            \n",
        "anagram(\"Justin Bieber\", [\"injures\", \"ebb\", \"it\"])\n",
        "anagram(\"Natalie Portman\", [\"ornamental\", \"pita\"])\n",
        "anagram(\"Chris Pratt\", [\"chirps\", \"rat\"])\n",
        "anagram(\"Jeff Goldblum\", [\"jog\", \"meld\", \"bluffs\"])\n"
      ],
      "metadata": {
        "colab": {
          "base_uri": "https://localhost:8080/"
        },
        "id": "YdFnP8aPX8kE",
        "outputId": "06ddce77-43d7-4a4d-91ce-b26801e3aa38"
      },
      "execution_count": 103,
      "outputs": [
        {
          "output_type": "stream",
          "name": "stdout",
          "text": [
            "anagram('Justin Bieber', ['injures', 'ebb', 'it']) ➞ True\n",
            "anagram('Natalie Portman', ['ornamental', 'pita']) ➞ True\n",
            "anagram('Chris Pratt', ['chirps', 'rat']) ➞ False\n",
            "anagram('Jeff Goldblum', ['jog', 'meld', 'bluffs']) ➞ False\n"
          ]
        }
      ]
    },
    {
      "cell_type": "markdown",
      "source": [
        " Given an array of users, each defined by an object with the following properties: name, score, reputation create a function that sorts the array to form the correct leaderboard.<br>\n",
        "The leaderboard takes into consideration the score of each user of course, but an emphasis is put on their reputation in the community, so to get the trueScore, you should add the reputation multiplied by 2 to the score.\n",
        "<br>\n",
        "Once you know the trueScore of each user, sort the array according to it in descending order."
      ],
      "metadata": {
        "id": "r7IWpm-mX954"
      }
    },
    {
      "cell_type": "code",
      "source": [
        "def leaderboards(in_list):\n",
        "  temp_dict = {}\n",
        "  out_list = []\n",
        "  for ele in in_list:\n",
        "    temp_dict[(ele['reputation']*2)+ele['score']] = ele\n",
        "  for ele in sorted(temp_dict.keys(),reverse=True):\n",
        "    out_list.append(temp_dict[ele])\n",
        "  print(f'leaderboards({in_list}) ➞ {out_list}')\n",
        "    \n",
        "leaderboards([\n",
        "  { \"name\": \"a\", \"score\": 100, \"reputation\": 20 },\n",
        "  { \"name\": \"b\", \"score\": 90, \"reputation\": 40 },\n",
        "  { \"name\": \"c\", \"score\": 115, \"reputation\": 30 },\n",
        "])"
      ],
      "metadata": {
        "colab": {
          "base_uri": "https://localhost:8080/"
        },
        "id": "vk87eG-dX955",
        "outputId": "fe045b1a-1131-40bc-a07c-16b22531fd8f"
      },
      "execution_count": 104,
      "outputs": [
        {
          "output_type": "stream",
          "name": "stdout",
          "text": [
            "leaderboards([{'name': 'a', 'score': 100, 'reputation': 20}, {'name': 'b', 'score': 90, 'reputation': 40}, {'name': 'c', 'score': 115, 'reputation': 30}]) ➞ [{'name': 'c', 'score': 115, 'reputation': 30}, {'name': 'b', 'score': 90, 'reputation': 40}, {'name': 'a', 'score': 100, 'reputation': 20}]\n"
          ]
        }
      ]
    },
    {
      "cell_type": "markdown",
      "source": [
        "Create a function that, given a phrase and a number of letters guessed, returns a string with hyphens - for every letter of the phrase not guessed, and each letter guessed in place."
      ],
      "metadata": {
        "id": "H8Aps_xYX98b"
      }
    },
    {
      "cell_type": "code",
      "source": [
        "def hangman(in_string,in_list):\n",
        "  out_string = ''\n",
        "  for ele in range(len(in_string)):\n",
        "    if in_string[ele].lower() in in_list:\n",
        "      out_string += in_string[ele]\n",
        "    elif in_string[ele] in '\"! ':\n",
        "      out_string += in_string[ele]\n",
        "    else:\n",
        "      out_string += '-'\n",
        "  print(f'hangman{in_string,in_list} ➞ {out_string}')\n",
        "        \n",
        "hangman(\"helicopter\", [\"o\", \"e\", \"s\"])\n",
        "hangman(\"tree\", [\"r\", \"t\", \"e\"])\n",
        "hangman(\"Python rules\", [\"a\", \"n\", \"p\", \"r\", \"z\"])\n",
        "hangman(\"He\\\"s a very naughty boy!\", [\"e\", \"a\", \"y\"])\n"
      ],
      "metadata": {
        "colab": {
          "base_uri": "https://localhost:8080/"
        },
        "id": "qGfl6oo-X98c",
        "outputId": "1542da70-9ad0-4a40-e0a4-0884cfd8faad"
      },
      "execution_count": 105,
      "outputs": [
        {
          "output_type": "stream",
          "name": "stdout",
          "text": [
            "hangman('helicopter', ['o', 'e', 's']) ➞ -e---o--e-\n",
            "hangman('tree', ['r', 't', 'e']) ➞ tree\n",
            "hangman('Python rules', ['a', 'n', 'p', 'r', 'z']) ➞ P----n r----\n",
            "hangman('He\"s a very naughty boy!', ['e', 'a', 'y']) ➞ -e\"- a -e-y -a----y --y!\n"
          ]
        }
      ]
    },
    {
      "cell_type": "markdown",
      "source": [
        "The Collatz sequence is as follows:<br>\n",
        "Start with some given integer n.<br>\n",
        "If it is even, the next number will be n divided by 2.<br>\n",
        "If it is odd, multiply it by 3 and add 1 to make the next number.<br>\n",
        "The sequence stops when it reaches 1.<br><br>\n",
        "According to the Collatz conjecture, it will always reach 1. If that's true, you can construct a finite sequence following the aforementioned method for any given integer.<br>\n",
        "\n",
        "Write a function that takes in an integer n and returns the highest integer in the corresponding Collatz sequence."
      ],
      "metadata": {
        "id": "Zw7k1meHX9-7"
      }
    },
    {
      "cell_type": "code",
      "source": [
        "def max_collatz(in_num):\n",
        "  out_list = []\n",
        "  out_list.append(in_num)\n",
        "  temp_in_num = in_num\n",
        "  while True:\n",
        "    if temp_in_num%2 == 0:\n",
        "      temp_in_num /= 2\n",
        "    else:\n",
        "      temp_in_num = (temp_in_num*3)+1\n",
        "    out_list.append(int(temp_in_num))\n",
        "    if temp_in_num ==1:\n",
        "      break\n",
        "            \n",
        "  x= str(out_list)\n",
        "  print(f'max_collatz({in_num}) ➞ {max(out_list)}')\n",
        "\n",
        "max_collatz(10)\n",
        "max_collatz(32)\n",
        "max_collatz(85)"
      ],
      "metadata": {
        "colab": {
          "base_uri": "https://localhost:8080/"
        },
        "id": "IlVYV3SXX9-8",
        "outputId": "a5b19a2d-d513-4055-adee-646d713f817d"
      },
      "execution_count": 108,
      "outputs": [
        {
          "output_type": "stream",
          "name": "stdout",
          "text": [
            "max_collatz(10) ➞ 16\n",
            "max_collatz(32) ➞ 32\n",
            "max_collatz(85) ➞ 256\n"
          ]
        }
      ]
    },
    {
      "cell_type": "markdown",
      "source": [
        "Write a function that sorts a list of integers by their digit length in descending order, then settles ties by sorting numbers with the same digit length in ascending order."
      ],
      "metadata": {
        "id": "dpxiI42dX-BN"
      }
    },
    {
      "cell_type": "code",
      "source": [
        "def digit_sort(in_list):\n",
        "  max_len = len(str(max(in_list)))\n",
        "  output = []\n",
        "  for item in range(max_len,0,-1):\n",
        "    temp = []\n",
        "    for ele in in_list:\n",
        "      if len(str(ele)) == item:\n",
        "        temp.append(ele)\n",
        "    output.extend(sorted(temp))\n",
        "  print(f'digit_sort({in_list}) ➞ {output}')\n",
        "    \n",
        "digit_sort([77, 23, 5, 7, 101])\n",
        "digit_sort([1, 5, 9, 2, 789, 563, 444])\n",
        "digit_sort([53219, 3772, 564, 32, 1])"
      ],
      "metadata": {
        "colab": {
          "base_uri": "https://localhost:8080/"
        },
        "id": "7aTrIfSuX-BN",
        "outputId": "aede474f-d638-4d3b-b0ac-08c13c03de5d"
      },
      "execution_count": 109,
      "outputs": [
        {
          "output_type": "stream",
          "name": "stdout",
          "text": [
            "digit_sort([77, 23, 5, 7, 101]) ➞ [101, 23, 77, 5, 7]\n",
            "digit_sort([1, 5, 9, 2, 789, 563, 444]) ➞ [444, 563, 789, 1, 2, 5, 9]\n",
            "digit_sort([53219, 3772, 564, 32, 1]) ➞ [53219, 3772, 564, 32, 1]\n"
          ]
        }
      ]
    },
    {
      "cell_type": "code",
      "source": [],
      "metadata": {
        "id": "8NYC8lyFYVuB"
      },
      "execution_count": null,
      "outputs": []
    }
  ]
}