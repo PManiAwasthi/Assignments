{
  "nbformat": 4,
  "nbformat_minor": 0,
  "metadata": {
    "colab": {
      "provenance": []
    },
    "kernelspec": {
      "name": "python3",
      "display_name": "Python 3"
    },
    "language_info": {
      "name": "python"
    }
  },
  "cells": [
    {
      "cell_type": "markdown",
      "source": [
        "YouTube offers different playback speed options for users. This allows users to increase or decrease the speed of the video content. Given the actual duration and playback speed of the video, calculate the playback duration of the video."
      ],
      "metadata": {
        "id": "5DqtWy_iTV0M"
      }
    },
    {
      "cell_type": "code",
      "source": [
        "def playback_duration(in_time,playback_speed):\n",
        "  time = in_time.split(\":\")\n",
        "  time_in_secs = (3600*int(time[0])+60*int(time[1])+int(time[2]))/playback_speed\n",
        "  f_time_in_hours = str(int(time_in_secs/3600)) if time_in_secs > 3600 else '00'\n",
        "  f_time_in_mins = str(int((time_in_secs%3600)/60)) if (time_in_secs)%3600 > 60 else '00'\n",
        "  f_time_in_secs = str(int((time_in_secs%3600)%60)) if ((time_in_secs)%3600)%60 > 0 else '00'   \n",
        "  output = f'{f_time_in_hours}:{f_time_in_mins}:{f_time_in_secs}'\n",
        "  print(f'playback_duration{in_time, playback_speed} ➞ {output}')\n",
        "    \n",
        "playback_duration(\"00:30:00\", 2)\n",
        "playback_duration(\"01:20:00\", 1.5)\n",
        "playback_duration(\"51:20:09\", 0.5) "
      ],
      "metadata": {
        "colab": {
          "base_uri": "https://localhost:8080/"
        },
        "id": "ansfAnhXTV51",
        "outputId": "b8aea342-27d8-4d7d-df5c-da194b36be00"
      },
      "execution_count": 69,
      "outputs": [
        {
          "output_type": "stream",
          "name": "stdout",
          "text": [
            "playback_duration('00:30:00', 2) ➞ 00:15:00\n",
            "playback_duration('01:20:00', 1.5) ➞ 00:53:20\n",
            "playback_duration('51:20:09', 0.5) ➞ 102:40:18\n"
          ]
        }
      ]
    },
    {
      "cell_type": "markdown",
      "source": [
        "We needs your help to construct a building which will be a pile of n cubes. The cube at the bottom will have a volume of n^3, the cube above will have volume of (n-1)^3 and so on until the top which will have a volume of 1^3.<br>\n",
        "Given the total volume m of the building, can you find the number of cubes n required for the building?<br>\n",
        "In other words, you have to return an integer n such that: n^3 + (n-1)^3 + ... + 1^3 == m<br>\n",
        "Return None if there is no such number."
      ],
      "metadata": {
        "id": "5JjJy3YuTWsL"
      }
    },
    {
      "cell_type": "code",
      "source": [
        "def pile_of_cubes(in_volume):\n",
        "  out_volume = 0\n",
        "  output = 0\n",
        "  for cube in range(1,in_volume):\n",
        "    out_volume += pow(cube,3)\n",
        "    if in_volume <= out_volume:\n",
        "      output = cube if in_volume == out_volume else None\n",
        "      break\n",
        "  print(f'pile_of_cubes({in_volume}) ➞ {output}')\n",
        "\n",
        "pile_of_cubes(1071225)\n",
        "pile_of_cubes(4183059834009)\n",
        "pile_of_cubes(16)"
      ],
      "metadata": {
        "colab": {
          "base_uri": "https://localhost:8080/"
        },
        "id": "Nb2kodOPTWsM",
        "outputId": "d35d210a-822e-4025-aa77-4aa40ef08561"
      },
      "execution_count": 70,
      "outputs": [
        {
          "output_type": "stream",
          "name": "stdout",
          "text": [
            "pile_of_cubes(1071225) ➞ 45\n",
            "pile_of_cubes(4183059834009) ➞ 2022\n",
            "pile_of_cubes(16) ➞ None\n"
          ]
        }
      ]
    },
    {
      "cell_type": "markdown",
      "source": [
        "A fulcrum of a list is an integer such that all elements to the left of it and all elements to the right of it sum to the same value. Write a function that finds the fulcrum of a list."
      ],
      "metadata": {
        "id": "EpWCFmFITWu2"
      }
    },
    {
      "cell_type": "code",
      "source": [
        "def find_fulcrum(in_list):\n",
        "  output = -1\n",
        "  for ele in in_list:\n",
        "    index_of_ele =in_list.index(ele)\n",
        "    if sum(in_list[:index_of_ele]) == sum(in_list[index_of_ele+1:]):\n",
        "      output = ele\n",
        "      break\n",
        "  print(f'find_fulcrum({in_list}) ➞ {output}')\n",
        "        \n",
        "find_fulcrum([3, 1, 5, 2, 4, 6, -1])\n",
        "find_fulcrum([1, 2, 4, 9, 10, -10, -9, 3])\n",
        "find_fulcrum([9, 1, 9])\n",
        "find_fulcrum([7, -1, 0, -1, 1, 1, 2, 3])\n",
        "find_fulcrum([8, 8, 8, 8])"
      ],
      "metadata": {
        "colab": {
          "base_uri": "https://localhost:8080/"
        },
        "id": "rf8V8gskTWu2",
        "outputId": "c3548341-654f-40fb-f7f8-a5e3173c8567"
      },
      "execution_count": 71,
      "outputs": [
        {
          "output_type": "stream",
          "name": "stdout",
          "text": [
            "find_fulcrum([3, 1, 5, 2, 4, 6, -1]) ➞ 2\n",
            "find_fulcrum([1, 2, 4, 9, 10, -10, -9, 3]) ➞ 4\n",
            "find_fulcrum([9, 1, 9]) ➞ 1\n",
            "find_fulcrum([7, -1, 0, -1, 1, 1, 2, 3]) ➞ 0\n",
            "find_fulcrum([8, 8, 8, 8]) ➞ -1\n"
          ]
        }
      ]
    },
    {
      "cell_type": "markdown",
      "source": [
        " Given a list of integers representing the color of each sock, determine how many pairs of socks with matching colors there are. For example, there are 7 socks with colors [1, 2, 1, 2, 1, 3, 2]. There is one pair of color 1 and one of color 2. There are three odd socks left, one of each color. The number of pairs is 2.<br>\n",
        "Create a function that returns an integer representing the number of matching pairs of socks that are available."
      ],
      "metadata": {
        "id": "VSyUlwPcTWxG"
      }
    },
    {
      "cell_type": "code",
      "source": [
        "def sock_merchant(in_list):\n",
        "  paired_socks = {}\n",
        "  output = 0\n",
        "  for ele in in_list:\n",
        "    if ele in paired_socks:\n",
        "      paired_socks[ele]+=1\n",
        "    else:\n",
        "      paired_socks[ele]=1\n",
        "  for pair in paired_socks.values():\n",
        "    output += pair//2\n",
        "  print(f'sock_merchant({in_list}) ➞ {output}')\n",
        "    \n",
        "\n",
        "sock_merchant([10, 20, 20, 10, 10, 30, 50, 10, 20])\n",
        "sock_merchant([50, 20, 30, 90, 30, 20, 50, 20, 90])\n",
        "sock_merchant([])"
      ],
      "metadata": {
        "colab": {
          "base_uri": "https://localhost:8080/"
        },
        "id": "QFMkUt3LTWxG",
        "outputId": "0f41f0ab-0dd6-45fb-9115-0e50a4597823"
      },
      "execution_count": 72,
      "outputs": [
        {
          "output_type": "stream",
          "name": "stdout",
          "text": [
            "sock_merchant([10, 20, 20, 10, 10, 30, 50, 10, 20]) ➞ 3\n",
            "sock_merchant([50, 20, 30, 90, 30, 20, 50, 20, 90]) ➞ 4\n",
            "sock_merchant([]) ➞ 0\n"
          ]
        }
      ]
    },
    {
      "cell_type": "markdown",
      "source": [
        "Create a function that takes a string containing integers as well as other characters and return the sum of the negative integers only."
      ],
      "metadata": {
        "id": "yjM0X7luTWzM"
      }
    },
    {
      "cell_type": "code",
      "source": [
        "import re\n",
        "def negative_sum(in_string):\n",
        "  pattern = '-\\d+'\n",
        "  output = sum([int(ele) for ele in re.findall(pattern,in_string)])\n",
        "  print(f'negative_sum(\"{in_string}\") ➞ {output}')\n",
        "    \n",
        "negative_sum(\"-12 13%14&-11\")\n",
        "negative_sum(\"22 13%14&-11-22 13 12\")"
      ],
      "metadata": {
        "colab": {
          "base_uri": "https://localhost:8080/"
        },
        "id": "5vIOZBWzTWzM",
        "outputId": "64851d40-a164-4838-b49e-bd11c904d42e"
      },
      "execution_count": 73,
      "outputs": [
        {
          "output_type": "stream",
          "name": "stdout",
          "text": [
            "negative_sum(\"-12 13%14&-11\") ➞ -23\n",
            "negative_sum(\"22 13%14&-11-22 13 12\") ➞ -33\n"
          ]
        }
      ]
    },
    {
      "cell_type": "code",
      "source": [],
      "metadata": {
        "id": "teOlULrgTr_p"
      },
      "execution_count": null,
      "outputs": []
    }
  ]
}