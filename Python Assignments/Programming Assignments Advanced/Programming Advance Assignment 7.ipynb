{
  "nbformat": 4,
  "nbformat_minor": 0,
  "metadata": {
    "colab": {
      "provenance": []
    },
    "kernelspec": {
      "name": "python3",
      "display_name": "Python 3"
    },
    "language_info": {
      "name": "python"
    }
  },
  "cells": [
    {
      "cell_type": "markdown",
      "source": [
        "Write a function that counts how many concentric layers a rug."
      ],
      "metadata": {
        "id": "bR3ZKaVoRxl7"
      }
    },
    {
      "cell_type": "code",
      "source": [
        "def count_layers(in_list):\n",
        "  out_list = []\n",
        "  for ele in in_list:\n",
        "    if ele not in out_list:\n",
        "      out_list.append(ele)\n",
        "  print(f'count_layers({in_list}) ➞ {len(out_list)}')\n",
        "\n",
        "count_layers([\"AAAA\",\"ABBA\",\"AAAA\"])\n",
        "count_layers([\"AAAAAAAAA\",\"ABBBBBBBA\",\"ABBAAABBA\",\"ABBBBBBBA\",\"AAAAAAAAA\"])\n",
        "count_layers([\"AAAAAAAAAAA\",\"AABBBBBBBAA\",\"AABCCCCCBAA\",\"AABCAAACBAA\",\"AABCADACBAA\",\"AABCAAACBAA\",\"AABCCCCCBAA\",\"AABBBBBBBAA\",\"AAAAAAAAAAA\"])"
      ],
      "metadata": {
        "colab": {
          "base_uri": "https://localhost:8080/"
        },
        "id": "4tiF_yCjRxsC",
        "outputId": "85b634d7-e6f3-47bd-c854-ff228548988d"
      },
      "execution_count": 59,
      "outputs": [
        {
          "output_type": "stream",
          "name": "stdout",
          "text": [
            "count_layers(['AAAA', 'ABBA', 'AAAA']) ➞ 2\n",
            "count_layers(['AAAAAAAAA', 'ABBBBBBBA', 'ABBAAABBA', 'ABBBBBBBA', 'AAAAAAAAA']) ➞ 3\n",
            "count_layers(['AAAAAAAAAAA', 'AABBBBBBBAA', 'AABCCCCCBAA', 'AABCAAACBAA', 'AABCADACBAA', 'AABCAAACBAA', 'AABCCCCCBAA', 'AABBBBBBBAA', 'AAAAAAAAAAA']) ➞ 5\n"
          ]
        }
      ]
    },
    {
      "cell_type": "markdown",
      "source": [
        "There are many different styles of music and many albums exhibit multiple styles. Create a function that takes a list of musical styles from albums and returns how many styles are unique."
      ],
      "metadata": {
        "id": "KAY77QERRykk"
      }
    },
    {
      "cell_type": "code",
      "source": [
        "def unique_styles(in_list):\n",
        "  out_list = []\n",
        "  for ele in in_list:\n",
        "    for sub_ele in ele.split(','):\n",
        "      out_list.append(sub_ele)\n",
        "  print(f'unique_styles({in_list}) ➞ {len(set(out_list))}')\n",
        "                \n",
        "unique_styles([\"Dub,Dancehall\",\"Industrial,Heavy Metal\",\"Techno,Dubstep\",\"Synth-pop,Euro-Disco\",\"Industrial,Techno,Minimal\"]) \n",
        "unique_styles([\"Soul\",\"House,Folk\",\"Trance,Downtempo,Big Beat,House\",\"Deep House\",\"Soul\"])"
      ],
      "metadata": {
        "colab": {
          "base_uri": "https://localhost:8080/"
        },
        "id": "XGJOeZfQRykk",
        "outputId": "131e624c-ddec-43f4-b2fc-8cd81affff7a"
      },
      "execution_count": 60,
      "outputs": [
        {
          "output_type": "stream",
          "name": "stdout",
          "text": [
            "unique_styles(['Dub,Dancehall', 'Industrial,Heavy Metal', 'Techno,Dubstep', 'Synth-pop,Euro-Disco', 'Industrial,Techno,Minimal']) ➞ 9\n",
            "unique_styles(['Soul', 'House,Folk', 'Trance,Downtempo,Big Beat,House', 'Deep House', 'Soul']) ➞ 7\n"
          ]
        }
      ]
    },
    {
      "cell_type": "markdown",
      "source": [
        "Create a function that finds a target number in a list of prime numbers. Implement a binary search algorithm in your function. The target number will be from 2 through 97. If the target is prime then return \"yes\" else return \"no\"."
      ],
      "metadata": {
        "id": "YR-5P6u3Rynf"
      }
    },
    {
      "cell_type": "code",
      "source": [
        "primes = [2, 3, 5, 7, 11, 13, 17, 19, 23, 29, 31, 37, 41, 43, 47, 53, 59, 61, 67, 71, 73, 79, 83, 89, 97]\n",
        "\n",
        "def is_prime(in_list,in_num):\n",
        "  output = 'No'\n",
        "  start_point = 0\n",
        "  end_point = len(in_list) - 1\n",
        "  mid_point = 0\n",
        "  while start_point <= end_point:\n",
        "    mid_point = (end_point+start_point)//2\n",
        "    if in_list[mid_point] < in_num:\n",
        "      start_point = mid_point + 1\n",
        "    elif in_list[mid_point] > in_num:\n",
        "      end_point = mid_point - 1\n",
        "    else:\n",
        "      output = 'Yes'\n",
        "      break\n",
        "  print(f'is_prime({in_num}) ➞ {output}')\n",
        "\n",
        "is_prime(primes, 3)\n",
        "is_prime(primes, 4)\n",
        "is_prime(primes, 67)\n",
        "is_prime(primes, 36)"
      ],
      "metadata": {
        "colab": {
          "base_uri": "https://localhost:8080/"
        },
        "id": "66vAwfmLRynf",
        "outputId": "66e677ad-bb43-4cc8-b75e-86bb03d17538"
      },
      "execution_count": 61,
      "outputs": [
        {
          "output_type": "stream",
          "name": "stdout",
          "text": [
            "is_prime(3) ➞ Yes\n",
            "is_prime(4) ➞ No\n",
            "is_prime(67) ➞ Yes\n",
            "is_prime(36) ➞ No\n"
          ]
        }
      ]
    },
    {
      "cell_type": "markdown",
      "source": [
        "Create a function that takes in n, a, b and returns the number of positive values raised to the nth power that lie in the range [a, b], inclusive."
      ],
      "metadata": {
        "id": "lpMc1GJkRyqM"
      }
    },
    {
      "cell_type": "code",
      "source": [
        "import math\n",
        "def power_ranger(in_base,in_min,in_max):\n",
        "  output = []\n",
        "  for ele in range(in_min,in_max+1):\n",
        "    root = round(math.exp(math.log(ele)/in_base),1)\n",
        "    if str(root).split(\".\")[1] == '0':\n",
        "      output.append(int(root))\n",
        "  print(f'power_ranger{in_base,in_min,in_max} ➞ {len(set(output))}')\n",
        "\n",
        "power_ranger(2, 49, 65)\n",
        "power_ranger(3, 1, 27)\n",
        "power_ranger(10, 1, 5)\n",
        "power_ranger(5, 31, 33)\n",
        "power_ranger(4, 250, 1300)"
      ],
      "metadata": {
        "colab": {
          "base_uri": "https://localhost:8080/"
        },
        "id": "ezwEC2JURyqM",
        "outputId": "c2bc5ffd-d845-4cf9-f965-68af146e79e4"
      },
      "execution_count": 62,
      "outputs": [
        {
          "output_type": "stream",
          "name": "stdout",
          "text": [
            "power_ranger(2, 49, 65) ➞ 2\n",
            "power_ranger(3, 1, 27) ➞ 3\n",
            "power_ranger(10, 1, 5) ➞ 1\n",
            "power_ranger(5, 31, 33) ➞ 1\n",
            "power_ranger(4, 250, 1300) ➞ 3\n"
          ]
        }
      ]
    },
    {
      "cell_type": "markdown",
      "source": [
        " Given a number, return the difference between the maximum and minimum numbers that can be formed when the digits are rearranged."
      ],
      "metadata": {
        "id": "JTk1BgVHRysl"
      }
    },
    {
      "cell_type": "code",
      "source": [
        "def rearranged_difference(in_num):\n",
        "  split_num = []\n",
        "  for ele in str(in_num):\n",
        "    split_num.append(ele)\n",
        "  min_num = int(''.join(sorted(split_num))) \n",
        "  max_num = int(''.join(sorted(split_num, reverse=True)))\n",
        "  print(f'rearranged_difference({in_num}) ➞ {max_num} - {min_num} ➞ {max_num-min_num}')\n",
        "    \n",
        "rearranged_difference(972882)    \n",
        "rearranged_difference(3320707)\n",
        "rearranged_difference(90010)"
      ],
      "metadata": {
        "colab": {
          "base_uri": "https://localhost:8080/"
        },
        "id": "zJw3rWIWRysm",
        "outputId": "a01cfca3-38ea-4c5b-9e57-1b0e9d41d97e"
      },
      "execution_count": 63,
      "outputs": [
        {
          "output_type": "stream",
          "name": "stdout",
          "text": [
            "rearranged_difference(972882) ➞ 988722 - 227889 ➞ 760833\n",
            "rearranged_difference(3320707) ➞ 7733200 - 23377 ➞ 7709823\n",
            "rearranged_difference(90010) ➞ 91000 - 19 ➞ 90981\n"
          ]
        }
      ]
    },
    {
      "cell_type": "code",
      "source": [],
      "metadata": {
        "id": "GKQjhou-SDMp"
      },
      "execution_count": null,
      "outputs": []
    }
  ]
}