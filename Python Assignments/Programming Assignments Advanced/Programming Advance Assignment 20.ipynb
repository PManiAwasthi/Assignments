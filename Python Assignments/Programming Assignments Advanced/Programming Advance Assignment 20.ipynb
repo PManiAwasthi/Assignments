{
  "nbformat": 4,
  "nbformat_minor": 0,
  "metadata": {
    "colab": {
      "provenance": []
    },
    "kernelspec": {
      "name": "python3",
      "display_name": "Python 3"
    },
    "language_info": {
      "name": "python"
    }
  },
  "cells": [
    {
      "cell_type": "markdown",
      "source": [
        "Create a function based on the input and output. Look at the examples, there is a pattern."
      ],
      "metadata": {
        "id": "eTRE6-9cbWqi"
      }
    },
    {
      "cell_type": "code",
      "source": [
        "def secret(in_string):\n",
        "  in_string_clone = in_string\n",
        "  in_string = in_string.split(\".\")\n",
        "  output = f'<{in_string[0]} class=\"{\" \".join(in_string[1:])}\">{in_string[0]}>'\n",
        "  print(f'secret(\"{in_string_clone}\") ➞ {output}')\n",
        "    \n",
        "secret(\"p.one.two.three\")\n",
        "secret(\"p.one\")\n",
        "secret(\"p.four.five\")"
      ],
      "metadata": {
        "colab": {
          "base_uri": "https://localhost:8080/"
        },
        "id": "Ji9a3ob_bWui",
        "outputId": "382a45b4-e9d2-46d5-ea72-d85d5c19c268"
      },
      "execution_count": 130,
      "outputs": [
        {
          "output_type": "stream",
          "name": "stdout",
          "text": [
            "secret(\"p.one.two.three\") ➞ <p class=\"one two three\">p>\n",
            "secret(\"p.one\") ➞ <p class=\"one\">p>\n",
            "secret(\"p.four.five\") ➞ <p class=\"four five\">p>\n"
          ]
        }
      ]
    },
    {
      "cell_type": "markdown",
      "source": [
        "Create a function which counts how many lone 1s appear in a given number. Lone means the number doesn't appear twice or more in a row"
      ],
      "metadata": {
        "id": "YiZZiHC-bXni"
      }
    },
    {
      "cell_type": "code",
      "source": [
        "import re\n",
        "def count_lone_ones(in_num):\n",
        "  pattern = r\"(?<!1)1(?!1)\" \n",
        "  output = re.findall(pattern,str(in_num))\n",
        "  print(f'coint_lone_ones({in_num}) ➞ {len(output)}')\n",
        "    \n",
        "count_lone_ones(101)\n",
        "count_lone_ones(1191)\n",
        "count_lone_ones(1111)\n",
        "count_lone_ones(462)"
      ],
      "metadata": {
        "colab": {
          "base_uri": "https://localhost:8080/"
        },
        "id": "jeaejyOdbXnj",
        "outputId": "591323ff-a2db-4bb8-8280-2d57b86d4fe6"
      },
      "execution_count": 131,
      "outputs": [
        {
          "output_type": "stream",
          "name": "stdout",
          "text": [
            "coint_lone_ones(101) ➞ 2\n",
            "coint_lone_ones(1191) ➞ 1\n",
            "coint_lone_ones(1111) ➞ 0\n",
            "coint_lone_ones(462) ➞ 0\n"
          ]
        }
      ]
    },
    {
      "cell_type": "markdown",
      "source": [
        "Write a method that accepts two integer parameters rows and cols. The output is a 2d array of numbers displayed in column-major order, meaning the numbers shown increase sequentially down each column and wrap to the top of the next column to the right once the bottom of the current column is reached."
      ],
      "metadata": {
        "id": "9SWVUzvcbXqL"
      }
    },
    {
      "cell_type": "code",
      "source": [
        "def printGrid(in_one,in_two):\n",
        "  output = []\n",
        "  for ele_1 in range(in_one):\n",
        "    temp = []\n",
        "    for ele_2 in range(in_two):\n",
        "      temp.append(ele_1+(in_one*ele_2)+1)\n",
        "    output.append(temp)\n",
        "  print(f'printGrid{in_one,in_two} ➞ {output}')\n",
        "    \n",
        "printGrid(3, 6)\n",
        "printGrid(5, 3)  \n",
        "printGrid(4, 1)"
      ],
      "metadata": {
        "colab": {
          "base_uri": "https://localhost:8080/"
        },
        "id": "-mj1MhdabXqM",
        "outputId": "233afad6-a182-47a3-e6e9-09f033333cf6"
      },
      "execution_count": 132,
      "outputs": [
        {
          "output_type": "stream",
          "name": "stdout",
          "text": [
            "printGrid(3, 6) ➞ [[1, 4, 7, 10, 13, 16], [2, 5, 8, 11, 14, 17], [3, 6, 9, 12, 15, 18]]\n",
            "printGrid(5, 3) ➞ [[1, 6, 11], [2, 7, 12], [3, 8, 13], [4, 9, 14], [5, 10, 15]]\n",
            "printGrid(4, 1) ➞ [[1], [2], [3], [4]]\n"
          ]
        }
      ]
    },
    {
      "cell_type": "markdown",
      "source": [
        "Given a list of integers, return the smallest positive integer not present in the list.<br>\n",
        "Here is a representative example.<br>\n",
        "Consider the list: [-2, 6, 4, 5, 7, -1, 7, 1, 3, 6, 6, -2, 9, 10, 2, 2]<br>\n",
        "After reordering, the list becomes: [-2, -2, -1, 1, 2, 2, 3, 4, 5, 6, 6, 6, 7, 7, 9, 10]<br>\n",
        "from which we see that the smallest missing positive integer is 8."
      ],
      "metadata": {
        "id": "noaGrfXSbXsw"
      }
    },
    {
      "cell_type": "code",
      "source": [
        "def min_miss_pos(in_list):\n",
        "  in_list_clone = in_list.copy()\n",
        "  in_list = sorted(in_list)\n",
        "  output = -1\n",
        "  for ele in range(1,max(in_list)+1):\n",
        "    if ele not in in_list:\n",
        "      output = ele\n",
        "      break\n",
        "  print(f'min_miss_pos({in_list_clone}) ➞ {in_list} ➞ {output}')\n",
        "    \n",
        "min_miss_pos([-2, 6, 4, 5, 7, -1, 1, 3, 6, -2, 9, 10, 2, 2])\n",
        "min_miss_pos([5, 9, -2, 0, 1, 3, 9, 3, 8, 9])\n",
        "min_miss_pos([0, 4, 4, -1, 9, 4, 5, 2, 10, 7, 6, 3, 10, 9])"
      ],
      "metadata": {
        "colab": {
          "base_uri": "https://localhost:8080/"
        },
        "id": "TAu7wS-7bXsw",
        "outputId": "ae08b48d-7809-47c6-96ef-4d64fe1cc37f"
      },
      "execution_count": 133,
      "outputs": [
        {
          "output_type": "stream",
          "name": "stdout",
          "text": [
            "min_miss_pos([-2, 6, 4, 5, 7, -1, 1, 3, 6, -2, 9, 10, 2, 2]) ➞ [-2, -2, -1, 1, 2, 2, 3, 4, 5, 6, 6, 7, 9, 10] ➞ 8\n",
            "min_miss_pos([5, 9, -2, 0, 1, 3, 9, 3, 8, 9]) ➞ [-2, 0, 1, 3, 3, 5, 8, 9, 9, 9] ➞ 2\n",
            "min_miss_pos([0, 4, 4, -1, 9, 4, 5, 2, 10, 7, 6, 3, 10, 9]) ➞ [-1, 0, 2, 3, 4, 4, 4, 5, 6, 7, 9, 9, 10, 10] ➞ 1\n"
          ]
        }
      ]
    },
    {
      "cell_type": "markdown",
      "source": [
        "Google is launching a network of autonomous pizza delivery drones and wants you to create a flexible rewards system (Pizza Points™) that can be tweaked in the future. The rules are simple: if a customer has made at least N orders of at least Y price, they get a FREE pizza!<br>\n",
        "Create a function that takes a dictionary of customers, a minimum number of orders and a minimum order price. Return a list of customers that are eligible for a free pizza."
      ],
      "metadata": {
        "id": "oFabQS5VbXvN"
      }
    },
    {
      "cell_type": "code",
      "source": [
        "def pizza_points(in_dict,min_order,min_price):\n",
        "  output = []\n",
        "  for customer in in_dict.keys():\n",
        "    if len([order_price for order_price in in_dict[customer] if order_price > min_price]) > min_order:\n",
        "      output.append(customer)\n",
        "  print(f'pizza_points{\"customers\",min_order,min_price} ➞ {output}')\n",
        "\n",
        "customers = {\n",
        "  \"Batman\": [22, 30, 11, 17, 15, 52, 27, 12],\n",
        "  \"Spider-Man\": [5, 17, 30, 33, 40, 22, 26, 10, 11, 45]\n",
        "}\n",
        "    \n",
        "pizza_points(customers, 5, 20)\n",
        "pizza_points(customers, 3, 10)\n",
        "pizza_points(customers, 5, 100)"
      ],
      "metadata": {
        "colab": {
          "base_uri": "https://localhost:8080/"
        },
        "id": "PsXovnhRbXvN",
        "outputId": "9e3ac832-6be2-42dd-891f-95a1c24e56af"
      },
      "execution_count": 134,
      "outputs": [
        {
          "output_type": "stream",
          "name": "stdout",
          "text": [
            "pizza_points('customers', 5, 20) ➞ ['Spider-Man']\n",
            "pizza_points('customers', 3, 10) ➞ ['Batman', 'Spider-Man']\n",
            "pizza_points('customers', 5, 100) ➞ []\n"
          ]
        }
      ]
    },
    {
      "cell_type": "code",
      "source": [],
      "metadata": {
        "id": "9zvkV2Axbysp"
      },
      "execution_count": null,
      "outputs": []
    }
  ]
}