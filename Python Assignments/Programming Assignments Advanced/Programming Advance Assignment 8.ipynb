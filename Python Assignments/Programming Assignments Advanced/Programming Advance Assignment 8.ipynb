{
  "nbformat": 4,
  "nbformat_minor": 0,
  "metadata": {
    "colab": {
      "provenance": []
    },
    "kernelspec": {
      "name": "python3",
      "display_name": "Python 3"
    },
    "language_info": {
      "name": "python"
    }
  },
  "cells": [
    {
      "cell_type": "markdown",
      "source": [
        "Given a sentence as txt, return True if any two adjacent words have this property: One word ends with a vowel, while the word immediately after begins with a vowel (a e i o u)."
      ],
      "metadata": {
        "id": "Emx58ULGSa9h"
      }
    },
    {
      "cell_type": "code",
      "source": [
        "def vowel_links(in_string):\n",
        "  in_list = in_string.split(\" \")\n",
        "  vowel_list = ['a','e','i','o','u']\n",
        "  end,start,output = False, False,False\n",
        "  for ele in range(len(in_list)):\n",
        "    temp = True if in_list[ele][-1] in vowel_list else False\n",
        "    start = True if in_list[ele][0] in vowel_list else False\n",
        "    if start == end == True:\n",
        "      output=True\n",
        "      break\n",
        "      end=temp\n",
        "  print(f'vowel_links({in_string}) ➞ {output}')\n",
        "                \n",
        "vowel_links(\"a very large appliance\")\n",
        "vowel_links(\"go to edabit\")\n",
        "vowel_links(\"an open fire\")\n",
        "vowel_links(\"a sudden applause\")"
      ],
      "metadata": {
        "colab": {
          "base_uri": "https://localhost:8080/"
        },
        "id": "inw8Du8xSbA3",
        "outputId": "32bbc754-4db3-419d-c126-813c5b273456"
      },
      "execution_count": 64,
      "outputs": [
        {
          "output_type": "stream",
          "name": "stdout",
          "text": [
            "vowel_links(a very large appliance) ➞ True\n",
            "vowel_links(go to edabit) ➞ True\n",
            "vowel_links(an open fire) ➞ False\n",
            "vowel_links(a sudden applause) ➞ False\n"
          ]
        }
      ]
    },
    {
      "cell_type": "markdown",
      "source": [
        "You are given three inputs: a string, one letter, and a second letter. Write a function that returns True if every instance of the first letter occurs before every instance of the second letter."
      ],
      "metadata": {
        "id": "CC_AQz47SblL"
      }
    },
    {
      "cell_type": "code",
      "source": [
        "def first_before_second(in_string,in_first,in_second):\n",
        "  last_occur_first = in_string.rfind(in_first)\n",
        "  first_occur_second = in_string.find(in_second)\n",
        "  output = True if last_occur_first < first_occur_second else False\n",
        "  print(f'first_before_second_find({in_string}, {in_first}, {in_second}) ➞ {output}')\n",
        "\n",
        "first_before_second(\"a rabbit jumps joyfully\", \"a\", \"j\")\n",
        "first_before_second(\"knaves knew about waterfalls\", \"k\", \"w\")\n",
        "first_before_second(\"happy birthday\", \"a\", \"y\")\n",
        "first_before_second(\"precarious kangaroos\", \"k\", \"a\")"
      ],
      "metadata": {
        "colab": {
          "base_uri": "https://localhost:8080/"
        },
        "id": "In9YJiNZSblL",
        "outputId": "c98278af-a649-4322-b141-06b6911ee842"
      },
      "execution_count": 65,
      "outputs": [
        {
          "output_type": "stream",
          "name": "stdout",
          "text": [
            "first_before_second_find(a rabbit jumps joyfully, a, j) ➞ True\n",
            "first_before_second_find(knaves knew about waterfalls, k, w) ➞ True\n",
            "first_before_second_find(happy birthday, a, y) ➞ False\n",
            "first_before_second_find(precarious kangaroos, k, a) ➞ False\n"
          ]
        }
      ]
    },
    {
      "cell_type": "markdown",
      "source": [
        "Create a function that returns the characters from a list or string r on odd or even positions, depending on the specifier s. The specifier will be \"odd\" for items on odd positions (1, 3, 5, ...) and \"even\" for items on even positions (2, 4, 6, ...)."
      ],
      "metadata": {
        "id": "4zmO5dhpSbno"
      }
    },
    {
      "cell_type": "code",
      "source": [
        "def char_at_pos(in_list,mode):\n",
        "  out_list = []\n",
        "  for ele in range(len(in_list)):\n",
        "    if mode == 'even' and (ele+1)%2 == 0:\n",
        "      out_list.append(in_list[ele])\n",
        "    elif mode == 'odd' and (ele+1)%2 != 0:\n",
        "      out_list.append(in_list[ele])            \n",
        "  print(f'char_at_pos{in_list,mode} ➞ {out_list}')\n",
        "        \n",
        "        \n",
        "char_at_pos([2, 4, 6, 8, 10], \"even\")\n",
        "char_at_pos(\"EDABIT\", \"odd\")\n",
        "char_at_pos([\"A\", \"R\", \"B\", \"I\", \"T\", \"R\", \"A\", \"R\", \"I\", \"L\", \"Y\"], \"odd\")"
      ],
      "metadata": {
        "colab": {
          "base_uri": "https://localhost:8080/"
        },
        "id": "7rVKhJIBSbno",
        "outputId": "eb87e8a1-3a3e-4514-addb-7e3f11a85aa8"
      },
      "execution_count": 66,
      "outputs": [
        {
          "output_type": "stream",
          "name": "stdout",
          "text": [
            "char_at_pos([2, 4, 6, 8, 10], 'even') ➞ [4, 8]\n",
            "char_at_pos('EDABIT', 'odd') ➞ ['E', 'A', 'I']\n",
            "char_at_pos(['A', 'R', 'B', 'I', 'T', 'R', 'A', 'R', 'I', 'L', 'Y'], 'odd') ➞ ['A', 'B', 'T', 'A', 'I', 'Y']\n"
          ]
        }
      ]
    },
    {
      "cell_type": "markdown",
      "source": [
        "Write a function that returns the greatest common divisor of all list elements. If the greatest common divisor is 1, return 1."
      ],
      "metadata": {
        "id": "iG_V40JjSbp_"
      }
    },
    {
      "cell_type": "code",
      "source": [
        "def GCD(in_list):\n",
        "  small = min(in_list)\n",
        "  gcd = -1\n",
        "  for i in range(1, small+1):\n",
        "    output = []\n",
        "    for ele in in_list:\n",
        "      output.append(ele%i)\n",
        "    if len(set(output)) == 1 and list(set(output))[0] == 0:\n",
        "      gcd = i\n",
        "  print(f'GCD({in_list}) ➞ {gcd}')\n",
        "    \n",
        "GCD([10, 20, 40])\n",
        "GCD([1, 2, 3, 100])\n",
        "GCD([1024, 192, 2048, 512])"
      ],
      "metadata": {
        "colab": {
          "base_uri": "https://localhost:8080/"
        },
        "id": "4AL7soV6SbqA",
        "outputId": "c45f96b7-f103-4a8b-96e3-f5295c6a149b"
      },
      "execution_count": 67,
      "outputs": [
        {
          "output_type": "stream",
          "name": "stdout",
          "text": [
            "GCD([10, 20, 40]) ➞ 10\n",
            "GCD([1, 2, 3, 100]) ➞ 1\n",
            "GCD([1024, 192, 2048, 512]) ➞ 64\n"
          ]
        }
      ]
    },
    {
      "cell_type": "markdown",
      "source": [
        "A number/string is a palindrome if the digits/characters are the same when read both forward and backward. Examples include \"racecar\" and 12321. Given a positive number n, check if n or the binary representation of n is palindromic. Return the following:<br>\n",
        "\"Decimal only.\" if only n is a palindrome.<br>\n",
        "\"Binary only.\" if only the binary representation of n is a palindrome.<br>\n",
        "\"Decimal and binary.\" if both are palindromes.<br>\n",
        "\"Neither!\" if neither are palindromes.<br>"
      ],
      "metadata": {
        "id": "AOlBgFeFSbsL"
      }
    },
    {
      "cell_type": "code",
      "source": [
        "def palindrome_type(in_num):\n",
        "  output = None\n",
        "  if str(in_num) == str(in_num)[::-1] and str(bin(in_num)[2:]) == str(bin(in_num)[2:])[::-1]:\n",
        "    output = 'Decimal and binary.'\n",
        "  elif str(in_num) == str(in_num)[::-1] and str(bin(in_num)[2:]) != str(bin(in_num)[2:])[::-1]:\n",
        "    output = 'Decimal only.'\n",
        "  elif str(bin(in_num)[2:]) != str(bin(in_num)[2:])[::-1] and str(in_num) == str(in_num)[::-1]:\n",
        "    output = 'Binary only.'\n",
        "  else:\n",
        "    output = 'Neither!'\n",
        "  print(f'palindrome({in_num}) ➞ {output}')\n",
        "\n",
        "palindrome_type(1306031)\n",
        "palindrome_type(427787)\n",
        "palindrome_type(313)\n",
        "palindrome_type(934)"
      ],
      "metadata": {
        "colab": {
          "base_uri": "https://localhost:8080/"
        },
        "id": "ib_SlcaiSbsL",
        "outputId": "f91a1bec-0dbb-481d-dfed-b296057a0938"
      },
      "execution_count": 68,
      "outputs": [
        {
          "output_type": "stream",
          "name": "stdout",
          "text": [
            "palindrome(1306031) ➞ Decimal only.\n",
            "palindrome(427787) ➞ Neither!\n",
            "palindrome(313) ➞ Decimal and binary.\n",
            "palindrome(934) ➞ Neither!\n"
          ]
        }
      ]
    },
    {
      "cell_type": "code",
      "source": [],
      "metadata": {
        "id": "trMD5-ubS6lu"
      },
      "execution_count": null,
      "outputs": []
    }
  ]
}