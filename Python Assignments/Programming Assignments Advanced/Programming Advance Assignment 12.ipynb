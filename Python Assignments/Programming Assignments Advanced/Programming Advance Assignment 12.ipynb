{
  "nbformat": 4,
  "nbformat_minor": 0,
  "metadata": {
    "colab": {
      "provenance": []
    },
    "kernelspec": {
      "name": "python3",
      "display_name": "Python 3"
    },
    "language_info": {
      "name": "python"
    }
  },
  "cells": [
    {
      "cell_type": "markdown",
      "source": [
        "For this challenge, forget how to add two numbers together. The best explanation on what to do for this function is this meme:\n"
      ],
      "metadata": {
        "id": "4CQ_JUmDVZb3"
      }
    },
    {
      "cell_type": "code",
      "source": [
        "def meme_sum(a,b):\n",
        "  a,b = str(a),str(b)\n",
        "  output = ''\n",
        "  while len(a) != len(b):\n",
        "    if len(a) < len(b):\n",
        "      a ='0'+a\n",
        "    else:\n",
        "      b='0'+b\n",
        "  for ele in range(len(a)):\n",
        "    output += str(int(a[ele])+int(b[ele]))\n",
        "  print(f'meme_sum{a,b} ➞ {output}')\n",
        "       \n",
        "meme_sum(26, 39)\n",
        "meme_sum(122, 81)\n",
        "meme_sum(1222, 30277) "
      ],
      "metadata": {
        "colab": {
          "base_uri": "https://localhost:8080/"
        },
        "id": "kTdK57DNVYfD",
        "outputId": "4f89d9bf-9b2d-4531-8695-3f99551e1435"
      },
      "execution_count": 84,
      "outputs": [
        {
          "output_type": "stream",
          "name": "stdout",
          "text": [
            "meme_sum('26', '39') ➞ 515\n",
            "meme_sum('122', '081') ➞ 1103\n",
            "meme_sum('01222', '30277') ➞ 31499\n"
          ]
        }
      ]
    },
    {
      "cell_type": "markdown",
      "source": [
        "Given an integer, create a function that returns the next prime. If the number is prime, return the number itself."
      ],
      "metadata": {
        "id": "evaRM0pfVaBa"
      }
    },
    {
      "cell_type": "code",
      "source": [
        "def next_prime(in_num):\n",
        "  in_num_clone = in_num\n",
        "  while True:\n",
        "    if (in_num-1)%6 == 0 or (in_num+1)%6 ==0 :\n",
        "      temp = in_num\n",
        "      for ele in range(3,in_num+1):\n",
        "        if in_num%ele == 0 and ele != in_num:\n",
        "          in_num = in_num+1\n",
        "          break\n",
        "      if temp == in_num:\n",
        "        break\n",
        "    else:\n",
        "      in_num += 1\n",
        "    \n",
        "  print(f'next_prine({in_num_clone}) ➞ {in_num}')\n",
        "        \n",
        "next_prime(12)\n",
        "next_prime(24)\n",
        "next_prime(11)\n"
      ],
      "metadata": {
        "colab": {
          "base_uri": "https://localhost:8080/"
        },
        "id": "15472Y1zVaBb",
        "outputId": "0e47cd77-930a-4912-dacf-aaf6bed3094a"
      },
      "execution_count": 91,
      "outputs": [
        {
          "output_type": "stream",
          "name": "stdout",
          "text": [
            "next_prine(12) ➞ 13\n",
            "next_prine(24) ➞ 29\n",
            "next_prine(11) ➞ 11\n"
          ]
        }
      ]
    },
    {
      "cell_type": "markdown",
      "source": [
        "If a person traveled up a hill for 18mins at 20mph and then traveled back down the same path at 60mph then their average speed traveled was 30mph.<br>\n",
        "Write a function that returns the average speed traveled given an uphill time, uphill rate and a downhill rate. Uphill time is given in minutes. Return the rate as an integer (mph). No rounding is necessary."
      ],
      "metadata": {
        "id": "vqrYJnQgVaEY"
      }
    },
    {
      "cell_type": "code",
      "source": [
        "def ave_spd(up_time,up_speed,down_speed):\n",
        "  distance = up_speed*(up_time/60)\n",
        "  down_time = distance/down_speed\n",
        "  output = (2*distance)/((up_time/60)+down_time)\n",
        "  print(f'ave_spd{up_time,up_speed,down_speed} ➞ {int(output)}')\n",
        "    \n",
        "ave_spd(18, 20, 60)\n",
        "ave_spd(30, 10, 30)\n",
        "ave_spd(30, 8, 24)"
      ],
      "metadata": {
        "colab": {
          "base_uri": "https://localhost:8080/"
        },
        "id": "fpeVZcbjVaEZ",
        "outputId": "5b1625ac-61d1-4240-ef48-accd35c15687"
      },
      "execution_count": 88,
      "outputs": [
        {
          "output_type": "stream",
          "name": "stdout",
          "text": [
            "ave_spd(18, 20, 60) ➞ 30\n",
            "ave_spd(30, 10, 30) ➞ 15\n",
            "ave_spd(30, 8, 24) ➞ 12\n"
          ]
        }
      ]
    },
    {
      "cell_type": "markdown",
      "source": [
        "The Kempner Function, applied to a composite number, permits to find the smallest integer greater than zero whose factorial is exactly divided by the number.<br>\n",
        "kempner(6) ➞ 3 1! = 1 % 6 > 0 2! = 2 % 6 > 0 3! = 6 % 6 === 0\n",
        "<br>\n",
        "kempner(10) ➞ 5 1! = 1 % 10 > 0 2! = 2 % 10 > 0 3! = 6 % 10 > 0 4! = 24 % 10 > 0 5! = 120 % 10 === 0\n",
        "<br>\n",
        "A Kempner Function applied to a prime will always return the prime itself.<br>\n",
        "kempner(2) ➞ 2<br>\n",
        "kempner(5) ➞ 5<br>\n",
        "\n",
        "Given an integer n, implement a Kempner Function."
      ],
      "metadata": {
        "id": "CvewdoqcVaHg"
      }
    },
    {
      "cell_type": "code",
      "source": [
        "def kempner(in_num):\n",
        "  def factorial(in_num):\n",
        "    if in_num == 1:\n",
        "      return 1\n",
        "    else:\n",
        "      return in_num * factorial(in_num-1)\n",
        "  for ele in range(1,in_num+1):\n",
        "    if factorial(ele)%in_num == 0:\n",
        "      output = ele\n",
        "      break\n",
        "  print(f'kempner({in_num}) ➞ {output}')\n",
        "            \n",
        "kempner(6)\n",
        "kempner(10)\n",
        "kempner(5)\n",
        "kempner(2)"
      ],
      "metadata": {
        "colab": {
          "base_uri": "https://localhost:8080/"
        },
        "id": "1PCrCBxsVaHi",
        "outputId": "75863139-2e8c-4ce2-8460-3404dc833969"
      },
      "execution_count": 87,
      "outputs": [
        {
          "output_type": "stream",
          "name": "stdout",
          "text": [
            "kempner(6) ➞ 3\n",
            "kempner(10) ➞ 5\n",
            "kempner(5) ➞ 5\n",
            "kempner(2) ➞ 2\n"
          ]
        }
      ]
    },
    {
      "cell_type": "markdown",
      "source": [
        "You work in a factory, and your job is to take items from a conveyor belt and pack them into boxes. Each box can hold a maximum of 10 kgs. Given a list containing the weight (in kg) of each item, how many boxes would you need to pack all of the items?"
      ],
      "metadata": {
        "id": "rqdc8cewVaKK"
      }
    },
    {
      "cell_type": "code",
      "source": [
        "def boxes(in_list):\n",
        "  in_list_clone = in_list.copy()\n",
        "  output = []\n",
        "  temp_box = []\n",
        "  while True:\n",
        "    if len(in_list) != 0:\n",
        "      if sum(temp_box) <= 10:\n",
        "        temp_box.append(in_list.pop(0))\n",
        "      else:\n",
        "        in_list.insert(0,temp_box.pop())\n",
        "        output.append(temp_box)\n",
        "        temp_box = []\n",
        "    else:\n",
        "      output.append(temp_box)\n",
        "      temp_box = []\n",
        "      break\n",
        "  print(f'boxes({in_list_clone}) ➞ {output} ➞ {len(output)}')    \n",
        "    \n",
        "boxes([2, 1, 2, 5, 4, 3, 6, 1, 1, 9, 3, 2])\n",
        "boxes([5, 5, 5, 5, 5, 5, 2, 3, 4, 5, 6])\n"
      ],
      "metadata": {
        "colab": {
          "base_uri": "https://localhost:8080/"
        },
        "id": "k9crHdtWVaKL",
        "outputId": "8816ad56-2b28-4edc-8f34-366535bf56bf"
      },
      "execution_count": 86,
      "outputs": [
        {
          "output_type": "stream",
          "name": "stdout",
          "text": [
            "boxes([2, 1, 2, 5, 4, 3, 6, 1, 1, 9, 3, 2]) ➞ [[2, 1, 2, 5], [4, 3], [6, 1, 1], [9], [3, 2]] ➞ 5\n",
            "boxes([5, 5, 5, 5, 5, 5, 2, 3, 4, 5, 6]) ➞ [[5, 5], [5, 5], [5, 5], [2, 3, 4], [5, 6]] ➞ 5\n"
          ]
        }
      ]
    },
    {
      "cell_type": "code",
      "source": [],
      "metadata": {
        "id": "LxcgioUTVwob"
      },
      "execution_count": null,
      "outputs": []
    }
  ]
}