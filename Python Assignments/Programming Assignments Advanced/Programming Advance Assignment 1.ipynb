{
  "nbformat": 4,
  "nbformat_minor": 0,
  "metadata": {
    "colab": {
      "provenance": []
    },
    "kernelspec": {
      "name": "python3",
      "display_name": "Python 3"
    },
    "language_info": {
      "name": "python"
    }
  },
  "cells": [
    {
      "cell_type": "markdown",
      "source": [
        "Write a function that takes a list of lists and returns the value of all of the symbols in it, where each symbol adds or takes something from the total score. Symbol values:<br>\n",
        "\\# = 5, O = 3, X = 1, ! = -1, !! = -3 !!! = -5\n",
        "<br>\n",
        "A list of lists containing 2 #s, a O, and a !!! would equal (0 + 5 + 5 + 3 - 5) 8. If the final score is negative, return 0 (e.g. 3 #s, 3 !!s, 2 !!!s and a X would be (0 + 5 + 5 + 5 - 3 - 3 - 3 - 5 - 5 + 1) -3, so return 0."
      ],
      "metadata": {
        "id": "oCnL9DZsHvL2"
      }
    },
    {
      "cell_type": "code",
      "source": [
        "def check_score(in_list):\n",
        "  check_dict = {'#':5,'O':3,'X':1,'!':-1,'!!':-3,'!!!':-5}\n",
        "  out_num = 0\n",
        "  for ele in in_list:\n",
        "    for sub_ele in ele:\n",
        "      out_num += check_dict[sub_ele]\n",
        "  if(out_num < 0):\n",
        "    print(f'check_score({in_list}) ➞ {0}')\n",
        "  else:\n",
        "    print(f'check_score({in_list}) ➞ {out_num}')\n",
        "        \n",
        "check_score([[\"#\", \"!\"],[\"!!\", \"X\"]])\n",
        "check_score([[\"!!!\", \"O\", \"!\"],[\"X\", \"#\", \"!!!\"],[\"!!\", \"X\", \"O\"]])"
      ],
      "metadata": {
        "colab": {
          "base_uri": "https://localhost:8080/"
        },
        "id": "F8GHx2oOHvPS",
        "outputId": "6c8b17b6-b151-47c1-e516-c53a72f02c7d"
      },
      "execution_count": 29,
      "outputs": [
        {
          "output_type": "stream",
          "name": "stdout",
          "text": [
            "check_score([['#', '!'], ['!!', 'X']]) ➞ 2\n",
            "check_score([['!!!', 'O', '!'], ['X', '#', '!!!'], ['!!', 'X', 'O']]) ➞ 0\n"
          ]
        }
      ]
    },
    {
      "cell_type": "markdown",
      "source": [
        "Create a function that takes a variable number of arguments, each argument representing the number of items in a group, and returns the number of permutations (combinations) of items that you could get by taking one item from each group.\n"
      ],
      "metadata": {
        "id": "ZeY7VJbAHv4b"
      }
    },
    {
      "cell_type": "code",
      "source": [
        "def combinations(*args):\n",
        "  out_num = 1\n",
        "  for ele in args:\n",
        "    out_num *=ele\n",
        "  print(f'combinations{args} ➞ {out_num}')\n",
        "\n",
        "combinations(2, 3)\n",
        "combinations(3, 7, 4)\n",
        "combinations(2, 3, 4, 5)\n"
      ],
      "metadata": {
        "colab": {
          "base_uri": "https://localhost:8080/"
        },
        "id": "pIiSyzCrHv4c",
        "outputId": "7698e995-f032-447f-876c-f54ac5885750"
      },
      "execution_count": 30,
      "outputs": [
        {
          "output_type": "stream",
          "name": "stdout",
          "text": [
            "combinations(2, 3) ➞ 6\n",
            "combinations(3, 7, 4) ➞ 84\n",
            "combinations(2, 3, 4, 5) ➞ 120\n"
          ]
        }
      ]
    },
    {
      "cell_type": "markdown",
      "source": [
        "Create a function that takes a string as an argument and returns the Morse code equivalent."
      ],
      "metadata": {
        "id": "zqIDg4ROHv77"
      }
    },
    {
      "cell_type": "code",
      "source": [
        "def encode_morse(in_string):\n",
        "  out_string = ''\n",
        "  char_to_dots = {\n",
        "    'A': '.-', 'B': '-...', 'C': '-.-.', 'D': '-..', 'E': '.', 'F': '..-.',\n",
        "    'G': '--.', 'H': '....', 'I': '..', 'J': '.---', 'K': '-.-', 'L': '.-..',\n",
        "    'M': '--', 'N': '-.', 'O': '---', 'P': '.--.', 'Q': '--.-', 'R': '.-.',\n",
        "    'S': '...', 'T': '-', 'U': '..-', 'V': '...-', 'W': '.--', 'X': '-..-',\n",
        "    'Y': '-.--', 'Z': '--..', ' ': ' ', '0': '-----',\n",
        "    '1': '.----', '2': '..---', '3': '...--', '4': '....-', '5': '.....',\n",
        "    '6': '-....', '7': '--...', '8': '---..', '9': '----.',\n",
        "    '&': '.-...', \"'\": '.----.', '@': '.--.-.', ')': '-.--.-', '(': '-.--.',\n",
        "    ':': '---...', ',': '--..--', '=': '-...-', '!': '-.-.--', '.': '.-.-.-',\n",
        "    '-': '-....-', '+': '.-.-.', '\"': '.-..-.', '?': '..--..', '/': '-..-.'\n",
        "    }\n",
        "  for ele in in_string:\n",
        "    out_string +=char_to_dots[ele]\n",
        "  print(f'encode_morse({in_string}) ➞ {out_string}')\n",
        "\n",
        "encode_morse(\"EDABBIT CHALLENGE\")\n",
        "encode_morse(\"HELP ME !\")"
      ],
      "metadata": {
        "colab": {
          "base_uri": "https://localhost:8080/"
        },
        "id": "IIh80MgtHv77",
        "outputId": "85887892-fb42-4bc8-9dbf-60f8a2779d21"
      },
      "execution_count": 31,
      "outputs": [
        {
          "output_type": "stream",
          "name": "stdout",
          "text": [
            "encode_morse(EDABBIT CHALLENGE) ➞ .-...--...-.....- -.-......-.-...-...-.--..\n",
            "encode_morse(HELP ME !) ➞ ......-...--. --. -.-.--\n"
          ]
        }
      ]
    },
    {
      "cell_type": "markdown",
      "source": [
        "Write a function that takes a number and returns True if it's a prime; False otherwise. The number can be 2^64-1 (2 to the power of 63, not XOR). With the standard technique it would be O(2^64-1), which is much too large for the 10 second time limit."
      ],
      "metadata": {
        "id": "nD-DdAHfHv_V"
      }
    },
    {
      "cell_type": "code",
      "source": [
        "def prime(in_num):\n",
        "  out_bool = False\n",
        "  if ((in_num-1)%6 == 0) or ((in_num+1)%6 == 0):\n",
        "    out_bool = True\n",
        "  print(f'prime({in_num}) ➞ {out_bool}')\n",
        "\n",
        "prime(7)\n",
        "prime(56963)\n",
        "prime(5151512515524)"
      ],
      "metadata": {
        "colab": {
          "base_uri": "https://localhost:8080/"
        },
        "id": "El_AeURRHv_W",
        "outputId": "f3fee30e-1460-4e7e-cc41-c4fa77abf9db"
      },
      "execution_count": 34,
      "outputs": [
        {
          "output_type": "stream",
          "name": "stdout",
          "text": [
            "prime(7) ➞ True\n",
            "prime(56963) ➞ True\n",
            "prime(5151512515524) ➞ False\n"
          ]
        }
      ]
    },
    {
      "cell_type": "markdown",
      "source": [
        "Create a function that converts a word to a bitstring and then to a boolean list based on the following criteria:<br>\n",
        "1. Locate the position of the letter in the English alphabet (from 1 to 26).<br>\n",
        "2. Odd positions will be represented as 1 and 0 otherwise.<br>\n",
        "3. Convert the represented positions to boolean values, 1 for True and 0 for False.<br>\n",
        "4. Store the conversions into an array."
      ],
      "metadata": {
        "id": "ABqZDbNaHwCl"
      }
    },
    {
      "cell_type": "code",
      "source": [
        "def to_boolean_list(in_string):\n",
        "  alphabets = 'abcdefghijklmnopqrstuvwxyz'\n",
        "  out_list = []\n",
        "  for ele in in_string:\n",
        "    out_list.append(bool((alphabets.index(ele)+1)%2))\n",
        "  print(f'to_boolean_list({in_string}) ➞ {out_list}')\n",
        "    \n",
        "to_boolean_list(\"deep\")\n",
        "to_boolean_list(\"loves\")\n",
        "to_boolean_list(\"tesh\")"
      ],
      "metadata": {
        "colab": {
          "base_uri": "https://localhost:8080/"
        },
        "id": "P76pGg4nHwCl",
        "outputId": "93acd835-dd8d-408f-ce77-0b2f5e17ae92"
      },
      "execution_count": 33,
      "outputs": [
        {
          "output_type": "stream",
          "name": "stdout",
          "text": [
            "to_boolean_list(deep) ➞ [False, True, True, False]\n",
            "to_boolean_list(loves) ➞ [False, True, False, True, True]\n",
            "to_boolean_list(tesh) ➞ [False, True, True, False]\n"
          ]
        }
      ]
    },
    {
      "cell_type": "code",
      "source": [],
      "metadata": {
        "id": "MzmXjHzCISVl"
      },
      "execution_count": null,
      "outputs": []
    }
  ]
}