{
  "nbformat": 4,
  "nbformat_minor": 0,
  "metadata": {
    "colab": {
      "provenance": []
    },
    "kernelspec": {
      "name": "python3",
      "display_name": "Python 3"
    },
    "language_info": {
      "name": "python"
    }
  },
  "cells": [
    {
      "cell_type": "markdown",
      "source": [
        "Create a function that takes a list and returns a new list containing only prime numbers."
      ],
      "metadata": {
        "id": "HlIi6a6NUk7w"
      }
    },
    {
      "cell_type": "code",
      "source": [
        "def filter_primes(in_list):\n",
        "  out_list = []\n",
        "  for ele in in_list:\n",
        "    if ele in [2,3]:\n",
        "      out_list.append(ele)\n",
        "    elif ((ele+1)%6 == 0) or ((ele-1)%6 == 0) and ele != 1:\n",
        "      out_list.append(ele)\n",
        "  temp = out_list.copy()\n",
        "  for ele in temp:\n",
        "    for num in range(2,ele):\n",
        "      if ele%num == 0:\n",
        "        out_list.remove(ele)\n",
        "        break        \n",
        "  print(f'filter_primes({in_list}) ➞ {out_list}')\n",
        "    \n",
        "filter_primes([7, 9, 3, 9, 10, 11, 27])\n",
        "filter_primes([10007, 1009, 1007, 27, 147, 77, 1001, 70])\n",
        "filter_primes([1009, 10, 10, 10, 3, 33, 9, 4, 1, 61, 63, 69, 1087, 1091, 1093, 1097])"
      ],
      "metadata": {
        "colab": {
          "base_uri": "https://localhost:8080/"
        },
        "id": "HzX09buOUk-7",
        "outputId": "9826e8b6-0cd6-4503-8f9d-710669ed140f"
      },
      "execution_count": 79,
      "outputs": [
        {
          "output_type": "stream",
          "name": "stdout",
          "text": [
            "filter_primes([7, 9, 3, 9, 10, 11, 27]) ➞ [7, 3, 11]\n",
            "filter_primes([10007, 1009, 1007, 27, 147, 77, 1001, 70]) ➞ [10007, 1009]\n",
            "filter_primes([1009, 10, 10, 10, 3, 33, 9, 4, 1, 61, 63, 69, 1087, 1091, 1093, 1097]) ➞ [1009, 3, 61, 1087, 1091, 1093, 1097]\n"
          ]
        }
      ]
    },
    {
      "cell_type": "markdown",
      "source": [
        "Once a water balloon pops, is soaks the area around it. The ground gets drier the further away you travel from the balloon.<br>\n",
        "The effect of a water balloon popping can be modeled using a list. Create a function that takes a list which takes the pre-pop state and returns the state after the balloon is popped. The pre-pop state will contain at most a single balloon, whose size is represented by the only non-zero element."
      ],
      "metadata": {
        "id": "uwUk8OzEUlfM"
      }
    },
    {
      "cell_type": "code",
      "source": [
        "def pop(in_list):\n",
        "  pop_number = sorted(in_list,reverse=True)[0]\n",
        "  output = []\n",
        "  if pop_number == 0:\n",
        "    output.append(0)\n",
        "  else:\n",
        "    output.extend([x for x in range((len(in_list)-1)//2)])\n",
        "    output.append(pop_number)\n",
        "    output.extend([((len(in_list)-2)//2)-x for x in range((len(in_list)-1)//2)])\n",
        "  print(f'pop({in_list}) ➞ {output}')\n",
        "    \n",
        "pop([0, 0, 0, 0, 4, 0, 0, 0, 0])\n",
        "pop([0, 0, 0, 3, 0, 0, 0])\n",
        "pop([0, 0, 2, 0, 0])\n",
        "pop([0])"
      ],
      "metadata": {
        "colab": {
          "base_uri": "https://localhost:8080/"
        },
        "id": "N9BNxlyvUlfM",
        "outputId": "9cac04b0-25de-4138-faad-1a953c717a3f"
      },
      "execution_count": 80,
      "outputs": [
        {
          "output_type": "stream",
          "name": "stdout",
          "text": [
            "pop([0, 0, 0, 0, 4, 0, 0, 0, 0]) ➞ [0, 1, 2, 3, 4, 3, 2, 1, 0]\n",
            "pop([0, 0, 0, 3, 0, 0, 0]) ➞ [0, 1, 2, 3, 2, 1, 0]\n",
            "pop([0, 0, 2, 0, 0]) ➞ [0, 1, 2, 1, 0]\n",
            "pop([0]) ➞ [0]\n"
          ]
        }
      ]
    },
    {
      "cell_type": "markdown",
      "source": [
        "\"Loves me, loves me not\" is a traditional game in which a person plucks off all the petals of a flower one by one, saying the phrase \"Loves me\" and \"Loves me not\" when determining whether the one that they love, loves them back.<br>\n",
        "Given a number of petals, return a string which repeats the phrases \"Loves me\" and \"Loves me not\" for every alternating petal, and return the last phrase in all caps. Remember to put a comma and space between phrases."
      ],
      "metadata": {
        "id": "2nZopKyPUlh1"
      }
    },
    {
      "cell_type": "code",
      "source": [
        "def loves_me(in_num):\n",
        "  out_string = []\n",
        "  for ele in range(in_num):\n",
        "    if ele%2 ==0:\n",
        "      out_string.append('Loves me')\n",
        "    else:\n",
        "      out_string.append('Loves me not')\n",
        "  out_string[-1] = out_string[-1].upper()\n",
        "  print(f'loves_me({in_num}) ➞ {\", \".join(out_string)}')\n",
        "    \n",
        "loves_me(3)\n",
        "loves_me(6)\n",
        "loves_me(1)"
      ],
      "metadata": {
        "colab": {
          "base_uri": "https://localhost:8080/"
        },
        "id": "4YhmYf9ZUlh2",
        "outputId": "bfdd357d-eeae-4060-8952-41ff2057e0eb"
      },
      "execution_count": 81,
      "outputs": [
        {
          "output_type": "stream",
          "name": "stdout",
          "text": [
            "loves_me(3) ➞ Loves me, Loves me not, LOVES ME\n",
            "loves_me(6) ➞ Loves me, Loves me not, Loves me, Loves me not, Loves me, LOVES ME NOT\n",
            "loves_me(1) ➞ LOVES ME\n"
          ]
        }
      ]
    },
    {
      "cell_type": "markdown",
      "source": [
        "Write a function that sorts each string in a list by the letter in alphabetic ascending order (a-z)."
      ],
      "metadata": {
        "id": "EjQ4KOEDUlkG"
      }
    },
    {
      "cell_type": "code",
      "source": [
        "def sort_by_letter(in_list):\n",
        "  temp_list = []\n",
        "  output = []\n",
        "  for ele in in_list:\n",
        "    for char in ele:\n",
        "      if char.isalpha():\n",
        "        temp_list.append(char)\n",
        "  temp_list.sort()\n",
        "  for char in temp_list:\n",
        "    for ele in in_list:\n",
        "      if char in ele:\n",
        "        output.append(ele)\n",
        "    \n",
        "  print(f'sort_by_letter({in_list}) ➞ {output}')\n",
        "                \n",
        "sort_by_letter([\"932c\", \"832u32\", \"2344b\"])\n",
        "sort_by_letter([\"99a\", \"78b\", \"c2345\", \"11d\"])\n",
        "sort_by_letter([\"572z\", \"5y5\", \"304q2\"])\n",
        "sort_by_letter([])"
      ],
      "metadata": {
        "colab": {
          "base_uri": "https://localhost:8080/"
        },
        "id": "CXfSYg0gUlkH",
        "outputId": "4e019786-7648-4a50-a9a7-289d73c0eda1"
      },
      "execution_count": 82,
      "outputs": [
        {
          "output_type": "stream",
          "name": "stdout",
          "text": [
            "sort_by_letter(['932c', '832u32', '2344b']) ➞ ['2344b', '932c', '832u32']\n",
            "sort_by_letter(['99a', '78b', 'c2345', '11d']) ➞ ['99a', '78b', 'c2345', '11d']\n",
            "sort_by_letter(['572z', '5y5', '304q2']) ➞ ['304q2', '5y5', '572z']\n",
            "sort_by_letter([]) ➞ []\n"
          ]
        }
      ]
    },
    {
      "cell_type": "markdown",
      "source": [
        "There are three cups on a table, at positions A, B, and C. At the start, there is a ball hidden under the cup at position B.<br>\n",
        "However, I perform several swaps on the cups, which is notated as two letters. For example, if I swap the cups at positions A and B, I could notate this as AB or BA.\n",
        "<br>\n",
        "Create a function that returns the letter position that the ball is at, once I finish swapping the cups. The swaps will be given to you as a list.\n",
        "\n"
      ],
      "metadata": {
        "id": "VnfWKnriUlmU"
      }
    },
    {
      "cell_type": "code",
      "source": [
        "def cup_swapping(swap_list,intitial_ball_pos):\n",
        "  ball_position = intitial_ball_pos\n",
        "  for ele in swap_list:\n",
        "    if ball_position in ele:\n",
        "      ball_position = ele.replace(ball_position,'')\n",
        "  print(f'cup_swapping({swap_list}) ➞ {ball_position}')\n",
        "            \n",
        "cup_swapping([\"AB\", \"CA\", \"AB\"],'B')\n",
        "cup_swapping([\"AB\", \"CA\", \"AB\"],'C')\n",
        "cup_swapping([\"AC\", \"BC\", \"AB\"],'A')"
      ],
      "metadata": {
        "colab": {
          "base_uri": "https://localhost:8080/"
        },
        "id": "QzTWKCXRUlmV",
        "outputId": "bca53741-68db-44a8-d966-99c581612a7f"
      },
      "execution_count": 83,
      "outputs": [
        {
          "output_type": "stream",
          "name": "stdout",
          "text": [
            "cup_swapping(['AB', 'CA', 'AB']) ➞ C\n",
            "cup_swapping(['AB', 'CA', 'AB']) ➞ B\n",
            "cup_swapping(['AC', 'BC', 'AB']) ➞ A\n"
          ]
        }
      ]
    }
  ]
}