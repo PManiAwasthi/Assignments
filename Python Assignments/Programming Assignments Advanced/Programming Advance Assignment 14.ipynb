{
  "nbformat": 4,
  "nbformat_minor": 0,
  "metadata": {
    "colab": {
      "provenance": []
    },
    "kernelspec": {
      "name": "python3",
      "display_name": "Python 3"
    },
    "language_info": {
      "name": "python"
    }
  },
  "cells": [
    {
      "cell_type": "markdown",
      "source": [
        "Given a list of numbers, create a function that removes 25% from every number in the list except the smallest number, and adds the total amount removed to the smallest number."
      ],
      "metadata": {
        "id": "cbicyJH8XLYv"
      }
    },
    {
      "cell_type": "code",
      "source": [
        "def show_the_love(in_list):\n",
        "  out_list = in_list.copy()\n",
        "  sum_num = 0\n",
        "  for ele in range(len(out_list)):\n",
        "    if out_list[ele] is not min(out_list):\n",
        "      sum_num += out_list[ele]/4\n",
        "      out_list[ele] =  out_list[ele]-(out_list[ele]/4)\n",
        "  out_list[out_list.index(min(out_list))] = sum_num +min(out_list)\n",
        "  print(f'show_the_love({in_list}) ➞ {out_list}')\n",
        "            \n",
        "show_the_love([4, 1, 4])\n",
        "show_the_love([16, 10, 8])\n",
        "show_the_love([2, 100])"
      ],
      "metadata": {
        "colab": {
          "base_uri": "https://localhost:8080/"
        },
        "id": "-dAQijXRXLbc",
        "outputId": "2b849bf6-fae3-4a3a-b2d5-157d76008138"
      },
      "execution_count": 97,
      "outputs": [
        {
          "output_type": "stream",
          "name": "stdout",
          "text": [
            "show_the_love([4, 1, 4]) ➞ [3.0, 3.0, 3.0]\n",
            "show_the_love([16, 10, 8]) ➞ [12.0, 7.5, 14.5]\n",
            "show_the_love([2, 100]) ➞ [27.0, 75.0]\n"
          ]
        }
      ]
    },
    {
      "cell_type": "markdown",
      "source": [
        "Create a function that takes in two words as input and returns a list of three elements, in the following order:<br>\n",
        "1.Shared letters between two words. 2.Letters unique to word 1. 3.Letters unique to word 2.\n",
        "<br>\n",
        "Each element should have unique letters, and have each letter be alphabetically sorted."
      ],
      "metadata": {
        "id": "rRKs2jhxXMoL"
      }
    },
    {
      "cell_type": "code",
      "source": [
        "def letters(s_one,s_two):\n",
        "  s_one_set = set(s_one)\n",
        "  s_two_set = set(s_two)\n",
        "  out_list = []\n",
        "  out_list.append(''.join(sorted(s_one_set.intersection(s_two_set))))\n",
        "  out_list.append(''.join(sorted(s_one_set.difference(s_two_set))))\n",
        "  out_list.append(''.join(sorted(s_two_set.difference(s_one_set)))) \n",
        "  print(f'letters{s_one,s_two} ➞ {out_list}')\n",
        "    \n",
        "letters(\"sharp\", \"soap\")\n",
        "letters(\"board\", \"bored\")\n",
        "letters(\"happiness\", \"envelope\")\n",
        "letters(\"kerfuffle\", \"fluffy\")\n",
        "letters(\"match\", \"ham\")"
      ],
      "metadata": {
        "colab": {
          "base_uri": "https://localhost:8080/"
        },
        "id": "LWjr0V2ZXMoL",
        "outputId": "e2f7530b-0ffe-4483-ebb0-7bfa921425ea"
      },
      "execution_count": 98,
      "outputs": [
        {
          "output_type": "stream",
          "name": "stdout",
          "text": [
            "letters('sharp', 'soap') ➞ ['aps', 'hr', 'o']\n",
            "letters('board', 'bored') ➞ ['bdor', 'a', 'e']\n",
            "letters('happiness', 'envelope') ➞ ['enp', 'ahis', 'lov']\n",
            "letters('kerfuffle', 'fluffy') ➞ ['flu', 'ekr', 'y']\n",
            "letters('match', 'ham') ➞ ['ahm', 'ct', '']\n"
          ]
        }
      ]
    },
    {
      "cell_type": "markdown",
      "source": [
        "Write a function that pairs the first number in an array with the last, the second number with the second to last, etc."
      ],
      "metadata": {
        "id": "LmsmWs9zXMq2"
      }
    },
    {
      "cell_type": "code",
      "source": [
        "def pairs(in_list):\n",
        "  in_list_clone = in_list.copy()\n",
        "  output = []\n",
        "  while True:\n",
        "    if len(in_list) > 0:\n",
        "      if len(in_list) == 1:\n",
        "        output.append([in_list[0],in_list.pop(0)])\n",
        "      else:\n",
        "        output.append([in_list.pop(0),in_list.pop(-1)])\n",
        "    else:\n",
        "      break\n",
        "  print(f'pairs({in_list_clone}) ➞ {output}')\n",
        "            \n",
        "pairs([1, 2, 3, 4, 5, 6, 7])\n",
        "pairs([1, 2, 3, 4, 5, 6])\n",
        "pairs([5, 9, 8, 1, 2])\n",
        "pairs([])"
      ],
      "metadata": {
        "colab": {
          "base_uri": "https://localhost:8080/"
        },
        "id": "DeJQGBKJXMq2",
        "outputId": "4e028456-2f8a-430a-9804-cc5f90fc40b1"
      },
      "execution_count": 102,
      "outputs": [
        {
          "output_type": "stream",
          "name": "stdout",
          "text": [
            "pairs([1, 2, 3, 4, 5, 6, 7]) ➞ [[1, 7], [2, 6], [3, 5], [4, 4]]\n",
            "pairs([1, 2, 3, 4, 5, 6]) ➞ [[1, 6], [2, 5], [3, 4]]\n",
            "pairs([5, 9, 8, 1, 2]) ➞ [[5, 2], [9, 1], [8, 8]]\n",
            "pairs([]) ➞ []\n"
          ]
        }
      ]
    },
    {
      "cell_type": "markdown",
      "source": [
        "Write a function that adds two numbers. The catch, however, is that the numbers will be strings."
      ],
      "metadata": {
        "id": "lNuNM07vXMtT"
      }
    },
    {
      "cell_type": "code",
      "source": [
        "def add_str_nums(in_one,in_two):\n",
        "  in_one = in_one if len(in_one) > 0 else \"0\"\n",
        "  in_two = in_two if len(in_two) > 0 else \"0\"\n",
        "  if in_one.isdigit() == False or in_two.isdigit() == False:\n",
        "    output = -1\n",
        "  else: \n",
        "    output = int(in_one)+int(in_two)\n",
        "  print(f'add_str_nums{in_one,in_two} ➞ {str(output)}')\n",
        "        \n",
        "add_str_nums(\"4\", \"5\")\n",
        "add_str_nums(\"abcdefg\", \"3\")\n",
        "add_str_nums(\"1\", \"\")\n",
        "add_str_nums(\"1874682736267235927359283579235789257\", \"32652983572985729\")"
      ],
      "metadata": {
        "colab": {
          "base_uri": "https://localhost:8080/"
        },
        "id": "2jk24DBQXMtT",
        "outputId": "5391bc1a-b0ba-4ffe-c29a-d782e653072d"
      },
      "execution_count": 100,
      "outputs": [
        {
          "output_type": "stream",
          "name": "stdout",
          "text": [
            "add_str_nums('4', '5') ➞ 9\n",
            "add_str_nums('abcdefg', '3') ➞ -1\n",
            "add_str_nums('1', '0') ➞ 1\n",
            "add_str_nums('1874682736267235927359283579235789257', '32652983572985729') ➞ 1874682736267235927391936562808774986\n"
          ]
        }
      ]
    },
    {
      "cell_type": "markdown",
      "source": [
        " lPaeesh le pemu mnxit ehess rtnisg! Oh, sorry, that was supposed to say: Please help me unmix these strings!\n",
        "Somehow my strings have all become mixed up; every pair of characters has been swapped. Help me undo this so I can understand my strings again."
      ],
      "metadata": {
        "id": "E7N-Tq23XMvr"
      }
    },
    {
      "cell_type": "code",
      "source": [
        "def unmix(in_string):\n",
        "  output = ''\n",
        "  for ele in range(0,len(in_string)-1,2):\n",
        "    output += in_string[ele+1]+in_string[ele]\n",
        "    if (len(in_string)%2 != 0 and ele == len(in_string)//2 ):\n",
        "      output += in_string[-1]       \n",
        "  print(f'unmix({in_string}) ➞ {output}')\n",
        "\n",
        "unmix(\"123456\")\n",
        "unmix(\"hTsii  s aimex dpus rtni.g\")\n",
        "unmix(\"badce\")"
      ],
      "metadata": {
        "colab": {
          "base_uri": "https://localhost:8080/"
        },
        "id": "CRGbiuGIXMvs",
        "outputId": "637d57dc-c646-4d83-9463-af8e18706214"
      },
      "execution_count": 101,
      "outputs": [
        {
          "output_type": "stream",
          "name": "stdout",
          "text": [
            "unmix(123456) ➞ 214365\n",
            "unmix(hTsii  s aimex dpus rtni.g) ➞ This is a mixed up string.\n",
            "unmix(badce) ➞ abcde\n"
          ]
        }
      ]
    },
    {
      "cell_type": "code",
      "source": [],
      "metadata": {
        "id": "_dPnaswWXmQk"
      },
      "execution_count": null,
      "outputs": []
    }
  ]
}