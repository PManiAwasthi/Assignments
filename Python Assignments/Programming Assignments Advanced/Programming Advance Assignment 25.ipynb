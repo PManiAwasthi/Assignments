{
  "nbformat": 4,
  "nbformat_minor": 0,
  "metadata": {
    "colab": {
      "provenance": []
    },
    "kernelspec": {
      "name": "python3",
      "display_name": "Python 3"
    },
    "language_info": {
      "name": "python"
    }
  },
  "cells": [
    {
      "cell_type": "markdown",
      "source": [
        "Write four functions that directly mutate a list:<br><br>\n",
        "repeat(lst, n): Repeat lst n times.<br>\n",
        "add(lst, x): Adds x to the end of the lst.<br>\n",
        "remove(lst, m, n): Removes all elements between indices m and n inclusive in lst.<br>\n",
        "concat(lst, x): concatenates lst with x (another list)."
      ],
      "metadata": {
        "id": "4kgZkjQBgANU"
      }
    },
    {
      "cell_type": "code",
      "source": [
        "lst = [1, 2, 3, 4]\n",
        "\n",
        "def repeat(in_num):\n",
        "  global lst\n",
        "  lst = lst*in_num\n",
        "  return lst\n",
        "\n",
        "def add(in_num):\n",
        "  global lst\n",
        "  lst.append(in_num)\n",
        "  return lst\n",
        "\n",
        "def remove(start,end):\n",
        "  global lst\n",
        "  for ele in lst[start:end+1]:\n",
        "    lst.remove(ele)\n",
        "  return lst\n",
        "\n",
        "def concat(in_list):\n",
        "  global lst\n",
        "  lst = lst+in_list\n",
        "  return lst\n",
        "\n",
        "print(f'repeat(3) ➞ {repeat(3)}')\n",
        "print(f'add(1) ➞ {add(1)}')\n",
        "print(f'remove(lst, 1, 12) ➞ {remove(1,12)}')\n",
        "print(f'concat([3, 4]) ➞ {concat([3, 4])}')"
      ],
      "metadata": {
        "colab": {
          "base_uri": "https://localhost:8080/"
        },
        "id": "5v2nLkNBgATx",
        "outputId": "241cba30-0c7d-4035-d808-e07e554a218e"
      },
      "execution_count": 154,
      "outputs": [
        {
          "output_type": "stream",
          "name": "stdout",
          "text": [
            "repeat(3) ➞ [1, 2, 3, 4, 1, 2, 3, 4, 1, 2, 3, 4]\n",
            "add(1) ➞ [1, 2, 3, 4, 1, 2, 3, 4, 1, 2, 3, 4, 1]\n",
            "remove(lst, 1, 12) ➞ [1]\n",
            "concat([3, 4]) ➞ [1, 3, 4]\n"
          ]
        }
      ]
    },
    {
      "cell_type": "markdown",
      "source": [
        "The classic game of Mastermind is played on a tray on which the Mastermind conceals a code and the Guesser has 10 tries to guess it. The code is a sequence of 4 (or 6, sometimes more) pegs of different colors. Each guess is a corresponding sequence of 4 (or more) pegs of different colors. A guess is \"correct\" when the color of every peg in the guess exactly matches the corresponding peg in the Mastermind's code.<br><br>\n",
        "After each guess by the Guesser, the Mastermind will give a score comprising black & white pegs, not arranged in any order:\n",
        "<br>\n",
        "Black peg == guess peg matches the color of a code peg in the same position.<br>\n",
        "White peg == guess peg matches the color of a code peg in another position.<br><br>\n",
        "Create a function that takes two strings, code and guess as arguments, and returns the score in a dictionary.<br>\n",
        "\n",
        "The code and guess are strings of numeric digits<br>\n",
        "The color of the pegs are represented by numeric digits<br>\n",
        "no \"peg\" may be double-scored<br>"
      ],
      "metadata": {
        "id": "AZ40yi6dgA2e"
      }
    },
    {
      "cell_type": "code",
      "source": [
        "def guess_score(code,guess):\n",
        "  output = {\"black\":0,\"white\":0}\n",
        "  for ele in range(len(code)): \n",
        "    if code[ele] == guess[ele]:\n",
        "      output['black'] += 1\n",
        "    elif code[ele] in guess and ele != guess.index(code[ele]):\n",
        "      output['white'] += 1\n",
        "  print(f'guess_score{code,guess} ➞ {output}')\n",
        "        \n",
        "guess_score(\"1423\", \"5678\")\n",
        "guess_score(\"1423\", \"2222\")\n",
        "guess_score(\"1423\", \"1234\") \n",
        "guess_score(\"1423\", \"2211\")"
      ],
      "metadata": {
        "colab": {
          "base_uri": "https://localhost:8080/"
        },
        "id": "iqMs9DtwgA2e",
        "outputId": "0a5ab2d1-b93c-4aba-ab93-44a4ceae2f71"
      },
      "execution_count": 155,
      "outputs": [
        {
          "output_type": "stream",
          "name": "stdout",
          "text": [
            "guess_score('1423', '5678') ➞ {'black': 0, 'white': 0}\n",
            "guess_score('1423', '2222') ➞ {'black': 1, 'white': 0}\n",
            "guess_score('1423', '1234') ➞ {'black': 1, 'white': 3}\n",
            "guess_score('1423', '2211') ➞ {'black': 0, 'white': 2}\n"
          ]
        }
      ]
    },
    {
      "cell_type": "markdown",
      "source": [
        "Create a function that takes a list lst and a number N and returns a list of two integers from lst whose product equals N."
      ],
      "metadata": {
        "id": "lcSDrpubgA5A"
      }
    },
    {
      "cell_type": "code",
      "source": [
        "def two_product(in_list,in_num):\n",
        "  output = None\n",
        "  for num_1 in in_list:\n",
        "    for num_2 in in_list:\n",
        "      if num_1*num_2 == in_num:\n",
        "        output = sorted([num_1,num_2])\n",
        "        break\n",
        "  print(f'two_product({in_list}) ➞ {output}')\n",
        "    \n",
        "two_product([1, 2, -1, 4, 5], 20)\n",
        "two_product([1, 2, 3, 4, 5], 10)\n",
        "two_product([100, 12, 4, 1, 2], 15)"
      ],
      "metadata": {
        "colab": {
          "base_uri": "https://localhost:8080/"
        },
        "id": "eZ5XGXCbgA5A",
        "outputId": "55b7f97b-1d6a-4c57-c974-6519bb5064ce"
      },
      "execution_count": 156,
      "outputs": [
        {
          "output_type": "stream",
          "name": "stdout",
          "text": [
            "two_product([1, 2, -1, 4, 5]) ➞ [4, 5]\n",
            "two_product([1, 2, 3, 4, 5]) ➞ [2, 5]\n",
            "two_product([100, 12, 4, 1, 2]) ➞ None\n"
          ]
        }
      ]
    },
    {
      "cell_type": "markdown",
      "source": [
        "In this challenge, sort a list containing a series of dates given as strings. Each date is given in the format DD-MM-YYYY_HH:MM:<br>\n",
        "\"12-02-2012_13:44\"\n",
        "<br><br>\n",
        "The priority of criteria used for sorting will be:\n",
        "<br>\n",
        "Year<br>\n",
        "Month<br>\n",
        "Day<br>\n",
        "Hours<br>\n",
        "Minutes<br><br>\n",
        "Given a list lst and a string mode, implement a function that returns:<br>\n",
        "\n",
        "if mode is equal to \"ASC\", the list lst sorted in ascending order.<br>\n",
        "if mode is equal to \"DSC\", the list lst sorted in descending order."
      ],
      "metadata": {
        "id": "ZKKklMp0gA7r"
      }
    },
    {
      "cell_type": "code",
      "source": [
        "from datetime import datetime\n",
        "def sort_dates(in_list,sort_by):\n",
        "  in_list_clone = in_list.copy()\n",
        "  in_list_unix = []\n",
        "  for ele in in_list:\n",
        "    in_list_unix.append(datetime.strptime(ele, \"%d-%m-%Y_%H:%M\").timestamp())\n",
        "  in_list_unix = sorted(in_list_unix) if sort_by == 'ASC' else sorted(in_list_unix, reverse=True)\n",
        "  output = []\n",
        "  for ele in in_list_unix:\n",
        "    output.append(datetime.fromtimestamp(ele).strftime(\"%d-%m-%Y_%H:%M\"))\n",
        "  print(f'sort_dates{in_list,sort_by}➞ {output}')\n",
        "\n",
        "sort_dates([\"10-02-2018_12:30\", \"10-02-2016_12:30\", \"10-02-2018_12:15\"], \"ASC\")\n",
        "sort_dates([\"10-02-2018_12:30\", \"10-02-2016_12:30\", \"10-02-2018_12:15\"], \"DSC\")\n",
        "sort_dates([\"09-02-2000_10:03\", \"10-02-2000_18:29\", \"01-01-1999_00:55\"], \"ASC\")"
      ],
      "metadata": {
        "id": "byo13clIgA7r"
      },
      "execution_count": null,
      "outputs": []
    },
    {
      "cell_type": "markdown",
      "source": [
        "Write a function that selects all words that have all the same vowels (in any order and/or number) as the first word, including the first word."
      ],
      "metadata": {
        "id": "n-EFjf7PgA__"
      }
    },
    {
      "cell_type": "code",
      "source": [
        "def same_vowel_group(in_list):\n",
        "  vowels = ['a','e','i','o','u']\n",
        "  first_ele = sorted(set([x for x in in_list[0] if x in vowels]))\n",
        "  output = []\n",
        "  for ele in range(0,len(in_list)):\n",
        "    vowels_in_word = [x for x in in_list[ele] if x in first_ele]\n",
        "    if sorted(first_ele) == sorted(set(vowels_in_word)):\n",
        "      output.append(in_list[ele])\n",
        "  print(f'same_vowel_group({in_list}) ➞ {output}')\n",
        "    \n",
        "same_vowel_group([\"toe\", \"ocelot\", \"maniac\"])\n",
        "same_vowel_group([\"many\", \"carriage\", \"emit\", \"apricot\", \"animal\"])\n",
        "same_vowel_group([\"hoops\", \"chuff\", \"bot\", \"bottom\"])\n"
      ],
      "metadata": {
        "colab": {
          "base_uri": "https://localhost:8080/"
        },
        "id": "AoTaeUkCgBAA",
        "outputId": "835e016b-4e34-498f-f705-7ca2813e2de5"
      },
      "execution_count": 157,
      "outputs": [
        {
          "output_type": "stream",
          "name": "stdout",
          "text": [
            "same_vowel_group(['toe', 'ocelot', 'maniac']) ➞ ['toe', 'ocelot']\n",
            "same_vowel_group(['many', 'carriage', 'emit', 'apricot', 'animal']) ➞ ['many', 'carriage', 'apricot', 'animal']\n",
            "same_vowel_group(['hoops', 'chuff', 'bot', 'bottom']) ➞ ['hoops', 'bot', 'bottom']\n"
          ]
        }
      ]
    },
    {
      "cell_type": "code",
      "source": [],
      "metadata": {
        "id": "8K6L1NP8gfhZ"
      },
      "execution_count": null,
      "outputs": []
    }
  ]
}