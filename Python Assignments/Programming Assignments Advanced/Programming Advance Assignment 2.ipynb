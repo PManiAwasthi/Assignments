{
  "nbformat": 4,
  "nbformat_minor": 0,
  "metadata": {
    "colab": {
      "provenance": []
    },
    "kernelspec": {
      "name": "python3",
      "display_name": "Python 3"
    },
    "language_info": {
      "name": "python"
    }
  },
  "cells": [
    {
      "cell_type": "markdown",
      "source": [
        "Write a function that takes a positive integer num and calculates how many dots exist in a pentagonal shape around the center dot on the Nth iteration."
      ],
      "metadata": {
        "id": "G_6xLLkfIuPm"
      }
    },
    {
      "cell_type": "code",
      "source": [
        "def pentagonal(in_num):\n",
        "  output = 1\n",
        "  if in_num >=1:\n",
        "    for ele in range(in_num):\n",
        "      output = output + (5*ele)\n",
        "    print(f'pentagonal({in_num}) ➞ {output}')\n",
        "  else:\n",
        "    print(\"Enter a Positive Number as Input\")\n",
        "        \n",
        "pentagonal(1) \n",
        "pentagonal(2)\n",
        "pentagonal(3)\n",
        "pentagonal(8)"
      ],
      "metadata": {
        "colab": {
          "base_uri": "https://localhost:8080/"
        },
        "id": "XvF1WYKxIuTV",
        "outputId": "c51356fe-0c9f-44ce-9da5-adf0d8d9e2bc"
      },
      "execution_count": null,
      "outputs": [
        {
          "output_type": "stream",
          "name": "stdout",
          "text": [
            "pentagonal(1) ➞ 1\n",
            "pentagonal(2) ➞ 6\n",
            "pentagonal(3) ➞ 16\n",
            "pentagonal(8) ➞ 141\n"
          ]
        }
      ]
    },
    {
      "cell_type": "markdown",
      "source": [
        "Make a function that encrypts a given input with these steps:<br>\n",
        "Input: \"apple\"<br>\n",
        "Step 1: Reverse the input: \"elppa\"<br>\n",
        "Step 2: Replace all vowels using the following chart:<br>\n",
        "a => 0\n",
        "e => 1\n",
        "i => 2\n",
        "o => 2\n",
        "u => 3\n",
        "\\# \"1lpp0\"\n",
        "<br>\n",
        "Step 3: Add \"aca\" to the end of the word: \"1lpp0aca\"<br>\n",
        "Output: \"1lpp0aca\"<br>"
      ],
      "metadata": {
        "id": "KwfJP_LMIu43"
      }
    },
    {
      "cell_type": "code",
      "source": [
        "def encrypt(in_string):\n",
        "  vowels = {'a':'0','e':'1','i':'2','o':'2','u':'2'}\n",
        "  out_string = ''\n",
        "  for ele in in_string[::-1]:\n",
        "    if ele in vowels.keys():\n",
        "      out_string += vowels[ele]\n",
        "    else:\n",
        "      out_string += ele\n",
        "  out_string += \"aca\"\n",
        "  print(f'encrypt({in_string}) ➞ {out_string}')\n",
        "        \n",
        "encrypt(\"banana\")\n",
        "encrypt(\"karaca\")\n",
        "encrypt(\"burak\")\n",
        "encrypt(\"alpaca\") "
      ],
      "metadata": {
        "id": "m9HG4YXYIu43",
        "colab": {
          "base_uri": "https://localhost:8080/"
        },
        "outputId": "5343baa7-a73f-4e27-9d37-cce370c2221a"
      },
      "execution_count": 37,
      "outputs": [
        {
          "output_type": "stream",
          "name": "stdout",
          "text": [
            "encrypt(banana) ➞ 0n0n0baca\n",
            "encrypt(karaca) ➞ 0c0r0kaca\n",
            "encrypt(burak) ➞ k0r2baca\n",
            "encrypt(alpaca) ➞ 0c0pl0aca\n"
          ]
        }
      ]
    },
    {
      "cell_type": "markdown",
      "source": [
        "Given the month and year as numbers, return whether that month contains a Friday 13th.(i.e You can check Python's datetime module)"
      ],
      "metadata": {
        "id": "y_NwOhM3Iu75"
      }
    },
    {
      "cell_type": "code",
      "source": [
        "import datetime\n",
        "def has_friday_13(month,year):\n",
        "  output = False\n",
        "  if datetime.datetime(year,month,13).strftime('%A') == 'Friday':\n",
        "    output = True\n",
        "  print(f'has_friday_13{month,year} ➞ {output}')\n",
        "\n",
        "has_friday_13(3, 2020)\n",
        "has_friday_13(10, 2017)\n",
        "has_friday_13(1, 1985)"
      ],
      "metadata": {
        "id": "ErM29kyfIu76",
        "colab": {
          "base_uri": "https://localhost:8080/"
        },
        "outputId": "08acfd3b-57ca-4677-a035-3b1a7b7b7fb3"
      },
      "execution_count": 36,
      "outputs": [
        {
          "output_type": "stream",
          "name": "stdout",
          "text": [
            "has_friday_13(3, 2020) ➞ True\n",
            "has_friday_13(10, 2017) ➞ True\n",
            "has_friday_13(1, 1985) ➞ False\n"
          ]
        }
      ]
    },
    {
      "cell_type": "markdown",
      "source": [
        "Write a regular expression that will help us count how many bad cookies are produced every day. You must use RegEx negative lookbehind."
      ],
      "metadata": {
        "id": "u2vWFyzgIu_R"
      }
    },
    {
      "cell_type": "code",
      "source": [
        "import re\n",
        "lst = [\"bad cookie\", \"good cookie\", \"bad cookie\", \"good cookie\", \"good cookie\"]\n",
        "pattern = r'(?<!good)\\scookie'# Regex Negative lookbehind expression\n",
        "data = re.findall(pattern,' '.join(lst))\n",
        "print(f'No of Bad cookies produced per day ➞ {len(data)}')"
      ],
      "metadata": {
        "id": "Q3mgE96WIu_S",
        "colab": {
          "base_uri": "https://localhost:8080/"
        },
        "outputId": "7b742a90-4980-43a9-ff0d-0833fc8b4069"
      },
      "execution_count": 38,
      "outputs": [
        {
          "output_type": "stream",
          "name": "stdout",
          "text": [
            "No of Bad cookies produced per day ➞ 2\n"
          ]
        }
      ]
    },
    {
      "cell_type": "markdown",
      "source": [
        " Given a list of words in the singular form, return a set of those words in the plural form if they appear more than once in the list."
      ],
      "metadata": {
        "id": "MOBi44hqIvCZ"
      }
    },
    {
      "cell_type": "code",
      "source": [
        "def pluralize(in_list):\n",
        "  out_set = set()\n",
        "  for ele in set(in_list):\n",
        "    if in_list.count(ele) > 1:\n",
        "      out_set.add(ele+'s')\n",
        "    else:\n",
        "      out_set.add(ele)\n",
        "  print(f'pluralize({in_list})  ➞ {out_set}')\n",
        "    \n",
        "pluralize([\"cow\", \"pig\", \"cow\", \"cow\"])\n",
        "pluralize([\"table\", \"table\", \"table\"])\n",
        "pluralize([\"chair\", \"pencil\", \"arm\"])"
      ],
      "metadata": {
        "id": "j7_kaD3DIvCa"
      },
      "execution_count": null,
      "outputs": []
    }
  ]
}