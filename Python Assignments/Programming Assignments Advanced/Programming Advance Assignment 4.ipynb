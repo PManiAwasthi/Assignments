{
  "nbformat": 4,
  "nbformat_minor": 0,
  "metadata": {
    "colab": {
      "provenance": []
    },
    "kernelspec": {
      "name": "python3",
      "display_name": "Python 3"
    },
    "language_info": {
      "name": "python"
    }
  },
  "cells": [
    {
      "cell_type": "markdown",
      "source": [
        "In mathematics, the Fibonacci numbers, commonly denoted Fn, form a sequence, called the Fibonacci sequence, such that each number is the sum of the two preceding ones, starting from 0 and 1:<br>\n",
        "The beginning of the sequence is this: 0, 1, 1, 2, 3, 5, 8, 13, 21, 34, 55, 89, 144, ...<br>\n",
        "The function fastFib(num) returns the fibonacci number Fn, of the given num as an argument."
      ],
      "metadata": {
        "id": "OKHqoSezPBHB"
      }
    },
    {
      "cell_type": "code",
      "source": [
        "def fib_fast(in_num):\n",
        "  back_two,back_one,output = 0,1,0\n",
        "  for ele in range(in_num+1):\n",
        "    if ele > 1:\n",
        "      output = back_two+back_one\n",
        "      back_two = back_one\n",
        "      back_one = output\n",
        "  print(f'fib_fast({in_num}) ➞ {output}')\n",
        "\n",
        "\n",
        "print() \n",
        "fib_fast(5)\n",
        "fib_fast(10)\n",
        "fib_fast(20)\n",
        "fib_fast(50)\n"
      ],
      "metadata": {
        "colab": {
          "base_uri": "https://localhost:8080/"
        },
        "id": "_INfqMROPBLc",
        "outputId": "0e632d25-4f3e-4d2a-c6f8-e883b0ebf163"
      },
      "execution_count": 45,
      "outputs": [
        {
          "output_type": "stream",
          "name": "stdout",
          "text": [
            "\n",
            "fib_fast(5) ➞ 5\n",
            "fib_fast(10) ➞ 55\n",
            "fib_fast(20) ➞ 6765\n",
            "fib_fast(50) ➞ 12586269025\n"
          ]
        }
      ]
    },
    {
      "cell_type": "markdown",
      "source": [
        "Create a function that takes a strings characters as ASCII and returns each characters hexadecimal value as a string."
      ],
      "metadata": {
        "id": "6wHkR2IMPBwJ"
      }
    },
    {
      "cell_type": "code",
      "source": [
        "def convert_to_hex(in_string):\n",
        "  out_string = []\n",
        "  for ele in in_string:\n",
        "    out_string.append(hex(ord(ele))[2:])\n",
        "  print(f'convert_to_hex({in_string}) ➞ {\" \".join(out_string)}')\n",
        "\n",
        "convert_to_hex(\"hello world\")\n",
        "convert_to_hex(\"Big Boi\")\n",
        "convert_to_hex(\"Marty Poppinson\")"
      ],
      "metadata": {
        "id": "J4d5BZCuPBwJ"
      },
      "execution_count": null,
      "outputs": []
    },
    {
      "cell_type": "markdown",
      "source": [
        "Someone has attempted to censor my strings by replacing every vowel with a *, l*k* th*s. Luckily, I've been able to find the vowels that were removed.<br>\n",
        "Given a censored string and a string of the censored vowels, return the original uncensored string."
      ],
      "metadata": {
        "id": "cpcF87VpPBz0"
      }
    },
    {
      "cell_type": "code",
      "source": [
        "def uncensor(in_string,in_vowels):\n",
        "  window = 0\n",
        "  out_string = ''\n",
        "  for ele in in_string:\n",
        "    if ele == '*':\n",
        "      out_string += in_vowels[window]\n",
        "      window +=1\n",
        "    else:\n",
        "      out_string += ele\n",
        "  print(f'uncensor{in_string,in_vowels} ➞ {out_string}')\n",
        "\n",
        "uncensor(\"Wh*r* d*d my v*w*ls g*?\", \"eeioeo\")\n",
        "uncensor(\"abcd\", \"\")\n",
        "uncensor(\"*PP*RC*S*\", \"UEAE\")"
      ],
      "metadata": {
        "colab": {
          "base_uri": "https://localhost:8080/"
        },
        "id": "bkpNBjbBPBz1",
        "outputId": "dcace1da-674f-4771-a875-4f3ce1806981"
      },
      "execution_count": 46,
      "outputs": [
        {
          "output_type": "stream",
          "name": "stdout",
          "text": [
            "uncensor('Wh*r* d*d my v*w*ls g*?', 'eeioeo') ➞ Where did my vowels go?\n",
            "uncensor('abcd', '') ➞ abcd\n",
            "uncensor('*PP*RC*S*', 'UEAE') ➞ UPPERCASE\n"
          ]
        }
      ]
    },
    {
      "cell_type": "markdown",
      "source": [
        "Write a function that takes an IP address and returns the domain name using PTR DNS records."
      ],
      "metadata": {
        "id": "SpL0Dk8QPB3H"
      }
    },
    {
      "cell_type": "code",
      "source": [
        "import socket\n",
        "def get_domain(in_ip):\n",
        "  print(f'get_domain({in_ip}) ➞ {socket.gethostbyaddr(in_ip)} ➞ {socket.gethostbyaddr(in_ip)[0]}')\n",
        "    \n",
        "get_domain(\"8.8.8.8\")\n",
        "get_domain(\"8.8.4.4\")\n"
      ],
      "metadata": {
        "colab": {
          "base_uri": "https://localhost:8080/"
        },
        "id": "ofDh7NlkPB3I",
        "outputId": "bb2626f9-c7f6-4357-9132-4c18bdc0a6f4"
      },
      "execution_count": 47,
      "outputs": [
        {
          "output_type": "stream",
          "name": "stdout",
          "text": [
            "get_domain(8.8.8.8) ➞ ('dns.google', [], ['8.8.8.8']) ➞ dns.google\n",
            "get_domain(8.8.4.4) ➞ ('dns.google', [], ['8.8.4.4']) ➞ dns.google\n"
          ]
        }
      ]
    },
    {
      "cell_type": "markdown",
      "source": [
        "Create a function that takes an integer n and returns the factorial of factorials. See below examples for a better understanding:"
      ],
      "metadata": {
        "id": "iI5ip9l3PB6V"
      }
    },
    {
      "cell_type": "code",
      "source": [
        "def fact_of_fact(in_num):\n",
        "  def get_factorial(n):\n",
        "    if n == 1:\n",
        "      return 1\n",
        "    else:\n",
        "      return n*get_factorial(n-1)      \n",
        "  out_num = 1\n",
        "  for ele in range(1,in_num+1):\n",
        "    out_num *= get_factorial(ele)\n",
        "  print(f'fact_of_fact({in_num}) ➞ {out_num}')\n",
        "\n",
        "fact_of_fact(4)\n",
        "fact_of_fact(5)\n",
        "fact_of_fact(6)\n"
      ],
      "metadata": {
        "colab": {
          "base_uri": "https://localhost:8080/"
        },
        "id": "p4HqD54cPB6V",
        "outputId": "4121b29f-ee1f-4ec4-ac09-791764a07e5c"
      },
      "execution_count": 48,
      "outputs": [
        {
          "output_type": "stream",
          "name": "stdout",
          "text": [
            "fact_of_fact(4) ➞ 288\n",
            "fact_of_fact(5) ➞ 34560\n",
            "fact_of_fact(6) ➞ 24883200\n"
          ]
        }
      ]
    },
    {
      "cell_type": "code",
      "source": [],
      "metadata": {
        "id": "drTwINTqPn5d"
      },
      "execution_count": null,
      "outputs": []
    }
  ]
}