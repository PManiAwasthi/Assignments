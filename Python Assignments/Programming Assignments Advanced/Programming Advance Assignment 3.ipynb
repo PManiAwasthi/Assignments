{
  "nbformat": 4,
  "nbformat_minor": 0,
  "metadata": {
    "colab": {
      "provenance": []
    },
    "kernelspec": {
      "name": "python3",
      "display_name": "Python 3"
    },
    "language_info": {
      "name": "python"
    }
  },
  "cells": [
    {
      "cell_type": "markdown",
      "source": [
        "Create a function to perform basic arithmetic operations that includes addition, subtraction, multiplication and division on a string number (e.g. \"12 + 24\" or \"23 - 21\" or \"12 // 12\" or \"12 * 21\").<br>\n",
        "Here, we have 1 followed by a space, operator followed by another space and 2. For the challenge, we are going to have only two numbers between 1 valid operator. The return value should be a number.<br>\n",
        "eval() is not allowed. In case of division, whenever the second number equals \"0\" return -1."
      ],
      "metadata": {
        "id": "8f8pBb8aOKK2"
      }
    },
    {
      "cell_type": "code",
      "source": [
        "import operator\n",
        "\n",
        "ops = {'+':operator.add,'-':operator.sub,'*':operator.mul,'//':operator.floordiv}\n",
        "\n",
        "def arithmetic_operation(in_string):\n",
        "  in_list = in_string.split(\" \")\n",
        "  output = ops[in_list[1]](int(in_list[0]),int(in_list[2])) if int(in_list[2]) != 0 else -1\n",
        "  print(f'arithmetic_operation({in_list[0]} {in_list[1]} {in_list[2]}) ➞ {output}')\n",
        "    \n",
        "arithmetic_operation(\"12 + 12\")\n",
        "arithmetic_operation(\"12 - 12\")\n",
        "arithmetic_operation(\"12 * 12\")\n",
        "arithmetic_operation(\"12 // 0\")"
      ],
      "metadata": {
        "colab": {
          "base_uri": "https://localhost:8080/"
        },
        "id": "PzooEHheOKQ1",
        "outputId": "fdf518b8-31d0-4c87-ab4c-0ad80b216aa7"
      },
      "execution_count": 39,
      "outputs": [
        {
          "output_type": "stream",
          "name": "stdout",
          "text": [
            "arithmetic_operation(12 + 12) ➞ 24\n",
            "arithmetic_operation(12 - 12) ➞ 0\n",
            "arithmetic_operation(12 * 12) ➞ 144\n",
            "arithmetic_operation(12 // 0) ➞ -1\n"
          ]
        }
      ]
    },
    {
      "cell_type": "markdown",
      "source": [
        "Write a function that takes the coordinates of three points in the form of a 2d array and returns the perimeter of the triangle. The given points are the vertices of a triangle on a two-dimensional plane."
      ],
      "metadata": {
        "id": "j8fRpn3JOLXC"
      }
    },
    {
      "cell_type": "code",
      "source": [
        "import math\n",
        "\n",
        "def distance(a,b):\n",
        "  return math.sqrt(pow((b[1]-a[1]),2)+pow((b[0]-a[0]),2))\n",
        "\n",
        "def perimeter(in_array):\n",
        "  perimeter = []\n",
        "  for ele in range(len(in_array)):\n",
        "    if ele == len(in_array)-1:\n",
        "      perimeter.append(distance(in_array[ele],in_array[0]))\n",
        "    else:\n",
        "      perimeter.append(distance(in_array[ele],in_array[ele+1]))\n",
        "  print(f'perimeter({in_array}) ➞ {sum(perimeter):.2f}')\n",
        "    \n",
        "perimeter([[15,7],[5,22],[11,1]])\n",
        "perimeter([[0,0],[0,1],[1,0]])\n",
        "perimeter([[-10,-10],[10,10],[-10,10]])"
      ],
      "metadata": {
        "colab": {
          "base_uri": "https://localhost:8080/"
        },
        "id": "K3Eb4-41OLXD",
        "outputId": "f00de68d-e137-405d-bef1-f60068ebd512"
      },
      "execution_count": 40,
      "outputs": [
        {
          "output_type": "stream",
          "name": "stdout",
          "text": [
            "perimeter([[15, 7], [5, 22], [11, 1]]) ➞ 47.08\n",
            "perimeter([[0, 0], [0, 1], [1, 0]]) ➞ 3.41\n",
            "perimeter([[-10, -10], [10, 10], [-10, 10]]) ➞ 68.28\n"
          ]
        }
      ]
    },
    {
      "cell_type": "markdown",
      "source": [
        "A city skyline can be represented as a 2-D list with 1s representing buildings. In the example below, the height of the tallest building is 4 (second-most right column).<br>\n",
        "[[0, 0, 0, 0, 0, 0], [0, 0, 0, 0, 1, 0], [0, 0, 1, 0, 1, 0], [0, 1, 1, 1, 1, 0], [1, 1, 1, 1, 1, 1]]<br>\n",
        "Create a function that takes a skyline (2-D list of 0's and 1's) and returns the height of the tallest skyscraper."
      ],
      "metadata": {
        "id": "JZdghW2jOLb6"
      }
    },
    {
      "cell_type": "code",
      "source": [
        "def tallest_skyscraper(in_list):\n",
        "  out_list = []\n",
        "  for num in range(len(in_list)):\n",
        "    count = 0\n",
        "    for ele in range(len(in_list[num])):\n",
        "      count += in_list[ele][num]\n",
        "    out_list.append(count)\n",
        "  print(f'tallest_skyscraper({in_list}) ➞ {max(out_list)}')\n",
        "        \n",
        "tallest_skyscraper([[0, 0, 0, 0],[0, 1, 0, 0],[0, 1, 1, 0],[1, 1, 1, 1]])\n",
        "tallest_skyscraper([[0, 1, 0, 0],[0, 1, 0, 0],[0, 1, 1, 0],[1, 1, 1, 1]])\n",
        "tallest_skyscraper([[0, 0, 0, 0],[0, 0, 0, 0],[1, 1, 1, 0],[1, 1, 1, 1]])"
      ],
      "metadata": {
        "colab": {
          "base_uri": "https://localhost:8080/"
        },
        "id": "kgs4MRfHOLb7",
        "outputId": "e52a57e8-4a56-4bcf-a0bc-29a91690cbc6"
      },
      "execution_count": 41,
      "outputs": [
        {
          "output_type": "stream",
          "name": "stdout",
          "text": [
            "tallest_skyscraper([[0, 0, 0, 0], [0, 1, 0, 0], [0, 1, 1, 0], [1, 1, 1, 1]]) ➞ 3\n",
            "tallest_skyscraper([[0, 1, 0, 0], [0, 1, 0, 0], [0, 1, 1, 0], [1, 1, 1, 1]]) ➞ 4\n",
            "tallest_skyscraper([[0, 0, 0, 0], [0, 0, 0, 0], [1, 1, 1, 0], [1, 1, 1, 1]]) ➞ 2\n"
          ]
        }
      ]
    },
    {
      "cell_type": "markdown",
      "source": [
        "A financial institution provides professional services to banks and claims charges from the customers based on the number of man-days provided. Internally, it has set a scheme to motivate and reward staff to meet and exceed targeted billable utilization and revenues by paying a bonus for each day claimed from customers in excess of a threshold target.\n",
        "<br>\n",
        "This quarterly scheme is calculated with a threshold target of 32 days per quarter, and the incentive payment for each billable day in excess of such threshold target is shown as follows:\n",
        "<br>\n",
        "Days Bonus 0 to 32 days Zero 33 to 40 days SGD$325 per billable day 41 to 48 days SGD$550 per billable day Greater than 48 days SGD$600 per billable day\n",
        "<br>\n",
        "Please note that incentive payment is calculated progressively. As an example, if an employee reached total billable days of 45 in a quarter, his/her incentive payment is computed as follows:<br>\n",
        "32*0 + 8*325 + 5*550 = 5350<br>\n",
        "Write a function to read the billable days of an employee and return the bonus he/she has obtained in that quarter.\n",
        "\n"
      ],
      "metadata": {
        "id": "qzNfJeJ2OLed"
      }
    },
    {
      "cell_type": "code",
      "source": [
        "def bonus(int_num):\n",
        "  if int_num > 48:\n",
        "    output = 0+(8*325)+(8*550)+((int_num-48)*600)\n",
        "  elif int_num < 48 and int_num >= 41:\n",
        "    output = 0+(8*325)+((int_num-41+1)*550)\n",
        "  elif int_num >33 and int_num <= 40:\n",
        "    output = 0+((int_num-33+1)*325)\n",
        "  else:\n",
        "    output = 0\n",
        "  print(f'bonus({int_num}) ➞ {output}')\n",
        "        \n",
        "bonus(15)\n",
        "bonus(44)\n",
        "bonus(37)\n",
        "bonus(50)\n",
        "bonus(60)"
      ],
      "metadata": {
        "colab": {
          "base_uri": "https://localhost:8080/"
        },
        "id": "9wVDNQjTOLee",
        "outputId": "e819932d-b5de-4be8-d28b-a482995c75c9"
      },
      "execution_count": 42,
      "outputs": [
        {
          "output_type": "stream",
          "name": "stdout",
          "text": [
            "bonus(15) ➞ 0\n",
            "bonus(44) ➞ 4800\n",
            "bonus(37) ➞ 1625\n",
            "bonus(50) ➞ 8200\n",
            "bonus(60) ➞ 14200\n"
          ]
        }
      ]
    },
    {
      "cell_type": "markdown",
      "source": [
        "A number is said to be Disarium if the sum of its digits raised to their respective positions is the number itself.<br>\n",
        "Create a function that determines whether a number is a Disarium or not."
      ],
      "metadata": {
        "id": "MTjlWa7lOLhg"
      }
    },
    {
      "cell_type": "code",
      "source": [
        "def is_disarium(in_num):\n",
        "  sum = 0\n",
        "  output = False\n",
        "  for ele in range(len(str(in_num))):\n",
        "    sum += int(str(in_num)[ele])**(ele+1)\n",
        "  if in_num == sum:\n",
        "    output=True\n",
        "  print(f'is_disarium({in_num}) ➞ {output}')\n",
        "    \n",
        "is_disarium(75)\n",
        "is_disarium(135)\n",
        "is_disarium(544)\n",
        "is_disarium(518)\n",
        "is_disarium(466)\n",
        "is_disarium(8)"
      ],
      "metadata": {
        "colab": {
          "base_uri": "https://localhost:8080/"
        },
        "id": "QCHxPazCOLhh",
        "outputId": "376902ac-9ad3-472e-c46e-c2f67f71b8d1"
      },
      "execution_count": 43,
      "outputs": [
        {
          "output_type": "stream",
          "name": "stdout",
          "text": [
            "is_disarium(75) ➞ False\n",
            "is_disarium(135) ➞ True\n",
            "is_disarium(544) ➞ False\n",
            "is_disarium(518) ➞ True\n",
            "is_disarium(466) ➞ False\n",
            "is_disarium(8) ➞ True\n"
          ]
        }
      ]
    },
    {
      "cell_type": "code",
      "source": [],
      "metadata": {
        "id": "DzZ7Dc70OtRf"
      },
      "execution_count": null,
      "outputs": []
    }
  ]
}