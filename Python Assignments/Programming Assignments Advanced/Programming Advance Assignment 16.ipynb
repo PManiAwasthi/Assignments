{
  "nbformat": 4,
  "nbformat_minor": 0,
  "metadata": {
    "colab": {
      "provenance": []
    },
    "kernelspec": {
      "name": "python3",
      "display_name": "Python 3"
    },
    "language_info": {
      "name": "python"
    }
  },
  "cells": [
    {
      "cell_type": "markdown",
      "source": [
        "Rondo Form is a type of musical structure, in which there is a recurring theme/refrain, notated as A. Here are the rules for valid rondo forms:<br>\n",
        "Rondo forms always start and end with an A section.<br>\n",
        "In between the A sections, there should be contrasting sections notated as B, then C, then D, etc... No letter should be skipped.<br>\n",
        "There shouldn't be any repeats in the sequence (such as ABBACCA).<br>\n",
        "Create a function which validates whether a given string is a valid Rondo Form.\n",
        "\n"
      ],
      "metadata": {
        "id": "OxJCvsiLY256"
      }
    },
    {
      "cell_type": "code",
      "source": [
        "def valid_rondo(in_string):\n",
        "  in_string_x = in_string.replace('A','')\n",
        "  in_string_x = list(in_string_x)\n",
        "  output = False\n",
        "  if len(in_string_x) == 1:\n",
        "    output= True\n",
        "  else:\n",
        "    for ele in range(len(in_string_x)-1):\n",
        "      if ord(in_string_x[ele]) < ord(in_string_x[ele+1]):\n",
        "        output= True\n",
        "      else:\n",
        "        output = False\n",
        "        break\n",
        "  print(f\"valid_rondo({in_string}) ➞ {output}\")\n",
        "   \n",
        "valid_rondo(\"ABACADAEAFAGAHAIAJA\")\n",
        "valid_rondo(\"ABA\")\n",
        "valid_rondo(\"ABBACCA\")\n",
        "valid_rondo(\"ACAC\")\n",
        "valid_rondo(\"A\")"
      ],
      "metadata": {
        "colab": {
          "base_uri": "https://localhost:8080/"
        },
        "id": "tfOxoudlY29a",
        "outputId": "72ff49e5-6bf0-4bdb-ad4d-1ada7e6a5336"
      },
      "execution_count": 110,
      "outputs": [
        {
          "output_type": "stream",
          "name": "stdout",
          "text": [
            "valid_rondo(ABACADAEAFAGAHAIAJA) ➞ True\n",
            "valid_rondo(ABA) ➞ True\n",
            "valid_rondo(ABBACCA) ➞ False\n",
            "valid_rondo(ACAC) ➞ False\n",
            "valid_rondo(A) ➞ False\n"
          ]
        }
      ]
    },
    {
      "cell_type": "markdown",
      "source": [
        "Create a function that returns the whole of the first sentence which contains a specific word. Include the full stop at the end of the sentence."
      ],
      "metadata": {
        "id": "X2q0X7NFY3y7"
      }
    },
    {
      "cell_type": "code",
      "source": [
        "def sentence_searcher(in_string, search_text):\n",
        "  output = '\"\"'\n",
        "  for ele in in_string.split(\". \"):\n",
        "    if len(ele.lower().replace(search_text.lower(),'')) != len(ele):\n",
        "      output = ele\n",
        "      break\n",
        "  print(f'sentence_searcher{in_string,search_text} ➞ {output}')\n",
        "\n",
        "txt = \"I have a cat. I have a mat. Things are going swell.\"\n",
        "\n",
        "sentence_searcher(txt, \"have\")\n",
        "sentence_searcher(txt, \"MAT\")\n",
        "sentence_searcher(txt, \"things\")\n",
        "sentence_searcher(txt, \"flat\")"
      ],
      "metadata": {
        "colab": {
          "base_uri": "https://localhost:8080/"
        },
        "id": "EfPnxiRQY3y7",
        "outputId": "492d47ab-0819-4b93-aa67-db769c4b03d1"
      },
      "execution_count": 111,
      "outputs": [
        {
          "output_type": "stream",
          "name": "stdout",
          "text": [
            "sentence_searcher('I have a cat. I have a mat. Things are going swell.', 'have') ➞ I have a cat\n",
            "sentence_searcher('I have a cat. I have a mat. Things are going swell.', 'MAT') ➞ I have a mat\n",
            "sentence_searcher('I have a cat. I have a mat. Things are going swell.', 'things') ➞ Things are going swell.\n",
            "sentence_searcher('I have a cat. I have a mat. Things are going swell.', 'flat') ➞ \"\"\n"
          ]
        }
      ]
    },
    {
      "cell_type": "markdown",
      "source": [
        " Given a number, find the \"round \"of each digit of the number. An integer is called \"round\" if all its digits except the leftmost (most significant) are equal to zero.<br>\n",
        "- Round numbers: 4000, 1, 9, 800, 90<br>\n",
        "- Not round numbers: 110, 707, 222, 1001<br>\n",
        "Create a function that takes a number and returns the \"round\" of each digit (except if the digit is zero) as a string. Check out the following examples for more clarification."
      ],
      "metadata": {
        "id": "XPKpnKSWY31y"
      }
    },
    {
      "cell_type": "code",
      "source": [
        "def sum_round(in_num):\n",
        "  output = []\n",
        "  in_num = str(in_num)\n",
        "  for ele in range(len(in_num)):\n",
        "    if in_num[ele] != '0':\n",
        "      output.append(in_num[ele]+len(in_num[ele+1:])*'0')\n",
        "  print(f'sum_round({in_num}) ➞ {\" \".join(output[::-1])}')\n",
        "        \n",
        "sum_round(101)\n",
        "sum_round(1234)\n",
        "sum_round(54210)"
      ],
      "metadata": {
        "colab": {
          "base_uri": "https://localhost:8080/"
        },
        "id": "CpBjbtNBY31z",
        "outputId": "9a2a61ef-17a5-417f-c90f-d5828a0aee17"
      },
      "execution_count": 112,
      "outputs": [
        {
          "output_type": "stream",
          "name": "stdout",
          "text": [
            "sum_round(101) ➞ 1 100\n",
            "sum_round(1234) ➞ 4 30 200 1000\n",
            "sum_round(54210) ➞ 10 200 4000 50000\n"
          ]
        }
      ]
    },
    {
      "cell_type": "markdown",
      "source": [
        "Your task, is to create N x N multiplication table, of size n provided in parameter.<br>\n",
        "For example, when n is 5, the multiplication table is:<br><br>\n",
        "\n",
        "1, 2, 3, 4, 5\n",
        "2, 4, 6, 8, 10\n",
        "3, 6, 9, 12, 15\n",
        "4, 8, 12, 16, 20\n",
        "5, 10, 15, 20, 25<br>\n",
        "This example will result in:[[1, 2, 3, 4, 5], [2, 4, 6, 8, 10], [3, 6, 9, 12, 15], [4, 8, 12, 16, 20], [5, 10, 15, 20, 25]]"
      ],
      "metadata": {
        "id": "q-I_85ESY34o"
      }
    },
    {
      "cell_type": "code",
      "source": [
        "def multiplication_table(in_num):\n",
        "  out_list =[]\n",
        "  for a in range(1,in_num+1):\n",
        "    temp_list = []\n",
        "    for b in range(1,in_num+1):\n",
        "      temp_list.append(a*b)\n",
        "    out_list.append(temp_list)\n",
        "  print(f'multiplication_table({in_num}) ➞ {out_list}')\n",
        "        \n",
        "multiplication_table(3) \n",
        "multiplication_table(1)\n",
        "multiplication_table(5)"
      ],
      "metadata": {
        "colab": {
          "base_uri": "https://localhost:8080/"
        },
        "id": "zqHYD7-CY34o",
        "outputId": "66cf886f-23d3-4d36-f23e-1128e6a7cf4f"
      },
      "execution_count": 113,
      "outputs": [
        {
          "output_type": "stream",
          "name": "stdout",
          "text": [
            "multiplication_table(3) ➞ [[1, 2, 3], [2, 4, 6], [3, 6, 9]]\n",
            "multiplication_table(1) ➞ [[1]]\n",
            "multiplication_table(5) ➞ [[1, 2, 3, 4, 5], [2, 4, 6, 8, 10], [3, 6, 9, 12, 15], [4, 8, 12, 16, 20], [5, 10, 15, 20, 25]]\n"
          ]
        }
      ]
    },
    {
      "cell_type": "markdown",
      "source": [
        "Create a function that returns True if two lines rhyme and False otherwise. For the purposes of this exercise, two lines rhyme if the last word from each sentence contains the same vowels."
      ],
      "metadata": {
        "id": "ciyOchrbY38n"
      }
    },
    {
      "cell_type": "code",
      "source": [
        "def does_rhyme(in_one,in_two):\n",
        "  vowels = 'aeiou'\n",
        "  output= False\n",
        "  in_one_rhyme = [x.lower() for x in in_one.split(\" \")[-1] if x.lower() in vowels]\n",
        "  in_two_rhyme = [x.lower() for x in in_two.split(\" \")[-1] if x.lower() in vowels]\n",
        "  if in_one_rhyme == in_two_rhyme:\n",
        "    output = True\n",
        "  print(f'does_rhyme{in_one,in_two} ➞ {output}')\n",
        "    \n",
        "does_rhyme(\"Sam I am!\", \"Green eggs and ham.\")\n",
        "does_rhyme(\"Sam I am!\", \"Green eggs and HAM.\")\n",
        "does_rhyme(\"You are off to the races\", \"a splendid day.\")\n",
        "does_rhyme(\"and frequently do?\", \"you gotta move.\")"
      ],
      "metadata": {
        "colab": {
          "base_uri": "https://localhost:8080/"
        },
        "id": "ifczjto0Y38o",
        "outputId": "dae9dcc9-0509-4088-df12-e60e27caa1ee"
      },
      "execution_count": 114,
      "outputs": [
        {
          "output_type": "stream",
          "name": "stdout",
          "text": [
            "does_rhyme('Sam I am!', 'Green eggs and ham.') ➞ True\n",
            "does_rhyme('Sam I am!', 'Green eggs and HAM.') ➞ True\n",
            "does_rhyme('You are off to the races', 'a splendid day.') ➞ False\n",
            "does_rhyme('and frequently do?', 'you gotta move.') ➞ False\n"
          ]
        }
      ]
    },
    {
      "cell_type": "code",
      "source": [],
      "metadata": {
        "id": "o7hSu2xaZScH"
      },
      "execution_count": null,
      "outputs": []
    }
  ]
}