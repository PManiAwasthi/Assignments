{
  "nbformat": 4,
  "nbformat_minor": 0,
  "metadata": {
    "colab": {
      "provenance": []
    },
    "kernelspec": {
      "name": "python3",
      "display_name": "Python 3"
    },
    "language_info": {
      "name": "python"
    }
  },
  "cells": [
    {
      "cell_type": "markdown",
      "source": [
        "Create a function that takes three arguments a, b, c and returns the sum of the numbers that are evenly divided by c from the range a, b inclusive ?"
      ],
      "metadata": {
        "id": "8tRZifUtQ29b"
      }
    },
    {
      "cell_type": "code",
      "source": [
        "def evenDivisible(a,b,c):\n",
        "  try:\n",
        "    divList = []\n",
        "    for i in range(a,b+1):\n",
        "        if i%c == 0:\n",
        "            divList.append(i)\n",
        "    print(f'{a,b,c} ➞ {sum(divList)}')\n",
        "  except Exception as e:\n",
        "    print(e)\n",
        "\n",
        "evenDivisible(1,10,20)\n",
        "evenDivisible(1,10,2)\n",
        "evenDivisible(1,10,3)"
      ],
      "metadata": {
        "colab": {
          "base_uri": "https://localhost:8080/"
        },
        "id": "HhYzl2XJQ2_U",
        "outputId": "9727a7f3-1840-4115-fc11-a188a7b67cb1"
      },
      "execution_count": 14,
      "outputs": [
        {
          "output_type": "stream",
          "name": "stdout",
          "text": [
            "(1, 10, 20) ➞ 0\n",
            "(1, 10, 2) ➞ 30\n",
            "(1, 10, 3) ➞ 18\n"
          ]
        }
      ]
    },
    {
      "cell_type": "markdown",
      "source": [
        "Create a function that returns True if a given inequality expression is correct and False otherwise ?"
      ],
      "metadata": {
        "id": "0EUxR8UCQ88q"
      }
    },
    {
      "cell_type": "code",
      "source": [
        "def checkEquality():\n",
        "  try:\n",
        "    in_string = input('Enter the inequality: ')\n",
        "    out_bool = eval(in_string)\n",
        "    print(f'{in_string} ➞ {out_bool}')\n",
        "  except Exception as e:\n",
        "    print(e)\n",
        "\n",
        "for x in range(3):\n",
        "    checkEquality()"
      ],
      "metadata": {
        "colab": {
          "base_uri": "https://localhost:8080/"
        },
        "id": "D7Xn8LRtQ88q",
        "outputId": "ed9ad5fe-36ba-47a4-e26a-4db75a9f7a68"
      },
      "execution_count": 15,
      "outputs": [
        {
          "output_type": "stream",
          "name": "stdout",
          "text": [
            "Enter the inequality: 3 < 7 < 11\n",
            "3 < 7 < 11 ➞ True\n",
            "Enter the inequality: 13 > 44 > 33 > 1\n",
            "13 > 44 > 33 > 1 ➞ False\n",
            "Enter the inequality: 1 < 2 < 6 < 9 > 3\n",
            "1 < 2 < 6 < 9 > 3 ➞ True\n"
          ]
        }
      ]
    },
    {
      "cell_type": "markdown",
      "source": [
        "Create a function that replaces all the vowels in a string with a specified character ?"
      ],
      "metadata": {
        "id": "vztSOU_sQ9AI"
      }
    },
    {
      "cell_type": "code",
      "source": [
        "def replaceVowels():\n",
        "  try:\n",
        "    vowels = ['a','e','i','o','u','A','E','I','O','U']\n",
        "    in_string = input(\"String: \")\n",
        "    in_string_copy = in_string\n",
        "    in_char = input('Replacement character: ')\n",
        "    for ele in in_string:\n",
        "        if ele in vowels:\n",
        "            in_string = in_string.replace(ele,in_char)\n",
        "    print(f'{in_string_copy} {in_char} ➞ {in_string}')\n",
        "  except Exception as e:\n",
        "    print(e)\n",
        "            \n",
        "for x in range(3):\n",
        "    replaceVowels()"
      ],
      "metadata": {
        "colab": {
          "base_uri": "https://localhost:8080/"
        },
        "id": "tzqmx5onQ9AI",
        "outputId": "87a207d3-99b7-42e7-e4df-3ed33e273c8b"
      },
      "execution_count": 17,
      "outputs": [
        {
          "output_type": "stream",
          "name": "stdout",
          "text": [
            "String: the aardvark\n",
            "Replacement character: #\n",
            "the aardvark # ➞ th# ##rdv#rk\n",
            "String: minnie mouse\n",
            "Replacement character: ?\n",
            "minnie mouse ? ➞ m?nn?? m??s?\n",
            "String: shakespeare\n",
            "Replacement character: *\n",
            "shakespeare * ➞ sh*k*sp**r*\n"
          ]
        }
      ]
    },
    {
      "cell_type": "markdown",
      "source": [
        "Write a function that calculates the factorial of a number recursively ?"
      ],
      "metadata": {
        "id": "IenWD4nGQ9EK"
      }
    },
    {
      "cell_type": "code",
      "source": [
        "def factorial(n):\n",
        "  try:\n",
        "    if n==0:\n",
        "        return 1\n",
        "    return n * factorial(n-1)\n",
        "  except Exception as e:\n",
        "    print(e)\n",
        "\n",
        "for i in range(0,4):\n",
        "  try:\n",
        "    n = int(input())\n",
        "    print(f\"factorial(5) ➞ {factorial(n)}\")\n",
        "  except Exception as e:\n",
        "    print(e)"
      ],
      "metadata": {
        "colab": {
          "base_uri": "https://localhost:8080/"
        },
        "id": "lY_Eac15Q9EK",
        "outputId": "d05438aa-04c9-4e0c-8299-e238826ede1e"
      },
      "execution_count": 20,
      "outputs": [
        {
          "output_type": "stream",
          "name": "stdout",
          "text": [
            "5\n",
            "factorial(5) ➞ 120\n",
            "3\n",
            "factorial(5) ➞ 6\n",
            "1\n",
            "factorial(5) ➞ 1\n",
            "0\n",
            "factorial(5) ➞ 1\n"
          ]
        }
      ]
    },
    {
      "cell_type": "markdown",
      "source": [
        "Hamming distance is the number of characters that differ between two strings ?"
      ],
      "metadata": {
        "id": "8CXEOB7oQ9Hr"
      }
    },
    {
      "cell_type": "code",
      "source": [
        "def genHamDistance():\n",
        "  try:\n",
        "    in_string_1 = input('Enter the String_1: ')\n",
        "    in_string_2 = input('Enter the String_2: ')\n",
        "    if len(in_string_1) == len(in_string_2):\n",
        "        count = 0\n",
        "        for i in range(len(in_string_1)):\n",
        "            if in_string_1[i] != in_string_2[i]:\n",
        "                count = count+1\n",
        "        print(f'Hamning Distance b/w {in_string_1} and {in_string_2} ➞ {count}')\n",
        "    else:\n",
        "        print('Both Strings Must be of Same Length')\n",
        "  except Exception as e:\n",
        "    print(e)\n",
        "\n",
        "for x in range(3):\n",
        "    genHamDistance()"
      ],
      "metadata": {
        "colab": {
          "base_uri": "https://localhost:8080/"
        },
        "id": "AF59CbR3Q9Hr",
        "outputId": "9384947a-0083-4fa0-d953-e43368a7cac4"
      },
      "execution_count": 21,
      "outputs": [
        {
          "output_type": "stream",
          "name": "stdout",
          "text": [
            "Enter the String_1: abcde\n",
            "Enter the String_2: bcdef\n",
            "Hamning Distance b/w abcde and bcdef ➞ 5\n",
            "Enter the String_1: abcde\n",
            "Enter the String_2: abcde\n",
            "Hamning Distance b/w abcde and abcde ➞ 0\n",
            "Enter the String_1: strong\n",
            "Enter the String_2: strung\n",
            "Hamning Distance b/w strong and strung ➞ 1\n"
          ]
        }
      ]
    }
  ]
}