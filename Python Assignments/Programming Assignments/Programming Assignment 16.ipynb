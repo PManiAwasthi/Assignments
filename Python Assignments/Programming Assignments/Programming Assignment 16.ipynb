{
  "nbformat": 4,
  "nbformat_minor": 0,
  "metadata": {
    "colab": {
      "provenance": []
    },
    "kernelspec": {
      "name": "python3",
      "display_name": "Python 3"
    },
    "language_info": {
      "name": "python"
    }
  },
  "cells": [
    {
      "cell_type": "markdown",
      "source": [
        "Write a function that stutters a word as if someone is struggling to read it. The first two letters are repeated twice with an ellipsis ... and space after each, and then the word is pronounced with a question mark ?"
      ],
      "metadata": {
        "id": "JM1JVoOmPA62"
      }
    },
    {
      "cell_type": "code",
      "source": [
        "def stutterWord():\n",
        "  try:\n",
        "    in_string = input('Enter the Word :')\n",
        "    if len(in_string) == 0:\n",
        "      raise Exception(\"not a valid string\")\n",
        "    out_string = in_string.replace(in_string[0:2],((in_string[0:2]+'... ')*2)+ in_string[0:2])  +'?'\n",
        "    print(f'{in_string} ➞ {out_string}')\n",
        "  except Exception as e:\n",
        "    print(e)\n",
        "\n",
        "stutterWord()"
      ],
      "metadata": {
        "colab": {
          "base_uri": "https://localhost:8080/"
        },
        "id": "U0hK-UR_PA-Y",
        "outputId": "b9833d75-7efc-43e4-cdc7-b6c91afd63b6"
      },
      "execution_count": 5,
      "outputs": [
        {
          "output_type": "stream",
          "name": "stdout",
          "text": [
            "Enter the Word :incredible\n",
            "incredible ➞ in... in... incredible?\n"
          ]
        }
      ]
    },
    {
      "cell_type": "markdown",
      "source": [
        "Create a function that takes an angle in radians and returns the corresponding angle in degrees rounded to one decimal place ?"
      ],
      "metadata": {
        "id": "MHtwCDtGPEJz"
      }
    },
    {
      "cell_type": "code",
      "source": [
        "import math\n",
        "def radianToDegree():\n",
        "  try:\n",
        "    in_num = int(input('Enter the angle in Radians: '))\n",
        "    if in_num <= 0:\n",
        "      raise Exception(\"not a valid value\")\n",
        "    out_num = (180/math.pi)*in_num\n",
        "    print(f'{in_num} radian(s) ➞ {out_num:.1f} degrees')\n",
        "  except Exception as e:\n",
        "    print(e)\n",
        "\n",
        "for x in range(3):\n",
        "    radianToDegree()\n"
      ],
      "metadata": {
        "colab": {
          "base_uri": "https://localhost:8080/"
        },
        "id": "HutoHerePEJ0",
        "outputId": "aea90b28-dec9-4f36-c18f-b3125bed2343"
      },
      "execution_count": 6,
      "outputs": [
        {
          "output_type": "stream",
          "name": "stdout",
          "text": [
            "Enter the angle in Radians: 1\n",
            "1 radian(s) ➞ 57.3 degrees\n",
            "Enter the angle in Radians: 20\n",
            "20 radian(s) ➞ 1145.9 degrees\n",
            "Enter the angle in Radians: 50\n",
            "50 radian(s) ➞ 2864.8 degrees\n"
          ]
        }
      ]
    },
    {
      "cell_type": "markdown",
      "source": [
        "In this challenge, establish if a given integer num is a Curzon number. If 1 plus 2 elevated to num is exactly divisible by 1 plus 2 multiplied by num, then num is a Curzon number. Given a non-negative integer num, implement a function that returns True if num is a Curzon number, or False otherwise."
      ],
      "metadata": {
        "id": "2YItvLOQPEN1"
      }
    },
    {
      "cell_type": "code",
      "source": [
        "def checkCurzon():\n",
        "  try:\n",
        "    in_num = int(input(\"Enter a number: \"))\n",
        "    if in_num == None:\n",
        "      raise Exception(\"Null values not allowed\")\n",
        "    if (pow(2,in_num)+1)%((2*in_num)+1) == 0:\n",
        "        print(f'{in_num} is a Curzon Number')\n",
        "    else:\n",
        "        print(f'{in_num} is Not a Curzon Number')\n",
        "  except Exception as e:\n",
        "    print(e)\n",
        "\n",
        "for x in range(4):\n",
        "    checkCurzon()"
      ],
      "metadata": {
        "colab": {
          "base_uri": "https://localhost:8080/"
        },
        "id": "ibs1DHL0PEN2",
        "outputId": "bb17a33e-3eda-4dab-da96-038a48bf9cb5"
      },
      "execution_count": 10,
      "outputs": [
        {
          "output_type": "stream",
          "name": "stdout",
          "text": [
            "Enter a number: 5\n",
            "5 is a Curzon Number\n",
            "Enter a number: 20\n",
            "20 is Not a Curzon Number\n",
            "Enter a number: 14\n",
            "14 is a Curzon Number\n",
            "Enter a number: 12\n",
            "12 is Not a Curzon Number\n"
          ]
        }
      ]
    },
    {
      "cell_type": "markdown",
      "source": [
        "Given the side length x find the area of a hexagon ?"
      ],
      "metadata": {
        "id": "8CcGUJNdPERX"
      }
    },
    {
      "cell_type": "code",
      "source": [
        "import math\n",
        "def areaOfHexagon():\n",
        "  try:\n",
        "    in_num = int(input('Enter the side length of a Hexagon: '))\n",
        "    out_num = ((3*math.sqrt(3))/2)*(pow(in_num,2))\n",
        "    print(f'Area for Hexagon of sidelength {in_num} ➞ {out_num:.1f}')\n",
        "  except Exception as e:\n",
        "    print(e)\n",
        "    \n",
        "for x in range(3):\n",
        "    areaOfHexagon()"
      ],
      "metadata": {
        "colab": {
          "base_uri": "https://localhost:8080/"
        },
        "id": "RpeunkNoPERX",
        "outputId": "7c52224c-1b70-4211-e368-215931cf76a9"
      },
      "execution_count": 11,
      "outputs": [
        {
          "output_type": "stream",
          "name": "stdout",
          "text": [
            "Enter the side length of a Hexagon: 1\n",
            "Area for Hexagon of sidelength 1 ➞ 2.6\n",
            "Enter the side length of a Hexagon: 2\n",
            "Area for Hexagon of sidelength 2 ➞ 10.4\n",
            "Enter the side length of a Hexagon: 3\n",
            "Area for Hexagon of sidelength 3 ➞ 23.4\n"
          ]
        }
      ]
    },
    {
      "cell_type": "markdown",
      "source": [
        "Create a function that returns a base-2 (binary) representation of a base-10 (decimal) string number. To convert is simple:"
      ],
      "metadata": {
        "id": "-OFVHPxwPEUw"
      }
    },
    {
      "cell_type": "code",
      "source": [
        "def getBinary():\n",
        "  try:\n",
        "    in_num = int(input(\"Enter a Number: \"))\n",
        "    out_num = bin(in_num).replace('0b','') \n",
        "    print(f'Binary of {in_num} ➞ {out_num}')\n",
        "  except Exception as e:\n",
        "    print(e)\n",
        "\n",
        "for x in range(3):\n",
        "    getBinary()"
      ],
      "metadata": {
        "colab": {
          "base_uri": "https://localhost:8080/"
        },
        "id": "vYVZOTA9PEUw",
        "outputId": "c0e397a5-d822-4e2d-e86b-75ae83d312f7"
      },
      "execution_count": 13,
      "outputs": [
        {
          "output_type": "stream",
          "name": "stdout",
          "text": [
            "Enter a Number: 1\n",
            "Binary of 1 ➞ 1\n",
            "Enter a Number: 5\n",
            "Binary of 5 ➞ 101\n",
            "Enter a Number: 10\n",
            "Binary of 10 ➞ 1010\n"
          ]
        }
      ]
    },
    {
      "cell_type": "code",
      "source": [
        "1"
      ],
      "metadata": {
        "id": "OKJ3PS_0QnCX"
      },
      "execution_count": null,
      "outputs": []
    }
  ]
}