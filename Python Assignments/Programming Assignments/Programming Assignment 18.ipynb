{
  "nbformat": 4,
  "nbformat_minor": 0,
  "metadata": {
    "colab": {
      "provenance": []
    },
    "kernelspec": {
      "name": "python3",
      "display_name": "Python 3"
    },
    "language_info": {
      "name": "python"
    }
  },
  "cells": [
    {
      "cell_type": "markdown",
      "source": [
        "Create a function that takes a list of non-negative integers and strings and return a new list without the strings ?"
      ],
      "metadata": {
        "id": "vRrBlpy4S4jl"
      }
    },
    {
      "cell_type": "code",
      "source": [
        "def filter_list(ls):\n",
        "  try:\n",
        "    out_string = []\n",
        "    if len(ls) == 0:\n",
        "      print(\"list is empty\")\n",
        "    for ele in ls:\n",
        "      if type(ele) == int and ele >= 0:\n",
        "          out_string.append(ele)\n",
        "    return out_string\n",
        "  except Exception as e:\n",
        "    print(e)\n",
        "            \n",
        "print(f'➞ {filter_list([1, 2, \"a\", \"b\"])}')\n",
        "print(f'➞ {filter_list([1, \"a\", \"b\", 0, 15])}')\n",
        "print(f'➞ {filter_list([1, 2, \"aasf\", \"1\", \"123\", 123])}')"
      ],
      "metadata": {
        "colab": {
          "base_uri": "https://localhost:8080/"
        },
        "id": "8gX2s1EES4nj",
        "outputId": "fa392560-72bf-4358-b35d-6be03c76add4"
      },
      "execution_count": 24,
      "outputs": [
        {
          "output_type": "stream",
          "name": "stdout",
          "text": [
            "➞ [1, 2]\n",
            "➞ [1, 0, 15]\n",
            "➞ [1, 2, 123]\n"
          ]
        }
      ]
    },
    {
      "cell_type": "markdown",
      "source": [
        "The \"Reverser\" takes a string as input and returns that string in reverse order, with the opposite case ?"
      ],
      "metadata": {
        "id": "P_wjMzenS5Qa"
      }
    },
    {
      "cell_type": "code",
      "source": [
        "def reverse(in_string):\n",
        "  if in_string != None:\n",
        "    print(f'{in_string} ➞ {in_string[::-1].swapcase()}')\n",
        "    \n",
        "reverse('Hello World')\n",
        "reverse(\"ReVeRsE\")\n",
        "reverse(\"Radar\")"
      ],
      "metadata": {
        "colab": {
          "base_uri": "https://localhost:8080/"
        },
        "id": "d9aV3uD6S5Qa",
        "outputId": "c6ad7966-2b43-4e69-8f6b-9eeb006497fa"
      },
      "execution_count": 25,
      "outputs": [
        {
          "output_type": "stream",
          "name": "stdout",
          "text": [
            "Hello World ➞ DLROw OLLEh\n",
            "ReVeRsE ➞ eSrEvEr\n",
            "Radar ➞ RADAr\n"
          ]
        }
      ]
    },
    {
      "cell_type": "markdown",
      "source": [
        "You can assign variables from lists like this:<br>\n",
        "lst = [1, 2, 3, 4, 5, 6] first = lst[0] middle = lst[1:-1] last = lst[-1] print(first) ➞ outputs 1 print(middle) ➞ outputs [2, 3, 4, 5] print(last) ➞ outputs 6\n",
        "With Python 3, you can assign variables from lists in a much more succinct way. Create variables first, middle and last from the given list using destructuring assignment\n",
        "(check the Resources tab for some examples), where:\n",
        "first ➞ 1 middle ➞ [2, 3, 4, 5] last ➞ 6\n",
        "Your task is to unpack the list writeyourcodehere into three variables, being first, middle, and last, with middle being everything in between the first and last element. Then print all three variables."
      ],
      "metadata": {
        "id": "m0BQPfsPS5T2"
      }
    },
    {
      "cell_type": "code",
      "source": [
        "first, *middle, last = [1,2,3,4,5,6]\n",
        "print(f'first ➞ {first}')\n",
        "print(f'middle ➞ {middle}')\n",
        "print(f'last ➞ {last}')"
      ],
      "metadata": {
        "colab": {
          "base_uri": "https://localhost:8080/"
        },
        "id": "Esoh3kPNS5T2",
        "outputId": "350a6b2d-ccad-4d17-d6fa-ec009ddcd97c"
      },
      "execution_count": 26,
      "outputs": [
        {
          "output_type": "stream",
          "name": "stdout",
          "text": [
            "first ➞ 1\n",
            "middle ➞ [2, 3, 4, 5]\n",
            "last ➞ 6\n"
          ]
        }
      ]
    },
    {
      "cell_type": "markdown",
      "source": [
        "Write a function that calculates the factorial of a number recursively."
      ],
      "metadata": {
        "id": "xDtF2TIYS5XY"
      }
    },
    {
      "cell_type": "code",
      "source": [
        "def factorial(n):\n",
        "  try:\n",
        "    if n==0:\n",
        "        return 1\n",
        "    return n * factorial(n-1)\n",
        "  except Exception as e:\n",
        "    print(e)\n",
        "\n",
        "print(f'factorial(5) ➞ {factorial(5)}')\n",
        "print(f'factorial(3) ➞ {factorial(3)}')\n",
        "print(f'factorial(1) ➞ {factorial(1)}')\n",
        "print(f'factorial(0) ➞ {factorial(0)}')"
      ],
      "metadata": {
        "colab": {
          "base_uri": "https://localhost:8080/"
        },
        "id": "CNK0w2YhS5XY",
        "outputId": "f443a715-0e74-4c53-a81c-3c330d106a67"
      },
      "execution_count": 31,
      "outputs": [
        {
          "output_type": "stream",
          "name": "stdout",
          "text": [
            "factorial(5) ➞ 120\n",
            "factorial(3) ➞ 6\n",
            "factorial(1) ➞ 1\n",
            "factorial(0) ➞ 1\n"
          ]
        }
      ]
    },
    {
      "cell_type": "markdown",
      "source": [
        "Write a function that moves all elements of one type to the end of the list."
      ],
      "metadata": {
        "id": "OO06OCzCS5a2"
      }
    },
    {
      "cell_type": "code",
      "source": [
        "def move_to_end(list,num):\n",
        "  try:\n",
        "    first_end = []\n",
        "    second_end = []\n",
        "    for ele in list:\n",
        "        if ele == num:\n",
        "            second_end.append(ele)\n",
        "        else:\n",
        "            first_end.append(ele)\n",
        "    first_end.extend(second_end)\n",
        "    return first_end\n",
        "  except Exception as e:\n",
        "    print(e)\n",
        "    \n",
        "print(f'move_to_end([1, 3, 2, 4, 4, 1], 1) ➞ {move_to_end([1, 3, 2, 4, 4, 1], 1)}')\n",
        "print(f'move_to_end([7, 8, 9, 1, 2, 3, 4], 9) ➞ {move_to_end([7, 8, 9, 1, 2, 3, 4], 9)}')\n",
        "print(f'move_to_end([\"a\", \"a\", \"a\", \"b\"], \"a\") ➞ {move_to_end([\"a\", \"a\", \"a\", \"b\"], \"a\")}')"
      ],
      "metadata": {
        "colab": {
          "base_uri": "https://localhost:8080/"
        },
        "id": "3nsIBQoBS5a3",
        "outputId": "ec233040-3941-4f55-851d-9d0d224ca193"
      },
      "execution_count": 33,
      "outputs": [
        {
          "output_type": "stream",
          "name": "stdout",
          "text": [
            "move_to_end([1, 3, 2, 4, 4, 1], 1) ➞ [3, 2, 4, 4, 1, 1]\n",
            "move_to_end([7, 8, 9, 1, 2, 3, 4], 9) ➞ [7, 8, 1, 2, 3, 4, 9]\n",
            "move_to_end([\"a\", \"a\", \"a\", \"b\"], \"a\") ➞ ['b', 'a', 'a', 'a']\n"
          ]
        }
      ]
    }
  ]
}