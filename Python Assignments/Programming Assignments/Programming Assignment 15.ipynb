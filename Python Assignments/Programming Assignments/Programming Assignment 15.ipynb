{
  "nbformat": 4,
  "nbformat_minor": 0,
  "metadata": {
    "colab": {
      "provenance": []
    },
    "kernelspec": {
      "name": "python3",
      "display_name": "Python 3"
    },
    "language_info": {
      "name": "python"
    }
  },
  "cells": [
    {
      "cell_type": "markdown",
      "source": [
        "#### Please write a program using generator to print the numbers which can be divisible by 5 and 7 between 0 and n in comma separated form while n is input by console."
      ],
      "metadata": {
        "id": "6rfyjNbJfSK7"
      }
    },
    {
      "cell_type": "code",
      "execution_count": null,
      "metadata": {
        "id": "6Koo2jpkfPDy"
      },
      "outputs": [],
      "source": [
        "def divOrNot(x,y,z):\n",
        "  if x % y == 0:\n",
        "    if x % z == 0:\n",
        "      return True\n",
        "  return False\n",
        "\n",
        "def getNum5To7(n: int):\n",
        "  for i in range(n+1):\n",
        "    if divOrNot(i, 5, 7):\n",
        "      yield i\n",
        "    elif divOrNot(i, 7, 5):\n",
        "      yield i"
      ]
    },
    {
      "cell_type": "code",
      "source": [
        "try:\n",
        "  n = int(input(\"Enter value of N: \"))\n",
        "  if n < 0:\n",
        "    raise Exception(\"Not a valid value for N\")\n",
        "  finalSeq = []\n",
        "  for i in getNum5To7(n):\n",
        "    finalSeq.append(str(i))\n",
        "  print(\",\".join(finalSeq))\n",
        "except Exception as e:\n",
        "  print(e)"
      ],
      "metadata": {
        "colab": {
          "base_uri": "https://localhost:8080/"
        },
        "id": "k_qVzE9HgM2o",
        "outputId": "ccb522ec-ed67-43e8-9854-230450851968"
      },
      "execution_count": null,
      "outputs": [
        {
          "output_type": "stream",
          "name": "stdout",
          "text": [
            "Enter value of N: 70\n",
            "0,35,70\n"
          ]
        }
      ]
    },
    {
      "cell_type": "markdown",
      "source": [
        "#### Please write a program using generator to print the even numbers between 0 and n in comma separated form while n is input by console."
      ],
      "metadata": {
        "id": "J7cjnww7hdmw"
      }
    },
    {
      "cell_type": "code",
      "source": [
        "def getEven(n: int):\n",
        "  for i in range(n+1):\n",
        "    if i % 2 == 0:\n",
        "      yield i\n",
        "\n",
        "try:\n",
        "  n = int(input(\"Enter the value of N: \"))\n",
        "  if n < 0:\n",
        "    raise Exception(\"Not a valid value for N\")\n",
        "  finalSeq = []\n",
        "  for i in getEven(n):\n",
        "    finalSeq.append(str(i))\n",
        "  print(\",\".join(finalSeq))\n",
        "except Exception as e:\n",
        "  print(e)"
      ],
      "metadata": {
        "colab": {
          "base_uri": "https://localhost:8080/"
        },
        "id": "Wb2EpYsvgpVI",
        "outputId": "2615e052-1eb6-4d1f-e7e3-66d35b2be1b4"
      },
      "execution_count": null,
      "outputs": [
        {
          "output_type": "stream",
          "name": "stdout",
          "text": [
            "Enter the value of N: 10\n",
            "0,2,4,6,8,10\n"
          ]
        }
      ]
    },
    {
      "cell_type": "markdown",
      "source": [
        "### Please write a program using list comprehension to print the Fibonacci Sequence in comma separated form with a given n input by console."
      ],
      "metadata": {
        "id": "B8fAZYQHipFi"
      }
    },
    {
      "cell_type": "code",
      "source": [
        "def genFibonaci(in_num):\n",
        "    if in_num == 0:\n",
        "        return 0\n",
        "    elif in_num == 1:\n",
        "        return 1\n",
        "    else:\n",
        "        return genFibonaci(in_num-1)+genFibonaci(in_num-2)\n",
        "\n",
        "n = int(input())\n",
        "try:\n",
        "  if n<0:\n",
        "    raise Exception(\"Not valid\") \n",
        "  print([genFibonaci(x) for x in range(n)])\n",
        "except Exception as e:\n",
        "  print(e)"
      ],
      "metadata": {
        "id": "fDKj01N0iH7x",
        "colab": {
          "base_uri": "https://localhost:8080/"
        },
        "outputId": "15ec5b74-9b18-48d4-c6c4-7137ef9a397d"
      },
      "execution_count": 2,
      "outputs": [
        {
          "output_type": "stream",
          "name": "stdout",
          "text": [
            "20\n",
            "[0, 1, 1, 2, 3, 5, 8, 13, 21, 34, 55, 89, 144, 233, 377, 610, 987, 1597, 2584, 4181]\n"
          ]
        }
      ]
    },
    {
      "cell_type": "markdown",
      "source": [
        "### Assuming that we have some email addresses in the \"username@companyname.com\" format, please write program to print the user name of a given email address. Both user names and company names are composed of letters only ?"
      ],
      "metadata": {
        "id": "AvCWTLUTOLgS"
      }
    },
    {
      "cell_type": "code",
      "source": [
        "def getUsernames():\n",
        "  try:\n",
        "    in_string = input('Enter Email Address(es): ')\n",
        "    if len(in_string) == 0:\n",
        "      raise Exception(\"not valid string\")\n",
        "    out_string = in_string.split('@')\n",
        "    print(f'Username of {in_string} is {out_string[0]}')\n",
        "  except Exception as e:\n",
        "    print(e)\n",
        "\n",
        "\n",
        "getUsernames()"
      ],
      "metadata": {
        "colab": {
          "base_uri": "https://localhost:8080/"
        },
        "id": "W_cqnnTFN9kz",
        "outputId": "5749df23-1b6b-4186-d4e9-90dd5842a372"
      },
      "execution_count": 3,
      "outputs": [
        {
          "output_type": "stream",
          "name": "stdout",
          "text": [
            "Enter Email Address(es): john@google.com\n",
            "Username of john@google.com is john\n"
          ]
        }
      ]
    },
    {
      "cell_type": "markdown",
      "source": [
        "Define a class named Shape and its subclass Square. The Square class has an init function which takes a length as argument. Both classes have a area function which can print the area of the shape where Shape's area is 0 by default.\n"
      ],
      "metadata": {
        "id": "uYn3jzT-OrLn"
      }
    },
    {
      "cell_type": "code",
      "source": [
        "class Shape:\n",
        "    def area(self):\n",
        "        return 0\n",
        "\n",
        "class Square(Shape):\n",
        "    def __init__(self, length):\n",
        "        self.length = length\n",
        "    def area(self):\n",
        "        return self.length*self.length\n",
        "\n",
        "square = Square(50)\n",
        "print(square.area())"
      ],
      "metadata": {
        "colab": {
          "base_uri": "https://localhost:8080/"
        },
        "id": "yvUym_E2OjZq",
        "outputId": "de9de291-df8d-4679-8fab-954926fd723a"
      },
      "execution_count": 4,
      "outputs": [
        {
          "output_type": "stream",
          "name": "stdout",
          "text": [
            "2500\n"
          ]
        }
      ]
    },
    {
      "cell_type": "code",
      "source": [],
      "metadata": {
        "id": "WCzb2k1NOt-J"
      },
      "execution_count": null,
      "outputs": []
    }
  ]
}