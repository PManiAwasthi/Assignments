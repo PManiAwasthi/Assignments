{
  "nbformat": 4,
  "nbformat_minor": 0,
  "metadata": {
    "colab": {
      "provenance": []
    },
    "kernelspec": {
      "name": "python3",
      "display_name": "Python 3"
    },
    "language_info": {
      "name": "python"
    }
  },
  "cells": [
    {
      "cell_type": "markdown",
      "source": [
        "Create a function that takes an integer and returns a list from 1 to the given number, where:<br>\n",
        "1.If the number can be divided evenly by 4, amplify it by 10 (i.e. return 10 times the number).<br>\n",
        "2.If the number cannot be divided evenly by 4, simply return the number."
      ],
      "metadata": {
        "id": "Kwa2ch0VEwo8"
      }
    },
    {
      "cell_type": "code",
      "source": [
        "def amplify(in_num):\n",
        "  out_list = []\n",
        "  for ele in range(1,in_num+1):\n",
        "    if ele%4 == 0:\n",
        "      out_list.append(ele*10)\n",
        "    else:\n",
        "      out_list.append(ele)\n",
        "  print(f'{in_num} ➞ {out_list}')\n",
        "            \n",
        "amplify(4)\n",
        "amplify(3)\n",
        "amplify(25)"
      ],
      "metadata": {
        "colab": {
          "base_uri": "https://localhost:8080/"
        },
        "id": "JxrpASDLEwst",
        "outputId": "7ab04b12-e312-47e2-a732-58aadf51e982"
      },
      "execution_count": 18,
      "outputs": [
        {
          "output_type": "stream",
          "name": "stdout",
          "text": [
            "4 ➞ [1, 2, 3, 40]\n",
            "3 ➞ [1, 2, 3]\n",
            "25 ➞ [1, 2, 3, 40, 5, 6, 7, 80, 9, 10, 11, 120, 13, 14, 15, 160, 17, 18, 19, 200, 21, 22, 23, 240, 25]\n"
          ]
        }
      ]
    },
    {
      "cell_type": "markdown",
      "source": [
        "Create a function that takes a list of numbers and return the number that's unique."
      ],
      "metadata": {
        "id": "yV-cxnz3ExTX"
      }
    },
    {
      "cell_type": "code",
      "source": [
        "def unique(in_list):\n",
        "  out_num = []\n",
        "  for ele in set(in_list):\n",
        "    if in_list.count(ele) == 1:\n",
        "      out_num.append(str(ele))\n",
        "  print(f\"{in_list} ➞ {''.join(out_num)}\")\n",
        "\n",
        "unique([3, 3, 3, 7, 3, 3])\n",
        "unique([0, 0, 0.77, 0, 0])\n",
        "unique([0, 1, 1, 1, 1, 1, 1, 1])"
      ],
      "metadata": {
        "colab": {
          "base_uri": "https://localhost:8080/"
        },
        "id": "9yCeLcGMExTX",
        "outputId": "106503d1-581b-4e80-e1ec-4f4766e26c8e"
      },
      "execution_count": 20,
      "outputs": [
        {
          "output_type": "stream",
          "name": "stdout",
          "text": [
            "[3, 3, 3, 7, 3, 3] ➞ 7\n",
            "[0, 0, 0.77, 0, 0] ➞ 0.77\n",
            "[0, 1, 1, 1, 1, 1, 1, 1] ➞ 0\n"
          ]
        }
      ]
    },
    {
      "cell_type": "markdown",
      "source": [
        "Your task is to create a Circle constructor that creates a circle with a radius provided by an argument. The circles constructed must have two getters getArea() (PIr^2) and getPerimeter() (2PI*r) which give both respective areas and perimeter (circumference). For help with this class, I have provided you with a Rectangle constructor which you can use as a base example ?"
      ],
      "metadata": {
        "id": "noarPK-5ExWI"
      }
    },
    {
      "cell_type": "code",
      "source": [
        "import math\n",
        "\n",
        "class Circle:\n",
        "  def __init__(self, radius):\n",
        "    self.radius = radius\n",
        "  def getArea(self):\n",
        "    print(f'Radius ➞ {round(math.pi*self.radius*self.radius)}')\n",
        "  def getPerimeter(self):\n",
        "    print(f'Perimeter ➞ {round(2*math.pi*self.radius)}')\n",
        "    \n",
        "circy = Circle(11)\n",
        "circy.getArea()\n",
        "\n",
        "circy = Circle(4.44)\n",
        "circy.getPerimeter()"
      ],
      "metadata": {
        "colab": {
          "base_uri": "https://localhost:8080/"
        },
        "id": "OL09a2LyExWJ",
        "outputId": "c69d5b42-ff11-449a-d8ea-ecf1c14681d6"
      },
      "execution_count": 21,
      "outputs": [
        {
          "output_type": "stream",
          "name": "stdout",
          "text": [
            "Radius ➞ 380\n",
            "Perimeter ➞ 28\n"
          ]
        }
      ]
    },
    {
      "cell_type": "markdown",
      "source": [
        "Create a function that takes a list of strings and return a list, sorted from shortest to longest."
      ],
      "metadata": {
        "id": "cHab5SPXExZa"
      }
    },
    {
      "cell_type": "code",
      "source": [
        "def sort_by_length(in_list):\n",
        "  print(sorted(in_list,key=len))\n",
        "\n",
        "sort_by_length([\"Google\", \"Apple\", \"Microsoft\"])\n",
        "sort_by_length([\"Leonardo\", \"Michelangelo\", \"Raphael\", \"Donatello\"])\n",
        "sort_by_length([\"Turing\", \"Einstein\", \"Jung\"])"
      ],
      "metadata": {
        "colab": {
          "base_uri": "https://localhost:8080/"
        },
        "id": "QqkWMYwSExZa",
        "outputId": "4ce9ee76-129a-414e-ecf5-e1ecf200268f"
      },
      "execution_count": 22,
      "outputs": [
        {
          "output_type": "stream",
          "name": "stdout",
          "text": [
            "['Apple', 'Google', 'Microsoft']\n",
            "['Raphael', 'Leonardo', 'Donatello', 'Michelangelo']\n",
            "['Jung', 'Turing', 'Einstein']\n"
          ]
        }
      ]
    },
    {
      "cell_type": "markdown",
      "source": [
        "Create a function that validates whether three given integers form a Pythagorean triplet. The sum of the squares of the two smallest integers must equal the square of the largest number to be validated."
      ],
      "metadata": {
        "id": "DGcOtTpOExcj"
      }
    },
    {
      "cell_type": "code",
      "source": [
        "def is_triplet(a,b,c):\n",
        "  if ((a**2+b**2) == (c**2)):\n",
        "    print(f'{a,b,c} ➞ {True}')\n",
        "  else:\n",
        "    print(f'{a,b,c} ➞ {False}')\n",
        "        \n",
        "is_triplet(3, 4, 5)\n",
        "is_triplet(3, 4, 5)\n",
        "is_triplet(1, 2, 3)"
      ],
      "metadata": {
        "colab": {
          "base_uri": "https://localhost:8080/"
        },
        "id": "r6u1T8iOExcl",
        "outputId": "ae2098fe-f6bf-41d7-9565-f48345d55949"
      },
      "execution_count": 23,
      "outputs": [
        {
          "output_type": "stream",
          "name": "stdout",
          "text": [
            "(3, 4, 5) ➞ True\n",
            "(3, 4, 5) ➞ True\n",
            "(1, 2, 3) ➞ False\n"
          ]
        }
      ]
    },
    {
      "cell_type": "code",
      "source": [],
      "metadata": {
        "id": "ugQ-w_NYFpbM"
      },
      "execution_count": null,
      "outputs": []
    }
  ]
}