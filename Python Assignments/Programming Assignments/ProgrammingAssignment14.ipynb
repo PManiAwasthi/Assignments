{
  "nbformat": 4,
  "nbformat_minor": 0,
  "metadata": {
    "colab": {
      "provenance": []
    },
    "kernelspec": {
      "name": "python3",
      "display_name": "Python 3"
    },
    "language_info": {
      "name": "python"
    }
  },
  "cells": [
    {
      "cell_type": "markdown",
      "source": [
        "#### Define a class with a generator which can iterate the numbers, which are divisible by 7, between a given range 0 and n."
      ],
      "metadata": {
        "id": "R_xHX4oVgj7u"
      }
    },
    {
      "cell_type": "code",
      "execution_count": 10,
      "metadata": {
        "id": "noZLL3YBdZcb"
      },
      "outputs": [],
      "source": [
        "class toGen:\n",
        "  def __init__(self, rangeInput):\n",
        "    self.rangeInput = rangeInput\n",
        "    self.ls = [i for i in range(0,rangeInput)]\n",
        "  def findDiv7(self):\n",
        "    for i in self.ls:\n",
        "      if i % 7 == 0:\n",
        "        yield i"
      ]
    },
    {
      "cell_type": "code",
      "source": [
        "try:\n",
        "  rangeInput = int(input())\n",
        "  toGenObj = toGen(rangeInput)\n",
        "  for i in toGenObj.findDiv7():\n",
        "    print(i)\n",
        "except Exception as e:\n",
        "  print(e)"
      ],
      "metadata": {
        "colab": {
          "base_uri": "https://localhost:8080/"
        },
        "id": "3MDd6uJGfBip",
        "outputId": "3be21e16-4d90-452d-82e0-12457099cebb"
      },
      "execution_count": 11,
      "outputs": [
        {
          "output_type": "stream",
          "name": "stdout",
          "text": [
            "80\n",
            "0\n",
            "7\n",
            "14\n",
            "21\n",
            "28\n",
            "35\n",
            "42\n",
            "49\n",
            "56\n",
            "63\n",
            "70\n",
            "77\n"
          ]
        }
      ]
    },
    {
      "cell_type": "markdown",
      "source": [
        "#### Write a program to compute the frequency of the words from the input. The output should output after sorting the key alphanumerically."
      ],
      "metadata": {
        "id": "nj-oc_PhgxXv"
      }
    },
    {
      "cell_type": "code",
      "source": [
        "inputStr = input().split()"
      ],
      "metadata": {
        "colab": {
          "base_uri": "https://localhost:8080/"
        },
        "id": "mJlobKr-gw0q",
        "outputId": "31182ac4-4952-47d5-ab80-57cf00ac678f"
      },
      "execution_count": 15,
      "outputs": [
        {
          "name": "stdout",
          "output_type": "stream",
          "text": [
            "New to Python or choosing between Python 2 and Python 3? Read Python 2 or Python 3.\n"
          ]
        }
      ]
    },
    {
      "cell_type": "code",
      "source": [
        "def countOcc(word: str, ls: list):\n",
        "  count=0\n",
        "  for i in ls:\n",
        "    if i == word:\n",
        "      count+=1\n",
        "  return count\n",
        "\n",
        "def countDict(ls: list):\n",
        "  d = {}\n",
        "  for i in ls:\n",
        "    if i not in d.keys():\n",
        "      d[i] = countOcc(i, ls)\n",
        "  sortedKeys = list(d.keys())\n",
        "  sortedKeys.sort()\n",
        "  return sortedKeys, d"
      ],
      "metadata": {
        "id": "OaAV60rIf7Gf"
      },
      "execution_count": 38,
      "outputs": []
    },
    {
      "cell_type": "code",
      "source": [
        "sortedKeys, d = countDict(inputStr)\n",
        "for i in sortedKeys:\n",
        "  print(f\"{i}:{d[i]}\")"
      ],
      "metadata": {
        "colab": {
          "base_uri": "https://localhost:8080/"
        },
        "id": "eygd7HwwiQfx",
        "outputId": "39df166b-5523-42a7-bc9d-01234f2fc503"
      },
      "execution_count": 39,
      "outputs": [
        {
          "output_type": "stream",
          "name": "stdout",
          "text": [
            "2:2\n",
            "3.:1\n",
            "3?:1\n",
            "New:1\n",
            "Python:5\n",
            "Read:1\n",
            "and:1\n",
            "between:1\n",
            "choosing:1\n",
            "or:2\n",
            "to:1\n"
          ]
        }
      ]
    },
    {
      "cell_type": "markdown",
      "source": [
        "#### Define a class Person and its two child classes: Male and Female. All classes have a method \"getGender\" which can print \"Male\" for Male class and \"Female\" for Female class."
      ],
      "metadata": {
        "id": "NkY_0qaSjwus"
      }
    },
    {
      "cell_type": "code",
      "source": [
        "class Person:\n",
        "  def getGender():\n",
        "    pass\n",
        "class Male(Person):\n",
        "  def getGender():\n",
        "    print(\"Male\")\n",
        "class Female(Person):\n",
        "  def getGender():\n",
        "    print(\"Female\")"
      ],
      "metadata": {
        "id": "oKOcEzsRicZQ"
      },
      "execution_count": 40,
      "outputs": []
    },
    {
      "cell_type": "code",
      "source": [
        "Male.getGender()\n",
        "Female.getGender()"
      ],
      "metadata": {
        "colab": {
          "base_uri": "https://localhost:8080/"
        },
        "id": "RntX2nYpkfiI",
        "outputId": "622cda7e-1dfe-4e8b-acf0-5669ebc0704c"
      },
      "execution_count": 43,
      "outputs": [
        {
          "output_type": "stream",
          "name": "stdout",
          "text": [
            "Male\n",
            "Female\n"
          ]
        }
      ]
    },
    {
      "cell_type": "markdown",
      "source": [
        "#### Please write a program to generate all sentences where subject is in [&quot;I&quot;, &quot;You&quot;] and verb is in [&quot;Play&quot;, &quot;Love&quot;] and the object is in [&quot;Hockey&quot;,&quot;Football&quot;]."
      ],
      "metadata": {
        "id": "6EsYkLSIo5xm"
      }
    },
    {
      "cell_type": "code",
      "source": [
        "subject=[\"I\",\"You\"]\n",
        "verb=[\"Play\", \"Love\"]\n",
        "obj=[\"Hockey\", \"Football\"]\n",
        "\n",
        "sentence_list = [(sub+\" \"+ vb + \" \" + ob) for sub in subject for vb in verb for ob in obj]\n",
        "for sentence in sentence_list:\n",
        " print (sentence)"
      ],
      "metadata": {
        "colab": {
          "base_uri": "https://localhost:8080/"
        },
        "id": "2oM0NBCOo6An",
        "outputId": "0a0c89ea-65b1-4958-e633-44e21cb37e74"
      },
      "execution_count": 67,
      "outputs": [
        {
          "output_type": "stream",
          "name": "stdout",
          "text": [
            "I Play Hockey\n",
            "I Play Football\n",
            "I Love Hockey\n",
            "I Love Football\n",
            "You Play Hockey\n",
            "You Play Football\n",
            "You Love Hockey\n",
            "You Love Football\n"
          ]
        }
      ]
    },
    {
      "cell_type": "markdown",
      "source": [
        "#### Please write a program to compress and decompress the string &quot;hello world!hello world!hello world!hello world!&quot;."
      ],
      "metadata": {
        "id": "gODK8e_RpD2e"
      }
    },
    {
      "cell_type": "code",
      "source": [
        "import zlib\n",
        "s = b'hello world!hello world!hello world!hello world!'\n",
        "s = zlib.compress(s)\n",
        "print(s)\n",
        "t = zlib.decompress(s)\n",
        "print(t)"
      ],
      "metadata": {
        "colab": {
          "base_uri": "https://localhost:8080/"
        },
        "id": "jFP7us0CpD-Q",
        "outputId": "a6a12150-f8d1-48ed-9b0a-3692cdecddf4"
      },
      "execution_count": 72,
      "outputs": [
        {
          "output_type": "stream",
          "name": "stdout",
          "text": [
            "b'x\\x9c\\xcbH\\xcd\\xc9\\xc9W(\\xcf/\\xcaIQ\\xcc \\x82\\r\\x00\\xbd[\\x11\\xf5'\n",
            "b'hello world!hello world!hello world!hello world!'\n"
          ]
        }
      ]
    },
    {
      "cell_type": "markdown",
      "source": [
        "#### Please write a binary search function which searches an item in a sorted list. The function should return the index of element to be searched in the list."
      ],
      "metadata": {
        "id": "JmzdXTlVk5Zi"
      }
    },
    {
      "cell_type": "code",
      "source": [
        "inputList = [int(i) for i in input().split()]\n",
        "inputList.sort()\n",
        "print(\"Sorted List is : \", inputList)\n",
        "elementToSearch = int(input())"
      ],
      "metadata": {
        "colab": {
          "base_uri": "https://localhost:8080/"
        },
        "id": "5I9kszCfkiTr",
        "outputId": "a771d130-795b-4e02-9001-ede4d1265004"
      },
      "execution_count": 61,
      "outputs": [
        {
          "name": "stdout",
          "output_type": "stream",
          "text": [
            "6 8 10 3 25\n",
            "Sorted List is :  [3, 6, 8, 10, 25]\n",
            "10\n"
          ]
        }
      ]
    },
    {
      "cell_type": "code",
      "source": [
        "def binarySearch(ls: list, n: int):\n",
        "  first = 0\n",
        "  last = len(ls)\n",
        "  mid = 0\n",
        "  while first <= last:\n",
        "    mid = (first+last)//2\n",
        "    if n == ls[mid]:\n",
        "      return mid\n",
        "    elif ls[mid] > n:\n",
        "      last = mid - 1\n",
        "    elif ls[mid] < n:\n",
        "      first = mid + 1\n",
        "  return -1"
      ],
      "metadata": {
        "id": "svitRFnllH-M"
      },
      "execution_count": 62,
      "outputs": []
    },
    {
      "cell_type": "code",
      "source": [
        "index = binarySearch(inputList, elementToSearch)\n",
        "if index>=0:\n",
        "  print(f\"element found at index: {index}\")"
      ],
      "metadata": {
        "colab": {
          "base_uri": "https://localhost:8080/"
        },
        "id": "ZxoMjSmRmGoS",
        "outputId": "9cc65ee6-b14b-401b-ab81-ba03e20b0e61"
      },
      "execution_count": 64,
      "outputs": [
        {
          "output_type": "stream",
          "name": "stdout",
          "text": [
            "element found at index: 3\n"
          ]
        }
      ]
    }
  ]
}