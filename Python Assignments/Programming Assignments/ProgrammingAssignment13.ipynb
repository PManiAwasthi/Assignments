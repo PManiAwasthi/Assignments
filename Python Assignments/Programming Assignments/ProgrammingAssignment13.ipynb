{
  "nbformat": 4,
  "nbformat_minor": 0,
  "metadata": {
    "colab": {
      "provenance": []
    },
    "kernelspec": {
      "name": "python3",
      "display_name": "Python 3"
    },
    "language_info": {
      "name": "python"
    }
  },
  "cells": [
    {
      "cell_type": "markdown",
      "source": [
        "### Write a program that calculates and prints the value according to the given formula:\n",
        "#### Q = Square root of [(2 * c * d)/h]\n",
        "where C and H are 50 and 30.\n",
        "<br>Input the values of D in a comma separated manner and print Q."
      ],
      "metadata": {
        "id": "D9pX4Da--a9l"
      }
    },
    {
      "cell_type": "code",
      "execution_count": 3,
      "metadata": {
        "id": "5fI4j43d0Kqw"
      },
      "outputs": [],
      "source": [
        "from math import sqrt\n",
        "def calQ(d: list, c=50, h=30):\n",
        "  return sqrt((2*c*d)/h)"
      ]
    },
    {
      "cell_type": "code",
      "source": [
        "try:\n",
        "  listD = [int(i) for i in input().split(sep=\",\")]\n",
        "  if len(listD) == 0:\n",
        "    raise Exception(\"no value for D\")\n",
        "  listQ = []\n",
        "  strQ = \"\"\n",
        "  for i in listD:\n",
        "    listQ.append(str(int(calQ(i))))\n",
        "  print(\",\".join(listQ))\n",
        "except Exception as e:\n",
        "  print(e)"
      ],
      "metadata": {
        "colab": {
          "base_uri": "https://localhost:8080/"
        },
        "id": "Eqtp8wZE_ML-",
        "outputId": "f69f3532-f908-4592-97f8-85b4880affd4"
      },
      "execution_count": 9,
      "outputs": [
        {
          "output_type": "stream",
          "name": "stdout",
          "text": [
            "100,150,180\n",
            "18,22,24\n"
          ]
        }
      ]
    },
    {
      "cell_type": "markdown",
      "source": [
        "### Write a program which takes 2 digits, X, Y as input and generates a 2-dimensional array The element value in the i-th row and j-th column of the array should be i*j."
      ],
      "metadata": {
        "id": "rVFQEy7KBZoo"
      }
    },
    {
      "cell_type": "code",
      "source": [
        "def cal(m: int, n: int):\n",
        "  return m*n"
      ],
      "metadata": {
        "id": "4Q22GcyIANP2"
      },
      "execution_count": 23,
      "outputs": []
    },
    {
      "cell_type": "code",
      "source": [
        "inputXY = [int(i) for i in input().split(sep=\",\")]\n",
        "try:\n",
        "  if inputXY[0] <= 0 or inputXY[1] <=0:\n",
        "    raise Exception(\"dimensions cannot be negative\")\n",
        "  array = [[cal(i,j) for j in range(inputXY[1])] for i in range(inputXY[0])]\n",
        "  print(array)\n",
        "except Exception as e:\n",
        "  print(e)"
      ],
      "metadata": {
        "colab": {
          "base_uri": "https://localhost:8080/"
        },
        "id": "S5buKHhZB0RM",
        "outputId": "6ec7c8ae-5507-403f-bf51-a1aac7f409a3"
      },
      "execution_count": 24,
      "outputs": [
        {
          "output_type": "stream",
          "name": "stdout",
          "text": [
            "3,5\n",
            "[[0, 0, 0, 0, 0], [0, 1, 2, 3, 4], [0, 2, 4, 6, 8]]\n"
          ]
        }
      ]
    },
    {
      "cell_type": "markdown",
      "source": [
        "### Write a program that accepts a comma separated sequence of words as input and prints the words in a comma-separated sequence after sorting them alphabetically."
      ],
      "metadata": {
        "id": "coBfliu7DL6R"
      }
    },
    {
      "cell_type": "code",
      "source": [
        "inputStr = input().split(sep=\",\")\n",
        "inputStr.sort()\n",
        "print(\",\".join(inputStr))"
      ],
      "metadata": {
        "colab": {
          "base_uri": "https://localhost:8080/"
        },
        "id": "tySJaBtQB7db",
        "outputId": "f2f4dc69-e86f-4b3e-9a29-0137078f35e4"
      },
      "execution_count": 39,
      "outputs": [
        {
          "output_type": "stream",
          "name": "stdout",
          "text": [
            "without,hello,bag,world\n",
            "bag,hello,without,world\n"
          ]
        }
      ]
    },
    {
      "cell_type": "markdown",
      "source": [
        "### Write a program that accepts a sequence of whitespace separated words as input and prints the words after removing all duplicate words and sorting them alphanumerically."
      ],
      "metadata": {
        "id": "jxKCSyR9D5S1"
      }
    },
    {
      "cell_type": "code",
      "source": [
        "inputStr = input().split()\n",
        "inputStr = list(set(inputStr))\n",
        "inputStr.sort()\n",
        "print(\" \".join(inputStr))"
      ],
      "metadata": {
        "colab": {
          "base_uri": "https://localhost:8080/"
        },
        "id": "j_1N11bQCpzt",
        "outputId": "a993a877-8e12-4de4-91cd-7db9b35ff6b7"
      },
      "execution_count": 41,
      "outputs": [
        {
          "output_type": "stream",
          "name": "stdout",
          "text": [
            "hello world and practice makes perfect and hello world again\n",
            "again and hello makes perfect practice world\n"
          ]
        }
      ]
    },
    {
      "cell_type": "markdown",
      "source": [
        "### Write a program that accepts a sentence and calculate the number of letters and digits."
      ],
      "metadata": {
        "id": "GisCN0WGD9O_"
      }
    },
    {
      "cell_type": "code",
      "source": [
        "def counter(a:str):\n",
        "  digit, letter = 0, 0\n",
        "  for i in a:\n",
        "    if i.isalpha():\n",
        "      letter+=1\n",
        "    if i.isnumeric():\n",
        "      digit+=1\n",
        "  return digit, letter"
      ],
      "metadata": {
        "id": "gUEgO39MEY80"
      },
      "execution_count": 28,
      "outputs": []
    },
    {
      "cell_type": "code",
      "source": [
        "inputStr = input().split()"
      ],
      "metadata": {
        "colab": {
          "base_uri": "https://localhost:8080/"
        },
        "id": "yLTFtE67Cttn",
        "outputId": "b1005378-5dc9-4dd7-9a5d-0d65d1d3fd6d"
      },
      "execution_count": 34,
      "outputs": [
        {
          "name": "stdout",
          "output_type": "stream",
          "text": [
            "hello world! 123\n"
          ]
        }
      ]
    },
    {
      "cell_type": "code",
      "source": [
        "try:\n",
        "  finaldigit, finalletters = 0, 0\n",
        "  if len(inputStr) == 0:\n",
        "    raise Exception(\"LETTERS 0\\nDIGITS 0\")\n",
        "  for i in inputStr:\n",
        "    digit, letters = counter(i)\n",
        "    finaldigit += digit\n",
        "    finalletters += letters\n",
        "  print(f\"LETTERS {finalletters}\")\n",
        "  print(f\"DIGITS {finaldigit}\")\n",
        "except Exception as e:\n",
        "  print(e)"
      ],
      "metadata": {
        "colab": {
          "base_uri": "https://localhost:8080/"
        },
        "id": "Arr38CPWEJOX",
        "outputId": "d43c4908-48c2-40ce-ee8e-d1eef58c59c8"
      },
      "execution_count": 35,
      "outputs": [
        {
          "output_type": "stream",
          "name": "stdout",
          "text": [
            "LETTERS 10\n",
            "DIGITS 3\n"
          ]
        }
      ]
    },
    {
      "cell_type": "markdown",
      "source": [
        "### A website requires the users to input username and password to register. Write a program to check the validity of password input by users."
      ],
      "metadata": {
        "id": "pvoObjglGMT-"
      }
    },
    {
      "cell_type": "code",
      "source": [
        "# Flags mean\n",
        "# 1 = letter [a-z]\n",
        "# 2 = number [0-9]\n",
        "# 3 = letter [A-Z]\n",
        "# 4 = character [$#@]\n",
        "# 5 = minimum length is 6\n",
        "# 6 = maximum length is 12\n",
        "def checkVal(s: str):\n",
        "  flags = {1:0, 2:0, 3:0, 4:0, 5:0, 6:0}\n",
        "  sum = 0\n",
        "  if len(s) >= 6 and len(s) <= 12:\n",
        "    flags[5], flags[6] = 1,1\n",
        "  else:\n",
        "    return 0\n",
        "  for i in s:\n",
        "    if i.islower():\n",
        "      flags[1] = 1\n",
        "    elif i.isnumeric():\n",
        "      flags[2] = 1\n",
        "    elif i.isupper():\n",
        "      flags[3] = 1\n",
        "    elif i in [\"$\", \"#\", \"@\"]:\n",
        "      flags[4] = 1\n",
        "    sumFlags = 0\n",
        "  for i in flags.values():\n",
        "    sumFlags+=i\n",
        "  return sumFlags"
      ],
      "metadata": {
        "id": "3wTvq24UEONf"
      },
      "execution_count": 34,
      "outputs": []
    },
    {
      "cell_type": "code",
      "source": [
        "try:\n",
        "  inputStr = input().split(sep=\",\")\n",
        "  if len(inputStr) == 0:\n",
        "    raise Exception(\"Please input values\")\n",
        "  finalList = []\n",
        "  for i in inputStr:\n",
        "    if int(checkVal(i)) == 6:\n",
        "      print(i)\n",
        "  print(\",\".join(finalList))\n",
        "except Exception as e:\n",
        "  print(e)"
      ],
      "metadata": {
        "colab": {
          "base_uri": "https://localhost:8080/"
        },
        "id": "vVC-cKprHNGT",
        "outputId": "069a5f1e-d31c-44f8-d62a-d992b70024dd"
      },
      "execution_count": 35,
      "outputs": [
        {
          "output_type": "stream",
          "name": "stdout",
          "text": [
            "ABd1234@1,a F1#,2w3E*,2We3345\n",
            "ABd1234@1\n",
            "\n"
          ]
        }
      ]
    }
  ]
}