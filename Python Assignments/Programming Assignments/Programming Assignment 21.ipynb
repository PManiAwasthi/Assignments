{
  "nbformat": 4,
  "nbformat_minor": 0,
  "metadata": {
    "colab": {
      "provenance": []
    },
    "kernelspec": {
      "name": "python3",
      "display_name": "Python 3"
    },
    "language_info": {
      "name": "python"
    }
  },
  "cells": [
    {
      "cell_type": "markdown",
      "source": [
        "Write a function that takes a list and a number as arguments. Add the number to the end of the list, then remove the first element of the list. The function should then return the updated list."
      ],
      "metadata": {
        "id": "s36TDn69BK3I"
      }
    },
    {
      "cell_type": "code",
      "source": [
        "def next_in_line(in_list,in_num):\n",
        "  if len(in_list) > 1:\n",
        "    in_list.append(in_num)\n",
        "    in_list.remove(in_list[0])\n",
        "    print(f'Output ➞ {in_list}')\n",
        "  else:\n",
        "    print('No list has been selected')\n",
        "\n",
        "next_in_line([5, 6, 7, 8, 9], 1) \n",
        "next_in_line([7, 6, 3, 23, 17], 10)\n",
        "next_in_line([1, 10, 20, 42 ], 6)\n",
        "next_in_line([], 6)"
      ],
      "metadata": {
        "colab": {
          "base_uri": "https://localhost:8080/"
        },
        "id": "1GDn9R3TBK-U",
        "outputId": "b0015910-7210-47a8-9ed9-44dbb1674b05"
      },
      "execution_count": 2,
      "outputs": [
        {
          "output_type": "stream",
          "name": "stdout",
          "text": [
            "Output ➞ [6, 7, 8, 9, 1]\n",
            "Output ➞ [6, 3, 23, 17, 10]\n",
            "Output ➞ [10, 20, 42, 6]\n",
            "No list has been selected\n"
          ]
        }
      ]
    },
    {
      "cell_type": "markdown",
      "source": [
        "Create the function that takes a list of dictionaries and returns the sum of people's budgets."
      ],
      "metadata": {
        "id": "TWz2LwGjBMbk"
      }
    },
    {
      "cell_type": "code",
      "source": [
        "def get_budgets(in_dict):\n",
        "  sum = 0\n",
        "  for ele in in_dict:\n",
        "    sum += ele[\"budget\"]\n",
        "  print(f'Output ➞ {sum}')\n",
        "    \n",
        "get_budgets([\n",
        "{ \"name\": \"John\", \"age\": 21, \"budget\": 23000 },\n",
        "{ \"name\": \"Steve\", \"age\": 32, \"budget\": 40000 },\n",
        "{ \"name\": \"Martin\", \"age\": 16, \"budget\": 2700 }\n",
        "])\n",
        "\n",
        "get_budgets([\n",
        "{ \"name\": \"John\", \"age\": 21, \"budget\": 29000 },\n",
        "{ \"name\": \"Steve\", \"age\": 32, \"budget\": 32000 },\n",
        "{ \"name\": \"Martin\", \"age\": 16, \"budget\": 1600 }\n",
        "])"
      ],
      "metadata": {
        "colab": {
          "base_uri": "https://localhost:8080/"
        },
        "id": "71VzRSQuBMbl",
        "outputId": "cc58eb79-d34d-4477-a8fc-4dc5ed2ad934"
      },
      "execution_count": 3,
      "outputs": [
        {
          "output_type": "stream",
          "name": "stdout",
          "text": [
            "Output ➞ 65700\n",
            "Output ➞ 62600\n"
          ]
        }
      ]
    },
    {
      "cell_type": "markdown",
      "source": [
        "Create a function that takes a string and returns a string with its letters in alphabetical order."
      ],
      "metadata": {
        "id": "yW7vyyWwBMeO"
      }
    },
    {
      "cell_type": "code",
      "source": [
        "def alphabet_soup(in_string):\n",
        "  out_string = ''.join(sorted(in_string))\n",
        "  print(f'{in_string} ➞ {out_string}')\n",
        "\n",
        "alphabet_soup(\"hello\")\n",
        "alphabet_soup(\"edabit\")\n",
        "alphabet_soup(\"hacker\")\n",
        "alphabet_soup(\"geek\")\n",
        "alphabet_soup(\"javascript\")"
      ],
      "metadata": {
        "colab": {
          "base_uri": "https://localhost:8080/"
        },
        "id": "7ZH6SsUoBMeP",
        "outputId": "0241239f-9226-4b85-9173-17c0217a1896"
      },
      "execution_count": 4,
      "outputs": [
        {
          "output_type": "stream",
          "name": "stdout",
          "text": [
            "hello ➞ ehllo\n",
            "edabit ➞ abdeit\n",
            "hacker ➞ acehkr\n",
            "geek ➞ eegk\n",
            "javascript ➞ aacijprstv\n"
          ]
        }
      ]
    },
    {
      "cell_type": "markdown",
      "source": [
        "**What will be the value of your investment at the end of the 10 year period?**\n",
        "Create a function that accepts the principal p, the term in years t, the interest rate r, and the number of compounding periods per year n. The function returns the value at the end of term rounded to the nearest cent."
      ],
      "metadata": {
        "id": "5bymZJIJBMhP"
      }
    },
    {
      "cell_type": "code",
      "source": [
        "def compound_interest(principal,years,roi,cp):\n",
        "  try:\n",
        "    ci = principal*(1+(roi/cp))**(cp*years)\n",
        "    print(f'Output ➞ {ci:.2f}')\n",
        "  except Exception as e:\n",
        "    print(e)\n",
        "\n",
        "compound_interest(100, 1, 0.05, 1)\n",
        "compound_interest(3500, 15, 0.1, 4)\n",
        "compound_interest(100000, 20, 0.15, 365)"
      ],
      "metadata": {
        "colab": {
          "base_uri": "https://localhost:8080/"
        },
        "id": "dsROLQekBMhQ",
        "outputId": "ac7eae7c-c819-4ea2-bbb8-36f3258bed74"
      },
      "execution_count": 5,
      "outputs": [
        {
          "output_type": "stream",
          "name": "stdout",
          "text": [
            "Output ➞ 105.00\n",
            "Output ➞ 15399.26\n",
            "Output ➞ 2007316.26\n"
          ]
        }
      ]
    },
    {
      "cell_type": "markdown",
      "source": [
        "Write a function that takes a list of elements and returns only the integers."
      ],
      "metadata": {
        "id": "YAcNakkwBMkX"
      }
    },
    {
      "cell_type": "code",
      "source": [
        "def return_only_integer(in_list):\n",
        "    out_list = []\n",
        "    for ele in in_list:\n",
        "        if type(ele) == int:\n",
        "            out_list.append(ele)\n",
        "    print(f'{in_list} ➞ {out_list}')\n",
        "    \n",
        "return_only_integer([9, 2, \"space\", \"car\", \"lion\", 16])\n",
        "return_only_integer([\"hello\", 81, \"basketball\", 123, \"fox\"])\n",
        "return_only_integer([10, \"121\", 56, 20, \"car\", 3, \"lion\"]) \n",
        "return_only_integer([\"String\", True, 3.3, 1])"
      ],
      "metadata": {
        "colab": {
          "base_uri": "https://localhost:8080/"
        },
        "id": "gz1jwyA5BMkX",
        "outputId": "500bc07c-f416-430a-ec9b-8cafc084de4d"
      },
      "execution_count": 6,
      "outputs": [
        {
          "output_type": "stream",
          "name": "stdout",
          "text": [
            "[9, 2, 'space', 'car', 'lion', 16] ➞ [9, 2, 16]\n",
            "['hello', 81, 'basketball', 123, 'fox'] ➞ [81, 123]\n",
            "[10, '121', 56, 20, 'car', 3, 'lion'] ➞ [10, 56, 20, 3]\n",
            "['String', True, 3.3, 1] ➞ [1]\n"
          ]
        }
      ]
    },
    {
      "cell_type": "code",
      "source": [],
      "metadata": {
        "id": "F5HafAqRCXLf"
      },
      "execution_count": null,
      "outputs": []
    }
  ]
}