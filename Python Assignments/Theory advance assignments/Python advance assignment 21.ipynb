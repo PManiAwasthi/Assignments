{
  "nbformat": 4,
  "nbformat_minor": 0,
  "metadata": {
    "colab": {
      "provenance": []
    },
    "kernelspec": {
      "name": "python3",
      "display_name": "Python 3"
    },
    "language_info": {
      "name": "python"
    }
  },
  "cells": [
    {
      "cell_type": "markdown",
      "source": [
        "What is a probability distribution, exactly? If the values are meant to be random, how can you predict them at all ?"
      ],
      "metadata": {
        "id": "vrpZmYZZD809"
      }
    },
    {
      "cell_type": "code",
      "source": [
        "\"\"\"\n",
        "A probability distribution describes how a random variable is distributed.\n",
        "\n",
        "It tells us which values a random variable is most likely to take on and which values are less likely. Based on the previous data and the occurences of the random event, \n",
        "we can predict the outcome in terms of probabilities.\n",
        "\"\"\""
      ],
      "metadata": {
        "id": "bH8k9PYcD84H"
      },
      "execution_count": null,
      "outputs": []
    },
    {
      "cell_type": "markdown",
      "source": [
        "Is there a distinction between true random numbers and pseudo-random numbers, if there is one? Why are the latter considered “good enough”?"
      ],
      "metadata": {
        "id": "HViFDYiKD9fN"
      }
    },
    {
      "cell_type": "code",
      "source": [
        "\"\"\"\n",
        "True Random Numbers are true physical values while pseudo-random numbers are generated internally by a program . \n",
        "Latter is considered good enough as they have sort of uniform distribution.\n",
        "\"\"\""
      ],
      "metadata": {
        "id": "ZEs0XTf8D9fO"
      },
      "execution_count": null,
      "outputs": []
    },
    {
      "cell_type": "markdown",
      "source": [
        "What are the two main factors that influence the behaviour of a \"normal\" probability distribution ?"
      ],
      "metadata": {
        "id": "o37yU-qkD9jP"
      }
    },
    {
      "cell_type": "code",
      "source": [
        "\"\"\"\n",
        "Mean and variance influence the behavour of a normal probability distribution\n",
        "\"\"\""
      ],
      "metadata": {
        "id": "QhQTKtYGD9jP"
      },
      "execution_count": null,
      "outputs": []
    },
    {
      "cell_type": "markdown",
      "source": [
        "Provide a real-life example of a normal distribution ?"
      ],
      "metadata": {
        "id": "fb4NTgaMD9nP"
      }
    },
    {
      "cell_type": "code",
      "source": [
        "\"\"\"\n",
        "A Real-life example of a normal distribution are heights or blood pressure measurements\n",
        "\"\"\""
      ],
      "metadata": {
        "id": "U52xDkwBD9nQ"
      },
      "execution_count": null,
      "outputs": []
    },
    {
      "cell_type": "markdown",
      "source": [
        "In the short term, how can you expect a probability distribution to behave? What do you think will happen as the number of trials grows ?"
      ],
      "metadata": {
        "id": "DW4cG5dAD9rN"
      }
    },
    {
      "cell_type": "code",
      "source": [
        "\"\"\"\n",
        "Variance will decrease with number of trials\n",
        "\"\"\""
      ],
      "metadata": {
        "id": "QyLrYoMLD9rO"
      },
      "execution_count": null,
      "outputs": []
    },
    {
      "cell_type": "markdown",
      "source": [
        "What kind of object can be shuffled by using random.shuffle ?"
      ],
      "metadata": {
        "id": "ehJ2Y7g7D9vG"
      }
    },
    {
      "cell_type": "code",
      "source": [
        "\"\"\"\n",
        "lists (list), strings (str) and tuples (tuple) objects can be shuffled by using random.shuffle.\n",
        "\"\"\""
      ],
      "metadata": {
        "id": "_gqxxqcKD9vG"
      },
      "execution_count": null,
      "outputs": []
    },
    {
      "cell_type": "markdown",
      "source": [
        "Describe the math package's general categories of functions ?"
      ],
      "metadata": {
        "id": "ex9Er8x9EBJc"
      }
    },
    {
      "cell_type": "code",
      "source": [
        "\"\"\"\n",
        "The Math package's general categories of functions are:\n",
        "\n",
        "Trigonometric functions\n",
        "Quadratic functions\n",
        "Exponential functions\n",
        "Hyperbolic functions\n",
        "Periodic functions\n",
        "Arithmetic functions\n",
        "Logarithimic functions\n",
        "Conversions to Integer\n",
        "\"\"\""
      ],
      "metadata": {
        "id": "c6d6hQ6VEBJc"
      },
      "execution_count": null,
      "outputs": []
    },
    {
      "cell_type": "markdown",
      "source": [
        "What is the relationship between exponentiation and logarithms ?"
      ],
      "metadata": {
        "id": "x0t0KZjiEBNk"
      }
    },
    {
      "cell_type": "code",
      "source": [
        "\"\"\"\n",
        "Exponentiation and logarithms are inverse of each other.\n",
        "\"\"\""
      ],
      "metadata": {
        "id": "8km3zLKNEBNk"
      },
      "execution_count": null,
      "outputs": []
    },
    {
      "cell_type": "markdown",
      "source": [
        "What are the three logarithmic functions that Python supports ?"
      ],
      "metadata": {
        "id": "qT7K9ZOnEBf1"
      }
    },
    {
      "cell_type": "code",
      "source": [
        "\"\"\"\n",
        "The Three Logarithmic Functions that Python supports are:\n",
        "\n",
        "log2(x) - logarithmic value of x to base 2\n",
        "log10(x) - logarithmic value of x to base 10\n",
        "log1p(a) - This function is used to compute logarithm(1+a) .\n",
        "\"\"\""
      ],
      "metadata": {
        "id": "pXEogdjpEBf2"
      },
      "execution_count": null,
      "outputs": []
    }
  ]
}