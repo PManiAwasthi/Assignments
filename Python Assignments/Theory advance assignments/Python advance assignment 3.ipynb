{
  "nbformat": 4,
  "nbformat_minor": 0,
  "metadata": {
    "colab": {
      "provenance": []
    },
    "kernelspec": {
      "name": "python3",
      "display_name": "Python 3"
    },
    "language_info": {
      "name": "python"
    }
  },
  "cells": [
    {
      "cell_type": "markdown",
      "source": [
        "1. What is the concept of an abstract superclass?"
      ],
      "metadata": {
        "id": "vcQuSj--AmuL"
      }
    },
    {
      "cell_type": "code",
      "source": [
        "\"\"\"\n",
        "Abstract superclasses serve as a catalog or directory where we can look for all the methods and attributes which are common in the inherited classes.\n",
        "for example having a animal abstact class helps us know common attributes between the different inheriting classes without going through all the classes and also\n",
        "saves us time by not having to redefine the function of superclass which we unless have to do if we do not use abstract class, by only having to write the declaration and \n",
        "then defining the methods inside inherited classes.\n",
        "\"\"\""
      ],
      "metadata": {
        "id": "itxYwSMTAm2_"
      },
      "execution_count": null,
      "outputs": []
    },
    {
      "cell_type": "markdown",
      "source": [
        "2. What happens when a class statement&#39;s top level contains a basic assignment statement?"
      ],
      "metadata": {
        "id": "5vPiCOYpAns4"
      }
    },
    {
      "cell_type": "code",
      "source": [
        "\"\"\"\n",
        "Well then the variable that we have done the assignment for becomes the local variable of the class whose scope is util the class ends and is accessible to all attributes \n",
        "inside the class body.\n",
        "\"\"\""
      ],
      "metadata": {
        "id": "S8uAB8LvAns4"
      },
      "execution_count": null,
      "outputs": []
    },
    {
      "cell_type": "markdown",
      "source": [
        "3. Why does a class need to manually call a superclass&#39;s __init__ method?"
      ],
      "metadata": {
        "id": "HyctHhZxAnxM"
      }
    },
    {
      "cell_type": "code",
      "source": [
        "\"\"\"\n",
        "when we write super() alone then it actually refers to the object of the class and not the constructor, so super() allows us to access the class attributes.\n",
        "As the attributes include the __init__ methods so we explicitly call it. Previsously in other languages super use to automatically call the class construtor which shared the same\n",
        "name as class did.\n",
        "\"\"\""
      ],
      "metadata": {
        "id": "OWBZgTh_AnxM"
      },
      "execution_count": null,
      "outputs": []
    },
    {
      "cell_type": "markdown",
      "source": [
        "4. How can you augment, instead of completely replacing, an inherited method?"
      ],
      "metadata": {
        "id": "Qd0Un8UtAn11"
      }
    },
    {
      "cell_type": "code",
      "source": [
        "\"\"\"\n",
        "first make an instance of the method of the class you need to augment code to, then write the instance inside the new definition at the end of the new definition and then\n",
        "reassign the value to the reference\n",
        "\"\"\"\n",
        "def poison(spam):\n",
        "    tmp = spam.update # it is a bound method that doesn't take any arguments\n",
        "    def newUpdate():\n",
        "        print('this spam has been poisoned!')\n",
        "        tmp()\n",
        "    spam.update = newUpdate\n"
      ],
      "metadata": {
        "id": "NXjFbVRgAn12"
      },
      "execution_count": null,
      "outputs": []
    },
    {
      "cell_type": "markdown",
      "source": [
        "5. How is the local scope of a class different from that of a function?"
      ],
      "metadata": {
        "id": "tX2J2VChAn53"
      }
    },
    {
      "cell_type": "code",
      "source": [
        "\"\"\"\n",
        "the local variables of a function can only be accessed by the function as they only exist inside it due to limited scope. But incase of the class\n",
        "we can access these variable directly using the class name then dot operator and name of the attribute or we can also access them if in case values are not assigned with the \n",
        "instance of the class.\n",
        "\"\"\""
      ],
      "metadata": {
        "id": "J34axB9mAn53"
      },
      "execution_count": null,
      "outputs": []
    }
  ]
}