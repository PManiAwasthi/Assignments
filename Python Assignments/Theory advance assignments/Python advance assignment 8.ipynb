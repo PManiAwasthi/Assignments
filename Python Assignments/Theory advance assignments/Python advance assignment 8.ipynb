{
  "nbformat": 4,
  "nbformat_minor": 0,
  "metadata": {
    "colab": {
      "provenance": []
    },
    "kernelspec": {
      "name": "python3",
      "display_name": "Python 3"
    },
    "language_info": {
      "name": "python"
    }
  },
  "cells": [
    {
      "cell_type": "markdown",
      "source": [
        "What are the two latest user-defined exception constraints in Python 3.X?"
      ],
      "metadata": {
        "id": "RR_OM93aL4mV"
      }
    },
    {
      "cell_type": "code",
      "source": [
        "\"\"\"\n",
        "raise and assert are used for user-defined exceptions in python. We can raise predefined and custom as well as on the go exceptions using them.\n",
        "\"\"\""
      ],
      "metadata": {
        "id": "cnygkxKBL4t1"
      },
      "execution_count": null,
      "outputs": []
    },
    {
      "cell_type": "markdown",
      "source": [
        "How are class-based exceptions that have been raised matched to handlers?"
      ],
      "metadata": {
        "id": "vo5segr6MDIv"
      }
    },
    {
      "cell_type": "code",
      "source": [
        "\"\"\"\n",
        "The matching of the handlers follows reverse inheritence heirachy, meaning it goes from most specific (child class) to more general like Exception class which matching.\n",
        "So that in case it doesn't match any exception it still can continue excecuting using the last except block which is usually the Exception class which always passes.\n",
        "\"\"\""
      ],
      "metadata": {
        "id": "LE14Gv6DMDIw"
      },
      "execution_count": null,
      "outputs": []
    },
    {
      "cell_type": "markdown",
      "source": [
        "Describe two methods for attaching context information to exception artifacts ?"
      ],
      "metadata": {
        "id": "9qjFMePNMDM6"
      }
    },
    {
      "cell_type": "code",
      "source": [
        "\"\"\"\n",
        "The process() method of LoggerAdapter is where the contextual information is added to the logging output. \n",
        "its passes the message and keyword arguments of the logging call, and it passes back modified versions of these to use in the call to the underlying logger.\n",
        "\n",
        "Other method that can be used is exception(), Logs a messgae with level ERROR on this logger. The arguments are interpreted as for debug(). \n",
        "Exception info is added to the logging message.\n",
        "\"\"\""
      ],
      "metadata": {
        "id": "cNkUlRfDMDM6"
      },
      "execution_count": null,
      "outputs": []
    },
    {
      "cell_type": "markdown",
      "source": [
        "Describe two methods for specifying the text of an exception object's error message ?"
      ],
      "metadata": {
        "id": "cPJoEmAxMDQy"
      }
    },
    {
      "cell_type": "code",
      "source": [
        "\"\"\"\n",
        "raise and assert are two methods for specifying the text of an exception object's error message.\n",
        "raise statement is used to trigger explicit exception, if certain condition is not as per requirement of programmer. \n",
        "it helps in triggering exception as per need of programmer and logic.\n",
        "\n",
        "There are few assertions that programmer always want to be True to avoid code failure. This type of requirment is fullfilled by assert statement. \n",
        "This statement takes a Boolean Condition output of which if True, further program executes. if output of assert statement is False it raises an Assertion Error.\n",
        "\"\"\""
      ],
      "metadata": {
        "id": "Zkq8QP8PMDQy"
      },
      "execution_count": null,
      "outputs": []
    },
    {
      "cell_type": "markdown",
      "source": [
        "Why do you no longer use string-based exceptions?"
      ],
      "metadata": {
        "id": "JQUpJibcMDUS"
      }
    },
    {
      "cell_type": "code",
      "source": [
        "\"\"\"\n",
        " String-based Exceptions doesn't inherit from Exceptions. so plain exceptions catch all exceptions and not only system.\n",
        "\"\"\""
      ],
      "metadata": {
        "id": "_VteBGQ-MDUT"
      },
      "execution_count": null,
      "outputs": []
    }
  ]
}