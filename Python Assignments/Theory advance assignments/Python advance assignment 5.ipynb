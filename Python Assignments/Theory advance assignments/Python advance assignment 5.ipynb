{
  "nbformat": 4,
  "nbformat_minor": 0,
  "metadata": {
    "colab": {
      "provenance": []
    },
    "kernelspec": {
      "name": "python3",
      "display_name": "Python 3"
    },
    "language_info": {
      "name": "python"
    }
  },
  "cells": [
    {
      "cell_type": "markdown",
      "source": [
        "Q1. What is the meaning of multiple inheritance?"
      ],
      "metadata": {
        "id": "noAHjsJwJOvk"
      }
    },
    {
      "cell_type": "code",
      "source": [
        "\"\"\"\n",
        "Inheritence is nothing but reusing the code of Parent class by the child class. \n",
        "Similary when a child class inherits its properties from multiple Parent classes this scenario is called Multiple Inheritence\n",
        "\"\"\"\n",
        "class Parent_one:\n",
        "    pass\n",
        "class Parent_two:\n",
        "    pass\n",
        "class child(Parent_one,Parent_two):\n",
        "    pass"
      ],
      "metadata": {
        "id": "e_11JDjkJO1i"
      },
      "execution_count": 8,
      "outputs": []
    },
    {
      "cell_type": "markdown",
      "source": [
        "Q2. What is the concept of delegation?"
      ],
      "metadata": {
        "id": "EIab__d_JepD"
      }
    },
    {
      "cell_type": "code",
      "source": [
        "\"\"\"\n",
        "Delegation provides a proxy object for any class that you want on top of the main class. \n",
        "its like a wrapper to your class so that you can access limited resources of the main class.\n",
        "\n",
        "it Wraps the object of main class into a smaller object with limited access\n",
        "\n",
        "Simply Delegation means that you can include a instance of another class as an instance variable, and forward messages to the instance.\n",
        "\"\"\"\n",
        "\n",
        "class Myclass:\n",
        "    def sayHi(self):\n",
        "        print('Hey iam back')\n",
        "    def whoAmI(self):\n",
        "        print('Iam the main class')\n",
        "class NewClass:\n",
        "    def __init__(self,obj):\n",
        "        self.main = obj\n",
        "    def welcome(self):\n",
        "        self.main.sayHi()\n",
        "\n",
        "m = Myclass()        \n",
        "n = NewClass(m)\n",
        "m.sayHi()\n",
        "n.main.sayHi()\n",
        "n.welcome()\n",
        "n.main.whoAmI()"
      ],
      "metadata": {
        "colab": {
          "base_uri": "https://localhost:8080/"
        },
        "id": "BUihF-w9JepD",
        "outputId": "ca3faf40-576f-4fe3-f803-1ea27c4db8ec"
      },
      "execution_count": 9,
      "outputs": [
        {
          "output_type": "stream",
          "name": "stdout",
          "text": [
            "Hey iam back\n",
            "Hey iam back\n",
            "Hey iam back\n",
            "Iam the main class\n"
          ]
        }
      ]
    },
    {
      "cell_type": "markdown",
      "source": [
        "Q3. What is the concept of composition?\n"
      ],
      "metadata": {
        "id": "BisMx28pJeuO"
      }
    },
    {
      "cell_type": "code",
      "source": [
        "\"\"\"\n",
        "In the concept of Composition, a class refers to one or more other classes by using instances of those classes as a instance variable. \n",
        "irrespective of inheritence in this approach all the parent class members are not inherited into child class, \n",
        "but only required methods from a class are used by using class instances.\n",
        "\"\"\"\n",
        "class Salary:\n",
        "    def __init__(self,pay):\n",
        "        self.pay = pay\n",
        "    def get_total(self):\n",
        "        return self.pay*12\n",
        "    \n",
        "class Employee:\n",
        "    def __init__(self,pay,bonus):\n",
        "        self.pay = pay\n",
        "        self.bonus = bonus\n",
        "        self.obj_salary = Salary(self.pay)\n",
        "    def annual_salary(self):\n",
        "        return f'Total Salary : {str(self.obj_salary.get_total())}'\n",
        "\n",
        "obj_emp = Employee(800,500)\n",
        "print(obj_emp.annual_salary())\n"
      ],
      "metadata": {
        "colab": {
          "base_uri": "https://localhost:8080/"
        },
        "id": "IVlo112qJeuO",
        "outputId": "bdd40ca9-9ecc-4c29-eed9-007d950f90e3"
      },
      "execution_count": 10,
      "outputs": [
        {
          "output_type": "stream",
          "name": "stdout",
          "text": [
            "Total Salary : 9600\n"
          ]
        }
      ]
    },
    {
      "cell_type": "markdown",
      "source": [
        "Q4. What are bound methods and how do we use them?"
      ],
      "metadata": {
        "id": "0HVOjkOlJeyu"
      }
    },
    {
      "cell_type": "code",
      "source": [
        "\"\"\"\n",
        " If a function is an attribute of class and it is accessed via the instances, they are called bound methods. \n",
        " A bound method is one that has self as its first argument. Since these are dependent on the instance of classes, these are also known as instance methods.\n",
        "\"\"\"\n",
        "class Test:\n",
        "    def method_one(self): # bound method\n",
        "        print(\"Called method_one\")\n",
        "    @classmethod\n",
        "    def method_two(cls): # unbound method\n",
        "        print(\"Called method_two\")\n",
        "    @staticmethod\n",
        "    def method_three(): # static method\n",
        "        print(\"Called method_three\")\n",
        "\n",
        "test = Test()\n",
        "test.method_one() # accessing through instance object\n",
        "Test.method_two() # accessing directly through class\n"
      ],
      "metadata": {
        "colab": {
          "base_uri": "https://localhost:8080/"
        },
        "id": "z56nYYyeJeyv",
        "outputId": "5a74d035-4e68-4dd8-ed69-5801c2bda4f7"
      },
      "execution_count": 11,
      "outputs": [
        {
          "output_type": "stream",
          "name": "stdout",
          "text": [
            "Called method_one\n",
            "Called method_two\n"
          ]
        }
      ]
    },
    {
      "cell_type": "markdown",
      "source": [
        "Q5. What is the purpose of pseudoprivate attributes"
      ],
      "metadata": {
        "id": "gfILRSCpJe2p"
      }
    },
    {
      "cell_type": "code",
      "source": [
        "\"\"\"\n",
        "Pseudoprivate attributes are also useful in larger frameworks or tools, both to avoid introducing new method names that might \n",
        "accidentally hide definitions elsewhere in the class tree and to reduce the chance of internal methods being replaced by names defined lower in the tree. \n",
        "If a method is intended for use only within a class that may be mixed into other classes, the double underscore prefix ensures that the method won't interfere \n",
        "with other names in the tree, especially in multiple-inheritance scenarios\n",
        "\n",
        "Pseudoprivate names also prevent subclasses from accidentally redefining the internal method's names,\n",
        "\"\"\"\n",
        "class Super:\n",
        "    def method(self): # A real application method\n",
        "        pass\n",
        "class Tool:\n",
        "    def _method(self): # becomes _Tool_method\n",
        "        pass\n",
        "    def other(self): # uses internal method\n",
        "        self._method()\n",
        "class Subl(Tool,Super):\n",
        "    def actions(self):\n",
        "        self.method()\n",
        "class Sub2(Tool):\n",
        "    def __init__(self):\n",
        "        self.method = 99\n",
        "        "
      ],
      "metadata": {
        "id": "0X05Zn4qJe2p"
      },
      "execution_count": null,
      "outputs": []
    }
  ]
}