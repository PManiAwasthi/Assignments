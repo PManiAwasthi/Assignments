{
  "nbformat": 4,
  "nbformat_minor": 0,
  "metadata": {
    "colab": {
      "provenance": []
    },
    "kernelspec": {
      "name": "python3",
      "display_name": "Python 3"
    },
    "language_info": {
      "name": "python"
    }
  },
  "cells": [
    {
      "cell_type": "markdown",
      "source": [
        "Explain the difference between greedy and non-greedy syntax with visual terms in as few words as possible. What is the bare minimum effort required to transform a greedy pattern into a non-greedy one? What characters or characters can you introduce or change?"
      ],
      "metadata": {
        "id": "rjxiNLIQ7Lxj"
      }
    },
    {
      "cell_type": "code",
      "source": [
        "\"\"\"\n",
        "The Main difference between Greedy and Non Greedy Match Syntax is The Greedy Match will try to match as many repetitions of the quantified pattern as possible \n",
        "Whereas The Non Greedy Match will try to match as few repetitions of the quantified pattern as possible\n",
        "\"\"\"\n",
        "import re\n",
        "print(re.findall(\"v*\", \"vvvvvv\")) # Greedy Match Synatx\n",
        "print(re.findall(\"v*?\", \"vvvvvv\")) # Non Greddy Syntax"
      ],
      "metadata": {
        "colab": {
          "base_uri": "https://localhost:8080/"
        },
        "id": "lfPBmnAr7L2n",
        "outputId": "08705666-213a-4875-d526-3c487d9b8af5"
      },
      "execution_count": 4,
      "outputs": [
        {
          "output_type": "stream",
          "name": "stdout",
          "text": [
            "['vvvvvv', '']\n",
            "['', 'v', '', 'v', '', 'v', '', 'v', '', 'v', '', 'v', '']\n"
          ]
        }
      ]
    },
    {
      "cell_type": "markdown",
      "source": [
        "When exactly does greedy versus non-greedy make a difference? What if you're looking for a non-greedy match but the only one available is greedy?\n"
      ],
      "metadata": {
        "id": "RZP35U0b7P1W"
      }
    },
    {
      "cell_type": "code",
      "source": [
        "\"\"\"\n",
        "The Greedy Match will try to match as many repetitions of the quantified pattern as possible. The Non Greedy Match will try to match as few repetitions of the \n",
        "quantified pattern as possible. If only Non Greedy Match is available, we can use other filtering or pattern matching methods of regex and further identify the required pattern.\n",
        "\"\"\""
      ],
      "metadata": {
        "id": "T1ISJeCV7P1X"
      },
      "execution_count": null,
      "outputs": []
    },
    {
      "cell_type": "markdown",
      "source": [
        "In a simple match of a string, which looks only for one match and does not do any replacement, is the use of a nontagged group likely to make any practical difference?"
      ],
      "metadata": {
        "id": "2DU3bEr57P4Z"
      }
    },
    {
      "cell_type": "code",
      "source": [
        "\"\"\"\n",
        "There won't be any difference in this case\n",
        "\"\"\"\n",
        "import re\n",
        "phoneNumRegex = re.compile(r'\\d\\d\\d')\n",
        "num = phoneNumRegex.search('My number is 234-567-8901.')\n",
        "print(f'Phone number found -> {num.group()}') # Non Tagged group\n",
        "print(f'Phone number found -> {num.group(0)}') # Tagged Group"
      ],
      "metadata": {
        "colab": {
          "base_uri": "https://localhost:8080/"
        },
        "id": "E_PxBxDu7P4a",
        "outputId": "73cb4f59-0ea3-4855-d77e-83c1a9e0ded2"
      },
      "execution_count": 5,
      "outputs": [
        {
          "output_type": "stream",
          "name": "stdout",
          "text": [
            "Phone number found -> 234\n",
            "Phone number found -> 234\n"
          ]
        }
      ]
    },
    {
      "cell_type": "markdown",
      "source": [
        "Describe a scenario in which using a nontagged category would have a significant impact on the program's outcomes ?"
      ],
      "metadata": {
        "id": "pfsMNGji7P7I"
      }
    },
    {
      "cell_type": "code",
      "source": [
        "\"\"\"\n",
        "It will useful in scenarios where the separator of value in a string is of no use and we need to capture only the values.\n",
        "\"\"\"\n",
        "import re\n",
        "text='135.456'\n",
        "pattern=r'(\\d+)(?:.)(\\d+)'\n",
        "regobj=re.compile(pattern)\n",
        "matobj=regobj.search(text)\n",
        "matobj.groups()"
      ],
      "metadata": {
        "colab": {
          "base_uri": "https://localhost:8080/"
        },
        "id": "KduuzqIN7P7J",
        "outputId": "9f92752d-34cf-4337-9920-d16fcf921de5"
      },
      "execution_count": 6,
      "outputs": [
        {
          "output_type": "execute_result",
          "data": {
            "text/plain": [
              "('135', '456')"
            ]
          },
          "metadata": {},
          "execution_count": 6
        }
      ]
    },
    {
      "cell_type": "markdown",
      "source": [
        "Unlike a normal regex pattern, a look-ahead condition does not consume the characters it examines. Describe a situation in which this could make a difference in the results of your programme ?"
      ],
      "metadata": {
        "id": "K54mRo2D7P-q"
      }
    },
    {
      "cell_type": "code",
      "source": [
        "\"\"\"\n",
        "While counting the number of multiple lines or mutiple sentence in a string the positive look ahead makes a difference, without which we wont \n",
        "get the correct count of lines or sentences in a string.\n",
        "\"\"\""
      ],
      "metadata": {
        "id": "AcwGCmg77P-r"
      },
      "execution_count": null,
      "outputs": []
    },
    {
      "cell_type": "markdown",
      "source": [
        "In standard expressions, what is the difference between positive look-ahead and negative look-ahead ?"
      ],
      "metadata": {
        "id": "8z436Yxd7QBt"
      }
    },
    {
      "cell_type": "code",
      "source": [
        "\"\"\"\n",
        "Positive Lookahead allows to add a condition for what follows. Negative Lookahead is similar, but it looks behind. That is, it allows to match a pattern only if \n",
        "there’s something before it.\n",
        "\"\"\""
      ],
      "metadata": {
        "id": "lANJScyl7QBv"
      },
      "execution_count": null,
      "outputs": []
    },
    {
      "cell_type": "markdown",
      "source": [
        "What is the benefit of referring to groups by name rather than by number in a standard expression?"
      ],
      "metadata": {
        "id": "4DR25rVQ7QFH"
      }
    },
    {
      "cell_type": "code",
      "source": [
        "\"\"\"\n",
        "Referring to groups by name rather than by number in a standard expression helps to keep the code clear and easy to understand.\n",
        "\"\"\""
      ],
      "metadata": {
        "id": "2X7FjvNs7QFI"
      },
      "execution_count": null,
      "outputs": []
    },
    {
      "cell_type": "markdown",
      "source": [
        "Can you identify repeated items within a target string using named groups, as in \"The cow jumped over the moon\"?"
      ],
      "metadata": {
        "id": "8cL-4aqE7QIa"
      }
    },
    {
      "cell_type": "code",
      "source": [
        "import re\n",
        "text = \"The cow jumped over the moon\"\n",
        "regobj=re.compile(r'(The)',re.I)\n",
        "regobj.findall(text)\n"
      ],
      "metadata": {
        "colab": {
          "base_uri": "https://localhost:8080/"
        },
        "id": "lM_H5R5u7QIc",
        "outputId": "e0c56ecd-a009-4f69-877d-3f2946d5540f"
      },
      "execution_count": 10,
      "outputs": [
        {
          "output_type": "execute_result",
          "data": {
            "text/plain": [
              "['The', 'the']"
            ]
          },
          "metadata": {},
          "execution_count": 10
        }
      ]
    },
    {
      "cell_type": "markdown",
      "source": [
        "When parsing a string, what is at least one thing that the Scanner interface does for you that the re.findall feature does not ?"
      ],
      "metadata": {
        "id": "9KJEKW2H7QLb"
      }
    },
    {
      "cell_type": "code",
      "source": [
        "\"\"\"\n",
        "re.findall() module is used to search for all occurrences that match a given pattern. In contrast, re.search() will only return the first occurrence that matches \n",
        "the specified pattern. re.findall() will iterate over all the lines of the file and will return all non-overlapping matches of pattern in a single step.\n",
        "\"\"\""
      ],
      "metadata": {
        "id": "H0dgcHUZ7QLc"
      },
      "execution_count": null,
      "outputs": []
    },
    {
      "cell_type": "markdown",
      "source": [
        "Does a scanner object have to be named scanner?"
      ],
      "metadata": {
        "id": "bk3KavL77QOv"
      }
    },
    {
      "cell_type": "code",
      "source": [
        "\"\"\"\n",
        "Does a scanner object have to be named scanner?\n",
        "\"\"\""
      ],
      "metadata": {
        "id": "KKhhQasr7QOv"
      },
      "execution_count": null,
      "outputs": []
    }
  ]
}