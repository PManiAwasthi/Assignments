{
  "nbformat": 4,
  "nbformat_minor": 0,
  "metadata": {
    "colab": {
      "provenance": []
    },
    "kernelspec": {
      "name": "python3",
      "display_name": "Python 3"
    },
    "language_info": {
      "name": "python"
    }
  },
  "cells": [
    {
      "cell_type": "markdown",
      "source": [
        "Q1. Which two operator overloading methods can you use in your classes to support iteration?"
      ],
      "metadata": {
        "id": "M0ib_qi_Ej9k"
      }
    },
    {
      "cell_type": "code",
      "source": [
        "\"\"\"\"\"\n",
        "__iter__ and __next__ are the operator overloading methods in python that support iteration and are collectively called iterator protocol.\n",
        "\n",
        "__iter__ returns the iterator object and is called at the start of loop in our respective class.\n",
        "__next__ is called at each loop increment, it returns the incremented value. Also Stopiteration is raised when there is no value to return.\n",
        "\"\"\"\n",
        "class Counter:\n",
        "    def __init__(self,low,high):\n",
        "        self.current = low\n",
        "        self.high = high\n",
        "    def __iter__(self):\n",
        "        return self\n",
        "    def __next__(self):\n",
        "        if self.current > self.high:\n",
        "            raise StopIteration\n",
        "        else:\n",
        "            self.current += 1\n",
        "            return self.current - 1\n",
        "for ele in Counter(5,15):\n",
        "    print(ele, end=\" \")"
      ],
      "metadata": {
        "colab": {
          "base_uri": "https://localhost:8080/"
        },
        "id": "uxn6BmVQEhQT",
        "outputId": "1d40d3cc-e98d-48bf-c381-503dca0d06e7"
      },
      "execution_count": 5,
      "outputs": [
        {
          "output_type": "stream",
          "name": "stdout",
          "text": [
            "5 6 7 8 9 10 11 12 13 14 15 "
          ]
        }
      ]
    },
    {
      "cell_type": "markdown",
      "source": [
        "Q2. In what contexts do the two operator overloading methods manage printing?"
      ],
      "metadata": {
        "id": "Q9dSIDpUEilR"
      }
    },
    {
      "cell_type": "code",
      "source": [
        "\"\"\"\n",
        "for manage printing we have 2 operator overloading methods these are __str__ and __repo__ where the __str__ are for readability as it prints the informal string \n",
        "representation of an object and the __repo__ is used to print the official string representation of an object, including its all information and devolopement\n",
        "\"\"\"\n",
        "class Student:\n",
        "    def __init__(self,name,roll_no):\n",
        "        self.name = name\n",
        "        self.roll_no = roll_no\n",
        "        \n",
        "s1 = Student(\"Mano\",1)\n",
        "print(str(s1))\n",
        "\n",
        "class Student:\n",
        "    def __init__(self,name,roll_no):\n",
        "        self.name = name\n",
        "        self.roll_no = roll_no\n",
        "    def __str__(self):\n",
        "        return f'Student Name: {self.name} and Roll No: {self.roll_no}'\n",
        "    \n",
        "s1 = Student(\"Mano\",1)\n",
        "print(str(s1))\n"
      ],
      "metadata": {
        "colab": {
          "base_uri": "https://localhost:8080/"
        },
        "id": "IUGvHqK0EilR",
        "outputId": "a877d9a6-e782-4417-c46d-471e3ffc2fbe"
      },
      "execution_count": 4,
      "outputs": [
        {
          "output_type": "stream",
          "name": "stdout",
          "text": [
            "<__main__.Student object at 0x7f025a4e4c40>\n",
            "Student Name: Mano and Roll No: 1\n"
          ]
        }
      ]
    },
    {
      "cell_type": "markdown",
      "source": [
        "Q3. In a class, how do you intercept slice operations?"
      ],
      "metadata": {
        "id": "QnELF2NFEiqg"
      }
    },
    {
      "cell_type": "code",
      "source": [
        "\"\"\"\n",
        "In a class use of slice() in __getitem__ method is used for intercept slice operation. This method is provided with start interger number, stop interger number and step integer \n",
        "number.\n",
        "like ___getitem__(slice(start, stop, step))\n",
        "\"\"\""
      ],
      "metadata": {
        "id": "YlHFHgAXEiqh"
      },
      "execution_count": null,
      "outputs": []
    },
    {
      "cell_type": "markdown",
      "source": [
        "Q4. In a class, how do you capture in-place addition?"
      ],
      "metadata": {
        "id": "eQeegH_HEivu"
      }
    },
    {
      "cell_type": "code",
      "source": [
        "\"\"\"\n",
        "a+b is normal addition. Whereas a+=b is inplace addition operation. \n",
        "In this in-place addition \"a\" itself will store the value of addition. \n",
        "In a class __iadd__ method is used for this in-place operation\n",
        "\"\"\"\n",
        "class Book:\n",
        "    def __init__(self,pages):\n",
        "        self.pages = pages\n",
        "    def __iadd__(self,other):\n",
        "        self.pages += other.pages\n",
        "        return self.pages\n",
        "        \n",
        "b1 = Book(100)\n",
        "b2 = Book(200)\n",
        "b1+=b2\n",
        "print(b1)"
      ],
      "metadata": {
        "colab": {
          "base_uri": "https://localhost:8080/"
        },
        "id": "Q39X7_U3Eivv",
        "outputId": "bf3ca4b8-b207-4311-cfb5-c607fc161f53"
      },
      "execution_count": 6,
      "outputs": [
        {
          "output_type": "stream",
          "name": "stdout",
          "text": [
            "300\n"
          ]
        }
      ]
    },
    {
      "cell_type": "markdown",
      "source": [
        "Q5. When is it appropriate to use operator overloading?"
      ],
      "metadata": {
        "id": "-79Far7kEi0g"
      }
    },
    {
      "cell_type": "code",
      "source": [
        "\"\"\"\n",
        "Operator overloading is used when we want to use an operator other than its normal operation to \n",
        "have different meaning according to the context required in user defined function.\n",
        "\"\"\""
      ],
      "metadata": {
        "id": "zJ4vKcIQEi0g"
      },
      "execution_count": null,
      "outputs": []
    },
    {
      "cell_type": "code",
      "source": [],
      "metadata": {
        "id": "6jkNyIjNJIKi"
      },
      "execution_count": null,
      "outputs": []
    }
  ]
}