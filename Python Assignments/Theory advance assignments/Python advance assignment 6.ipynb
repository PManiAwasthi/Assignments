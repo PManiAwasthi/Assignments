{
  "nbformat": 4,
  "nbformat_minor": 0,
  "metadata": {
    "colab": {
      "provenance": []
    },
    "kernelspec": {
      "name": "python3",
      "display_name": "Python 3"
    },
    "language_info": {
      "name": "python"
    }
  },
  "cells": [
    {
      "cell_type": "markdown",
      "source": [
        "Describe three applications for exception processing."
      ],
      "metadata": {
        "id": "IBOzdojyLoWt"
      }
    },
    {
      "cell_type": "code",
      "source": [
        "\"\"\"\n",
        "Exception Processing is important to find exceptions that causes the runtime error. As runtime errors Halt the program execution when exception occurs.\n",
        "\n",
        "Exception Processing is used in Various Applications of which few examples are:\n",
        "\n",
        "-Checking Appropriate use of input in an application\n",
        "-Checking for Arithmetic exceptions in mathematical executions\n",
        "-Checking File I/O exceptions during File handling\n",
        "\"\"\""
      ],
      "metadata": {
        "id": "FgxwmQc-Lob1"
      },
      "execution_count": null,
      "outputs": []
    },
    {
      "cell_type": "markdown",
      "source": [
        "What happens if you don't do something extra to treat an exception?"
      ],
      "metadata": {
        "id": "kSvMTTG5LpVe"
      }
    },
    {
      "cell_type": "code",
      "source": [
        "\"\"\"\n",
        "If Exceptions are not handled flow of program will be broken during the run time which might lead to a abnormal termination of the program. \n",
        "Inshort inability of program to handle exceptions will result in crashing of program.\n",
        "\"\"\""
      ],
      "metadata": {
        "id": "6nWc_ablLpVe"
      },
      "execution_count": null,
      "outputs": []
    },
    {
      "cell_type": "markdown",
      "source": [
        "What are your options for recovering from an exception in your script?"
      ],
      "metadata": {
        "id": "IcLh1lpCLpay"
      }
    },
    {
      "cell_type": "code",
      "source": [
        "\"\"\"\n",
        "Python provided the provision of try except block similar to try catch block in c++ and java which allow us to handle/recover from unexpected exceptions during the \n",
        "runtime of the program.\n",
        "\"\"\""
      ],
      "metadata": {
        "id": "sFkCnp-YLpay"
      },
      "execution_count": null,
      "outputs": []
    },
    {
      "cell_type": "markdown",
      "source": [
        "Describe two methods for triggering exceptions in your script ?"
      ],
      "metadata": {
        "id": "wPXWhxmWLpew"
      }
    },
    {
      "cell_type": "code",
      "source": [
        "\"\"\"\n",
        "We can use the assert and raise keywords for this purpose, assert is so that we put a condition which on being flase raise a exception,\n",
        "as for raise we put the exception we want to raise after the raise keyword and place it where ever the respective exceptions might occur.\n",
        "\"\"\""
      ],
      "metadata": {
        "id": "LFNyIOLILpex"
      },
      "execution_count": null,
      "outputs": []
    },
    {
      "cell_type": "markdown",
      "source": [
        "Identify two methods for specifying actions to be executed at termination time, regardless of whether or not an exception exists."
      ],
      "metadata": {
        "id": "qCy8M0ncLphz"
      }
    },
    {
      "cell_type": "code",
      "source": [
        "\"\"\"\n",
        "in python we have an else and finally block were we can specify the action to be executed regardless of exception as the termination line.\n",
        "\"\"\""
      ],
      "metadata": {
        "id": "h7nxy8PWM7oP"
      },
      "execution_count": null,
      "outputs": []
    }
  ]
}