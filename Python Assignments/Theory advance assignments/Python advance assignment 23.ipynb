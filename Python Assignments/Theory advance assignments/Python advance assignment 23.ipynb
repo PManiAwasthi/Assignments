{
  "nbformat": 4,
  "nbformat_minor": 0,
  "metadata": {
    "colab": {
      "provenance": []
    },
    "kernelspec": {
      "name": "python3",
      "display_name": "Python 3"
    },
    "language_info": {
      "name": "python"
    }
  },
  "cells": [
    {
      "cell_type": "markdown",
      "source": [
        "If you have any, what are your choices for increasing the comparison between different figures on the same graph?"
      ],
      "metadata": {
        "id": "09QskjJBHper"
      }
    },
    {
      "cell_type": "code",
      "source": [
        "\"\"\"\n",
        "Matplotlib provides a convenient method called subplots for increasing the comparison between different figures on the same graph. \n",
        "Subplots mean a group of smaller axes (where each axis is a plot) that can exist together within a single figure\n",
        "\"\"\""
      ],
      "metadata": {
        "id": "cli7cnbnHpil"
      },
      "execution_count": null,
      "outputs": []
    },
    {
      "cell_type": "markdown",
      "source": [
        "Can you explain the benefit of compound interest over a higher rate of interest that does not compound after reading this chapter?"
      ],
      "metadata": {
        "id": "_rTqg_deHqbZ"
      }
    },
    {
      "cell_type": "code",
      "source": [
        "\"\"\"\n",
        "Compound interest makes a sum of money grow at a faster rate than simple interest,because in addition to earning returns on the money you invest, \n",
        "you also earn returns on those returns at the end of every compounding period, which could be daily, monthly, quarterly or annually.\n",
        "\"\"\""
      ],
      "metadata": {
        "id": "Uf8b896UHqba"
      },
      "execution_count": null,
      "outputs": []
    },
    {
      "cell_type": "markdown",
      "source": [
        "What is a histogram, exactly? Name a numpy method for creating such a graph ?"
      ],
      "metadata": {
        "id": "ydnzGzd0HqiI"
      }
    },
    {
      "cell_type": "code",
      "source": [
        "\"\"\"\n",
        "Histogram shows total values of X wrt Y. Which means at any particular position of X, Y value shows the total number of counts or data below that value of X. \n",
        "numpy.histogram() is the built in function used.\n",
        "\"\"\""
      ],
      "metadata": {
        "id": "ZxZTbLPNHqiJ"
      },
      "execution_count": null,
      "outputs": []
    },
    {
      "cell_type": "markdown",
      "source": [
        " If necessary, how do you change the aspect ratios between the X and Y axes ?"
      ],
      "metadata": {
        "id": "7u0-ttszHqmz"
      }
    },
    {
      "cell_type": "code",
      "source": [
        "\"\"\"\n",
        "We can use figure(figsize=(10,8)) function inside the matplot.pyplot library which we scale down or up the graph.\n",
        "\"\"\""
      ],
      "metadata": {
        "id": "Z3ldSR8iHqm0"
      },
      "execution_count": null,
      "outputs": []
    },
    {
      "cell_type": "markdown",
      "source": [
        "Compare and contrast the three types of array multiplication between two numpy arrays: dot product, outer product, and regular multiplication of two numpy arrays ?"
      ],
      "metadata": {
        "id": "f2Oow609Hqqu"
      }
    },
    {
      "cell_type": "code",
      "source": [
        "\"\"\"\n",
        "In regular multiplication values of same index get multiplied.\n",
        "\n",
        "In dot product there is row wise multiplication, row of one array with column of second array and so on.\n",
        "\n",
        "In outer multiplication every element of first array a1 will be multiply by every element of other array a2 \n",
        "such such the number of columns will be equal to the number of element in another array a2.\n",
        "\"\"\""
      ],
      "metadata": {
        "id": "sHVIF7fQHqqu"
      },
      "execution_count": null,
      "outputs": []
    },
    {
      "cell_type": "markdown",
      "source": [
        "Before you buy a home, which numpy function will you use to measure your monthly mortgage payment ?"
      ],
      "metadata": {
        "id": "Xx5ycU41HqvU"
      }
    },
    {
      "cell_type": "code",
      "source": [
        "\"\"\"\n",
        "np.pmt(rate, nper, pv) function we will be using in order to calculate monthly mortgage payment before you purchase a house. Here the parameters are\n",
        "\n",
        "rate: the periodic interest\n",
        "nper: the number or payment periods\n",
        "pv: the total value of the mortgage loan\n",
        "\"\"\""
      ],
      "metadata": {
        "id": "YEIOAFwbHqvU"
      },
      "execution_count": null,
      "outputs": []
    },
    {
      "cell_type": "markdown",
      "source": [
        "Can string data be stored in numpy arrays? If so, list at least one restriction that applies to this data ?"
      ],
      "metadata": {
        "id": "Sr6KnwICHqz1"
      }
    },
    {
      "cell_type": "code",
      "source": [
        "\"\"\"\n",
        "Yes, an array can store the string. The limitation which imposed on the string data is, whenever we store the data of string dtype then it should \n",
        "should keep in mind that the string which is having the maximum length is the limit.\n",
        "\"\"\""
      ],
      "metadata": {
        "id": "noNQEdfPHqz1"
      },
      "execution_count": null,
      "outputs": []
    }
  ]
}