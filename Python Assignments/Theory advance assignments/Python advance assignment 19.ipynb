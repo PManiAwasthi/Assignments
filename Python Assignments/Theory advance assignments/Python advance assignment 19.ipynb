{
  "nbformat": 4,
  "nbformat_minor": 0,
  "metadata": {
    "colab": {
      "provenance": []
    },
    "kernelspec": {
      "name": "python3",
      "display_name": "Python 3"
    },
    "language_info": {
      "name": "python"
    }
  },
  "cells": [
    {
      "cell_type": "markdown",
      "source": [
        "Define the relationship between a class and its instances. Is it a one-to-one or a one-to-many partnership, for example?"
      ],
      "metadata": {
        "id": "ZunJAgxe-g05"
      }
    },
    {
      "cell_type": "code",
      "source": [
        "\"\"\"\n",
        "It is a one to many relationship as one class can have multiple objects but not vice versa.\n",
        "\"\"\""
      ],
      "metadata": {
        "id": "w6hDJ0i0-g4e"
      },
      "execution_count": null,
      "outputs": []
    },
    {
      "cell_type": "markdown",
      "source": [
        "What kind of data is held only in an instance?"
      ],
      "metadata": {
        "id": "y9v9-GKU-lC_"
      }
    },
    {
      "cell_type": "code",
      "source": [
        "\"\"\"\n",
        "Instance objects hold the values of the instance variable present in them, and only the value of assigned to the specific instance variable of the object can be seen using \n",
        "the specific object only.\n",
        "\"\"\""
      ],
      "metadata": {
        "id": "6mA-0Uhe-lC_"
      },
      "execution_count": null,
      "outputs": []
    },
    {
      "cell_type": "markdown",
      "source": [
        "What kind of knowledge is stored in a class?"
      ],
      "metadata": {
        "id": "VpJ-7PDo-lFh"
      }
    },
    {
      "cell_type": "code",
      "source": [
        "\"\"\"\n",
        "Classes gives the blueprint or structure to an entity/object, it contains data members and functions, can be accessed using the instance of that class.\n",
        "\"\"\""
      ],
      "metadata": {
        "id": "W5UbYtVe-lFh"
      },
      "execution_count": null,
      "outputs": []
    },
    {
      "cell_type": "markdown",
      "source": [
        "What exactly is a method, and how is it different from a regular function?"
      ],
      "metadata": {
        "id": "yrXDY1W--lIg"
      }
    },
    {
      "cell_type": "code",
      "source": [
        "\"\"\"\n",
        "the difference is that methods are members of a class so can only be accessed through the class either by its object or by class name. Where as regular functions are called \n",
        "directly using their names.\n",
        "\"\"\""
      ],
      "metadata": {
        "id": "u85OahuS-lIg"
      },
      "execution_count": null,
      "outputs": []
    },
    {
      "cell_type": "markdown",
      "source": [
        "Is inheritance supported in Python, and if so, what is the syntax?"
      ],
      "metadata": {
        "id": "oLMqJQdJ-lLO"
      }
    },
    {
      "cell_type": "code",
      "source": [
        "\"\"\"\n",
        "Yes,Python supports inheritance. The Types of Inheritence Supported by Python are:\n",
        "\n",
        "Simple Inheritence\n",
        "Multiple Inheritence\n",
        "Multilevel lInheritence\n",
        "Hybrid Inheritence\n",
        "Hierracial Inheritence\n",
        "\"\"\""
      ],
      "metadata": {
        "id": "Hhfae0kg-lLO"
      },
      "execution_count": null,
      "outputs": []
    },
    {
      "cell_type": "markdown",
      "source": [
        "How much encapsulation (making instance or class variables private) does Python support?"
      ],
      "metadata": {
        "id": "BskT-ftU-lOE"
      }
    },
    {
      "cell_type": "code",
      "source": [
        "\"\"\"\n",
        "It does allow creation of classes and modules but it does not allow strong encapsulation meaning not everything can be private data member can be private and not all methods \n",
        "can be public.\n",
        "\"\"\""
      ],
      "metadata": {
        "id": "sWQxBYwZ-lOE"
      },
      "execution_count": null,
      "outputs": []
    },
    {
      "cell_type": "markdown",
      "source": [
        "How do you distinguish between a class variable and an instance variable?"
      ],
      "metadata": {
        "id": "e3JLBJ9n-lRW"
      }
    },
    {
      "cell_type": "code",
      "source": [
        "\"\"\"\n",
        "The Class Attribute is available to all the instance objects of that class. whereas Instance Attributes are accessible only to the object or Instance of that class.\n",
        "\n",
        "A single copy of Class attributes is maintained by pvm at the class level. Whereas difference copies of instance attributes are maintained by pvm at objects/instance level.\n",
        "\n",
        "\"\"\""
      ],
      "metadata": {
        "id": "257sPBtp-lRW"
      },
      "execution_count": null,
      "outputs": []
    },
    {
      "cell_type": "markdown",
      "source": [
        "When, if ever, can self be included in a class's method definitions?"
      ],
      "metadata": {
        "id": "NzxEYQrf-lUH"
      }
    },
    {
      "cell_type": "code",
      "source": [
        "\"\"\"\n",
        "Yes, self can included in class method definations to access the instance variables inside class methods.\n",
        "\"\"\""
      ],
      "metadata": {
        "id": "IO8yI2WC-lUH"
      },
      "execution_count": null,
      "outputs": []
    },
    {
      "cell_type": "markdown",
      "source": [
        "What is the difference between the __add__ and the __radd__ methods ?"
      ],
      "metadata": {
        "id": "e7g-utvM-lXE"
      }
    },
    {
      "cell_type": "code",
      "source": [
        "\"\"\"\n",
        "Python __add__() function is one of the magic methods in Python that returns a new object(third) i.e. the addition of the other two objects. \n",
        "It implements the addition operator “+” in Python.\n",
        "\n",
        "The Python __radd__() method implements the reverse addition operation that is addition with reflected, swapped operands. So, when you call x + y , \n",
        "Python attempts to call x. __add__(y) .\n",
        "\"\"\""
      ],
      "metadata": {
        "id": "jFSmtSaT-lXF"
      },
      "execution_count": null,
      "outputs": []
    },
    {
      "cell_type": "markdown",
      "source": [
        "When is it necessary to use a reflection method? When do you not need it, even though you support the operation in question?"
      ],
      "metadata": {
        "id": "YpcgNCV_-lac"
      }
    },
    {
      "cell_type": "code",
      "source": [
        "\"\"\"\n",
        "Reflection method we often encounter the requirement that a method in the executing object, or a variable in the calling object, or a field of the object should be assigned, \n",
        "while the method name or field name can not be determined when encoding the code, and need to be input in the form of passing strings through parameters.\n",
        "\"\"\""
      ],
      "metadata": {
        "id": "iy9rvcRL-lac"
      },
      "execution_count": null,
      "outputs": []
    },
    {
      "cell_type": "markdown",
      "source": [
        "What is the __iadd__ method called?"
      ],
      "metadata": {
        "id": "q9nRVC7B-ldL"
      }
    },
    {
      "cell_type": "code",
      "source": [
        "\"\"\"\n",
        "__iadd__ method is called when we use implementation like a+=b which is a.__iadd__(b)\n",
        "\"\"\""
      ],
      "metadata": {
        "id": "DXj3-FCH-ldM"
      },
      "execution_count": null,
      "outputs": []
    },
    {
      "cell_type": "markdown",
      "source": [
        " Is the _ _init_ _ method inherited by subclasses? What do you do if you need to customize its behavior within a subclass ?"
      ],
      "metadata": {
        "id": "QPvjTUhV-lgL"
      }
    },
    {
      "cell_type": "code",
      "source": [
        "\"\"\"\n",
        "Yes, __init__ method will be inherited by subclasses. if we want to customize its behaviour within a subclass we can use super() method.\n",
        "\"\"\""
      ],
      "metadata": {
        "id": "xllaTA6B-lgM"
      },
      "execution_count": null,
      "outputs": []
    },
    {
      "cell_type": "code",
      "source": [],
      "metadata": {
        "id": "XybjXax_B13Q"
      },
      "execution_count": null,
      "outputs": []
    }
  ]
}