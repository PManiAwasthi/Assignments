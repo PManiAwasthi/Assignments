{
  "nbformat": 4,
  "nbformat_minor": 0,
  "metadata": {
    "colab": {
      "provenance": []
    },
    "kernelspec": {
      "name": "python3",
      "display_name": "Python 3"
    },
    "language_info": {
      "name": "python"
    }
  },
  "cells": [
    {
      "cell_type": "markdown",
      "source": [
        "What is the concept of a metaclass?"
      ],
      "metadata": {
        "id": "MrOENaD-ZaLZ"
      }
    },
    {
      "cell_type": "code",
      "source": [
        "\"\"\"\n",
        "It is a class of a class that defines how a class behaves. As a class is itself an instance of Metaclass, and any instance of a class in python is an instance of type \n",
        "metaclass like for example int, str, float, and many more are of metaclass type.\n",
        "\"\"\""
      ],
      "metadata": {
        "id": "XPeRtKrZZaPi"
      },
      "execution_count": null,
      "outputs": []
    },
    {
      "cell_type": "markdown",
      "source": [
        "What is the best way to declare a class's metaclass?"
      ],
      "metadata": {
        "id": "S9grH1_7ZdhI"
      }
    },
    {
      "cell_type": "code",
      "source": [
        "\"\"\"\n",
        "To declare a metaclass we use the keyword \"metaclass\" in the class definition\n",
        "\"\"\"\n",
        "class meta(type):\n",
        "  pass\n",
        "class class_meta(metaclass=meta):\n",
        "  pass\n",
        "print(type(meta))\n",
        "print(type(class_meta))"
      ],
      "metadata": {
        "colab": {
          "base_uri": "https://localhost:8080/"
        },
        "id": "UMCe0N4VZdhI",
        "outputId": "5070b22e-9403-42e3-facb-9d95e05d5744"
      },
      "execution_count": 8,
      "outputs": [
        {
          "output_type": "stream",
          "name": "stdout",
          "text": [
            "<class 'type'>\n",
            "<class '__main__.meta'>\n"
          ]
        }
      ]
    },
    {
      "cell_type": "markdown",
      "source": [
        "How do class decorators overlap with metaclasses for handling classes ?"
      ],
      "metadata": {
        "id": "dYNQVw_bZdmb"
      }
    },
    {
      "cell_type": "code",
      "source": [
        "\"\"\"\n",
        "Decorators are much, much simpler and more limited -- and therefore should be preferred whenever the desired effect can be achieved with either a metaclass or a class decorator.\n",
        "\n",
        "Anything you can do with a class decorator, you can of course do with a custom metaclass (just apply the functionality of the \"decorator function\", i.e., \n",
        "the one that takes a class object and modifies it, in the course of the metaclass's __new__ or __init__ that make the class object!-)\n",
        "\"\"\""
      ],
      "metadata": {
        "id": "e2I-iQDmZdmb"
      },
      "execution_count": null,
      "outputs": []
    },
    {
      "cell_type": "markdown",
      "source": [
        "How do class decorators overlap with metaclasses for handling instances?"
      ],
      "metadata": {
        "id": "5gPrCzuJZdym"
      }
    },
    {
      "cell_type": "code",
      "source": [
        "\"\"\"\n",
        "Anything you can do with a class decorator, you can of course do with a custom metaclass (just apply the functionality of the \"decorator function\", i.e., \n",
        "the one that takes a class object and modifies it, in the course of the metaclass's __new__ or __init__ that make the class object!).\n",
        "\"\"\""
      ],
      "metadata": {
        "id": "VTX8z8VbZdym"
      },
      "execution_count": null,
      "outputs": []
    }
  ]
}