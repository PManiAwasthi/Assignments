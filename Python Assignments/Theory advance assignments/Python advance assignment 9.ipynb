{
  "nbformat": 4,
  "nbformat_minor": 0,
  "metadata": {
    "colab": {
      "provenance": []
    },
    "kernelspec": {
      "name": "python3",
      "display_name": "Python 3"
    },
    "language_info": {
      "name": "python"
    }
  },
  "cells": [
    {
      "cell_type": "markdown",
      "source": [
        "In Python 3.X, what are the names and functions of string object types?"
      ],
      "metadata": {
        "id": "SIJySlqeSwzT"
      }
    },
    {
      "cell_type": "code",
      "source": [
        "\"\"\"\n",
        ".isdecimal() -> Returns True if all characters in a string are decimal.\n",
        "\n",
        ".isalnum() -> Returns True if all characters in the string are AlphaNumeric.\n",
        "\n",
        ".istitle() -> Returns True if first character in a string is in Uppercase.\n",
        "\n",
        ".partition() -> Splits string at first occurance of sub string and returns a tuple of 3 elements.\n",
        "\n",
        ".rpartition() -> Splits string at last occurance of sub string and returns a tuple of 3 elements.\n",
        "\n",
        ".isidentifier() -> Returns True if give string is a valid identifier name.\n",
        "\n",
        "len() -> Returns the length of the given string.\n",
        "\n",
        ".index() -> Returns the lowest index of substring if substring is found in the string.\n",
        "\n",
        ".rindex() -> Returns the highest index of substring if substring is found in the string.\n",
        "\n",
        "max() -> Returns the highest Alphabetical Character in the string as per ASCII.\n",
        "\n",
        "min() -> Returns the lowest Alphabetical Character in the string as per ASCII.\n",
        "\n",
        ".splitlines() -> Returns a list of lines in the string.\n",
        "\n",
        ".capitalize() -> Returns the string with first character capitalized.\n",
        "\n",
        ".upper() -> Returns the string with all characters in uppercase.\n",
        "\n",
        ".lower() -> Returns the string with all characters in lowercase\n",
        "\n",
        ".casefold() -> Returns the string in lowercase which can be used for caseless comparisions.\n",
        "\n",
        ".expandtabs(no_of_spaces) -> Replaces tabs in a string with specified no of spaces default is 8\n",
        "\n",
        ".find() -> Returns lowest index of substring if substring is found in the string else returns -1.\n",
        "\n",
        ".rfind() -> Returns highest index of substring if substring is found in the string else returns -1.\n",
        "\n",
        ".count() -> Returns the no of occurances of the char in the given string.\n",
        "\n",
        ".split() -> Returns list of words seperated by given sep else seperated by whitespace.\n",
        "\n",
        ".rsplit() -> Returns list of words seperated by given sep else seperated by whitespace scanning from end.\n",
        "\n",
        ".lstrip() -> Returns a copy of where leading whitespaces are removed.\n",
        "\n",
        ".rstrip() -> Returns a copy of where trailed whitespaces are removed.\n",
        "\n",
        ".strip() -> Returns a copy of where both leading and trailing whitespaces are removed.\n",
        "\n",
        ".swapcase() -> Swaps lowercase characters with uppercase and vice versa.\n",
        "\n",
        ".join() -> Concatenates a list or tuple of words with intervening occuernces of sep.\n",
        "\n",
        ".translate() -> translates the characters using table.\n",
        "\n",
        ".maketrans() -> Creating a mapping translation tbale usable for .translate()\n",
        "\n",
        ".replace(,) -> Replace all occurances of char_1 with char_2 in string.\n",
        "\n",
        ".encode() -> Encodes string into any encoding supported by python. Default encoding is UTF-8.\n",
        "\n",
        ".ljust() -> Left-justify in a field of given width.\n",
        "\n",
        ".rjust() -> Right-justify in a field of given width.\n",
        "\n",
        ".center() -> Center-justify in a field of given width.\n",
        "\n",
        ".zfill() -> Zfill adds zeros to the begining of string until the specified length is reached.\n",
        "\"\"\""
      ],
      "metadata": {
        "id": "PN6a1wZdSw4M"
      },
      "execution_count": null,
      "outputs": []
    },
    {
      "cell_type": "markdown",
      "source": [
        "How do the string forms in Python 3.X vary in terms of operations?"
      ],
      "metadata": {
        "id": "w5-UujwKSxkC"
      }
    },
    {
      "cell_type": "code",
      "source": [
        "\"\"\"\n",
        "In previous version (2.X) we needed to specify the unicode for the string using u, but in 3.X the default format is already set to Unicode.\n",
        "\"\"\""
      ],
      "metadata": {
        "id": "VdqnOvlJSxkD"
      },
      "execution_count": null,
      "outputs": []
    },
    {
      "cell_type": "markdown",
      "source": [
        "In Python 3.X, how do you put non-ASCII Unicode characters in a string?"
      ],
      "metadata": {
        "id": "GC1Qc48USxnO"
      }
    },
    {
      "cell_type": "code",
      "source": [
        "!pip install Unidecode"
      ],
      "metadata": {
        "colab": {
          "base_uri": "https://localhost:8080/"
        },
        "id": "6OzcKU_7UTu9",
        "outputId": "1281b6e0-ed05-44ae-9abd-f788d6cd14b1"
      },
      "execution_count": 6,
      "outputs": [
        {
          "output_type": "stream",
          "name": "stdout",
          "text": [
            "Looking in indexes: https://pypi.org/simple, https://us-python.pkg.dev/colab-wheels/public/simple/\n",
            "Collecting Unidecode\n",
            "  Downloading Unidecode-1.3.6-py3-none-any.whl (235 kB)\n",
            "\u001b[K     |████████████████████████████████| 235 kB 5.0 MB/s \n",
            "\u001b[?25hInstalling collected packages: Unidecode\n",
            "Successfully installed Unidecode-1.3.6\n"
          ]
        }
      ]
    },
    {
      "cell_type": "code",
      "source": [
        "\"\"\"\n",
        "To include non-ASCII unicode character in a string we use the Unidecode library from where the methods unidecode() is called for the non-ASCII characters.\n",
        "\"\"\"\n",
        "from unidecode import unidecode\n",
        "print(unidecode(\"улыбаться Владимир Путин\"))"
      ],
      "metadata": {
        "colab": {
          "base_uri": "https://localhost:8080/"
        },
        "id": "yzo12VgGSxnP",
        "outputId": "cdd73550-b50e-4477-cc71-902b653df957"
      },
      "execution_count": 7,
      "outputs": [
        {
          "output_type": "stream",
          "name": "stdout",
          "text": [
            "ulybat'sia Vladimir Putin\n"
          ]
        }
      ]
    },
    {
      "cell_type": "markdown",
      "source": [
        "In Python 3.X, what are the key differences between text-mode and binary-mode files?"
      ],
      "metadata": {
        "id": "uHm9T-dRSxqJ"
      }
    },
    {
      "cell_type": "code",
      "source": [
        "\"\"\"\n",
        "One of the major differences would be that text mode contains information in textual format whereas the binary-mode files store the info by changing them to the binary or bytes or \n",
        "a compiled version of a text file.\n",
        "Due to this reading a textual file does not require decoding as its done by default but for the binary during opening the file we specify it as \"b\" for binary.\n",
        "\"\"\""
      ],
      "metadata": {
        "id": "RX3hLp33SxqK"
      },
      "execution_count": null,
      "outputs": []
    },
    {
      "cell_type": "markdown",
      "source": [
        "How can you interpret a Unicode text file containing text encoded in a different encoding than your platform's default?"
      ],
      "metadata": {
        "id": "eXu5XjofSxtf"
      }
    },
    {
      "cell_type": "code",
      "source": [
        "\"\"\"\n",
        "The encode() and decode() method can be used to interpret a Unicode text file containing text encoded in a different encoding than your platform's default, where\n",
        "by default the encoding parameter is UTF-8\n",
        "\"\"\""
      ],
      "metadata": {
        "id": "UlsfSAoOSxtf"
      },
      "execution_count": null,
      "outputs": []
    },
    {
      "cell_type": "markdown",
      "source": [
        "What is the best way to make a Unicode text file in a particular encoding format?"
      ],
      "metadata": {
        "id": "oSU2CX_FVX2D"
      }
    },
    {
      "cell_type": "code",
      "source": [
        "\"\"\"\n",
        "Use str.encode() and file.write() to make a Unicode text file in a particular encoding format, default encoding format is UTF-18.\n",
        "\n",
        "Call str.encode(encoding) with encoding set to utf8 to encode str.\n",
        "Call open(file, mode) to open a file with mode set to wb . wb writes to files in binary mode & preserves UTF-8format.\n",
        "Call file.write(data) to write data to the file.\n",
        "\"\"\""
      ],
      "metadata": {
        "id": "J5TtKk6_Vacg"
      },
      "execution_count": null,
      "outputs": []
    },
    {
      "cell_type": "markdown",
      "source": [
        " What qualifies ASCII text as a form of Unicode text?"
      ],
      "metadata": {
        "id": "DGAPLCM1VbHC"
      }
    },
    {
      "cell_type": "code",
      "source": [
        "\"\"\"\n",
        "Unicode represents most written languages in the world. ASCII has its equivalent in Unicode. The difference between ASCII and Unicode is that ASCII represents \n",
        "lowercase letters (a-z), uppercase letters (A-Z), digits (0–9) and symbols such as punctuation marks while Unicode represents letters of English, Arabic, Greek etc. \n",
        "mathematical symbols, historical scripts, emoji covering a wide range of characters than ASCII.\n",
        "\"\"\""
      ],
      "metadata": {
        "id": "rOH7peVbVbHD"
      },
      "execution_count": null,
      "outputs": []
    },
    {
      "cell_type": "markdown",
      "source": [
        "How much of an effect does the change in string types in Python 3.X have on your code?"
      ],
      "metadata": {
        "id": "TfTSzCc0VbMh"
      }
    },
    {
      "cell_type": "code",
      "source": [
        "\"\"\"\n",
        "Python 3 stores strings as Unicode by default whereas Python 2 requires you to mark a string with a u if you want to store it as Unicode. \n",
        "Unicode strings are more versatile than ASCII strings, which are the Python 3.X default, as they can store letters from foreign languages as well as emoji and \n",
        "the standard Roman letters and numerals.\n",
        "\"\"\""
      ],
      "metadata": {
        "id": "UpsuaaKwVbMh"
      },
      "execution_count": null,
      "outputs": []
    }
  ]
}