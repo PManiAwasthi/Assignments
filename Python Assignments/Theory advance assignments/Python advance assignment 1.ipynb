{
  "nbformat": 4,
  "nbformat_minor": 0,
  "metadata": {
    "colab": {
      "provenance": []
    },
    "kernelspec": {
      "name": "python3",
      "display_name": "Python 3"
    },
    "language_info": {
      "name": "python"
    }
  },
  "cells": [
    {
      "cell_type": "markdown",
      "source": [
        "Q1. What is the purpose of Python’s OOP?\n",
        "\n"
      ],
      "metadata": {
        "id": "n7V4yLQF7eUG"
      }
    },
    {
      "cell_type": "code",
      "source": [
        "\"\"\"\n",
        "Ans. Python OOP helps in implementation the functionalities like inheritance, polymorphism, encapsulation, etc. in the python projects. \n",
        "One of the major advantages is that it binds the functionalities with the required data, so it promotes modularity and less cohesion between these modules, \n",
        "which helps in making bigger program easy to make and test.\n",
        "\"\"\""
      ],
      "metadata": {
        "id": "MO0j_NqE7ecD"
      },
      "execution_count": null,
      "outputs": []
    },
    {
      "cell_type": "markdown",
      "source": [
        "Q2. Where does an inheritance search look for an attribute?\n"
      ],
      "metadata": {
        "id": "qYwCf9cR8Omw"
      }
    },
    {
      "cell_type": "code",
      "source": [
        "\"\"\"\n",
        "Ans. It first looks for an attribute in the instance object, then in the class the instance was created from, then in all higher super classes, \n",
        "progression from left to right and the search stops when the attribute is found.\t\n",
        "\n",
        "\"\"\""
      ],
      "metadata": {
        "id": "jD4wNA1J7ft9"
      },
      "execution_count": null,
      "outputs": []
    },
    {
      "cell_type": "markdown",
      "source": [
        "Q3. How do you distinguish between a class object and an instance object?\n"
      ],
      "metadata": {
        "id": "EboeV9Yt7fzt"
      }
    },
    {
      "cell_type": "code",
      "source": [
        "\"\"\"\n",
        "Ans. When a class is created then a class object is created so whenever python finds a class statement in the whole program then it creates a class object and \n",
        "assigns a name to that object. As we know the everything in python is a object to class is also itself is an object.\n",
        "\n",
        "When we call a class, it create a instance object of that class from which the object has been created. These are real objects in our python code process. \n",
        "\n",
        "\"\"\""
      ],
      "metadata": {
        "id": "ZZ7YIAa57fzt"
      },
      "execution_count": null,
      "outputs": []
    },
    {
      "cell_type": "markdown",
      "source": [
        "Q4. What makes the first argument in a class’s method function special?\n"
      ],
      "metadata": {
        "id": "21bxlfUx7f5O"
      }
    },
    {
      "cell_type": "code",
      "source": [
        "\"\"\"\n",
        "Ans. The first argument in the class’s method is self, self actually is a reference of the object to itself. This argument is used to access all \n",
        "the member methods and attributes of the class through the instance variable.\n",
        "\n",
        "\"\"\""
      ],
      "metadata": {
        "id": "5UTtMXYG7f5O"
      },
      "execution_count": null,
      "outputs": []
    },
    {
      "cell_type": "markdown",
      "source": [
        "Q5. What is the purpose of the __init__ method?\n",
        "\t\n"
      ],
      "metadata": {
        "id": "4IOughI07f-O"
      }
    },
    {
      "cell_type": "code",
      "source": [
        "\"\"\"\n",
        "Ans. __init__ is the way by with the constructors are implemented in python. It is similar to the contructor in other programming language just different in name only.\t\n",
        "\"\"\""
      ],
      "metadata": {
        "id": "hkPiUA3B7f-O"
      },
      "execution_count": null,
      "outputs": []
    },
    {
      "cell_type": "markdown",
      "source": [
        "Q6. What is the process for creating a class instance?\n"
      ],
      "metadata": {
        "id": "PGMQDFRc7gDa"
      }
    },
    {
      "cell_type": "code",
      "source": [
        "\"\"\"\n",
        "Ans. For the creation of the instance of class after the class creation what we do is that we call the class using the class and pass the \n",
        "argument mentioned in the __init__ function.\n",
        "Example for class Abc, with init arguments a and b:\n",
        "abc = Abc(a=10, b=10)\n",
        "\"\"\""
      ],
      "metadata": {
        "id": "ymDN15hM7gDa"
      },
      "execution_count": null,
      "outputs": []
    },
    {
      "cell_type": "markdown",
      "source": [
        "Q7. What is the process for creating a class?\n"
      ],
      "metadata": {
        "id": "8_nFiV4G7gIM"
      }
    },
    {
      "cell_type": "code",
      "source": [
        "\"\"\"\n",
        "And. For creating a class we first start of with writing the class keyword then we write the class name in case of inheritance after the \n",
        "class name we put the name of the parent classes in the parenthesis, then after the colon “:” we start the class body.\n",
        "After the class body starts we can write the attributes and methods, starting of with the init methods\n",
        "Ex:: class Abc:\n",
        "\tdef __init__(self):\n",
        "\t\tpass\n",
        "\"\"\""
      ],
      "metadata": {
        "id": "YfQFzvDK7gIN"
      },
      "execution_count": null,
      "outputs": []
    },
    {
      "cell_type": "markdown",
      "source": [
        "Q8. How would you define the superclasses of a class?\n"
      ],
      "metadata": {
        "id": "sXgD0IPj7gNq"
      }
    },
    {
      "cell_type": "code",
      "source": [
        "\"\"\"\n",
        "Ans. the superclass of the class is defined or given in the name of the child class inside a pair of parentheses during the class definition. Ex class Abc(parentClassName)\n",
        "\"\"\""
      ],
      "metadata": {
        "id": "4nZ1RE5A7gNr"
      },
      "execution_count": null,
      "outputs": []
    }
  ]
}