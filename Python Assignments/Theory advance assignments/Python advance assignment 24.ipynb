{
  "nbformat": 4,
  "nbformat_minor": 0,
  "metadata": {
    "colab": {
      "provenance": []
    },
    "kernelspec": {
      "name": "python3",
      "display_name": "Python 3"
    },
    "language_info": {
      "name": "python"
    }
  },
  "cells": [
    {
      "cell_type": "markdown",
      "source": [
        "Is it permissible to use several import statements to import the same module? What would the goal be? Can you think of a situation where it would be beneficial ?"
      ],
      "metadata": {
        "id": "B3CWkZN6I1Fi"
      }
    },
    {
      "cell_type": "code",
      "source": [
        "\"\"\"\n",
        "Yes it is possible to import a module multiple times. Which is useful when we want to multiple specific functions belonging to sub modules of the module.\n",
        "\"\"\""
      ],
      "metadata": {
        "id": "2OPlBsLmI1Ie"
      },
      "execution_count": null,
      "outputs": []
    },
    {
      "cell_type": "markdown",
      "source": [
        "What are some of a module's characteristics? "
      ],
      "metadata": {
        "id": "_38yFetVI17d"
      }
    },
    {
      "cell_type": "code",
      "source": [
        "\"\"\"\n",
        "__name__ : It returns the name of the module\n",
        "__doc__ : It denotes the documentation string line written in a module code.\n",
        "__file__ : It holds the name and path of the module file from which it is loaded\n",
        "__dict__ : It return a dictionary object of module attributes, functions and other definitions and their respective values\n",
        "\"\"\""
      ],
      "metadata": {
        "id": "3jlfUoKHI17d"
      },
      "execution_count": null,
      "outputs": []
    },
    {
      "cell_type": "markdown",
      "source": [
        "Circular importing, such as when two modules import each other, can lead to dependencies and bugs that aren't visible. How can you go about creating a program that avoids mutual importing?"
      ],
      "metadata": {
        "id": "Wo2pPTONI1_D"
      }
    },
    {
      "cell_type": "code",
      "source": [
        "\"\"\"\n",
        "Circular importing means importing the two modules in each other. If suppose we are wokring in MOD1.py file and it is importing some function say F2() from some \n",
        "other module say MOD2.PY file or we can do vice-versa. What will happen is: This will give an import error.\n",
        "\n",
        "This is because when we import F2() function from module MOD2.py, then this will execute MOD2.py file. And in MOD2.py file there is an another statement of importing \n",
        "MOD1.py module.\n",
        "\n",
        "This will result in endless loop. To avoid this error just do one thing We can use if __name__ == '__main__'\n",
        "\n",
        "In the function, you can't directly refer to the function in the program. The addition of this sentence avoids the endless loop of the program .\n",
        "\"\"\""
      ],
      "metadata": {
        "id": "PUTBZRmoI1_D"
      },
      "execution_count": null,
      "outputs": []
    },
    {
      "cell_type": "markdown",
      "source": [
        "Why is __ all__ in Python ?"
      ],
      "metadata": {
        "id": "R57OPCMfI2Cf"
      }
    },
    {
      "cell_type": "code",
      "source": [
        "\"\"\"\n",
        "Is is used to get the list of all modules present in a library.\n",
        "\"\"\""
      ],
      "metadata": {
        "id": "a8CS74ekI2Cg"
      },
      "execution_count": null,
      "outputs": []
    },
    {
      "cell_type": "markdown",
      "source": [
        "In what situation is it useful to refer to the __ name__ attribute or the string __main_ _ ?"
      ],
      "metadata": {
        "id": "SnNENMzOI2GR"
      }
    },
    {
      "cell_type": "code",
      "source": [
        "\"\"\"\n",
        "During the time of execution of the code if we want to refer the module in which we are working on then we uses name attribute. \n",
        "In that case it will return the module in which we are working on. Suppose if that moudle is being imported from some other module \n",
        "then name will have the name of that moudle from where the current module has been imported. The current module in which we are working is refer to the string __main __.\n",
        "\"\"\""
      ],
      "metadata": {
        "id": "kAvGAPysI2GT"
      },
      "execution_count": null,
      "outputs": []
    }
  ]
}