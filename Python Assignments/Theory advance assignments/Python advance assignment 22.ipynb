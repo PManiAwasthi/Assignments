{
  "nbformat": 4,
  "nbformat_minor": 0,
  "metadata": {
    "colab": {
      "provenance": []
    },
    "kernelspec": {
      "name": "python3",
      "display_name": "Python 3"
    },
    "language_info": {
      "name": "python"
    }
  },
  "cells": [
    {
      "cell_type": "markdown",
      "source": [
        "What are the benefits of the built-in array package, if any?"
      ],
      "metadata": {
        "id": "qoFHhXY8FHEV"
      }
    },
    {
      "cell_type": "code",
      "source": [
        "\"\"\"\n",
        "Built-in array module defines an object type which can efficiently represent an array of basic values: characters, integers, floating point numbers.\n",
        "\"\"\""
      ],
      "metadata": {
        "id": "GUbJS-ZgFHHV"
      },
      "execution_count": null,
      "outputs": []
    },
    {
      "cell_type": "markdown",
      "source": [
        "What are some of the array package's limitations ?"
      ],
      "metadata": {
        "id": "0SQNFqWQFKe0"
      }
    },
    {
      "cell_type": "code",
      "source": [
        "\"\"\"\n",
        "The number of elements to be stored in an array should be known in advance. An array is a static structure (which means the array is of fixed size). \n",
        "Once declared the size of the array cannot be modified. The memory which is allocated to it cannot be increased or decreased.\n",
        "\n",
        "Insertion and deletion are quite difficult in an array as the elements are stored in consecutive memory locations and the shifting operation is costly.\n",
        "\n",
        "Allocating more memory than the requirement leads to wastage of memory space and less allocation of memory also leads to a problem\n",
        "\"\"\""
      ],
      "metadata": {
        "id": "KsV_wQX9FKe1"
      },
      "execution_count": null,
      "outputs": []
    },
    {
      "cell_type": "markdown",
      "source": [
        "Describe the main differences between the array and numpy packages ?"
      ],
      "metadata": {
        "id": "CVxXqE5hFKhs"
      }
    },
    {
      "cell_type": "code",
      "source": [
        "\"\"\"\n",
        "The array package doesn't provide any help with numerical calculation with the items inside it in number form while NumPy give you a wide variety of numerical operations.\n",
        "\n",
        "An array is a single dimensional entity which hold the numerical data, while numpy can have more than 1 dimension.\n",
        "\n",
        "In case of array, item can be accessed by its index position and it is easy task while in numpy item is accessed by its column and row index, which makes it slightly time taking. \n",
        "Same goes with appending operation.\n",
        "\n",
        "In case of array we do not form a tabular structure, while in numpy it forms a tabular structure\n",
        "\"\"\""
      ],
      "metadata": {
        "id": "slSQNREwFKhs"
      },
      "execution_count": null,
      "outputs": []
    },
    {
      "cell_type": "markdown",
      "source": [
        "Explain the distinctions between the empty, ones, and zeros functions ?"
      ],
      "metadata": {
        "id": "7L2d0F6bFKkS"
      }
    },
    {
      "cell_type": "code",
      "source": [
        "\"\"\"\n",
        "Empty function: An empty function is a function that does not contain any statement within its body. If you try to write a function definition without any statement in python ,\n",
        "it will return an error. To avoid this, we use pass statement. pass is a special statement in Python that does nothing. It only works as a dummy statement.\n",
        "\n",
        "Ones: This function returns a new array of given shape and data type, where the element’s value is 1.\n",
        "\n",
        "Zeros: This function returns a new array of given shape and data type, where the element’s value is 0.\n",
        "\"\"\""
      ],
      "metadata": {
        "id": "eaYAf1puFKkT"
      },
      "execution_count": null,
      "outputs": []
    },
    {
      "cell_type": "markdown",
      "source": [
        "In the fromfunction function, which is used to construct new arrays, what is the role of the callable argument ?\n"
      ],
      "metadata": {
        "id": "TRc3MSfbFKnI"
      }
    },
    {
      "cell_type": "code",
      "source": [
        "\"\"\"\n",
        "Its function is to execute the function over each coordinate and the resulting array. The function is called with N parameters, where N is the rank of shape. \n",
        "Each parameter represents the coordinates of the array varying along a specific axis.\n",
        "\"\"\""
      ],
      "metadata": {
        "id": "ZVy60KdpFKnI"
      },
      "execution_count": null,
      "outputs": []
    },
    {
      "cell_type": "markdown",
      "source": [
        " What happens when a numpy array is combined with a single-value operand (a scalar, such as an int or a floating-point value) through addition, as in the expression A + n ?"
      ],
      "metadata": {
        "id": "dCPs0YfcFKp9"
      }
    },
    {
      "cell_type": "code",
      "source": [
        "\"\"\"\n",
        "If any scaler value such as integer is added to the numpy array then all the elements inside the array will add that value in it.\n",
        "\"\"\""
      ],
      "metadata": {
        "id": "H1tXJq9lFKp9"
      },
      "execution_count": null,
      "outputs": []
    },
    {
      "cell_type": "markdown",
      "source": [
        "Can array-to-scalar operations use combined operation-assign operators (such as += or *=)? What is the outcome ?"
      ],
      "metadata": {
        "id": "DJI6qhN9FKtN"
      }
    },
    {
      "cell_type": "code",
      "source": [
        "\"\"\"\n",
        "It will carry out provided operation on all elements of array.\n",
        "\"\"\""
      ],
      "metadata": {
        "id": "y7dee5QEFKtN"
      },
      "execution_count": null,
      "outputs": []
    },
    {
      "cell_type": "markdown",
      "source": [
        "Does a numpy array contain fixed-length strings? What happens if you allocate a longer string to one of these arrays ?"
      ],
      "metadata": {
        "id": "-vsWuSXiFKwW"
      }
    },
    {
      "cell_type": "code",
      "source": [
        "\"\"\"\n",
        "Yes, it is possible that we can include a string of fixed length in numpy array. The dtype of any numpy array containing string values is the maximum length of \n",
        "any string present in the array.Once set, it will only be able to store new string having length not more than the maximum length at the time of the creation. \n",
        "if we try to reassign some another string value having length greater than the maximum length of the existing elements, it simply discards all the values beyond the \n",
        "maximum length accept upto those values which are under the limit.\n",
        "\"\"\""
      ],
      "metadata": {
        "id": "WGVQtP1EFKwW"
      },
      "execution_count": null,
      "outputs": []
    },
    {
      "cell_type": "markdown",
      "source": [
        "What happens when you combine two numpy arrays using an operation like addition (+) or multiplication (*)? What are the conditions for combining two numpy arrays ?"
      ],
      "metadata": {
        "id": "amm5VP4yFKz3"
      }
    },
    {
      "cell_type": "code",
      "source": [
        "\"\"\"\n",
        "It will simply add or multiply element to element at same position.\n",
        "\"\"\""
      ],
      "metadata": {
        "id": "vlClFv3WFKz4"
      },
      "execution_count": null,
      "outputs": []
    },
    {
      "cell_type": "markdown",
      "source": [
        "What is the best way to use a Boolean array to mask another array ?"
      ],
      "metadata": {
        "id": "DKXCCOyNFK3J"
      }
    },
    {
      "cell_type": "code",
      "source": [
        "\"\"\"\n",
        "The best way to use a Boolean array to mask another array is by Using masked_where of numpy package\n",
        "\"\"\""
      ],
      "metadata": {
        "id": "bnOGTAG4FK3K"
      },
      "execution_count": null,
      "outputs": []
    },
    {
      "cell_type": "markdown",
      "source": [
        "What are three different ways to get the standard deviation of a wide collection of data using both standard Python and its packages? Sort the three of them by how quickly they execute ?"
      ],
      "metadata": {
        "id": "SINJE3VmFK6p"
      }
    },
    {
      "cell_type": "code",
      "source": [
        "\"\"\"\n",
        "statistics.stdev(), np.dev() and I guess third would be manually using the formula and defining a function as per that\n",
        "\"\"\""
      ],
      "metadata": {
        "id": "c50-Qm00FK6p"
      },
      "execution_count": null,
      "outputs": []
    },
    {
      "cell_type": "markdown",
      "source": [
        "What is the dimensionality of a Boolean mask-generated array ?"
      ],
      "metadata": {
        "id": "YblGbW2IFMXC"
      }
    },
    {
      "cell_type": "code",
      "source": [
        "\"\"\"\n",
        "Same as that of the input array\n",
        "\"\"\""
      ],
      "metadata": {
        "id": "tkm6cMiHFMXC"
      },
      "execution_count": null,
      "outputs": []
    }
  ]
}