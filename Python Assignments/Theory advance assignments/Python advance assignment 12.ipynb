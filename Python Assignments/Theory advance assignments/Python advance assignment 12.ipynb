{
  "nbformat": 4,
  "nbformat_minor": 0,
  "metadata": {
    "colab": {
      "provenance": []
    },
    "kernelspec": {
      "name": "python3",
      "display_name": "Python 3"
    },
    "language_info": {
      "name": "python"
    }
  },
  "cells": [
    {
      "cell_type": "markdown",
      "source": [
        "Does assigning a value to a string's indexed character violate Python's string immutability ?"
      ],
      "metadata": {
        "id": "HW5YFwUqa85U"
      }
    },
    {
      "cell_type": "code",
      "source": [
        "\"\"\"\n",
        "As the string are immutable so thay cannot be changed once defined not even by using the characters respective index rather not to violate this we reinitialize a new string\n",
        "in such a way the new changes are applied to it.\n",
        "\"\"\""
      ],
      "metadata": {
        "id": "hpJ77Wfla89E"
      },
      "execution_count": null,
      "outputs": []
    },
    {
      "cell_type": "markdown",
      "source": [
        "Does using the += operator to concatenate strings violate Python's string immutability? Why or why not ?"
      ],
      "metadata": {
        "id": "2FmoBwjBbA3q"
      }
    },
    {
      "cell_type": "code",
      "source": [
        "\"\"\"\n",
        "It is not a violation because when we do this a new association with the data takes place meaning we get a whole new string not simply just a concatinated strings. \n",
        "for example str1 and str1+=\"\" it creates a new string and reassigns that new string to str1 so strings aren't modified rathe reinitialized.\n",
        "\"\"\""
      ],
      "metadata": {
        "id": "rVjU5b9pbA3q"
      },
      "execution_count": null,
      "outputs": []
    },
    {
      "cell_type": "markdown",
      "source": [
        "In Python, how many different ways are there to index a character?"
      ],
      "metadata": {
        "id": "numPCjG9bA6r"
      }
    },
    {
      "cell_type": "code",
      "source": [
        "\"\"\"\n",
        "A character can be indexed using string name followed by index number in square bracket, there are 2 ways one by positive index starting from 0 to len-1 of string and \n",
        "other is negative index starting from -1 to -len of string\n",
        "\"\"\"\n",
        "in_string = \"Hello this is a new string that we are using\"\n",
        "print(in_string[9],in_string[10],in_string[2])\n",
        "print(in_string[-1],in_string[-5],in_string[-len(in_string)]) "
      ],
      "metadata": {
        "colab": {
          "base_uri": "https://localhost:8080/"
        },
        "id": "1_Qc4ytSbA6s",
        "outputId": "e2a7e82e-2033-4f0e-ad42-2f4b2c78fca8"
      },
      "execution_count": 1,
      "outputs": [
        {
          "output_type": "stream",
          "name": "stdout",
          "text": [
            "s   l\n",
            "g u H\n"
          ]
        }
      ]
    },
    {
      "cell_type": "markdown",
      "source": [
        "What is an indexed character's exact data type? What is the data form of a slicing-generated substring?"
      ],
      "metadata": {
        "id": "68hgqlVWbA9v"
      }
    },
    {
      "cell_type": "code",
      "source": [
        "\"\"\"\n",
        "The indexed characters as well as the substring from slicing all have the same datatype that is String\n",
        "\"\"\"\n",
        "in_string = \"Hello this is a new string that we are using\"\n",
        "print(type(in_string[9]))\n",
        "print(type(in_string[1:5])) "
      ],
      "metadata": {
        "colab": {
          "base_uri": "https://localhost:8080/"
        },
        "id": "cgmIS9r2bA9w",
        "outputId": "025f12d1-ab5a-4205-c515-bf64e74ecc08"
      },
      "execution_count": null,
      "outputs": [
        {
          "output_type": "stream",
          "name": "stdout",
          "text": [
            "<class 'str'>\n",
            "<class 'str'>\n"
          ]
        }
      ]
    },
    {
      "cell_type": "markdown",
      "source": [
        "What is the relationship between string and character \"types\" in Python?"
      ],
      "metadata": {
        "id": "OFnBJJOAbBAq"
      }
    },
    {
      "cell_type": "code",
      "source": [
        "\"\"\"\n",
        "Objects that contains a sequence of character datatypes are called String.\n",
        "\"\"\""
      ],
      "metadata": {
        "id": "roGoBAGebBAr"
      },
      "execution_count": null,
      "outputs": []
    },
    {
      "cell_type": "markdown",
      "source": [
        " Identify at least two operators & one method that allow you to combine one or more smaller strings to create a larger string ?"
      ],
      "metadata": {
        "id": "UvgjXuixbBD-"
      }
    },
    {
      "cell_type": "code",
      "source": [
        "\"\"\"\n",
        "+, += and * allow to combine one or more smaller strings to create a larger string. .join(), method joins element of iterable type like list and tuple to get a combined string \n",
        "and also format can be used to join string.\n",
        "\"\"\""
      ],
      "metadata": {
        "id": "krTE1RRYbBEA"
      },
      "execution_count": null,
      "outputs": []
    },
    {
      "cell_type": "markdown",
      "source": [
        "What is the benefit of first checking the target string with in or not in before using the index method to find a substring ?"
      ],
      "metadata": {
        "id": "KHfy_kEnbBHG"
      }
    },
    {
      "cell_type": "code",
      "source": [
        "\"\"\"\n",
        "Checking the target string using the in or not it operator before using the index methods is just to confirm the availability of the substring and thus is used \n",
        "to avoid the ValueError exception it is a kind of fail safe.\n",
        "\"\"\""
      ],
      "metadata": {
        "id": "VuUNotuvbBHG"
      },
      "execution_count": null,
      "outputs": []
    },
    {
      "cell_type": "markdown",
      "source": [
        "Which operators and built-in string methods produce simple Boolean (true/false) results?"
      ],
      "metadata": {
        "id": "5FrIli3WbBKB"
      }
    },
    {
      "cell_type": "code",
      "source": [
        "\"\"\"\n",
        "There are various string methods that produce boolean results:\n",
        "\n",
        "isalpha()\n",
        "isalnum()\n",
        "isdecimal()\n",
        "in\n",
        "not in\n",
        "isdigit()\n",
        "islower()\n",
        "isupper()\n",
        "isspace()\n",
        "istitle()\n",
        "isprintable()\n",
        "isnumeric()\n",
        "\"\"\""
      ],
      "metadata": {
        "id": "EmQGc-_KbBKC"
      },
      "execution_count": null,
      "outputs": []
    }
  ]
}