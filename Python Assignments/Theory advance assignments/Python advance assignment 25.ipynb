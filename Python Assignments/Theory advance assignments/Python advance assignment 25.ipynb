{
  "nbformat": 4,
  "nbformat_minor": 0,
  "metadata": {
    "colab": {
      "provenance": []
    },
    "kernelspec": {
      "name": "python3",
      "display_name": "Python 3"
    },
    "language_info": {
      "name": "python"
    }
  },
  "cells": [
    {
      "cell_type": "markdown",
      "source": [
        "What is the distinction between a numpy array and a pandas data frame? Is there a way to convert between the two if there is ?"
      ],
      "metadata": {
        "id": "hpf116R4KO-6"
      }
    },
    {
      "cell_type": "code",
      "source": [
        "\"\"\"\n",
        "Numpy Ndarray provides a lot of convenient and optimized methods for performing several mathematical operations on vectors.\n",
        "\n",
        "Pandas Dataframe is an in-memory 2-dimensional tabular representation of data. In simpler words, it can be seen as a spreadsheet having rows and columns.\n",
        "\n",
        "Conversion : Dataframe=pandas.DataFrame(array)\n",
        "\"\"\""
      ],
      "metadata": {
        "id": "bwzsQJNDKPD0"
      },
      "execution_count": null,
      "outputs": []
    },
    {
      "cell_type": "markdown",
      "source": [
        "Identify some of the plotting techniques that are used to produce a stock-market chart ?"
      ],
      "metadata": {
        "id": "OSnBHfPMKP6H"
      }
    },
    {
      "cell_type": "code",
      "source": [
        "\"\"\"\n",
        "Bar chart, Line Chart are used for plotting.\n",
        "\"\"\""
      ],
      "metadata": {
        "id": "5saxjEO7KP6H"
      },
      "execution_count": null,
      "outputs": []
    },
    {
      "cell_type": "markdown",
      "source": [
        "Why is it essential to print a legend on a stock market chart ?"
      ],
      "metadata": {
        "id": "9uSu1xPBKP-f"
      }
    },
    {
      "cell_type": "code",
      "source": [
        "\"\"\"\n",
        "In a stock market chart we need to be able to intrepret what is what like many lines can exist as per the number of variables so we use legend to give a name to them \n",
        "so that we can interpret them easily.\n",
        "\"\"\""
      ],
      "metadata": {
        "id": "_hG5XUGGKP-g"
      },
      "execution_count": null,
      "outputs": []
    },
    {
      "cell_type": "markdown",
      "source": [
        "What is the best way to limit the length of a pandas data frame to less than a year ?"
      ],
      "metadata": {
        "id": "Jf_o8-B6KQCC"
      }
    },
    {
      "cell_type": "code",
      "source": [
        "\"\"\"\n",
        "We can use start and end parameters for that. In start we write the date from where we are starting and at the end we write the end date. \n",
        "SO within this span we can restric the duration.Also we can use the parameters like periods for how much times we need the duration and we can also use the frequency parameter.\n",
        "\"\"\""
      ],
      "metadata": {
        "id": "anJwMLkSKQCC"
      },
      "execution_count": null,
      "outputs": []
    },
    {
      "cell_type": "markdown",
      "source": [
        "What is the definition of a 180-day moving average ?"
      ],
      "metadata": {
        "id": "CQFJyV64KQFa"
      }
    },
    {
      "cell_type": "code",
      "source": [
        "\"\"\"\n",
        "The 180-day moving average is represented as a line on charts and represents the average price over the past 180 days. \n",
        "The moving average can give traders a sense regarding whether the trend is up or down, while also identifying potential support or resistance areas.\n",
        "\"\"\""
      ],
      "metadata": {
        "id": "p7ppMm8hKQFa"
      },
      "execution_count": null,
      "outputs": []
    }
  ]
}