{
  "nbformat": 4,
  "nbformat_minor": 0,
  "metadata": {
    "colab": {
      "provenance": []
    },
    "kernelspec": {
      "name": "python3",
      "display_name": "Python 3"
    },
    "language_info": {
      "name": "python"
    }
  },
  "cells": [
    {
      "cell_type": "markdown",
      "source": [
        "Is an assignment operator like += only for show? Is it possible that it would lead to faster results at the runtime ?"
      ],
      "metadata": {
        "id": "CHa-1uWvhtGi"
      }
    },
    {
      "cell_type": "code",
      "source": [
        "\"\"\"\n",
        "What happens in += is that A is incremented by 1 and the memory reference is only looked once leading to faser operation where as for adding it by writing the variable in RHS the \n",
        "interpreter looks for the memory reference twice which is slower.\n",
        "\"\"\""
      ],
      "metadata": {
        "id": "s_rMbUDxhtNY"
      },
      "execution_count": null,
      "outputs": []
    },
    {
      "cell_type": "markdown",
      "source": [
        "What is the smallest no of statements you'd have to write in most programming languages to replace the Python expr a, b = a + b, a ?"
      ],
      "metadata": {
        "id": "CVT-RbAqhuG5"
      }
    },
    {
      "cell_type": "code",
      "source": [
        "\"\"\"\n",
        "We usually write them separately like a=a+b and b=a, but in python we have the provision of writing them in a single like without an issue. So minimum lines would be 2.\n",
        "\"\"\""
      ],
      "metadata": {
        "id": "eaxKb1xlhuG6"
      },
      "execution_count": null,
      "outputs": []
    },
    {
      "cell_type": "markdown",
      "source": [
        "In Python, what is the most effective way to set a list of 100 integers to 0?"
      ],
      "metadata": {
        "id": "w6XKPhzbhuJq"
      }
    },
    {
      "cell_type": "code",
      "source": [
        "\"\"\"\n",
        "The best way would be to use the list comprehension for the purpose\n",
        "\"\"\"\n",
        "z = [1 for i in range(100)]\n",
        "print(z)\n",
        "z = [0 for i in z]\n",
        "print(z)"
      ],
      "metadata": {
        "colab": {
          "base_uri": "https://localhost:8080/"
        },
        "id": "SgWyvwKmhuJq",
        "outputId": "dce27650-7b3c-46a2-ffea-2ea57e58c2f1"
      },
      "execution_count": 17,
      "outputs": [
        {
          "output_type": "stream",
          "name": "stdout",
          "text": [
            "[1, 1, 1, 1, 1, 1, 1, 1, 1, 1, 1, 1, 1, 1, 1, 1, 1, 1, 1, 1, 1, 1, 1, 1, 1, 1, 1, 1, 1, 1, 1, 1, 1, 1, 1, 1, 1, 1, 1, 1, 1, 1, 1, 1, 1, 1, 1, 1, 1, 1, 1, 1, 1, 1, 1, 1, 1, 1, 1, 1, 1, 1, 1, 1, 1, 1, 1, 1, 1, 1, 1, 1, 1, 1, 1, 1, 1, 1, 1, 1, 1, 1, 1, 1, 1, 1, 1, 1, 1, 1, 1, 1, 1, 1, 1, 1, 1, 1, 1, 1]\n",
            "[0, 0, 0, 0, 0, 0, 0, 0, 0, 0, 0, 0, 0, 0, 0, 0, 0, 0, 0, 0, 0, 0, 0, 0, 0, 0, 0, 0, 0, 0, 0, 0, 0, 0, 0, 0, 0, 0, 0, 0, 0, 0, 0, 0, 0, 0, 0, 0, 0, 0, 0, 0, 0, 0, 0, 0, 0, 0, 0, 0, 0, 0, 0, 0, 0, 0, 0, 0, 0, 0, 0, 0, 0, 0, 0, 0, 0, 0, 0, 0, 0, 0, 0, 0, 0, 0, 0, 0, 0, 0, 0, 0, 0, 0, 0, 0, 0, 0, 0, 0]\n"
          ]
        }
      ]
    },
    {
      "cell_type": "markdown",
      "source": [
        "What is the most effective way to initialise a list of 99 integers that repeats the sequence 1, 2, 3? S If necessary, show step-by-step instructions on how to accomplish this."
      ],
      "metadata": {
        "id": "qZcxyc7PhuMW"
      }
    },
    {
      "cell_type": "code",
      "source": [
        "\"\"\"\n",
        "in python we can multiply a pattern we want by the times we want to repeat it like to initialize a 100 size array with 0 simply write [0] * 100 similarly for \n",
        "[1,2,3] patter to end up making 99 element list we multiply [1,2,3] * 33 so that the end up with size 99\n",
        "\"\"\""
      ],
      "metadata": {
        "id": "s6V1JSHPhuMW"
      },
      "execution_count": null,
      "outputs": []
    },
    {
      "cell_type": "markdown",
      "source": [
        "If you're using IDLE to run a Python application, explain how to print a multidimensional list as efficiently?"
      ],
      "metadata": {
        "id": "nNoqm0AWhuPJ"
      }
    },
    {
      "cell_type": "code",
      "source": [
        "\"\"\"\n",
        "we can use yeild and create a generator function which helps making it more memory efficient.\n",
        "\"\"\""
      ],
      "metadata": {
        "colab": {
          "base_uri": "https://localhost:8080/",
          "height": 36
        },
        "id": "fNGuQV7ahuPK",
        "outputId": "0cef551d-00cf-46ee-f29c-9189fbb0cb89"
      },
      "execution_count": 18,
      "outputs": [
        {
          "output_type": "execute_result",
          "data": {
            "text/plain": [
              "'\\nwe can use yeild and create a generator function which helps making it more memory efficient.\\n'"
            ],
            "application/vnd.google.colaboratory.intrinsic+json": {
              "type": "string"
            }
          },
          "metadata": {},
          "execution_count": 18
        }
      ]
    },
    {
      "cell_type": "markdown",
      "source": [
        "Is it possible to use list comprehension with a string? If so, how can you go about doing it?"
      ],
      "metadata": {
        "id": "zc499lhzhuSR"
      }
    },
    {
      "cell_type": "code",
      "source": [
        "\"\"\"\n",
        "If we can iterate and have a definite pattern we can use list comprehension so yes we can use list comprehension with string.\n",
        "\"\"\"\n",
        "my_list = [ele for ele in 'this is a string']\n",
        "print(my_list)\n"
      ],
      "metadata": {
        "colab": {
          "base_uri": "https://localhost:8080/"
        },
        "id": "YFP5ynDAhuSS",
        "outputId": "e49725d2-20b6-4c0d-f026-477c9f618ff1"
      },
      "execution_count": 19,
      "outputs": [
        {
          "output_type": "stream",
          "name": "stdout",
          "text": [
            "['t', 'h', 'i', 's', ' ', 'i', 's', ' ', 'a', ' ', 's', 't', 'r', 'i', 'n', 'g']\n"
          ]
        }
      ]
    },
    {
      "cell_type": "markdown",
      "source": [
        "From the command line, how do you get support with a user-written Python programme? Is this possible from inside IDLE?"
      ],
      "metadata": {
        "id": "rA3GCqNYhuVM"
      }
    },
    {
      "cell_type": "code",
      "source": [
        "\"\"\"\n",
        "Get support with a user-written Python Programme: Start a command prompt (Windows) or terminal window (Linux/Mac). \n",
        "If the current working directory is the same as the location in which you saved the file, you can simply specify the filename as a command-line argument to the Python interpreter.\n",
        "\n",
        "Get support with a User-written Python Program from IDLE: You can also create script files and run them in IDLE. From the Shell window menu, select File → New File. \n",
        "That should open an additional editing window. Type in the code to be executed. From the menu in that window, select File → Save or File → Save As… and save the file to disk. Then select Run → Run Module. The output should appear back in the interpreter\n",
        "\"\"\""
      ],
      "metadata": {
        "id": "TdvpXuskhuVN"
      },
      "execution_count": null,
      "outputs": []
    },
    {
      "cell_type": "markdown",
      "source": [
        "Functions are said to be “first-class objects” in Python but not in most other languages, such as C++ or Java. What can you do in Python with a function (callable object) that you can't do in C or C++?"
      ],
      "metadata": {
        "id": "p_36T1mEhuX_"
      }
    },
    {
      "cell_type": "code",
      "source": [
        "\"\"\"\n",
        "Everything in python is an object so functions are too which is not the case with other programming languages\n",
        "The tasks which can be performed with the functions in python are:\n",
        "\n",
        "A function is an instance of the Object type.\n",
        "You can store the function in a variable.\n",
        "You can pass the function as a parameter to another function.\n",
        "You can return the function from a function.\n",
        "You can store them in data structures such as hash tables, lists,\n",
        "\n",
        "\"\"\""
      ],
      "metadata": {
        "id": "RcCeEEmghuYA"
      },
      "execution_count": null,
      "outputs": []
    },
    {
      "cell_type": "markdown",
      "source": [
        "How do you distinguish between a wrapper, a wrapped feature, and a decorator?"
      ],
      "metadata": {
        "id": "MpTG0yg_hua8"
      }
    },
    {
      "cell_type": "code",
      "source": [
        "\"\"\"\n",
        "“Wrapper” is the alternative nickname for the Decorator pattern that clearly expresses the main idea of the pattern. \n",
        "A wrapper is an object that can be linked with some target object. The wrapper contains the same set of methods as the target and delegates to it all requests it receives.\n",
        "\n",
        "Wrappers Around the functions are known as Decrators.\n",
        "\"\"\""
      ],
      "metadata": {
        "id": "hHR6chf7hua9"
      },
      "execution_count": null,
      "outputs": []
    },
    {
      "cell_type": "markdown",
      "source": [
        "if a function is a generator function, what does it return?"
      ],
      "metadata": {
        "id": "wPEQgPsVhueT"
      }
    },
    {
      "cell_type": "code",
      "source": [
        "\"\"\"\n",
        "Generator functions are a special kind of function that return a lazy iterator. These are objects that you can loop over like a list. \n",
        "However, unlike lists, lazy iterators do not store their contents in memory.\n",
        "\"\"\""
      ],
      "metadata": {
        "id": "JR4Rah1bhueT"
      },
      "execution_count": null,
      "outputs": []
    },
    {
      "cell_type": "markdown",
      "source": [
        "What is the one improvement that must be made to a function in order for it to become a generator function in the Python language?"
      ],
      "metadata": {
        "id": "z2h37ixihuhK"
      }
    },
    {
      "cell_type": "code",
      "source": [
        "\"\"\"\n",
        "Generator is a written as normal function but uses yield keyword to return values instead of return keyword.\n",
        "\"\"\""
      ],
      "metadata": {
        "id": "sxg8M2HvhuhK"
      },
      "execution_count": null,
      "outputs": []
    },
    {
      "cell_type": "markdown",
      "source": [
        "Identify at least one benefit of generators."
      ],
      "metadata": {
        "id": "R20KMURPhulH"
      }
    },
    {
      "cell_type": "code",
      "source": [
        "\"\"\"\n",
        "return statement sends a specified value back to its caller whereas yield statment can produce a sequence of values. \n",
        "We should use generator when we want to iterate over a sequence, but don’t want to store the entire sequence in memory like in case of very large traversals.\n",
        "\"\"\""
      ],
      "metadata": {
        "id": "kAA6YobyhulI"
      },
      "execution_count": null,
      "outputs": []
    }
  ]
}