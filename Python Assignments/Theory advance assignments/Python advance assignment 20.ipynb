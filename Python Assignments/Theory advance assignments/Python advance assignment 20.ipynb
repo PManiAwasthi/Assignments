{
  "nbformat": 4,
  "nbformat_minor": 0,
  "metadata": {
    "colab": {
      "provenance": []
    },
    "kernelspec": {
      "name": "python3",
      "display_name": "Python 3"
    },
    "language_info": {
      "name": "python"
    }
  },
  "cells": [
    {
      "cell_type": "markdown",
      "source": [
        "Compare and contrast the float and Decimal classes' benefits and drawbacks ?"
      ],
      "metadata": {
        "id": "EAXfoamAB-gL"
      }
    },
    {
      "cell_type": "code",
      "source": [
        "\"\"\"\n",
        "Use floats when convenience and speed matter. A float gives you an approximation of the number you declare.\n",
        "\n",
        "Use decimals when precision matters. Decimals can suffer from their own precision issues, but generally, decimals are more precise than floats. \n",
        "The performance difference between float and decimal, with Python 3, is not outlandish, and in my experience, the precision benefits of a decimal outweigh the \n",
        "performance benefits of a float.\n",
        "\"\"\""
      ],
      "metadata": {
        "id": "AbcMUakRB-jf"
      },
      "execution_count": null,
      "outputs": []
    },
    {
      "cell_type": "markdown",
      "source": [
        "Decimal('1.200') and Decimal('1.2') are two objects to consider. In what sense are these the same object? Are these just two ways of representing the exact same value, or do they correspond to different internal states ?"
      ],
      "metadata": {
        "id": "48vMavAxCDsL"
      }
    },
    {
      "cell_type": "code",
      "source": [
        "\"\"\"\n",
        "Both values are same but internal representation at storage Is different. Precsion differs, Decimal('1.200') gives internally 1.200 and Decimal('1.2') gives 1.2\n",
        "\"\"\""
      ],
      "metadata": {
        "id": "XP2HD-29CDsL"
      },
      "execution_count": null,
      "outputs": []
    },
    {
      "cell_type": "markdown",
      "source": [
        "What happens if the equality of Decimal('1.200') and Decimal('1.2') is checked ?"
      ],
      "metadata": {
        "id": "HFYc52K9CDvx"
      }
    },
    {
      "cell_type": "code",
      "source": [
        "\"\"\"\n",
        "Both values are checked to be equal , they only differ in precision.\n",
        "\"\"\""
      ],
      "metadata": {
        "id": "753J1LdrCDvy"
      },
      "execution_count": 14,
      "outputs": []
    },
    {
      "cell_type": "markdown",
      "source": [
        "Why is it preferable to start a Decimal object with a string rather than a floating-point value ?"
      ],
      "metadata": {
        "id": "6vKuuK7RCDy2"
      }
    },
    {
      "cell_type": "code",
      "source": [
        "\"\"\"\n",
        "Floating-point value is converted to Decimal format. Decimal can store float value with absolute precision. But when float value is given as Decimal object,it first has to be converted from floating point value which might already have rounding error.\n",
        "\n",
        "Hence it is preferable to start a Decimal object with a string.\n",
        "\"\"\""
      ],
      "metadata": {
        "id": "A5sCvq5OCDy3"
      },
      "execution_count": null,
      "outputs": []
    },
    {
      "cell_type": "markdown",
      "source": [
        "In an arithmetic phrase, how simple is it to combine Decimal objects with integers ?"
      ],
      "metadata": {
        "id": "-FiqZ2BwCD1_"
      }
    },
    {
      "cell_type": "code",
      "source": [
        "\"\"\"\n",
        "We can do it with use of Decimal().\n",
        "\"\"\""
      ],
      "metadata": {
        "id": "TZdsUE-FCD2B"
      },
      "execution_count": null,
      "outputs": []
    },
    {
      "cell_type": "markdown",
      "source": [
        "Can Decimal objects and floating-point values be combined easily ?"
      ],
      "metadata": {
        "id": "74pTXwZ9CD41"
      }
    },
    {
      "cell_type": "code",
      "source": [
        "\"\"\"\n",
        "Arithmetic operfations like Adding,subtracting or multiplying a Decimal object by a floating-point value is generates an error.\n",
        "\n",
        "To do these operations, the floating point has to be converted to a Decimal.\n",
        "\"\"\""
      ],
      "metadata": {
        "id": "qsnihr1kCD41"
      },
      "execution_count": null,
      "outputs": []
    },
    {
      "cell_type": "markdown",
      "source": [
        "Using the Fraction class but not the Decimal class, give an example of a quantity that can be expressed with absolute precision ?"
      ],
      "metadata": {
        "id": "aQtrQyiOCD78"
      }
    },
    {
      "cell_type": "code",
      "source": [
        "\"\"\"\n",
        "Value of 0.5 will be represented as ½.\n",
        "\"\"\""
      ],
      "metadata": {
        "id": "AiEL2CS-CD79"
      },
      "execution_count": null,
      "outputs": []
    },
    {
      "cell_type": "markdown",
      "source": [
        "Consider the following two fraction objects: Fraction(1, 2) and Fraction(1, 2). (5, 10). Is the internal state of these two objects the same? Why do you think that is ?"
      ],
      "metadata": {
        "id": "-vg6fb0eCD_F"
      }
    },
    {
      "cell_type": "code",
      "source": [
        "\"\"\"\n",
        "Both will be reduced to 1/2. as Fraction(5/10) is also 1/2 and Fraction(1,2) is also 1/2\n",
        "\"\"\""
      ],
      "metadata": {
        "id": "JouJO_xnCD_G"
      },
      "execution_count": null,
      "outputs": []
    },
    {
      "cell_type": "markdown",
      "source": [
        "How do the Fraction class and the integer type (int) relate to each other? Containment or inheritance ?"
      ],
      "metadata": {
        "id": "IFtv9_mqCENT"
      }
    },
    {
      "cell_type": "code",
      "source": [
        "\"\"\"\n",
        "Fraction class and integer type(int) are related in form of a container.It contains two ints, one the numerator and the other the denominator\n",
        "\"\"\""
      ],
      "metadata": {
        "id": "WZmYLGGeCENT"
      },
      "execution_count": null,
      "outputs": []
    }
  ]
}