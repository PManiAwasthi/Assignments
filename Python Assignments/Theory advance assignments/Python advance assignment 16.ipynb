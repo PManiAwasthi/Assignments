{
  "nbformat": 4,
  "nbformat_minor": 0,
  "metadata": {
    "colab": {
      "provenance": []
    },
    "kernelspec": {
      "name": "python3",
      "display_name": "Python 3"
    },
    "language_info": {
      "name": "python"
    }
  },
  "cells": [
    {
      "cell_type": "markdown",
      "source": [
        "What is the benefit of regular expressions?"
      ],
      "metadata": {
        "id": "6oihhRMM4mfI"
      }
    },
    {
      "cell_type": "code",
      "source": [
        "\"\"\"\n",
        "Regular Expressions, also known as regex or regexp, are used to match strings of text such as particular characters, words, or patterns of characters. \n",
        "It means that we can match and extract any string pattern from the text with the help of regular expressions. it helps the programmers to Write less and cleaner code. \n",
        "it also avoids multiple use of if/else statements.\n",
        "\"\"\""
      ],
      "metadata": {
        "id": "nVRGipTP4mkt"
      },
      "execution_count": null,
      "outputs": []
    },
    {
      "cell_type": "markdown",
      "source": [
        "Describe the difference between the effects of \"(ab)c+\" and \"a(bc)+\" Which of these, if any, is the unqualified pattern \"abc+\"?"
      ],
      "metadata": {
        "id": "3GNw9PtI4nil"
      }
    },
    {
      "cell_type": "code",
      "source": [
        "\"\"\"\n",
        "Both (ab)c+ and a(bc)+ are valid patterns. the difference between both these patterns is in (ab)c+ ab is group whereas in a(bc)+ bc is a group.\n",
        "\"\"\""
      ],
      "metadata": {
        "id": "L0IHytyW4nim"
      },
      "execution_count": null,
      "outputs": []
    },
    {
      "cell_type": "markdown",
      "source": [
        "How much do you need to use the following sentence while using regular expressions?"
      ],
      "metadata": {
        "id": "n97SnQYB4noT"
      }
    },
    {
      "cell_type": "code",
      "source": [
        "\"\"\"\n",
        "Only once.\n",
        "\"\"\""
      ],
      "metadata": {
        "id": "ZCTextp-4noU"
      },
      "execution_count": null,
      "outputs": []
    },
    {
      "cell_type": "markdown",
      "source": [
        "Which characters have special significance in square brackets when expressing a range, and under what circumstances?"
      ],
      "metadata": {
        "id": "6rh-AVqI4nsv"
      }
    },
    {
      "cell_type": "code",
      "source": [
        "\"\"\"\n",
        "The Characters .,*,?,^,or,(), have a special signiface when used with square brackets. They need not be be explicitly escaped by \\ as in case of pattern texts in a raw string.\n",
        "\"\"\""
      ],
      "metadata": {
        "id": "W6uOWZy24nsw"
      },
      "execution_count": null,
      "outputs": []
    },
    {
      "cell_type": "markdown",
      "source": [
        "How does compiling a regular-expression object benefit you?"
      ],
      "metadata": {
        "id": "mCj7eo4x4nxR"
      }
    },
    {
      "cell_type": "code",
      "source": [
        "\"\"\"\n",
        "We can Combine a regular expression pattern into pattern Objects.Which can be used for pattern matching. it also helps to search a pattern again without rewritting it.\n",
        "\"\"\""
      ],
      "metadata": {
        "id": "FuFqCQil4nxS"
      },
      "execution_count": null,
      "outputs": []
    },
    {
      "cell_type": "markdown",
      "source": [
        " What are some examples of how to use the match object returned by re.match and re.search?"
      ],
      "metadata": {
        "id": "z1JSuO_t4n1X"
      }
    },
    {
      "cell_type": "code",
      "source": [
        "\"\"\"\n",
        "The Match object has properties and methods used to retrieve information about the search, and the result:\n",
        "\n",
        ".span() returns a tuple containing the start-, and end positions of the match.\n",
        ".string returns the string passed into the function\n",
        ".group() returns the part of the string where there was a match\n",
        "\"\"\"\n",
        "import re\n",
        "\n",
        "txt = \"The rain in Spain\"\n",
        "x = re.search(r\"\\bS\\w+\", txt)\n",
        "print(x.span())"
      ],
      "metadata": {
        "colab": {
          "base_uri": "https://localhost:8080/"
        },
        "id": "qz5auqKL4n1Y",
        "outputId": "ad54a24c-6042-445b-ca77-f5e961e1e0c0"
      },
      "execution_count": null,
      "outputs": [
        {
          "output_type": "stream",
          "name": "stdout",
          "text": [
            "(12, 17)\n"
          ]
        }
      ]
    },
    {
      "cell_type": "markdown",
      "source": [
        "What is the difference between using a vertical bar (|) as an alteration and using square brackets as a character set?"
      ],
      "metadata": {
        "id": "umVihQjo4n5p"
      }
    },
    {
      "cell_type": "code",
      "source": [
        "\"\"\"\n",
        "The vertical bar is used to specify a OR operation meaning it searches as or in the search string. the first occurance of matched string will be retured as \n",
        "the Match Object. And using character set in square brackets serache for all the character set in t\n",
        "\"\"\""
      ],
      "metadata": {
        "id": "Pe7Kza-h4n5q"
      },
      "execution_count": null,
      "outputs": []
    },
    {
      "cell_type": "markdown",
      "source": [
        "In regular-expression search patterns, why is it necessary to use the raw-string indicator (r)? In replacement strings?"
      ],
      "metadata": {
        "id": "pyiGCZEw4n-e"
      }
    },
    {
      "cell_type": "code",
      "source": [
        "\"\"\"\n",
        "Raw Strings are used in the regular-expression search patterns, so that blackslashes donot have to be escaped.\n",
        "\"\"\""
      ],
      "metadata": {
        "id": "x1PTE30L4n-f"
      },
      "execution_count": null,
      "outputs": []
    }
  ]
}