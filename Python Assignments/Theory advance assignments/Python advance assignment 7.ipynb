{
  "nbformat": 4,
  "nbformat_minor": 0,
  "metadata": {
    "colab": {
      "provenance": []
    },
    "kernelspec": {
      "name": "python3",
      "display_name": "Python 3"
    },
    "language_info": {
      "name": "python"
    }
  },
  "cells": [
    {
      "cell_type": "markdown",
      "source": [
        "What is the purpose of the try statement?"
      ],
      "metadata": {
        "id": "ECS6iFcqIFYb"
      }
    },
    {
      "cell_type": "code",
      "source": [
        "\"\"\"\n",
        "Try statement is used for exception handling in python, the code which can raise an exception is put inside the try block and if the exception occurs the \n",
        "interpreter moves to the subsequent except block for further processing and if no exception occurs the program excecutes normally.\n",
        "\"\"\""
      ],
      "metadata": {
        "id": "wH-PoBVwIFe0"
      },
      "execution_count": null,
      "outputs": []
    },
    {
      "cell_type": "markdown",
      "source": [
        "What are the two most popular try statement variations?"
      ],
      "metadata": {
        "id": "85YydRD-IGWD"
      }
    },
    {
      "cell_type": "code",
      "source": [
        "\"\"\"\n",
        "The popular variations are try, except and try, except, finally.\n",
        "Even though we also have try, except, finally, else but the above 2 are used more in comparision.\n",
        "\"\"\""
      ],
      "metadata": {
        "id": "xSWECWgxIGWE"
      },
      "execution_count": null,
      "outputs": []
    },
    {
      "cell_type": "markdown",
      "source": [
        "What is the purpose of the raise statement?"
      ],
      "metadata": {
        "id": "SpvlVEXiIGat"
      }
    },
    {
      "cell_type": "code",
      "source": [
        "\"\"\"\n",
        "Using raise the programmer can throw in exception anytime they want meaning based on conditions put in place the programmer can without any runtime problems raise exception \n",
        "on basis of any part not performing as excepted or some other problems which the interpreter might not know how to handle using exception (using custom exception).\n",
        "\"\"\""
      ],
      "metadata": {
        "id": "sGR497kfIGau"
      },
      "execution_count": null,
      "outputs": []
    },
    {
      "cell_type": "markdown",
      "source": [
        "What does the assert statement do, and what other statement is it like?"
      ],
      "metadata": {
        "id": "WYHHhOcZIGfn"
      }
    },
    {
      "cell_type": "code",
      "source": [
        "\"\"\"\n",
        "There are few assertions that programmer always want to be true to avoid code failure. \n",
        "This type of requirement is fulfilled by assert statement. This statement takes a boolean condition output of which is True, Further Program Executes. \n",
        "if output of assert statement is False, it raises an Assertion Error.\n",
        "\"\"\""
      ],
      "metadata": {
        "id": "FbmC4K2MIGfn"
      },
      "execution_count": null,
      "outputs": []
    },
    {
      "cell_type": "markdown",
      "source": [
        "What is the purpose of the with/as argument, and what other statement is it like?\n"
      ],
      "metadata": {
        "id": "jjv5WZ8GIGky"
      }
    },
    {
      "cell_type": "code",
      "source": [
        "\"\"\"\n",
        "with/as statement simplifies use of file handling in python. When we use a with statement for file reading, \n",
        "there is no need for programmer to explicitly takecare of activities like resource deallocation and file closing by using file.close() method. \n",
        "with statement itself ensures proper acquisition and release of resources. this avoids triggering of exceptions if file closing is unknowingly forgotten in the code execution.\n",
        "\n",
        "with open('sample_file.txt','w') as file: file.write('Hello World')\n",
        "\"\"\""
      ],
      "metadata": {
        "id": "YY7ndk0jIGky"
      },
      "execution_count": null,
      "outputs": []
    }
  ]
}