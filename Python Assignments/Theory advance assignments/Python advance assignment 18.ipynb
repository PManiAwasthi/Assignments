{
  "nbformat": 4,
  "nbformat_minor": 0,
  "metadata": {
    "colab": {
      "provenance": []
    },
    "kernelspec": {
      "name": "python3",
      "display_name": "Python 3"
    },
    "language_info": {
      "name": "python"
    }
  },
  "cells": [
    {
      "cell_type": "markdown",
      "source": [
        "Describe the differences between text and binary files in a single paragraph."
      ],
      "metadata": {
        "id": "v5lJHvX29FpV"
      }
    },
    {
      "cell_type": "code",
      "source": [
        "\"\"\"\n",
        "\"Text files\" are special subset of binary files that are used to store human readable characters as a rich text document or plain text document. \n",
        "Text files also store data in sequential bytes but bits in text file represents characters.\n",
        "\n",
        "\"Binary files\" are those typical files that store data in the form of sequence of bytes grouped into eight bits or sometimes sixteen bits. \n",
        "These bits represent custom data and such files can store multiple types of data (images, audio, text, etc) under a single file.\n",
        "\"\"\""
      ],
      "metadata": {
        "id": "Ff1veghi9Fsp"
      },
      "execution_count": null,
      "outputs": []
    },
    {
      "cell_type": "markdown",
      "source": [
        "What are some scenarios where using text files will be the better option? When would you like to use binary files instead of text files?"
      ],
      "metadata": {
        "id": "VTBwUxYu9Gd5"
      }
    },
    {
      "cell_type": "code",
      "source": [
        "\"\"\"\n",
        "Text files are less prone to get corrupted as any undesired change may just show up once the file is opened and then can easily be removed. \n",
        "Whereas Use binary files instead of text files for image data.\n",
        "\"\"\""
      ],
      "metadata": {
        "id": "CuM-RFRS9Gd6"
      },
      "execution_count": null,
      "outputs": []
    },
    {
      "cell_type": "markdown",
      "source": [
        "What are some of the issues with using binary operations to read and write a Python integer directly to disc?"
      ],
      "metadata": {
        "id": "5kruLWdt9GhB"
      }
    },
    {
      "cell_type": "code",
      "source": [
        "\"\"\"\n",
        "When we read or write a python integer using binary operations\n",
        "\n",
        "Binary operations deal with raw data\n",
        "One needs to identify how many bytes one would read or write.\n",
        "\"\"\""
      ],
      "metadata": {
        "id": "bn2EfzXN9GhC"
      },
      "execution_count": null,
      "outputs": []
    },
    {
      "cell_type": "markdown",
      "source": [
        "Describe a benefit of using the with keyword instead of explicitly opening a file ?"
      ],
      "metadata": {
        "id": "NLhMeoyb9Gj6"
      }
    },
    {
      "cell_type": "code",
      "source": [
        "\"\"\"\n",
        "When a file is opened using the with keyword, if some exceptions occur after opening a file, or at the end of the file it automatically does the closing of the file. \n",
        "There by not leaving an file in open mode and there would no need to explicitly close a file.\n",
        "\"\"\""
      ],
      "metadata": {
        "id": "a213wvKS9Gj6"
      },
      "execution_count": null,
      "outputs": []
    },
    {
      "cell_type": "markdown",
      "source": [
        "Does Python have the trailing newline while reading a line of text? Does Python append a newline when you write a line of text?"
      ],
      "metadata": {
        "id": "mcHtLKnP9GnS"
      }
    },
    {
      "cell_type": "code",
      "source": [
        "\"\"\"\n",
        "Yes, Python have the trailing newline while reading a line of text. When we write a newline has to be provided in python excpicitly.\n",
        "\"\"\""
      ],
      "metadata": {
        "id": "Ck7UBdMg9GnS"
      },
      "execution_count": null,
      "outputs": []
    },
    {
      "cell_type": "markdown",
      "source": [
        "What file operations enable for random-access operation?"
      ],
      "metadata": {
        "id": "ZtKiwf4_9GqX"
      }
    },
    {
      "cell_type": "code",
      "source": [
        "\"\"\"\n",
        "seek() and tell() methods are used for random-access operations on a file.\n",
        "\"\"\""
      ],
      "metadata": {
        "id": "UwNPMbpV9GqX"
      },
      "execution_count": null,
      "outputs": []
    },
    {
      "cell_type": "markdown",
      "source": [
        "When do you think you'll use the struct package the most?"
      ],
      "metadata": {
        "id": "aN7pkAnq9Gtc"
      }
    },
    {
      "cell_type": "code",
      "source": [
        "\"\"\"\n",
        "The struct package is mostly used while converting a common python types into C language types.\n",
        "\"\"\""
      ],
      "metadata": {
        "id": "TSPH4hAQ9Gtd"
      },
      "execution_count": null,
      "outputs": []
    },
    {
      "cell_type": "markdown",
      "source": [
        "When is pickling the best option?"
      ],
      "metadata": {
        "id": "hy8za6DC9GxM"
      }
    },
    {
      "cell_type": "code",
      "source": [
        "\"\"\"\n",
        "When creating a new binary file pickling might be the best option.\n",
        "\"\"\""
      ],
      "metadata": {
        "id": "ItV-hhN29GxM"
      },
      "execution_count": null,
      "outputs": []
    },
    {
      "cell_type": "markdown",
      "source": [
        "When will it be best to use the shelve package?"
      ],
      "metadata": {
        "id": "7Wt7KN5o9G0U"
      }
    },
    {
      "cell_type": "code",
      "source": [
        "\"\"\"\n",
        "It is used to pickle data but treat the entire file as dictionary.\n",
        "\"\"\""
      ],
      "metadata": {
        "id": "Ww1-ILT59G0V"
      },
      "execution_count": null,
      "outputs": []
    },
    {
      "cell_type": "markdown",
      "source": [
        "What is a special restriction when using the shelve package, as opposed to using other data dictionaries?"
      ],
      "metadata": {
        "id": "r9U4oMMK9G4W"
      }
    },
    {
      "cell_type": "code",
      "source": [
        "\"\"\"\n",
        "Only string data type can be used as key in this special dictionary object, whereas any picklable Python object can be used as value.\n",
        "\"\"\""
      ],
      "metadata": {
        "id": "jmp9UejZ9G4X"
      },
      "execution_count": null,
      "outputs": []
    }
  ]
}