{
  "nbformat": 4,
  "nbformat_minor": 0,
  "metadata": {
    "colab": {
      "provenance": []
    },
    "kernelspec": {
      "name": "python3",
      "display_name": "Python 3"
    },
    "language_info": {
      "name": "python"
    }
  },
  "cells": [
    {
      "cell_type": "markdown",
      "source": [
        "Q1. What is the relationship between classes and modules?"
      ],
      "metadata": {
        "id": "9eAF229M8fN4"
      }
    },
    {
      "cell_type": "code",
      "source": [
        "\"\"\"\n",
        "Modules are the collections of methods and constants just like how classes are we can also say that a class if put in a seperate python file a module as it is \n",
        "a collection of methods and constants. The modules are also used import and making their instances inside the program just like how we make the instance of the class \n",
        "before using it.\n",
        "\"\"\""
      ],
      "metadata": {
        "id": "4ayjnvd98fR5"
      },
      "execution_count": null,
      "outputs": []
    },
    {
      "cell_type": "markdown",
      "source": [
        "Q2. How do you make instances and classes?"
      ],
      "metadata": {
        "id": "zGKznXee8gv_"
      }
    },
    {
      "cell_type": "code",
      "source": [
        "\"\"\"\n",
        "For instances we write the class name and provide the necessary arguments as per the __init__ function of the class. \n",
        "For making a class what we do is that we make the class using the keywords class then we type the name and then we write the class body\n",
        "\"\"\"\n",
        "class abc:\n",
        "  def __init__(self):\n",
        "    pass\n",
        "instanceObj = abc()"
      ],
      "metadata": {
        "id": "PyI9v2SV8gwA"
      },
      "execution_count": null,
      "outputs": []
    },
    {
      "cell_type": "markdown",
      "source": [
        "Q3. Where and how should be class attributes created?"
      ],
      "metadata": {
        "id": "W41xBa4a8g2q"
      }
    },
    {
      "cell_type": "code",
      "source": [
        "\"\"\"\n",
        "class attributes are written inside the class body intended inside it. It can be just after the end start of the body or inside another method or nested class.\n",
        "\"\"\""
      ],
      "metadata": {
        "id": "zzgpiMyl8g2r"
      },
      "execution_count": null,
      "outputs": []
    },
    {
      "cell_type": "markdown",
      "source": [
        "Q4. Where and how are instance attributes created?"
      ],
      "metadata": {
        "id": "F9dD6T128g73"
      }
    },
    {
      "cell_type": "code",
      "source": [
        "\"\"\"\n",
        "Instance attributes are defined in the constructor. Defined directly inside a class. Defined inside a constructor using the self parameter.\n",
        "\"\"\""
      ],
      "metadata": {
        "id": "AADqJiQj8g73"
      },
      "execution_count": null,
      "outputs": []
    },
    {
      "cell_type": "markdown",
      "source": [
        "Q5. What does the term &quot;self&quot; in a Python class mean?"
      ],
      "metadata": {
        "id": "NRZTQjXV8g_8"
      }
    },
    {
      "cell_type": "code",
      "source": [
        "\"\"\"\n",
        "self represents the instance of the class. By using the “self”  we can access the attributes and methods of the class in python. It binds the attributes with the given arguments.\n",
        "\n",
        "\"\"\""
      ],
      "metadata": {
        "id": "wC9woY7G8g_9"
      },
      "execution_count": null,
      "outputs": []
    },
    {
      "cell_type": "markdown",
      "source": [
        "Q6. How does a Python class handle operator overloading?"
      ],
      "metadata": {
        "id": "qf7mZz-A8hDi"
      }
    },
    {
      "cell_type": "code",
      "source": [
        "\"\"\"\n",
        "In python operator overloading provies extended meaning beyoud their predefined operational meaning. What we need to do is to make a class and define the method in a way that\n",
        "it performs with the operator performs just in a way we need it to.\n",
        "for example\n",
        "\"\"\"\n",
        "class example:  \n",
        "    def __init__(self, X):  \n",
        "        self.X = X  \n",
        "   \n",
        "    # adding two objects  \n",
        "    def __add__(self, U):  \n",
        "        return self.X + U.X  \n",
        "object_1 = example(20)  \n",
        "object_2 = example(30)  \n",
        "print (\": \", object_1 + object_2)  "
      ],
      "metadata": {
        "colab": {
          "base_uri": "https://localhost:8080/"
        },
        "id": "1Fde9o4j8hDj",
        "outputId": "d9af4fc1-803f-4439-fe47-61a69b578f5e"
      },
      "execution_count": 1,
      "outputs": [
        {
          "output_type": "stream",
          "name": "stdout",
          "text": [
            ":  50\n"
          ]
        }
      ]
    },
    {
      "cell_type": "markdown",
      "source": [
        "Q7. When do you consider allowing operator overloading of your classes?"
      ],
      "metadata": {
        "id": "OyG5YKR48hHV"
      }
    },
    {
      "cell_type": "code",
      "source": [
        "\"\"\"\n",
        "In usual scenario we might not need operator overloading but a situation where we perform tasks on objects of classes or different class there could be complication as the \n",
        "interpreter does not know what to do with them at that time we use operator overloading to enable the operations we know on the objects of classes.\n",
        "\"\"\"\n",
        "class example:  \n",
        "    def __init__(self, X):  \n",
        "        self.X = X  \n",
        "   \n",
        "    # adding two objects  \n",
        "    def __add__(self, U):  \n",
        "        return self.X + U.X  \n",
        "object_1 = example(20)  \n",
        "object_2 = example(30)  \n",
        "print (\": \", object_1 + object_2)  "
      ],
      "metadata": {
        "colab": {
          "base_uri": "https://localhost:8080/"
        },
        "id": "WH_H0poi8hHV",
        "outputId": "12bbf6c8-b44a-47ed-cf03-3047fd193c40"
      },
      "execution_count": 2,
      "outputs": [
        {
          "output_type": "stream",
          "name": "stdout",
          "text": [
            ":  50\n"
          ]
        }
      ]
    },
    {
      "cell_type": "markdown",
      "source": [
        "Q8. What is the most popular form of operator overloading?"
      ],
      "metadata": {
        "id": "ZjOKBOCg8hK9"
      }
    },
    {
      "cell_type": "code",
      "source": [
        "\"\"\"\n",
        "The most popular and convenient for of operator overloading is the adition operator refered by \"+\" symbol.\n",
        "\"\"\""
      ],
      "metadata": {
        "id": "Lq_EWljD8hK9"
      },
      "execution_count": null,
      "outputs": []
    },
    {
      "cell_type": "markdown",
      "source": [
        "Q9. What are the two most important concepts to grasp in order to comprehend Python OOP code?"
      ],
      "metadata": {
        "id": "4__tM3B98hPY"
      }
    },
    {
      "cell_type": "code",
      "source": [
        "\"\"\"\n",
        "Inheritance and polymorphism are the 2 most important concepts to grasp in order to comprehen in python OOP code. As the main aim is to write code which is easy extended, and \n",
        "maintained and these concepts allows that to happen.\n",
        "\"\"\""
      ],
      "metadata": {
        "id": "EK8R5QYN8hPY"
      },
      "execution_count": null,
      "outputs": []
    }
  ]
}