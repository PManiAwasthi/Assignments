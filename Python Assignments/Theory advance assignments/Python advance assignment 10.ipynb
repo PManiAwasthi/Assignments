{
  "nbformat": 4,
  "nbformat_minor": 0,
  "metadata": {
    "colab": {
      "provenance": []
    },
    "kernelspec": {
      "name": "python3",
      "display_name": "Python 3"
    },
    "language_info": {
      "name": "python"
    }
  },
  "cells": [
    {
      "cell_type": "markdown",
      "source": [
        "What is the difference between __getattr__ and __getattribute__?"
      ],
      "metadata": {
        "id": "2OiDGvPqWJGS"
      }
    },
    {
      "cell_type": "code",
      "source": [
        "\"\"\"\n",
        "___getattrubute__ is used to return a attribute of the class in case it is not found an AttrubuteError exception in raised. Whereas __getattr__ is a methods used to handle\n",
        "such cases it is usually for that defined together with the getattribute so that when an attribute isn't found it can return a default value to avoid the hault the program after \n",
        "exception.\n",
        "\"\"\""
      ],
      "metadata": {
        "id": "vSDqM0v6WJMX"
      },
      "execution_count": null,
      "outputs": []
    },
    {
      "cell_type": "markdown",
      "source": [
        "What is the difference between properties and descriptors?"
      ],
      "metadata": {
        "id": "werGXBq8WKg6"
      }
    },
    {
      "cell_type": "code",
      "source": [
        "\"\"\"\n",
        "In order to bind the getter, setter and delete functions together with an attribute name, with using the @property decorator is properties, while being in the same class. \n",
        "The reference to the attribute looks like simple, direct access but invokes the appropriate functions of the object.\n",
        "\n",
        "The descriptors are more or less the same in binding perspective but they are used to bind from a separate class and we assign an object of this class to the attribute name \n",
        "in our main class. The reference to the attribute looks like simple, direct access but invokes an appropriate fucntion of decriptor object.\n",
        "\"\"\""
      ],
      "metadata": {
        "id": "_wqqwO7hWKg6"
      },
      "execution_count": null,
      "outputs": []
    },
    {
      "cell_type": "markdown",
      "source": [
        "What are the key differences in functionality between getattr and getattribute, as well as properties and descriptors?"
      ],
      "metadata": {
        "id": "PjCc-bCqWKmn"
      }
    },
    {
      "cell_type": "code",
      "source": [
        "\"\"\"\n",
        "The Key Differences between __getattr__, __getattribute__, Properties and Descriptors are:\n",
        "\n",
        "__getattr__: Python will call this method whenever you request an attribute that hasn't already been defined\n",
        "\n",
        "__getattribute__ : This method will invoked before looking at the actual attributes on the object. Means,if we have __getattribute__ method in our class, \n",
        "python invokes this method for every attribute regardless whether it exists or not.\n",
        "\n",
        "\n",
        "Properties: With Properties we can bind getter, setter and delete functions together with an attribute name, using the built-in property function or @property decorator. \n",
        "When we do this, each reference to an attribute looks like simple, direct access, but involes the appropriate function of the object.\n",
        "\n",
        "Descriptor: With Descriptor we can bind getter, setter and delete functions into a seperate class. we then assign an object of this class to the attribute name in our main class. \n",
        "When we do this, each reference to an attribute looks like simple, direct access but invokes an appropriate function of descriptor object.\n",
        "\"\"\""
      ],
      "metadata": {
        "id": "rhnpxTJfWKmn"
      },
      "execution_count": null,
      "outputs": []
    }
  ]
}