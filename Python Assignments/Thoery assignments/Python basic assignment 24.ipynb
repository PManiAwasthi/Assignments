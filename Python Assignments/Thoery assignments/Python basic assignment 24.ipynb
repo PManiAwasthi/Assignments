{
  "nbformat": 4,
  "nbformat_minor": 0,
  "metadata": {
    "colab": {
      "provenance": []
    },
    "kernelspec": {
      "name": "python3",
      "display_name": "Python 3"
    },
    "language_info": {
      "name": "python"
    }
  },
  "cells": [
    {
      "cell_type": "markdown",
      "source": [
        "What is the relationship between def statements and lambda expressions ?"
      ],
      "metadata": {
        "id": "AEaD5e_yQZzt"
      }
    },
    {
      "cell_type": "code",
      "source": [
        "\"\"\"\n",
        "Keyword def that marks the start of the function header. A function name to uniquely identify the function.\n",
        "Function naming follows the same rules of writing identifiers in Python\n",
        "\n",
        "Lambdas are one-line methods without a name or we can say anonymous Func\n",
        "They work practically the same as any other method in Python Lambdas differ from normal Python methods because they can have only one expression, \n",
        "can't contain any statements and their return type is a function object\n",
        "\n",
        "\"\"\""
      ],
      "metadata": {
        "id": "wulaTmTEQZ6C"
      },
      "execution_count": null,
      "outputs": []
    },
    {
      "cell_type": "markdown",
      "source": [
        "What is the benefit of lambda?"
      ],
      "metadata": {
        "id": "BdsGe7s0QfAa"
      }
    },
    {
      "cell_type": "code",
      "source": [
        "\"\"\"\n",
        "Fewer Lines of Code\n",
        "Lambda functions are inline functions and thus execute comparatively faster Many times lambda functions make code much more readable by avoiding \n",
        "the logical jumps caused by function calls\n",
        "\"\"\""
      ],
      "metadata": {
        "id": "Bl61N69NQfAa"
      },
      "execution_count": null,
      "outputs": []
    },
    {
      "cell_type": "markdown",
      "source": [
        "Compare and contrast map, filter, and reduce."
      ],
      "metadata": {
        "id": "_ewxVgwYQfK1"
      }
    },
    {
      "cell_type": "code",
      "source": [
        "\"\"\"\n",
        "map applies as a transformation to an element.\n",
        "The map() function iterates through all items in the given iterable and executes the function we passed as an argument on each of them. Syntax : map(function, iterable(s))\n",
        "\n",
        "filter accumulates only elements matching a condition.\n",
        "filter() forms a new list that contains only elements that satisfy a certain condition, i.e. the function we passed returns True Syntax : filter(function, iterable(s))\n",
        "\n",
        "reduce accumulates all elements to a single value, by using immutable values\n",
        "reduce() works by calling the function we passed for the first two items in the sequence. The result returned by the function is used in another call to function alongside \n",
        "with the next (third in this case), element Syntax : reduce(function, sequence[, initial])\n",
        "\"\"\""
      ],
      "metadata": {
        "id": "4Lcz_MjtQfK2"
      },
      "execution_count": null,
      "outputs": []
    },
    {
      "cell_type": "markdown",
      "source": [
        "What are function annotations, and how are they used?"
      ],
      "metadata": {
        "id": "wmspkNgOQfQO"
      }
    },
    {
      "cell_type": "code",
      "source": [
        "\"\"\"\n",
        "Function annotation is the standard way to access the metadata with the arguments and the return value of the function.\n",
        "These are nothing but some random and optional Python expressions that get allied to different parts of the function. They get evaluated only during the \n",
        "compile-time and have no significance during the run-time of the code. They do not have any significance or meaning associated with them until accessed by \n",
        "some third-party libraries. They are used to type check the functions by declaring the type of the parameters and the return value for the functions. \n",
        "The string-based annotations help us to improve the help messages.\n",
        "\n",
        "Syntax :\n",
        "\n",
        "def func(a: 'int') -> 'int':\n",
        "pass\n",
        "Annotations for simple parameters:\n",
        "\n",
        "def func(x: 'float'=10.8, y: 'argument2'):\n",
        "In the above code the argument, ‘x’ of the function func, has been annotated to float data type and the argument ‘y’ has a string-based annotation. The argument can also be assigned to a default value using a ‘=’ symbol followed by the default value. These default values are optional to the code.\n",
        "Annotations for return values:\n",
        "\n",
        "def func(a: expression) -> 'int':\n",
        "The annotations for the return value is written after the ‘->’ symbol.\n",
        "\"\"\""
      ],
      "metadata": {
        "id": "30dF8SMNQfQO"
      },
      "execution_count": null,
      "outputs": []
    },
    {
      "cell_type": "markdown",
      "source": [
        "What are recursive functions, and how are they used?\n",
        "\n"
      ],
      "metadata": {
        "id": "U5KjPQlOQfVt"
      }
    },
    {
      "cell_type": "code",
      "source": [
        "\"\"\" A recursive function is a function that calls itself during its execution.\n",
        "This means that the function will continue to call itself and repeat its behavior until some condition is met to return a result\n",
        "\"\"\"\n",
        "\n",
        "# how are they used\n",
        "def fact(x):\n",
        "    if x == 1 :\n",
        "        return 1\n",
        "    else :\n",
        "        return x * fact(x-1) # recurtion\n",
        "    \n",
        "fact(3)"
      ],
      "metadata": {
        "colab": {
          "base_uri": "https://localhost:8080/"
        },
        "id": "Fmxtz-jiQfVu",
        "outputId": "250b978f-7dde-4cde-cfae-588cd3c5e811"
      },
      "execution_count": 153,
      "outputs": [
        {
          "output_type": "execute_result",
          "data": {
            "text/plain": [
              "6"
            ]
          },
          "metadata": {},
          "execution_count": 153
        }
      ]
    },
    {
      "cell_type": "markdown",
      "source": [
        "What are some general design guidelines for coding functions?"
      ],
      "metadata": {
        "id": "gOL6GyKLQfaY"
      }
    },
    {
      "cell_type": "code",
      "source": [
        "\"\"\"\n",
        "Use 4-space indentation and no tabs.\n",
        "\n",
        "Use docstrings\n",
        "\n",
        "Wrap linethat they don’t exceed 79 characters\n",
        "\n",
        "Use of regular and updated comments are valuable to both the coders and users\n",
        "\n",
        "Use of trailing commas : in case of tuple -> ('good',)\n",
        "\n",
        "Use Python’s default UTF-8 or ASCII encodings and not any fancy encodings\n",
        "\n",
        "Naming Conventions\n",
        "\n",
        "Characters that should not be used for identifiers : ‘l’ (lowercase letter el), ‘O’ (uppercase letter oh), \n",
        "‘I’ (uppercase letter eye) as single character variable names as these are similar to the numerals one and zero. \n",
        "\n",
        "Don’t use non-ASCII characters in identifiers 10. Name your classes and functions consistently 11. While naming of function of methods always use self for the first argument\n",
        "\"\"\""
      ],
      "metadata": {
        "id": "qPw_toK1QfaZ"
      },
      "execution_count": null,
      "outputs": []
    },
    {
      "cell_type": "markdown",
      "source": [
        "Name three or more ways that functions can communicate results to a caller.\n",
        "\n"
      ],
      "metadata": {
        "id": "e-AJbTh-Qfew"
      }
    },
    {
      "cell_type": "code",
      "source": [
        "\"\"\"\n",
        "Function can return single value\n",
        "\n",
        "Can return multiple values, tuple\n",
        "\n",
        "can return list,dictionary\n",
        "\n",
        "can return function object\n",
        "\n",
        "can return class object\n",
        "\n",
        "\"\"\""
      ],
      "metadata": {
        "id": "buAvnTy8Qfew"
      },
      "execution_count": null,
      "outputs": []
    }
  ]
}