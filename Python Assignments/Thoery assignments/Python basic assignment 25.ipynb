{
  "nbformat": 4,
  "nbformat_minor": 0,
  "metadata": {
    "colab": {
      "provenance": []
    },
    "kernelspec": {
      "name": "python3",
      "display_name": "Python 3"
    },
    "language_info": {
      "name": "python"
    }
  },
  "cells": [
    {
      "cell_type": "markdown",
      "source": [
        "What is the difference between enclosing a list comprehension in square brackets and parentheses?"
      ],
      "metadata": {
        "id": "L1pSqeBlRu05"
      }
    },
    {
      "cell_type": "code",
      "source": [
        "\"\"\"\n",
        "If we enclose the list comprehension in square bracket then it produces a list where as with parentheses we are actually making a generator\n",
        "\"\"\"\n",
        "ls = [i for i in range(10)]\n",
        "print(ls)\n",
        "ls = (i for i in range(10))\n",
        "print(ls)\n",
        "print(list(ls))"
      ],
      "metadata": {
        "colab": {
          "base_uri": "https://localhost:8080/"
        },
        "id": "to-GjOd5Ru5e",
        "outputId": "f0f22dfb-bb13-44f3-cf29-cacbd26221b2"
      },
      "execution_count": 154,
      "outputs": [
        {
          "output_type": "stream",
          "name": "stdout",
          "text": [
            "[0, 1, 2, 3, 4, 5, 6, 7, 8, 9]\n",
            "<generator object <genexpr> at 0x7f0f0f9ffcf0>\n",
            "[0, 1, 2, 3, 4, 5, 6, 7, 8, 9]\n"
          ]
        }
      ]
    },
    {
      "cell_type": "markdown",
      "source": [
        "What is the relationship between generators and iterators?"
      ],
      "metadata": {
        "id": "ICU59WGIRvkS"
      }
    },
    {
      "cell_type": "code",
      "source": [
        "\"\"\"\n",
        "Iterator\n",
        "An iterator is an object which contains a countable number of values and it is used to iterate over iterable objects like list, tuples etc\n",
        "Using an iterator- iter() keyword is used to create an iterator containing an iterable object. next() keyword is used to call the next element in the iterable object.\n",
        "\n",
        "Generator\n",
        "It is another way of creating iterators in a simple way where it uses the keyword “yield” instead of returning it in a defined function Generators are implemented \n",
        "using a function Here, the yield function returns the data without affecting or exiting the function. It will return a sequence of data in an iterable format where \n",
        "we need to iterate over the sequence to use the data as they won’t store the entire sequence in the memory By using next() function we can iterate the output of generator \n",
        "function\n",
        "\"\"\""
      ],
      "metadata": {
        "id": "GM2Asa_BRvkT"
      },
      "execution_count": null,
      "outputs": []
    },
    {
      "cell_type": "markdown",
      "source": [
        "What are the signs that a function is a generator function?"
      ],
      "metadata": {
        "id": "eeVIPxKRRvqq"
      }
    },
    {
      "cell_type": "code",
      "source": [
        "\"\"\"\n",
        "If a function contains at least one yield statement (it may contain other yield or return statements), it becomes a generator function. \n",
        "Both yield and return will return some value from a function.\n",
        "\"\"\""
      ],
      "metadata": {
        "id": "SI22XaXJRvqr"
      },
      "execution_count": null,
      "outputs": []
    },
    {
      "cell_type": "markdown",
      "source": [
        "What is the purpose of a yield statement?"
      ],
      "metadata": {
        "id": "aWUrSar_RvwM"
      }
    },
    {
      "cell_type": "code",
      "source": [
        "\"\"\"\n",
        "A yield statement looks much like a return statement, except that instead of stopping execution of the function and\n",
        "returning, yield instead provides a value to the code looping over the generator and pauses execution of the generator function\n",
        "\n",
        "\"\"\""
      ],
      "metadata": {
        "id": "jdg9tgiqRvwN"
      },
      "execution_count": null,
      "outputs": []
    },
    {
      "cell_type": "markdown",
      "source": [
        "What is the relationship between map calls and list comprehensions? Make a comparison and contrast between the two."
      ],
      "metadata": {
        "id": "Nx4lBgLRRv16"
      }
    },
    {
      "cell_type": "code",
      "source": [
        "\"\"\"\n",
        "Map function:\n",
        "Suppose we have a function and we want to compute this function for different values in a single line of code . \n",
        "This is where map() function plays its role. map() function returns a map object(which is an iterator) of the results after \n",
        "applying the given function to each item of a given iterable (list, tuple etc.)\n",
        "\n",
        "If we already have a function defined, it is often good to use map For example, map(sum, myLists) is more neat than \n",
        "[sum(x) for x in myLists]. You gain the elegance of not having to make up a dummy variable (e.g. sum(x) for x... or \n",
        "sum(_) for _... or sum(readableName) for readableName...) which you have to type twice, just to iterate.\n",
        "\n",
        "List Comprehension:\n",
        "List Comprehension is a substitute for the lambda function, map(), filter() and reduce()\n",
        "\n",
        "Comparision :\n",
        "List comprehension is more concise and easier to read as compared to map\n",
        "List comprehension allows filtering. In map, we have no such facility\n",
        "For example, to print all even numbers in range of 100, we can write [n for n in range(100) if n%2 == 0]. \n",
        "There is no alternate for it in map 3. List comprehension are used when a list of results is required, \n",
        "where as map only returns a map object and does not return any list. 4. List comprehension is faster than map \n",
        "when we need to evaluate expressions that are too long or complicated to express 5. Map is faster in case of \n",
        "calling an already defined function (as no lambda is required)\n",
        "\n",
        "\"\"\""
      ],
      "metadata": {
        "id": "n0vt-nNoRv17"
      },
      "execution_count": null,
      "outputs": []
    }
  ]
}