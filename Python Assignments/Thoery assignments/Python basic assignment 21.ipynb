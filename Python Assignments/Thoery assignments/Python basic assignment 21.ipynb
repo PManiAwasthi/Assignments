{
  "nbformat": 4,
  "nbformat_minor": 0,
  "metadata": {
    "colab": {
      "provenance": []
    },
    "kernelspec": {
      "name": "python3",
      "display_name": "Python 3"
    },
    "language_info": {
      "name": "python"
    }
  },
  "cells": [
    {
      "cell_type": "markdown",
      "source": [
        "Add the current date to the text file today.txt as a string."
      ],
      "metadata": {
        "id": "BToR58fRHTQ2"
      }
    },
    {
      "cell_type": "code",
      "source": [
        "from datetime import date\n",
        "dateNow = date.today().isoformat()\n",
        "print(dateNow)\n",
        "file = open('today.txt', 'w')\n",
        "file.write(dateNow)"
      ],
      "metadata": {
        "colab": {
          "base_uri": "https://localhost:8080/"
        },
        "id": "ZhrS0ITWHTVb",
        "outputId": "2e141e0d-73c6-41c0-dc74-d7c6ee21db6d"
      },
      "execution_count": 116,
      "outputs": [
        {
          "output_type": "stream",
          "name": "stdout",
          "text": [
            "2022-12-08\n"
          ]
        },
        {
          "output_type": "execute_result",
          "data": {
            "text/plain": [
              "10"
            ]
          },
          "metadata": {},
          "execution_count": 116
        }
      ]
    },
    {
      "cell_type": "markdown",
      "source": [
        "Read the text file today.txt into the string today_string"
      ],
      "metadata": {
        "id": "5p-RMmtAHUSV"
      }
    },
    {
      "cell_type": "code",
      "source": [
        "with open('today.txt', 'r') as file:\n",
        "  content = file.read()\n",
        "print(content)"
      ],
      "metadata": {
        "colab": {
          "base_uri": "https://localhost:8080/"
        },
        "id": "d65HKsobHUSW",
        "outputId": "92e52b20-ad30-4061-fa3d-c6990fcee68a"
      },
      "execution_count": 117,
      "outputs": [
        {
          "output_type": "stream",
          "name": "stdout",
          "text": [
            "2022-12-08\n"
          ]
        }
      ]
    },
    {
      "cell_type": "markdown",
      "source": [
        "Parse the date from today_string."
      ],
      "metadata": {
        "id": "qh7-KpaXHUXW"
      }
    },
    {
      "cell_type": "code",
      "source": [
        "from datetime import datetime\n",
        "format = '%Y-%m-%d'\n",
        "datetime.strptime(content, format)"
      ],
      "metadata": {
        "colab": {
          "base_uri": "https://localhost:8080/"
        },
        "id": "yPkIO0uPHUXW",
        "outputId": "8e0a75ee-129a-4b46-a176-1efd6cd0d086"
      },
      "execution_count": 118,
      "outputs": [
        {
          "output_type": "execute_result",
          "data": {
            "text/plain": [
              "datetime.datetime(2022, 12, 8, 0, 0)"
            ]
          },
          "metadata": {},
          "execution_count": 118
        }
      ]
    },
    {
      "cell_type": "markdown",
      "source": [
        "List the files in your current directory"
      ],
      "metadata": {
        "id": "0YgxmqqbHUbm"
      }
    },
    {
      "cell_type": "code",
      "source": [
        "import os\n",
        "print(os.listdir())"
      ],
      "metadata": {
        "colab": {
          "base_uri": "https://localhost:8080/"
        },
        "id": "GPMLFOEGHUbn",
        "outputId": "3000b73d-b546-4f2e-e5c4-7524878d6bc3"
      },
      "execution_count": 119,
      "outputs": [
        {
          "output_type": "stream",
          "name": "stdout",
          "text": [
            "['.config', 'test.txt', 'today.txt', 'books.db', 'books.csv', '__pycache__', 'zoo.py', 'sample_data']\n"
          ]
        }
      ]
    },
    {
      "cell_type": "markdown",
      "source": [
        "Create a list of all of the files in your parent directory (minimum five files should be available)."
      ],
      "metadata": {
        "id": "R9vg41PMKxGz"
      }
    },
    {
      "cell_type": "code",
      "source": [
        "ls = [os.listdir()]\n",
        "print(ls)"
      ],
      "metadata": {
        "colab": {
          "base_uri": "https://localhost:8080/"
        },
        "id": "34x9SyuWKxT0",
        "outputId": "2e658a57-b2c5-4369-d16d-7bc68f78a355"
      },
      "execution_count": 135,
      "outputs": [
        {
          "output_type": "stream",
          "name": "stdout",
          "text": [
            "[['.config', 'test.txt', 'today.txt', 'books.db', 'books.csv', '__pycache__', 'zoo.py', 'sample_data']]\n"
          ]
        }
      ]
    },
    {
      "cell_type": "markdown",
      "source": [
        "Use multiprocessing to create three separate processes. Make each one wait a random number of seconds between one and five, print the current time, and then exit."
      ],
      "metadata": {
        "id": "qcrwoPQFHUfR"
      }
    },
    {
      "cell_type": "code",
      "source": [
        "import multiprocessing\n",
        "\n",
        "def printTime(seconds):\n",
        "  from datetime import datetime\n",
        "  from time import sleep\n",
        "  sleep(seconds)\n",
        "  print(f'after waiting for {seconds}, current time is {datetime.utcnow()}')\n",
        "\n",
        "import random\n",
        "for n in range(4):\n",
        "  seconds = random.randrange(5) \n",
        "  process = multiprocessing.Process(target = printTime, args=(seconds,))\n",
        "  process.start()"
      ],
      "metadata": {
        "id": "DN6CfPp1HUfR"
      },
      "execution_count": 129,
      "outputs": []
    },
    {
      "cell_type": "markdown",
      "source": [
        "Create a date object of your day of birth\n",
        "\n"
      ],
      "metadata": {
        "id": "16nRcOzYHUis"
      }
    },
    {
      "cell_type": "code",
      "source": [
        "my_dob = date(2000, 10, 10)\n",
        "print(my_dob)"
      ],
      "metadata": {
        "colab": {
          "base_uri": "https://localhost:8080/"
        },
        "id": "2Gb7hVnhHUis",
        "outputId": "847d0b13-0dd9-445d-e785-3f1c17010747"
      },
      "execution_count": 131,
      "outputs": [
        {
          "output_type": "stream",
          "name": "stdout",
          "text": [
            "2000-10-10\n"
          ]
        }
      ]
    },
    {
      "cell_type": "markdown",
      "source": [
        "What day of the week was your day of birth?"
      ],
      "metadata": {
        "id": "eBVoo53ZHUl5"
      }
    },
    {
      "cell_type": "code",
      "source": [
        "print(my_dob.weekday())\n",
        "# 1 means monday"
      ],
      "metadata": {
        "colab": {
          "base_uri": "https://localhost:8080/"
        },
        "id": "dV_FjjdEHUl5",
        "outputId": "fd0fb676-386f-45c0-d5cb-550384776317"
      },
      "execution_count": 132,
      "outputs": [
        {
          "output_type": "stream",
          "name": "stdout",
          "text": [
            "1\n"
          ]
        }
      ]
    },
    {
      "cell_type": "markdown",
      "source": [
        "When will you be (or when were you) 10,000 days old?"
      ],
      "metadata": {
        "id": "krhe4ni_HUpi"
      }
    },
    {
      "cell_type": "code",
      "source": [
        "from datetime import timedelta\n",
        "day = my_dob + timedelta(days=10000)\n",
        "print(day)"
      ],
      "metadata": {
        "colab": {
          "base_uri": "https://localhost:8080/"
        },
        "id": "n2TJfhfcHUpj",
        "outputId": "a2c4dfde-aff4-482b-a18b-93156beb21c3"
      },
      "execution_count": 133,
      "outputs": [
        {
          "output_type": "stream",
          "name": "stdout",
          "text": [
            "2028-02-26\n"
          ]
        }
      ]
    }
  ]
}