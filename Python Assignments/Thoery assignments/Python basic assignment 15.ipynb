{
  "nbformat": 4,
  "nbformat_minor": 0,
  "metadata": {
    "colab": {
      "provenance": []
    },
    "kernelspec": {
      "name": "python3",
      "display_name": "Python 3"
    },
    "language_info": {
      "name": "python"
    }
  },
  "cells": [
    {
      "cell_type": "markdown",
      "source": [
        "#### How many seconds are in an hour? Use the interactive interpreter as a calculator and multiply the number of seconds in a minute (60) by the number of minutes in an hour (also 60)."
      ],
      "metadata": {
        "id": "QjnkmYsePOG-"
      }
    },
    {
      "cell_type": "code",
      "source": [
        "60 * 60"
      ],
      "metadata": {
        "colab": {
          "base_uri": "https://localhost:8080/"
        },
        "id": "rb5oIJRKO1zi",
        "outputId": "e2d7509d-4a51-4a7f-b436-2070f964d82e"
      },
      "execution_count": null,
      "outputs": [
        {
          "output_type": "execute_result",
          "data": {
            "text/plain": [
              "3600"
            ]
          },
          "metadata": {},
          "execution_count": 1
        }
      ]
    },
    {
      "cell_type": "markdown",
      "source": [
        "#### Assign the result from the previous task (seconds in an hour) to a variable called seconds_per_hour."
      ],
      "metadata": {
        "id": "ymNbsEhAPXkK"
      }
    },
    {
      "cell_type": "code",
      "source": [
        "seconds_per_hour = 3600"
      ],
      "metadata": {
        "id": "6yvibeZhO3Um"
      },
      "execution_count": null,
      "outputs": []
    },
    {
      "cell_type": "markdown",
      "source": [
        "#### How many seconds are in a day? Use your seconds_per_hour variable."
      ],
      "metadata": {
        "id": "hSkQsJANPacQ"
      }
    },
    {
      "cell_type": "code",
      "source": [
        "seconds_per_hour * 24"
      ],
      "metadata": {
        "colab": {
          "base_uri": "https://localhost:8080/"
        },
        "id": "qN5qfx-RO59q",
        "outputId": "9295e0f8-b47c-449a-cfae-0e48b1935a86"
      },
      "execution_count": null,
      "outputs": [
        {
          "output_type": "execute_result",
          "data": {
            "text/plain": [
              "86400"
            ]
          },
          "metadata": {},
          "execution_count": 3
        }
      ]
    },
    {
      "cell_type": "markdown",
      "source": [
        "#### Calculate seconds per day again, but this time save the result in a variable called seconds_per_day.\n"
      ],
      "metadata": {
        "id": "cet0m4E8PdPU"
      }
    },
    {
      "cell_type": "code",
      "source": [
        "seconds_per_day = seconds_per_hour * 24\n",
        "seconds_per_day"
      ],
      "metadata": {
        "colab": {
          "base_uri": "https://localhost:8080/"
        },
        "id": "s5bhxzSPO7tk",
        "outputId": "07327755-f952-481d-8a92-53a9d992dca0"
      },
      "execution_count": null,
      "outputs": [
        {
          "output_type": "execute_result",
          "data": {
            "text/plain": [
              "86400"
            ]
          },
          "metadata": {},
          "execution_count": 4
        }
      ]
    },
    {
      "cell_type": "markdown",
      "source": [
        "#### Divide seconds_per_day by seconds_per_hour. Use floating-point (/) division."
      ],
      "metadata": {
        "id": "baS1KULZPgys"
      }
    },
    {
      "cell_type": "code",
      "source": [
        "seconds_per_day / seconds_per_hour"
      ],
      "metadata": {
        "colab": {
          "base_uri": "https://localhost:8080/"
        },
        "id": "-duDR-zUO_F7",
        "outputId": "ac2427a3-4336-4519-fb38-b2ecf56d5182"
      },
      "execution_count": null,
      "outputs": [
        {
          "output_type": "execute_result",
          "data": {
            "text/plain": [
              "24.0"
            ]
          },
          "metadata": {},
          "execution_count": 5
        }
      ]
    },
    {
      "cell_type": "markdown",
      "source": [
        "#### Divide seconds_per_day by seconds_per_hour, using integer (//) division. Did this number agree with the floating-point value from the previous question, aside from the final .0?"
      ],
      "metadata": {
        "id": "aImBCLT1PkrO"
      }
    },
    {
      "cell_type": "code",
      "source": [
        "seconds_per_day // seconds_per_hour"
      ],
      "metadata": {
        "colab": {
          "base_uri": "https://localhost:8080/"
        },
        "id": "En1PHjRwPBrE",
        "outputId": "d6b4488f-8e61-413e-b109-09091907e2ba"
      },
      "execution_count": null,
      "outputs": [
        {
          "output_type": "execute_result",
          "data": {
            "text/plain": [
              "24"
            ]
          },
          "metadata": {},
          "execution_count": 6
        }
      ]
    },
    {
      "cell_type": "markdown",
      "source": [
        "Write a generator, genPrimes, that returns the sequence of prime numbers on successive calls to\n",
        "its next() method: 2, 3, 5, 7, 11, ..."
      ],
      "metadata": {
        "id": "v9zNCK02P-2d"
      }
    },
    {
      "cell_type": "code",
      "source": [
        "from sympy import isprime\n",
        "def genPrimes(n):\n",
        "  for i in range(2, n+1):\n",
        "    if isprime(i):\n",
        "      yield i"
      ],
      "metadata": {
        "id": "Irsoxf1TQBYH"
      },
      "execution_count": 1,
      "outputs": []
    },
    {
      "cell_type": "code",
      "source": [
        "inputX = int(input())\n",
        "for i in genPrimes(inputX):\n",
        "  print(i)"
      ],
      "metadata": {
        "id": "j-dVr1GpQXTz",
        "colab": {
          "base_uri": "https://localhost:8080/"
        },
        "outputId": "3520c7ff-2b3e-4d2b-8cf2-32f8d01b8f04"
      },
      "execution_count": 2,
      "outputs": [
        {
          "output_type": "stream",
          "name": "stdout",
          "text": [
            "15\n",
            "2\n",
            "3\n",
            "5\n",
            "7\n",
            "11\n",
            "13\n"
          ]
        }
      ]
    }
  ]
}