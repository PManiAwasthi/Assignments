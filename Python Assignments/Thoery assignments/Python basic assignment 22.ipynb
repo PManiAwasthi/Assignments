{
  "nbformat": 4,
  "nbformat_minor": 0,
  "metadata": {
    "colab": {
      "provenance": []
    },
    "kernelspec": {
      "name": "python3",
      "display_name": "Python 3"
    },
    "language_info": {
      "name": "python"
    }
  },
  "cells": [
    {
      "cell_type": "markdown",
      "source": [
        "What is the result of the code, and explain?"
      ],
      "metadata": {
        "id": "JhG19f55K9vH"
      }
    },
    {
      "cell_type": "code",
      "source": [
        "X = 'iNeuron'\n",
        "def func():\n",
        "    print(X)\n",
        "func()\n",
        "\n",
        "# here the scope of X is global due to which any function will be able to access it until they are in the scope"
      ],
      "metadata": {
        "colab": {
          "base_uri": "https://localhost:8080/"
        },
        "id": "KsNE4DWnK9zL",
        "outputId": "762321ce-07b5-48f5-b9c1-219eea800697"
      },
      "execution_count": 136,
      "outputs": [
        {
          "output_type": "stream",
          "name": "stdout",
          "text": [
            "iNeuron\n"
          ]
        }
      ]
    },
    {
      "cell_type": "markdown",
      "source": [
        "What is the result of the code, and explain?\n",
        "\n"
      ],
      "metadata": {
        "id": "SwtrreixLCyW"
      }
    },
    {
      "cell_type": "code",
      "source": [
        "X = 'iNeuron'\n",
        "def func():\n",
        "    X = 'NI!'\n",
        "\n",
        "func()\n",
        "print(X)\n",
        "\n",
        "# due is due to the fact that the scope of local variable X of function func() is up ultil the function boundaries so it seizes to exist after that due to which \n",
        "# at the end the value that is referred in print() statement is the global X"
      ],
      "metadata": {
        "colab": {
          "base_uri": "https://localhost:8080/"
        },
        "id": "rfgKdb8ULCyW",
        "outputId": "eeeefe04-e8bc-4156-ac15-2fcb07b47fd4"
      },
      "execution_count": 137,
      "outputs": [
        {
          "output_type": "stream",
          "name": "stdout",
          "text": [
            "iNeuron\n"
          ]
        }
      ]
    },
    {
      "cell_type": "markdown",
      "source": [
        "What does this code print, and why?"
      ],
      "metadata": {
        "id": "RVg6i90hLC9K"
      }
    },
    {
      "cell_type": "code",
      "source": [
        "X = 'iNeuron'\n",
        "def func():\n",
        "    X = 'NI!'\n",
        "    print(X)\n",
        "\n",
        "func()\n",
        "print(X)\n",
        "# here both the local and global variables are printed in their availablity scope therefore the sequence follows the sequence of statement execution therefore\n",
        "# X inside func() is printed first then the global X"
      ],
      "metadata": {
        "colab": {
          "base_uri": "https://localhost:8080/"
        },
        "id": "x5oDUR6NLC9L",
        "outputId": "09a79b2f-9d6a-4ba6-eeb5-b5fe80f866bf"
      },
      "execution_count": 138,
      "outputs": [
        {
          "output_type": "stream",
          "name": "stdout",
          "text": [
            "NI!\n",
            "iNeuron\n"
          ]
        }
      ]
    },
    {
      "cell_type": "markdown",
      "source": [
        "What output does this code produce? Why?"
      ],
      "metadata": {
        "id": "SCJwODliLDBN"
      }
    },
    {
      "cell_type": "code",
      "source": [
        "X = 'iNeuron'\n",
        "def func():\n",
        "    global X\n",
        "    X = 'NI!'\n",
        "    print(X)\n",
        "\n",
        "func()\n",
        "print(X)\n",
        "# the keyword global is used to instruct the compile to not make a local variable X rather go or refer to the global instance of X due to which when we change the \n",
        "# value it becomes permanant"
      ],
      "metadata": {
        "colab": {
          "base_uri": "https://localhost:8080/"
        },
        "id": "3isYdtBmLDBO",
        "outputId": "f30446d3-a90c-4683-8033-e3d457b282ba"
      },
      "execution_count": 139,
      "outputs": [
        {
          "output_type": "stream",
          "name": "stdout",
          "text": [
            "NI!\n",
            "NI!\n"
          ]
        }
      ]
    },
    {
      "cell_type": "markdown",
      "source": [
        "What about this code—what’s the output, and w"
      ],
      "metadata": {
        "id": "zS4DfEdqLDFt"
      }
    },
    {
      "cell_type": "code",
      "source": [
        "X = 'iNeuron'\n",
        "def func():\n",
        "    X = 'NI'\n",
        "def nested():\n",
        "    print(X)\n",
        "    \n",
        "nested()\n",
        "func()\n",
        "# here the scope of X with value 'NI' inside func() is until only the function boundary due to which it does not persist rather the global X is referred by the nested funciton \n",
        "# which results in the output"
      ],
      "metadata": {
        "colab": {
          "base_uri": "https://localhost:8080/"
        },
        "id": "xo9YOTswLDFu",
        "outputId": "dc5539ed-4dd6-4f8d-9978-1a4960c8327d"
      },
      "execution_count": 141,
      "outputs": [
        {
          "output_type": "stream",
          "name": "stdout",
          "text": [
            "iNeuron\n"
          ]
        }
      ]
    },
    {
      "cell_type": "markdown",
      "source": [
        "How about this code: what is its output in Python 3, and explain?"
      ],
      "metadata": {
        "id": "AsSs_ZerLDKb"
      }
    },
    {
      "cell_type": "code",
      "source": [
        "def func():\n",
        "    X = 'NI'\n",
        "    def nested():\n",
        "        nonlocal X\n",
        "        X = 'spam'\n",
        "    nested()\n",
        "    print(X)\n",
        "\n",
        "func()\n",
        "# the keyword nonlocal makes the intepreter to not take the local variable rather go for variable avaible before the local boundary whihc is X with value 'NI'\n",
        "# so when value is changed it affects the X in func() so hence the output"
      ],
      "metadata": {
        "colab": {
          "base_uri": "https://localhost:8080/"
        },
        "id": "aBMtMF58LDKc",
        "outputId": "3d78226e-b09d-4969-ee8e-5c4fb5d39ee3"
      },
      "execution_count": 142,
      "outputs": [
        {
          "output_type": "stream",
          "name": "stdout",
          "text": [
            "spam\n"
          ]
        }
      ]
    },
    {
      "cell_type": "code",
      "source": [],
      "metadata": {
        "id": "teS3hRfqNEIF"
      },
      "execution_count": null,
      "outputs": []
    }
  ]
}