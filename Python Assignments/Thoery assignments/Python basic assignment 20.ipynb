{
  "nbformat": 4,
  "nbformat_minor": 0,
  "metadata": {
    "colab": {
      "provenance": []
    },
    "kernelspec": {
      "name": "python3",
      "display_name": "Python 3"
    },
    "language_info": {
      "name": "python"
    }
  },
  "cells": [
    {
      "cell_type": "markdown",
      "source": [
        "Set the variable test1 to the string 'This is a test of the emergency text system,' and save test1 to a\n",
        "file named test.txt."
      ],
      "metadata": {
        "id": "VnTN_0ZN4w27"
      }
    },
    {
      "cell_type": "code",
      "source": [
        "test1 = 'This is a test of the emergency text system,'\n",
        "file1 = open('test.txt', 'w')\n",
        "file1.write(test1)"
      ],
      "metadata": {
        "colab": {
          "base_uri": "https://localhost:8080/"
        },
        "id": "9iDKRzTx4w9O",
        "outputId": "ddc772bb-8bc0-481a-a62c-2e24290dd88b"
      },
      "execution_count": 92,
      "outputs": [
        {
          "output_type": "execute_result",
          "data": {
            "text/plain": [
              "44"
            ]
          },
          "metadata": {},
          "execution_count": 92
        }
      ]
    },
    {
      "cell_type": "markdown",
      "source": [
        "Read the contents of the file test.txt into the variable test2. Is there a difference between test 1 and test 2?"
      ],
      "metadata": {
        "id": "rVtexbxa41Lx"
      }
    },
    {
      "cell_type": "code",
      "source": [
        "file = open('test.txt', 'r')\n",
        "test2 = file.readline()\n",
        "print(test2)\n",
        "print(test1 == test2)\n",
        "#as the test case returns True so there is no difference between them"
      ],
      "metadata": {
        "colab": {
          "base_uri": "https://localhost:8080/"
        },
        "id": "7LHTC41j41Lx",
        "outputId": "f4cdd4fc-9152-4464-b296-44fa218522ef"
      },
      "execution_count": 95,
      "outputs": [
        {
          "output_type": "stream",
          "name": "stdout",
          "text": [
            "This is a test of the emergency text system,\n",
            "True\n"
          ]
        }
      ]
    },
    {
      "cell_type": "markdown",
      "source": [
        "Create a CSV file called books.csv by using these lines:\n",
        "\n",
        "title,author,year The Weirdstone of Brisingamen,Alan Garner,1960 Perdido Street Station,China Miéville,2000 Thud!,Terry Pratchett,2005 The Spellman Files,Lisa Lutz,2007 Small Gods,Terry Pratchett,1992"
      ],
      "metadata": {
        "id": "7KgpCFRv41Ro"
      }
    },
    {
      "cell_type": "code",
      "source": [
        "import csv\n",
        "rows =[ ['title','author','year'],\n",
        "    ['The Weirdstone of Brisingamen','Alan Garner',1960],\n",
        "    ['Perdido Street Station','China Miéville',2000],\n",
        "    ['Thud!','Terry Pratchett',2005],\n",
        "    ['The Spellman Files','Lisa Lutz',2007],\n",
        "    ['Small Gods','Terry Pratchett',1992]]\n",
        "with open('books.csv', 'w') as file:\n",
        "  writer = csv.writer(file)\n",
        "  writer.writerows(rows)"
      ],
      "metadata": {
        "id": "UkbStLRa41Ro"
      },
      "execution_count": 97,
      "outputs": []
    },
    {
      "cell_type": "markdown",
      "source": [
        "Use the sqlite3 module to create a SQLite database called books.db, and a table called books with these fields: title (text), author (text), and year (integer)"
      ],
      "metadata": {
        "id": "K2O-pIo941Wc"
      }
    },
    {
      "cell_type": "code",
      "source": [
        "import sqlite3\n",
        "conn = sqlite3.connect('books.db')\n",
        "c = conn.cursor()\n",
        "c.execute('create table books(title varchar(20), author varchar(20), year int)')\n",
        "conn.commit()"
      ],
      "metadata": {
        "id": "nxtYwdMK41Wd"
      },
      "execution_count": 99,
      "outputs": []
    },
    {
      "cell_type": "markdown",
      "source": [
        "Read books.csv and insert its data into the book table.\n",
        "\n"
      ],
      "metadata": {
        "id": "Jat0_2_V41aR"
      }
    },
    {
      "cell_type": "code",
      "source": [
        "import pandas as pd\n",
        "dataset = pd.read_csv('books.csv')\n",
        "dataset.to_sql('books', conn, if_exists = 'append', index = False)"
      ],
      "metadata": {
        "id": "s6GF8uxc41aR"
      },
      "execution_count": 101,
      "outputs": []
    },
    {
      "cell_type": "markdown",
      "source": [
        "Select and print the title column from the book table in alphabetical order."
      ],
      "metadata": {
        "id": "hSHJTvmM41eX"
      }
    },
    {
      "cell_type": "code",
      "source": [
        "c.execute(\"select title from books order by title\")\n",
        "print(c.fetchall())"
      ],
      "metadata": {
        "colab": {
          "base_uri": "https://localhost:8080/"
        },
        "id": "w8frSvV241eY",
        "outputId": "e95f6321-d358-4a48-b5cf-5dafcf40324e"
      },
      "execution_count": 103,
      "outputs": [
        {
          "output_type": "stream",
          "name": "stdout",
          "text": [
            "[('Perdido Street Station',), ('Small Gods',), ('The Spellman Files',), ('The Weirdstone of Brisingamen',), ('Thud!',)]\n"
          ]
        }
      ]
    },
    {
      "cell_type": "markdown",
      "source": [
        "From the book table, select and print all columns in the order of publication.\n",
        "\n"
      ],
      "metadata": {
        "id": "eYO1IHcm41iZ"
      }
    },
    {
      "cell_type": "code",
      "source": [
        "c.execute(\"select * from books order by year\")\n",
        "for i in c.fetchall():\n",
        "  print(i)"
      ],
      "metadata": {
        "colab": {
          "base_uri": "https://localhost:8080/"
        },
        "id": "lAj6JzOI41ib",
        "outputId": "30f58a7d-c371-4e14-ed48-967da122543f"
      },
      "execution_count": 106,
      "outputs": [
        {
          "output_type": "stream",
          "name": "stdout",
          "text": [
            "('The Weirdstone of Brisingamen', 'Alan Garner', 1960)\n",
            "('Small Gods', 'Terry Pratchett', 1992)\n",
            "('Perdido Street Station', 'China Miéville', 2000)\n",
            "('Thud!', 'Terry Pratchett', 2005)\n",
            "('The Spellman Files', 'Lisa Lutz', 2007)\n"
          ]
        }
      ]
    },
    {
      "cell_type": "markdown",
      "source": [
        "Use the sqlalchemy module to connect to the sqlite3 database books.db that you just made in exercise 6."
      ],
      "metadata": {
        "id": "HwH2RGVp41mV"
      }
    },
    {
      "cell_type": "code",
      "source": [
        "import sqlalchemy\n",
        "conn = sqlalchemy.create_engine('sqlite:///books.db')\n",
        "rows = conn.execute('select * from books')\n",
        "for i in rows:\n",
        "  print(i)"
      ],
      "metadata": {
        "colab": {
          "base_uri": "https://localhost:8080/"
        },
        "id": "U0laBe1C41mW",
        "outputId": "370d4f08-8538-4fcd-bb29-6a3fd91da961"
      },
      "execution_count": 107,
      "outputs": [
        {
          "output_type": "stream",
          "name": "stdout",
          "text": [
            "('The Weirdstone of Brisingamen', 'Alan Garner', 1960)\n",
            "('Perdido Street Station', 'China Miéville', 2000)\n",
            "('Thud!', 'Terry Pratchett', 2005)\n",
            "('The Spellman Files', 'Lisa Lutz', 2007)\n",
            "('Small Gods', 'Terry Pratchett', 1992)\n"
          ]
        }
      ]
    },
    {
      "cell_type": "markdown",
      "source": [
        " Install the Redis server and the Python redis library (pip install redis) on your computer. Create a Redis hash called test with the fields count (1) and name ('Fester Bestertester'). Print all the fields for test."
      ],
      "metadata": {
        "id": "HGFoMdfz41qK"
      }
    },
    {
      "cell_type": "code",
      "source": [
        "!pip install redis"
      ],
      "metadata": {
        "colab": {
          "base_uri": "https://localhost:8080/"
        },
        "id": "PnXll9ML41qK",
        "outputId": "08be9cfc-2b54-474d-a282-c20f8896b00e"
      },
      "execution_count": 108,
      "outputs": [
        {
          "output_type": "stream",
          "name": "stdout",
          "text": [
            "Looking in indexes: https://pypi.org/simple, https://us-python.pkg.dev/colab-wheels/public/simple/\n",
            "Collecting redis\n",
            "  Downloading redis-4.4.0-py3-none-any.whl (236 kB)\n",
            "\u001b[K     |████████████████████████████████| 236 kB 5.1 MB/s \n",
            "\u001b[?25hRequirement already satisfied: async-timeout>=4.0.2 in /usr/local/lib/python3.8/dist-packages (from redis) (4.0.2)\n",
            "Installing collected packages: redis\n",
            "Successfully installed redis-4.4.0\n"
          ]
        }
      ]
    },
    {
      "cell_type": "code",
      "source": [
        "import redis\n",
        "conn = redis.Redis()\n",
        "conn.delete('test')\n",
        "conn.hmset('test', {'count': 1, 'name': 'Fester Bestertester'})\n",
        "conn.hgetall('test')"
      ],
      "metadata": {
        "id": "6cpcBh6770qh"
      },
      "execution_count": 112,
      "outputs": []
    },
    {
      "cell_type": "markdown",
      "source": [
        "Increment the count field of test and print it."
      ],
      "metadata": {
        "id": "waIgIUu241vE"
      }
    },
    {
      "cell_type": "code",
      "source": [
        "conn.hincrby('test','count', 3)"
      ],
      "metadata": {
        "id": "5YUnVf1j41vE"
      },
      "execution_count": null,
      "outputs": []
    }
  ]
}