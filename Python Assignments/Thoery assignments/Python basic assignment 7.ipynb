{
  "nbformat": 4,
  "nbformat_minor": 0,
  "metadata": {
    "colab": {
      "provenance": []
    },
    "kernelspec": {
      "name": "python3",
      "display_name": "Python 3"
    },
    "language_info": {
      "name": "python"
    }
  },
  "cells": [
    {
      "cell_type": "markdown",
      "source": [
        "What is the name of the feature responsible for generating Regex objects?"
      ],
      "metadata": {
        "id": "Q2vPYj9JS8p7"
      }
    },
    {
      "cell_type": "code",
      "source": [
        "\"\"\"\n",
        "The featuer responsible for generating regex object is re.compile() \n",
        "\"\"\""
      ],
      "metadata": {
        "id": "HgbkSaKhS8uN"
      },
      "execution_count": null,
      "outputs": []
    },
    {
      "cell_type": "markdown",
      "source": [
        "Why do raw strings often appear in Regex objects?"
      ],
      "metadata": {
        "id": "WuYBzE1RTfZk"
      }
    },
    {
      "cell_type": "code",
      "source": [
        "\"\"\"\n",
        "Raw strings are used so that backslashes do not have to be escaped\n",
        "\"\"\""
      ],
      "metadata": {
        "id": "ypzQ3duQTfiC"
      },
      "execution_count": null,
      "outputs": []
    },
    {
      "cell_type": "markdown",
      "source": [
        "What is the return value of the search() method ?"
      ],
      "metadata": {
        "id": "F0bzbDuBThRi"
      }
    },
    {
      "cell_type": "code",
      "source": [
        "\"\"\"\n",
        "The search() method searches a string for a specified value, and returns the position of the match.\n",
        "\n",
        "The search value can be string or a regular expression. This method returns -1 if no match is found\n",
        "\"\"\""
      ],
      "metadata": {
        "id": "4O_lqJgzThRj"
      },
      "execution_count": null,
      "outputs": []
    },
    {
      "cell_type": "markdown",
      "source": [
        "From a Match item, how do you get the actual strings that match the pattern?"
      ],
      "metadata": {
        "id": "zJtpaZpGThUa"
      }
    },
    {
      "cell_type": "code",
      "source": [
        "\"\"\"\n",
        "When we perform the search method on the regex object string then we can use the method group() to get the strings that match the pattern\n",
        "\"\"\""
      ],
      "metadata": {
        "id": "NKReBRNZThUa"
      },
      "execution_count": null,
      "outputs": []
    },
    {
      "cell_type": "markdown",
      "source": [
        "In the regex which created from the r'(\\d\\d\\d)-(\\d\\d\\d-\\d\\d\\d\\d)', what does group zero cover?\n",
        "Group 2? Group 1?"
      ],
      "metadata": {
        "id": "0F62WL_dThXA"
      }
    },
    {
      "cell_type": "code",
      "source": [
        "import re\n",
        "phoneNumRegex = re.compile(r'(\\d\\d\\d)-(\\d\\d\\d-\\d\\d\\d\\d)')\n",
        "mo = phoneNumRegex.search('My number is 345-444-4542.')\n",
        "print(mo.group(1))\n",
        "print(mo.group(0))\n",
        "print(mo.group(2))"
      ],
      "metadata": {
        "colab": {
          "base_uri": "https://localhost:8080/"
        },
        "id": "BO2d3pN3ThXB",
        "outputId": "78c79806-15f0-4a6d-f64e-b746823f7619"
      },
      "execution_count": 158,
      "outputs": [
        {
          "output_type": "stream",
          "name": "stdout",
          "text": [
            "345\n",
            "345-444-4542\n",
            "444-4542\n"
          ]
        }
      ]
    },
    {
      "cell_type": "markdown",
      "source": [
        " In standard expression syntax, parentheses and intervals have distinct meanings. How can you tell a regex that you want it to fit real parentheses and periods?"
      ],
      "metadata": {
        "id": "_Im2pHl3ThZv"
      }
    },
    {
      "cell_type": "code",
      "source": [
        "\"\"\"\n",
        "Periods and parentheses can be escaped with a backslash: ., (, and ).\n",
        "\"\"\""
      ],
      "metadata": {
        "id": "fCqk59juThZv"
      },
      "execution_count": null,
      "outputs": []
    },
    {
      "cell_type": "markdown",
      "source": [
        "The findall() method returns a string list or a list of string tuples. What causes it to return one of the two options?"
      ],
      "metadata": {
        "id": "53o2zOm5Thcg"
      }
    },
    {
      "cell_type": "code",
      "source": [
        "\"\"\"\n",
        "If the regex has no groups, a list of strings is returned. If the regex has groups, a list of tuples of strings is\n",
        "returned.\n",
        "\"\"\""
      ],
      "metadata": {
        "id": "VWrYkc03Thcg"
      },
      "execution_count": null,
      "outputs": []
    },
    {
      "cell_type": "markdown",
      "source": [
        "In standard expressions, what does the | character mean?"
      ],
      "metadata": {
        "id": "i9LrpaALThfR"
      }
    },
    {
      "cell_type": "code",
      "source": [
        "\"\"\"\n",
        "The | character is called a pipe. You can use it anywhere you want to match one of many expressions.\n",
        "\n",
        "For example, the regular expression r'Cricket|Soccer Sport' will match either 'Cricket' or 'Soccer Sport'.\n",
        "\n",
        "When both Cricket and Soccer Sport occur in the searched string, the first occurrence of matching text will be returned as the Match object.\n",
        "\n",
        "The | character signifies matching “either, or” between two groups\n",
        "\"\"\""
      ],
      "metadata": {
        "id": "pP0H-tpfThfS"
      },
      "execution_count": null,
      "outputs": []
    },
    {
      "cell_type": "markdown",
      "source": [
        "In regular expressions, what does the ? character stand for?"
      ],
      "metadata": {
        "id": "IBf5irKNThh0"
      }
    },
    {
      "cell_type": "code",
      "source": [
        "\"\"\"\n",
        "The ? character can either mean “match zero or one of the preceding group”.\n",
        "\"\"\""
      ],
      "metadata": {
        "id": "_3K_mbZPThh1"
      },
      "execution_count": null,
      "outputs": []
    },
    {
      "cell_type": "markdown",
      "source": [
        "In regular expressions, what is the difference between the + and * characters?"
      ],
      "metadata": {
        "id": "C2EDbmaUThkM"
      }
    },
    {
      "cell_type": "code",
      "source": [
        "\"\"\"\n",
        "The + matches one or more. The * matches zero or more\n",
        "\"\"\""
      ],
      "metadata": {
        "id": "mRV672ktThkN"
      },
      "execution_count": null,
      "outputs": []
    },
    {
      "cell_type": "markdown",
      "source": [
        "What is the difference between {4} and {4,5} in regular expression?"
      ],
      "metadata": {
        "id": "ZMSnB579ThnD"
      }
    },
    {
      "cell_type": "code",
      "source": [
        "\"\"\"\n",
        "The {3} matches exactly three instances of the preceding group.\n",
        "\n",
        "The {3,5} matches between three and five instances\n",
        "\"\"\""
      ],
      "metadata": {
        "id": "GIRErYIeThnE"
      },
      "execution_count": null,
      "outputs": []
    },
    {
      "cell_type": "markdown",
      "source": [
        "What do you mean by the \\d, \\w, and \\s shorthand character classes signify in regular expressions?"
      ],
      "metadata": {
        "id": "2Aj6yq84ThsY"
      }
    },
    {
      "cell_type": "code",
      "source": [
        "\"\"\"\n",
        "The \\d, stands for single digit, Any numeric digit from 0 to 9 \n",
        "\\w, stands for single word, Any letter, numeric digit, or the underscore character. (Think of this as matching “word” characters.) \n",
        "\\s stands for single space character, Any space, tab, or newline character. (Think of this as matching “space” characters.)\n",
        "\"\"\""
      ],
      "metadata": {
        "id": "fPp77IhtThsZ"
      },
      "execution_count": null,
      "outputs": []
    },
    {
      "cell_type": "markdown",
      "source": [
        "What do means by \\D, \\W, and \\S shorthand character classes signify in regular expressions?"
      ],
      "metadata": {
        "id": "-ddgby-nThwM"
      }
    },
    {
      "cell_type": "code",
      "source": [
        "\"\"\"\n",
        "\\D - > Any character that is not a numeric digit from 0 to 9.\n",
        "\n",
        "\\W - > Any character that is not a letter, numeric digit, or the underscore character.\n",
        "\\S - > Any character that is not a space, tab, or newline.\n",
        "\"\"\""
      ],
      "metadata": {
        "id": "brT9BE9QThwN"
      },
      "execution_count": null,
      "outputs": []
    },
    {
      "cell_type": "markdown",
      "source": [
        "What is the difference between .? and .?"
      ],
      "metadata": {
        "id": "AJkoIwaEThyN"
      }
    },
    {
      "cell_type": "code",
      "source": [
        "\"\"\"\n",
        ".* - The dot-star uses greedy mode: It will always try to match as much text as possible.\n",
        "\n",
        ".? - To match any and all text in a non-greedy fashion, use the dot, star, and question mark (.?). Like with braces, the question mark tells Python to match in a non-greedy way.\n",
        "\n",
        "\"\"\""
      ],
      "metadata": {
        "id": "CbkKHbL-ThyN"
      },
      "execution_count": null,
      "outputs": []
    },
    {
      "cell_type": "markdown",
      "source": [
        "What is the syntax for matching both numbers and lowercase letters with a character class?"
      ],
      "metadata": {
        "id": "vuBFtCJ9Th0J"
      }
    },
    {
      "cell_type": "code",
      "source": [
        "\"\"\"\n",
        "Either [0-9a-z] or [a-z0-9]\n",
        "\"\"\""
      ],
      "metadata": {
        "id": "OvMJzULgTh0K"
      },
      "execution_count": null,
      "outputs": []
    },
    {
      "cell_type": "markdown",
      "source": [
        "What is the procedure for making a normal expression in regax case insensitive?"
      ],
      "metadata": {
        "id": "5Dbn5EiZTh2i"
      }
    },
    {
      "cell_type": "code",
      "source": [
        "\"\"\"\n",
        "Passing re.I or re.IGNORECASE as the second argument to re.compile() will make the matching case insensitive\n",
        "\n",
        "\"\"\""
      ],
      "metadata": {
        "id": "-tjcVP5-Th2i"
      },
      "execution_count": null,
      "outputs": []
    },
    {
      "cell_type": "markdown",
      "source": [
        "What does the . character normally match? What does it match if re.DOTALL is passed as 2nd argument in re.compile()?"
      ],
      "metadata": {
        "id": "e9uYPe8eTh68"
      }
    },
    {
      "cell_type": "code",
      "source": [
        "\"\"\"\n",
        "The . character normally matches any character except the newline character.\n",
        "\n",
        "If re.DOTALL is passed as the second argument to re.compile(), then the dot will also match newline characters.\n",
        "\"\"\""
      ],
      "metadata": {
        "id": "dAlOz-ltTh68"
      },
      "execution_count": null,
      "outputs": []
    },
    {
      "cell_type": "markdown",
      "source": [
        "If numRegex = re.compile(r'\\d+'), what will numRegex.sub('X', '11 drummers, 10 pipers, five rings, 4 hen') return?"
      ],
      "metadata": {
        "id": "gDNITr9gTh_y"
      }
    },
    {
      "cell_type": "code",
      "source": [
        "numRegex = re.compile(r'\\d+')\n",
        "mo = numRegex.sub('X', '11 drummers, 10 pipers, five rings, 4 hen')\n",
        "mo"
      ],
      "metadata": {
        "colab": {
          "base_uri": "https://localhost:8080/",
          "height": 36
        },
        "id": "ZVJlKcDNTh_z",
        "outputId": "0cac4271-5400-4ae1-aa9c-ac9b9c46d649"
      },
      "execution_count": 162,
      "outputs": [
        {
          "output_type": "execute_result",
          "data": {
            "text/plain": [
              "'X drummers, X pipers, five rings, X hen'"
            ],
            "application/vnd.google.colaboratory.intrinsic+json": {
              "type": "string"
            }
          },
          "metadata": {},
          "execution_count": 162
        }
      ]
    },
    {
      "cell_type": "markdown",
      "source": [
        "What does passing re.VERBOSE as the 2nd argument to re.compile() allow to do?"
      ],
      "metadata": {
        "id": "pe2hS4DzTiEh"
      }
    },
    {
      "cell_type": "code",
      "source": [
        "\"\"\"\n",
        "The re.VERBOSE argument allows you to add whitespace and comments to the string passed to re.compile()\n",
        "\"\"\""
      ],
      "metadata": {
        "id": "3MHKvYpkTiEi"
      },
      "execution_count": null,
      "outputs": []
    },
    {
      "cell_type": "markdown",
      "source": [
        "How would you write a regex that match a number with comma for every three digits? It must match the given following:\n"
      ],
      "metadata": {
        "id": "pLK2nPYUTiJT"
      }
    },
    {
      "cell_type": "code",
      "source": [
        "reg1 = re.compile(r'^\\d{1,3}(,\\d{3})*$')\n",
        "mo1 = reg1.search('42')\n",
        "print(mo1.group())\n",
        "\n",
        "reg1 = re.compile(r'^\\d{1,3}(,\\d{3})*$')\n",
        "mo1 = reg1.search('1,234')\n",
        "print(mo1.group())\n",
        "\n",
        "reg1 = re.compile(r'^\\d{1,3}(,\\d{3})*$')\n",
        "mo1 = reg1.search('6,368,745')\n",
        "print(mo1.group())"
      ],
      "metadata": {
        "colab": {
          "base_uri": "https://localhost:8080/"
        },
        "id": "6UAe1lMDTiJU",
        "outputId": "7355ebbe-1282-495d-a27f-8986fc48ccb1"
      },
      "execution_count": 164,
      "outputs": [
        {
          "output_type": "stream",
          "name": "stdout",
          "text": [
            "42\n",
            "1,234\n",
            "6,368,745\n"
          ]
        }
      ]
    },
    {
      "cell_type": "markdown",
      "source": [
        "How would you write a regex that matches the full name of someone whose last name is Watanabe? You can assume that the first name that comes before it will always be one word that begins with a capital letter. The regex must match the following:"
      ],
      "metadata": {
        "id": "k4IGtGffTiOM"
      }
    },
    {
      "cell_type": "code",
      "source": [
        "name = re.compile(r'[A-Z][a-z]*\\sWatanabe')\n",
        "reg1 = re.compile(r'^\\d{1,3}(,\\d{haruto Watanabe3})*$')\n",
        "mo1 = name.search('Haruto Watanabe')\n",
        "print(mo1.group())\n",
        "\n",
        "name = re.compile(r'[A-Z][a-z]*\\sWatanabe')\n",
        "reg1 = re.compile(r'^\\d{1,3}(,\\d{3})*$')\n",
        "mo1 = name.search('Alice Watanabe')\n",
        "print(mo1.group())\n",
        "\n",
        "name = re.compile(r'[A-Z][a-z]*\\sWatanabe')\n",
        "reg1 = re.compile(r'^\\d{1,3}(,\\d{3})*$')\n",
        "mo1 = name.search('Robocop Watanabe')\n",
        "print(mo1.group())"
      ],
      "metadata": {
        "colab": {
          "base_uri": "https://localhost:8080/"
        },
        "id": "YRaXQsJeTiON",
        "outputId": "0edb2b70-d9f4-457f-f9b2-8948b72be41b"
      },
      "execution_count": 165,
      "outputs": [
        {
          "output_type": "stream",
          "name": "stdout",
          "text": [
            "Haruto Watanabe\n",
            "Alice Watanabe\n",
            "Robocop Watanabe\n"
          ]
        }
      ]
    },
    {
      "cell_type": "markdown",
      "source": [
        "How would you write a regex that matches a sentence where the first word is either Alice, Bob,or Carol; the second word is either eats, pets, or throws; the third word is apples, cats, or baseballs; and the sentence ends with a period? This regex should be case-insensitive. It must match the following:"
      ],
      "metadata": {
        "id": "V6C2C60MTiTM"
      }
    },
    {
      "cell_type": "code",
      "source": [
        "name = re.compile(r'(Alice|Bob|Carol)\\s(eats|pets|throws)\\s(apples|cats|baseballs)\\.', re.IGNORECASE)\n",
        "\n",
        "mo1 = name.search('Alice eats apples.')\n",
        "print(mo1.group())\n",
        "\n",
        "name = re.compile(r'(Alice|Bob|Carol)\\s(eats|pets|throws)\\s(apples|cats|baseballs)\\.', re.IGNORECASE)\n",
        "\n",
        "mo1 = name.search('Carol throws baseballs.')\n",
        "print(mo1.group())"
      ],
      "metadata": {
        "colab": {
          "base_uri": "https://localhost:8080/"
        },
        "id": "DoFVayAWTiTN",
        "outputId": "07fe98f9-bffe-4fc5-d27b-762f4001227b"
      },
      "execution_count": 166,
      "outputs": [
        {
          "output_type": "stream",
          "name": "stdout",
          "text": [
            "Alice eats apples.\n",
            "Carol throws baseballs.\n"
          ]
        }
      ]
    },
    {
      "cell_type": "code",
      "source": [],
      "metadata": {
        "id": "fOzn1czKTi6_"
      },
      "execution_count": null,
      "outputs": []
    }
  ]
}