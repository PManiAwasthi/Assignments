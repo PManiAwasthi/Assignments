{
  "nbformat": 4,
  "nbformat_minor": 0,
  "metadata": {
    "colab": {
      "provenance": []
    },
    "kernelspec": {
      "name": "python3",
      "display_name": "Python 3"
    },
    "language_info": {
      "name": "python"
    }
  },
  "cells": [
    {
      "cell_type": "markdown",
      "source": [
        "What is the result of the code, and why?"
      ],
      "metadata": {
        "id": "7zMRM9lBNH2c"
      }
    },
    {
      "cell_type": "code",
      "source": [
        "def func(a, b=6, c=8):\n",
        "    print(a, b, c)\n",
        "func(1, 2)\n",
        "\n",
        "# the func() is defined in such a way that b and c have default value if they are not supplied during function call but if provided the values in function call will be \n",
        "# prefered, whereas the a does not have any default value so we need to supply the value therefore on function call with 1,2 the a is assigned 1, b gets 2 from arguments, and \n",
        "# as c does not have any values provided as argument so interpreter refers to the default value 8 and hence the output"
      ],
      "metadata": {
        "colab": {
          "base_uri": "https://localhost:8080/"
        },
        "id": "IgQm6yA8NH6-",
        "outputId": "2a984680-f744-4197-c5d6-6b8e6e4e8fad"
      },
      "execution_count": 143,
      "outputs": [
        {
          "output_type": "stream",
          "name": "stdout",
          "text": [
            "1 2 8\n"
          ]
        }
      ]
    },
    {
      "cell_type": "markdown",
      "source": [
        "What is the result of this code, and why?"
      ],
      "metadata": {
        "id": "-sHQVBoANKY3"
      }
    },
    {
      "cell_type": "code",
      "source": [
        "def func(a, b, c=5):\n",
        "    print(a, b, c)\n",
        "func(1, c=3, b=2)\n",
        "# during a function call we can specify which parameter should take what value by explicitly specifying during the function call but it should always be towards the \n",
        "# right arguments meaning if we take the given example as example we can't put 1 in between c and b in function call,\n",
        "# now as we have provided values during function call the value will by default follow the sequence or if explicitly sepcified using variable name then it uses that \n",
        "# as reference for the assignment therefore we have a=1, b=2, and c=3"
      ],
      "metadata": {
        "colab": {
          "base_uri": "https://localhost:8080/"
        },
        "id": "rveQSxdlNKY3",
        "outputId": "88c9103a-f8c0-466a-874c-1a300884112a"
      },
      "execution_count": 144,
      "outputs": [
        {
          "output_type": "stream",
          "name": "stdout",
          "text": [
            "1 2 3\n"
          ]
        }
      ]
    },
    {
      "cell_type": "markdown",
      "source": [
        "How about this code: what is its result, and why?"
      ],
      "metadata": {
        "id": "F9mBW6QLNKed"
      }
    },
    {
      "cell_type": "code",
      "source": [
        "def func(a, *pargs):\n",
        "    print(a, pargs)\n",
        "func(1, 2, 3)\n",
        "# to pass multiple parameter without knowing how many are to be provided we use *args (here *pargs) to convert the excess variable to tuple\n",
        "# this is then accepted during function call and hence the output"
      ],
      "metadata": {
        "colab": {
          "base_uri": "https://localhost:8080/"
        },
        "id": "rpktos0nNKee",
        "outputId": "d9a93e78-3f3f-459f-8f0e-01ec3e7d3dc7"
      },
      "execution_count": 145,
      "outputs": [
        {
          "output_type": "stream",
          "name": "stdout",
          "text": [
            "1 (2, 3)\n"
          ]
        }
      ]
    },
    {
      "cell_type": "markdown",
      "source": [
        "What does this code print, and why?"
      ],
      "metadata": {
        "id": "Vk4wpF6SNKkr"
      }
    },
    {
      "cell_type": "code",
      "source": [
        "def func(a, **kargs):\n",
        "    print(a, kargs)\n",
        "func(a=1, c=3, b=2)\n",
        "# again to pass the value of variables with unknow amoount/count we use *args but here as we are specifying someting similar to keys/name to the variable we need\n",
        "# it to be processed that way for which we have the provision of **kargs"
      ],
      "metadata": {
        "colab": {
          "base_uri": "https://localhost:8080/"
        },
        "id": "cY318VeiNKks",
        "outputId": "d8fe9820-dc43-408a-e4c6-05cc26e72ac4"
      },
      "execution_count": 146,
      "outputs": [
        {
          "output_type": "stream",
          "name": "stdout",
          "text": [
            "1 {'c': 3, 'b': 2}\n"
          ]
        }
      ]
    },
    {
      "cell_type": "markdown",
      "source": [
        "What gets printed by this, and explain?"
      ],
      "metadata": {
        "id": "92t3TbPPNKqd"
      }
    },
    {
      "cell_type": "code",
      "source": [
        "def func(a, b, c=8, d=5): \n",
        "    print(a, b, c, d)\n",
        "func(1, *(5, 6))\n",
        "# The * is used to traverse through the values of the structure to which it has been attached to here the tuple (5,6) this just means unpacking the values\n",
        "# so the function call becomes func(1, 5, 6) and than during output the d is assigned default value and hence the output"
      ],
      "metadata": {
        "colab": {
          "base_uri": "https://localhost:8080/"
        },
        "id": "Is-mp4wJNKqe",
        "outputId": "c38b87a3-fc14-4376-faf7-1874616f51e8"
      },
      "execution_count": 147,
      "outputs": [
        {
          "output_type": "stream",
          "name": "stdout",
          "text": [
            "1 5 6 5\n"
          ]
        }
      ]
    },
    {
      "cell_type": "markdown",
      "source": [
        "what is the result of this, and explain?"
      ],
      "metadata": {
        "id": "3ihPAxPaNjSa"
      }
    },
    {
      "cell_type": "code",
      "source": [
        "def func(a, b, c): \n",
        "    a = 2; b[0] = 'x'; c['a'] = 'y'\n",
        "    \n",
        "l=1; m=[1]; n={'a':0}\n",
        "func(l, m, n)\n",
        "\n",
        "l, m, n\n",
        "# here the value, list and dict are provided as arguments in the function call which are then changed inside the function func\n",
        "# now the reference here is not local but global as these are not made again rather the same list and dict is refered again, which does not happen \n",
        "# with the variable a as they are made again locally and we have the output"
      ],
      "metadata": {
        "colab": {
          "base_uri": "https://localhost:8080/"
        },
        "id": "Be28e8s2NjZR",
        "outputId": "18a3e3a3-0213-4ef9-b2c5-cec739ae2e19"
      },
      "execution_count": 148,
      "outputs": [
        {
          "output_type": "execute_result",
          "data": {
            "text/plain": [
              "(1, ['x'], {'a': 'y'})"
            ]
          },
          "metadata": {},
          "execution_count": 148
        }
      ]
    },
    {
      "cell_type": "code",
      "source": [],
      "metadata": {
        "id": "rQwJxLB5NnTb"
      },
      "execution_count": 148,
      "outputs": []
    }
  ]
}