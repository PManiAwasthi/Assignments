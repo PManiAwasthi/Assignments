{
  "nbformat": 4,
  "nbformat_minor": 0,
  "metadata": {
    "colab": {
      "provenance": []
    },
    "kernelspec": {
      "name": "python3",
      "display_name": "Python 3"
    },
    "language_info": {
      "name": "python"
    }
  },
  "cells": [
    {
      "cell_type": "markdown",
      "source": [
        "Assign the value 7 to the variable guess_me. Then, write the conditional tests (if, else, and elif) to\n",
        "print the string &#39;too low&#39; if guess_me is less than 7, &#39;too high&#39; if greater than 7, and &#39;just right&#39; if equal\n",
        "to 7."
      ],
      "metadata": {
        "id": "z5JI274fujSb"
      }
    },
    {
      "cell_type": "code",
      "source": [
        "guess_me = 7\n",
        "if guess_me < 7:\n",
        "  print(\"too low\")\n",
        "elif guess_me > 7:\n",
        "  print(\"too high\")\n",
        "else:\n",
        "  print(\"just right\")"
      ],
      "metadata": {
        "colab": {
          "base_uri": "https://localhost:8080/"
        },
        "id": "nGRikDeMuj1Q",
        "outputId": "390ade74-db29-4d67-ec8a-e9b0f101dcac"
      },
      "execution_count": 26,
      "outputs": [
        {
          "output_type": "stream",
          "name": "stdout",
          "text": [
            "just right\n"
          ]
        }
      ]
    },
    {
      "cell_type": "markdown",
      "source": [
        "Assign the value 7 to the variable guess_me and the value 1 to the variable start. Write a while\n",
        "loop that compares start with guess_me. Print too low if start is less than guess me. If start equals\n",
        "guess_me, print &#39;found it!&#39; and exit the loop. If start is greater than guess_me, print &#39;oops&#39; and exit\n",
        "the loop. Increment start at the end of the loop."
      ],
      "metadata": {
        "id": "h4qECWn2u06m"
      }
    },
    {
      "cell_type": "code",
      "source": [
        "guess_me = 7\n",
        "start = 1\n",
        "while start <= guess_me:\n",
        "  if start < guess_me:\n",
        "    print(\"too low\")\n",
        "  elif start == guess_me:\n",
        "    print(\"found it!\")\n",
        "    break\n",
        "  start += 1"
      ],
      "metadata": {
        "colab": {
          "base_uri": "https://localhost:8080/"
        },
        "id": "icwbIKwvuk_X",
        "outputId": "27ef03ed-dd2e-454d-e63a-9262677c0dfc"
      },
      "execution_count": 27,
      "outputs": [
        {
          "output_type": "stream",
          "name": "stdout",
          "text": [
            "too low\n",
            "too low\n",
            "too low\n",
            "too low\n",
            "too low\n",
            "too low\n",
            "found it!\n"
          ]
        }
      ]
    },
    {
      "cell_type": "markdown",
      "source": [
        "Print the following values of the list [3, 2, 1, 0] using a for loop."
      ],
      "metadata": {
        "id": "racXVOqNvIsu"
      }
    },
    {
      "cell_type": "code",
      "source": [
        "ls = [3, 2, 1, 0]"
      ],
      "metadata": {
        "id": "BKEUDkBCvGcf"
      },
      "execution_count": 28,
      "outputs": []
    },
    {
      "cell_type": "code",
      "source": [
        "for i in ls:\n",
        "  print(i)"
      ],
      "metadata": {
        "colab": {
          "base_uri": "https://localhost:8080/"
        },
        "id": "BiMEImz1vLQC",
        "outputId": "22f0f5e7-c998-4063-adf1-72e12ed58122"
      },
      "execution_count": 30,
      "outputs": [
        {
          "output_type": "stream",
          "name": "stdout",
          "text": [
            "3\n",
            "2\n",
            "1\n",
            "0\n"
          ]
        }
      ]
    },
    {
      "cell_type": "markdown",
      "source": [
        "Use a list comprehension to make a list of the even numbers in range(10)"
      ],
      "metadata": {
        "id": "17xOX7SmvQfC"
      }
    },
    {
      "cell_type": "code",
      "source": [
        "ls = [i for i in range(10) if i % 2 ==0]\n",
        "print(ls)"
      ],
      "metadata": {
        "colab": {
          "base_uri": "https://localhost:8080/"
        },
        "id": "TxJhfCKmvM-T",
        "outputId": "0de04f8d-48c8-46eb-c06d-99c22fa92fe1"
      },
      "execution_count": 33,
      "outputs": [
        {
          "output_type": "stream",
          "name": "stdout",
          "text": [
            "[0, 2, 4, 6, 8]\n"
          ]
        }
      ]
    },
    {
      "cell_type": "markdown",
      "source": [
        "Use a dictionary comprehension to create the dictionary squares. Use range(10) to return the\n",
        "keys, and use the square of each key as its value."
      ],
      "metadata": {
        "id": "pu-UlLXFvdBn"
      }
    },
    {
      "cell_type": "code",
      "source": [
        "squares = {i: i * i for i in range(10)}\n",
        "print(squares)"
      ],
      "metadata": {
        "colab": {
          "base_uri": "https://localhost:8080/"
        },
        "id": "ppYP1xhdvWgb",
        "outputId": "8ed383db-3163-42d1-f41f-9204c555b4f9"
      },
      "execution_count": 34,
      "outputs": [
        {
          "output_type": "stream",
          "name": "stdout",
          "text": [
            "{0: 0, 1: 1, 2: 4, 3: 9, 4: 16, 5: 25, 6: 36, 7: 49, 8: 64, 9: 81}\n"
          ]
        }
      ]
    },
    {
      "cell_type": "markdown",
      "source": [
        "Construct the set odd from the odd numbers in the range using a set comprehension (10).\n",
        "\n"
      ],
      "metadata": {
        "id": "QHN8BCA3v5fB"
      }
    },
    {
      "cell_type": "code",
      "source": [
        "odd = set(i for i in range(10) if i%3 == 0)"
      ],
      "metadata": {
        "id": "p6dXO4hlv34b"
      },
      "execution_count": 35,
      "outputs": []
    },
    {
      "cell_type": "code",
      "source": [
        "odd"
      ],
      "metadata": {
        "colab": {
          "base_uri": "https://localhost:8080/"
        },
        "id": "QzMQtH3AwDtL",
        "outputId": "ddc7fcc5-4145-43ec-f8fb-97d388ad5619"
      },
      "execution_count": 36,
      "outputs": [
        {
          "output_type": "execute_result",
          "data": {
            "text/plain": [
              "{0, 3, 6, 9}"
            ]
          },
          "metadata": {},
          "execution_count": 36
        }
      ]
    },
    {
      "cell_type": "markdown",
      "source": [
        "Use a generator comprehension to return the string 'Got' and a number for the numbers in range(10). Iterate through this by using a for loop."
      ],
      "metadata": {
        "id": "HqP3DsOqwI9J"
      }
    },
    {
      "cell_type": "code",
      "source": [
        "string_generator = (\"Got \" + str(i) for i in range(10))\n",
        "for item in string_generator:\n",
        "  print(item)"
      ],
      "metadata": {
        "colab": {
          "base_uri": "https://localhost:8080/"
        },
        "id": "R5dO8GLcwEQT",
        "outputId": "90289221-5fc4-46ab-da59-91a405f8a947"
      },
      "execution_count": 37,
      "outputs": [
        {
          "output_type": "stream",
          "name": "stdout",
          "text": [
            "Got 0\n",
            "Got 1\n",
            "Got 2\n",
            "Got 3\n",
            "Got 4\n",
            "Got 5\n",
            "Got 6\n",
            "Got 7\n",
            "Got 8\n",
            "Got 9\n"
          ]
        }
      ]
    },
    {
      "cell_type": "markdown",
      "source": [
        "Define a function called good that returns the list ['Harry', 'Ron', 'Hermione']"
      ],
      "metadata": {
        "id": "Fo83InHvwa_I"
      }
    },
    {
      "cell_type": "code",
      "source": [
        "def good():\n",
        "  return ['Harry', 'Ron', 'Hermione']\n",
        "\n",
        "\n",
        "good()"
      ],
      "metadata": {
        "colab": {
          "base_uri": "https://localhost:8080/"
        },
        "id": "LqEEz_hlwYLt",
        "outputId": "961734e6-bc3b-4c74-9d37-030a2c84f1c9"
      },
      "execution_count": 39,
      "outputs": [
        {
          "output_type": "execute_result",
          "data": {
            "text/plain": [
              "['Harry', 'Ron', 'Hermione']"
            ]
          },
          "metadata": {},
          "execution_count": 39
        }
      ]
    },
    {
      "cell_type": "markdown",
      "source": [
        "Define a generator function called get_odds that returns the odd numbers from range(10). Use a for loop to find and print the third value returned"
      ],
      "metadata": {
        "id": "ARRjLdjxwl_s"
      }
    },
    {
      "cell_type": "code",
      "source": [
        "def get_odds():\n",
        "  for i in range(1, 10):\n",
        "    if i % 2 != 0:\n",
        "      yield i\n",
        "count = 1\n",
        "for i in get_odds():\n",
        "  if count == 3:\n",
        "    print(\"The third odd number is \", i)\n",
        "    break\n",
        "  count += 1"
      ],
      "metadata": {
        "colab": {
          "base_uri": "https://localhost:8080/"
        },
        "id": "P0zDHmCcwega",
        "outputId": "a802e976-a4cf-45d3-9482-36de37a44c73"
      },
      "execution_count": 42,
      "outputs": [
        {
          "output_type": "stream",
          "name": "stdout",
          "text": [
            "The third odd number is  5\n"
          ]
        }
      ]
    },
    {
      "cell_type": "markdown",
      "source": [
        " Define an exception called OopsException. Raise this exception to see what happens. Then writethe code to catch this exception and print 'Caught an oops'"
      ],
      "metadata": {
        "id": "r_JVGva5xJow"
      }
    },
    {
      "cell_type": "code",
      "source": [
        "class OopsException(Exception):\n",
        "    pass\n",
        "try:\n",
        "    #raiseException(-1)\n",
        "    raise OopsException()\n",
        "except OopsException as err:\n",
        "    print('Caught an oops')"
      ],
      "metadata": {
        "colab": {
          "base_uri": "https://localhost:8080/"
        },
        "id": "y3mB5xesw-I5",
        "outputId": "70058ec7-81e0-49aa-b7f4-a9aa1a289397"
      },
      "execution_count": 47,
      "outputs": [
        {
          "output_type": "stream",
          "name": "stdout",
          "text": [
            "Caught an oops\n"
          ]
        }
      ]
    },
    {
      "cell_type": "markdown",
      "source": [
        "Use zip() to make a dictionary called movies that pairs these lists: titles = ['Creature of Habit',\n",
        "\n",
        "'Crewel Fate'] and plots = ['A nun turns into a monster', 'A haunted yarn shop']."
      ],
      "metadata": {
        "id": "uxrdQ5ujyBfm"
      }
    },
    {
      "cell_type": "code",
      "source": [
        "titles = ['Creature of Habit','Crewel Fate']\n",
        "plots = ['A nun turns into a monster', 'A haunted yarn shop']\n",
        "movies = dict(zip(titles, plots))\n",
        "print(movies)"
      ],
      "metadata": {
        "colab": {
          "base_uri": "https://localhost:8080/"
        },
        "id": "dezRRBYPxoAY",
        "outputId": "01b46d44-0a90-4ba8-c777-48873ca4c9ac"
      },
      "execution_count": 48,
      "outputs": [
        {
          "output_type": "stream",
          "name": "stdout",
          "text": [
            "{'Creature of Habit': 'A nun turns into a monster', 'Crewel Fate': 'A haunted yarn shop'}\n"
          ]
        }
      ]
    },
    {
      "cell_type": "code",
      "source": [],
      "metadata": {
        "id": "f3Hql4aFyQ1n"
      },
      "execution_count": null,
      "outputs": []
    }
  ]
}